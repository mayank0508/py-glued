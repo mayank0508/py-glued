{
 "cells": [
  {
   "cell_type": "markdown",
   "id": "d35d4967",
   "metadata": {},
   "source": [
    "### Data Types"
   ]
  },
  {
   "cell_type": "code",
   "execution_count": 2,
   "id": "1aae74a6",
   "metadata": {},
   "outputs": [],
   "source": [
    "sb = 19;\n",
    "#1_34 = 34; # this is not possible as in python we cant have our variables start with number\n",
    "_ab = 23;"
   ]
  },
  {
   "cell_type": "markdown",
   "id": "0e5d30cc",
   "metadata": {},
   "source": [
    "# Assigning diffrent kind of data to a variable"
   ]
  },
  {
   "cell_type": "code",
   "execution_count": 4,
   "id": "39ebcb74",
   "metadata": {},
   "outputs": [
    {
     "data": {
      "text/plain": [
       "'Mayank'"
      ]
     },
     "execution_count": 4,
     "metadata": {},
     "output_type": "execute_result"
    }
   ],
   "source": [
    "a = 23;\n",
    "a = 22;\n",
    "a = \"Mayank\" # this is a intresting case\n",
    "a"
   ]
  },
  {
   "cell_type": "code",
   "execution_count": 9,
   "id": "757c04bb",
   "metadata": {},
   "outputs": [
    {
     "name": "stdout",
     "output_type": "stream",
     "text": [
      "<class 'str'>\n",
      "<class 'int'>\n"
     ]
    }
   ],
   "source": [
    "a = 'abc'\n",
    "print(type(a))\n",
    "a = 10\n",
    "print(type(a))"
   ]
  }
 ],
 "metadata": {
  "kernelspec": {
   "display_name": "Python 3 (ipykernel)",
   "language": "python",
   "name": "python3"
  },
  "language_info": {
   "codemirror_mode": {
    "name": "ipython",
    "version": 3
   },
   "file_extension": ".py",
   "mimetype": "text/x-python",
   "name": "python",
   "nbconvert_exporter": "python",
   "pygments_lexer": "ipython3",
   "version": "3.9.7"
  }
 },
 "nbformat": 4,
 "nbformat_minor": 5
}
