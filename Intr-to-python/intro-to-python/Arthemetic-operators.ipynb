{
 "cells": [
  {
   "cell_type": "markdown",
   "id": "600942fc",
   "metadata": {},
   "source": [
    "### Arithmatic Operator"
   ]
  },
  {
   "cell_type": "code",
   "execution_count": 9,
   "id": "3be78a35",
   "metadata": {},
   "outputs": [
    {
     "name": "stdout",
     "output_type": "stream",
     "text": [
      "-4\n",
      "8\n"
     ]
    }
   ],
   "source": [
    "a = 2;\n",
    "b = 6;\n",
    "print(a - b)\n",
    "print(a + b)"
   ]
  },
  {
   "cell_type": "code",
   "execution_count": 10,
   "id": "34cada3a",
   "metadata": {},
   "outputs": [
    {
     "data": {
      "text/plain": [
       "12"
      ]
     },
     "execution_count": 10,
     "metadata": {},
     "output_type": "execute_result"
    }
   ],
   "source": [
    "a * b"
   ]
  },
  {
   "cell_type": "code",
   "execution_count": 11,
   "id": "f45295d2",
   "metadata": {},
   "outputs": [
    {
     "data": {
      "text/plain": [
       "0.3333333333333333"
      ]
     },
     "execution_count": 11,
     "metadata": {},
     "output_type": "execute_result"
    }
   ],
   "source": [
    "a / b"
   ]
  },
  {
   "cell_type": "code",
   "execution_count": 12,
   "id": "b55e2898",
   "metadata": {},
   "outputs": [
    {
     "data": {
      "text/plain": [
       "3.0"
      ]
     },
     "execution_count": 12,
     "metadata": {},
     "output_type": "execute_result"
    }
   ],
   "source": [
    "b / a"
   ]
  },
  {
   "cell_type": "code",
   "execution_count": 13,
   "id": "5c52032b",
   "metadata": {},
   "outputs": [
    {
     "data": {
      "text/plain": [
       "0"
      ]
     },
     "execution_count": 13,
     "metadata": {},
     "output_type": "execute_result"
    }
   ],
   "source": [
    "a // b # here we will get the integer divison rather than the floating divison that we get when we use the a / b one "
   ]
  },
  {
   "cell_type": "code",
   "execution_count": 14,
   "id": "ac2a7cc1",
   "metadata": {},
   "outputs": [
    {
     "data": {
      "text/plain": [
       "64"
      ]
     },
     "execution_count": 14,
     "metadata": {},
     "output_type": "execute_result"
    }
   ],
   "source": [
    "a ** b"
   ]
  },
  {
   "cell_type": "code",
   "execution_count": 16,
   "id": "7848ff1e",
   "metadata": {},
   "outputs": [
    {
     "data": {
      "text/plain": [
       "2"
      ]
     },
     "execution_count": 16,
     "metadata": {},
     "output_type": "execute_result"
    }
   ],
   "source": [
    "a % b"
   ]
  },
  {
   "cell_type": "code",
   "execution_count": 17,
   "id": "75f6522e",
   "metadata": {},
   "outputs": [
    {
     "data": {
      "text/plain": [
       "0"
      ]
     },
     "execution_count": 17,
     "metadata": {},
     "output_type": "execute_result"
    }
   ],
   "source": [
    "b % a\n"
   ]
  },
  {
   "cell_type": "code",
   "execution_count": 19,
   "id": "5fe2a19e",
   "metadata": {},
   "outputs": [
    {
     "data": {
      "text/plain": [
       "35"
      ]
     },
     "execution_count": 19,
     "metadata": {},
     "output_type": "execute_result"
    }
   ],
   "source": [
    "3 + 6 * 4 + ( 6 - 4) * (5 - 1) # we follow bodmas here"
   ]
  },
  {
   "cell_type": "code",
   "execution_count": 20,
   "id": "4c557386",
   "metadata": {},
   "outputs": [
    {
     "data": {
      "text/plain": [
       "1"
      ]
     },
     "execution_count": 20,
     "metadata": {},
     "output_type": "execute_result"
    }
   ],
   "source": [
    "2 * 3 // 4"
   ]
  },
  {
   "cell_type": "code",
   "execution_count": 23,
   "id": "d7966daa",
   "metadata": {},
   "outputs": [
    {
     "name": "stdout",
     "output_type": "stream",
     "text": [
      "24\n"
     ]
    }
   ],
   "source": [
    "# simple intrest to lower integer\n",
    "p = 100\n",
    "r = 12\n",
    "t = 2\n",
    "si = (p * r * t) // 100\n",
    "print(si)"
   ]
  },
  {
   "cell_type": "code",
   "execution_count": 32,
   "id": "298e4c89",
   "metadata": {},
   "outputs": [
    {
     "name": "stdout",
     "output_type": "stream",
     "text": [
      "51\n",
      "123\n"
     ]
    }
   ],
   "source": [
    "# F to C conversion\n",
    "F = 124\n",
    "C = ( F - 32 ) * 5 // 9\n",
    "print(C )\n",
    "F1 = (C * 9//5) + 32\n",
    "print(F1)"
   ]
  }
 ],
 "metadata": {
  "kernelspec": {
   "display_name": "Python 3 (ipykernel)",
   "language": "python",
   "name": "python3"
  },
  "language_info": {
   "codemirror_mode": {
    "name": "ipython",
    "version": 3
   },
   "file_extension": ".py",
   "mimetype": "text/x-python",
   "name": "python",
   "nbconvert_exporter": "python",
   "pygments_lexer": "ipython3",
   "version": "3.9.7"
  }
 },
 "nbformat": 4,
 "nbformat_minor": 5
}
