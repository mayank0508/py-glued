{
 "cells": [
  {
   "cell_type": "markdown",
   "id": "352b2828",
   "metadata": {},
   "source": [
    "# In tuple here we can take variable length inputs"
   ]
  },
  {
   "cell_type": "code",
   "execution_count": 2,
   "id": "4d652045",
   "metadata": {},
   "outputs": [],
   "source": [
    "def sum(a,b):\n",
    "    return a + b"
   ]
  },
  {
   "cell_type": "code",
   "execution_count": 4,
   "id": "566f7ef9",
   "metadata": {},
   "outputs": [
    {
     "ename": "TypeError",
     "evalue": "sum() takes 2 positional arguments but 5 were given",
     "output_type": "error",
     "traceback": [
      "\u001b[1;31m---------------------------------------------------------------------------\u001b[0m",
      "\u001b[1;31mTypeError\u001b[0m                                 Traceback (most recent call last)",
      "\u001b[1;32m~\\AppData\\Local\\Temp/ipykernel_24572/1829580886.py\u001b[0m in \u001b[0;36m<module>\u001b[1;34m\u001b[0m\n\u001b[1;32m----> 1\u001b[1;33m \u001b[0msum\u001b[0m\u001b[1;33m(\u001b[0m\u001b[1;36m1\u001b[0m\u001b[1;33m,\u001b[0m\u001b[1;36m2\u001b[0m\u001b[1;33m,\u001b[0m\u001b[1;36m3\u001b[0m\u001b[1;33m,\u001b[0m\u001b[1;36m4\u001b[0m\u001b[1;33m,\u001b[0m\u001b[1;36m5\u001b[0m\u001b[1;33m)\u001b[0m\u001b[1;33m\u001b[0m\u001b[1;33m\u001b[0m\u001b[0m\n\u001b[0m",
      "\u001b[1;31mTypeError\u001b[0m: sum() takes 2 positional arguments but 5 were given"
     ]
    }
   ],
   "source": [
    "sum(1,2,3,4,5)"
   ]
  },
  {
   "cell_type": "code",
   "execution_count": 5,
   "id": "f77b1976",
   "metadata": {},
   "outputs": [],
   "source": [
    "## Here we can see that we cant give 5 i/p"
   ]
  },
  {
   "cell_type": "markdown",
   "id": "c8125b9f",
   "metadata": {},
   "source": [
    "#### But we can get more inputs with writing the no. of inputs in the declaration function"
   ]
  },
  {
   "cell_type": "code",
   "execution_count": 33,
   "id": "89d3ef88",
   "metadata": {},
   "outputs": [],
   "source": [
    "def sum2(a,b, *more):\n",
    "    print(a+b)\n",
    "    print(more)\n",
    "    print(type(more))"
   ]
  },
  {
   "cell_type": "code",
   "execution_count": 34,
   "id": "cdd3b8de",
   "metadata": {},
   "outputs": [
    {
     "name": "stdout",
     "output_type": "stream",
     "text": [
      "5\n",
      "(4, 5, 6, 7, 8)\n",
      "<class 'tuple'>\n"
     ]
    }
   ],
   "source": [
    "sum2(2,3,4,5,6,7,8) # here we can see that it is unborthered by the number of inputs we have taken"
   ]
  },
  {
   "cell_type": "code",
   "execution_count": 45,
   "id": "b4c0459a",
   "metadata": {},
   "outputs": [],
   "source": [
    "def sum3(a,b, *more): # here we have ran a loop\n",
    "    print(more)\n",
    "    print(type(more))\n",
    "    ans = a + b\n",
    "    for i in more:\n",
    "        ans = ans + i\n",
    "    print(ans)"
   ]
  },
  {
   "cell_type": "code",
   "execution_count": 46,
   "id": "36655b83",
   "metadata": {},
   "outputs": [
    {
     "name": "stdout",
     "output_type": "stream",
     "text": [
      "(4, 5, 6, 7, 8)\n",
      "<class 'tuple'>\n",
      "35\n"
     ]
    }
   ],
   "source": [
    "sum3(2,3,4,5,6,7,8)"
   ]
  },
  {
   "cell_type": "markdown",
   "id": "770de9c4",
   "metadata": {},
   "source": [
    "### variable length op"
   ]
  },
  {
   "cell_type": "code",
   "execution_count": 54,
   "id": "ccc94871",
   "metadata": {},
   "outputs": [],
   "source": [
    "def sum_diff(a,b):\n",
    "    return a+b, a-b, a*b"
   ]
  },
  {
   "cell_type": "code",
   "execution_count": 55,
   "id": "de96fd33",
   "metadata": {},
   "outputs": [
    {
     "data": {
      "text/plain": [
       "(8, 2, 15)"
      ]
     },
     "execution_count": 55,
     "metadata": {},
     "output_type": "execute_result"
    }
   ],
   "source": [
    "sum_diff(5,3) # here python has created a tuple"
   ]
  },
  {
   "cell_type": "code",
   "execution_count": 57,
   "id": "f89025be",
   "metadata": {},
   "outputs": [],
   "source": [
    "a,b,c = sum_diff(4,3)"
   ]
  },
  {
   "cell_type": "code",
   "execution_count": 58,
   "id": "4653efb8",
   "metadata": {},
   "outputs": [
    {
     "name": "stdout",
     "output_type": "stream",
     "text": [
      "7\n",
      "1\n",
      "12\n"
     ]
    }
   ],
   "source": [
    "print(a)\n",
    "print(b)\n",
    "print(c)"
   ]
  },
  {
   "cell_type": "code",
   "execution_count": null,
   "id": "6d77abb3",
   "metadata": {},
   "outputs": [],
   "source": []
  }
 ],
 "metadata": {
  "kernelspec": {
   "display_name": "Python 3 (ipykernel)",
   "language": "python",
   "name": "python3"
  },
  "language_info": {
   "codemirror_mode": {
    "name": "ipython",
    "version": 3
   },
   "file_extension": ".py",
   "mimetype": "text/x-python",
   "name": "python",
   "nbconvert_exporter": "python",
   "pygments_lexer": "ipython3",
   "version": "3.9.7"
  }
 },
 "nbformat": 4,
 "nbformat_minor": 5
}
