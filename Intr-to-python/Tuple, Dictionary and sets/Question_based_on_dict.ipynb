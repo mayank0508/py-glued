{
 "cells": [
  {
   "cell_type": "code",
   "execution_count": 2,
   "id": "916ea9e3",
   "metadata": {},
   "outputs": [],
   "source": [
    "str = \"he my name is mayank i am a student in 3rd year and i want to call myself mayank because i am a great guy no cap fam\"\n",
    "k = 2"
   ]
  },
  {
   "cell_type": "code",
   "execution_count": 3,
   "id": "aacb7ec8",
   "metadata": {},
   "outputs": [],
   "source": [
    "words = str.split()"
   ]
  },
  {
   "cell_type": "code",
   "execution_count": 5,
   "id": "3202344f",
   "metadata": {},
   "outputs": [
    {
     "data": {
      "text/plain": [
       "['he',\n",
       " 'my',\n",
       " 'name',\n",
       " 'is',\n",
       " 'mayank',\n",
       " 'i',\n",
       " 'am',\n",
       " 'a',\n",
       " 'student',\n",
       " 'in',\n",
       " '3rd',\n",
       " 'year',\n",
       " 'and',\n",
       " 'i',\n",
       " 'want',\n",
       " 'to',\n",
       " 'call',\n",
       " 'myself',\n",
       " 'mayank',\n",
       " 'because',\n",
       " 'i',\n",
       " 'am',\n",
       " 'a',\n",
       " 'great',\n",
       " 'guy',\n",
       " 'no',\n",
       " 'cap',\n",
       " 'fam']"
      ]
     },
     "execution_count": 5,
     "metadata": {},
     "output_type": "execute_result"
    }
   ],
   "source": [
    "words # we can see here that the whole string has been divided in to small words"
   ]
  },
  {
   "cell_type": "code",
   "execution_count": 8,
   "id": "934cd08b",
   "metadata": {},
   "outputs": [
    {
     "data": {
      "text/plain": [
       "{'he': 1,\n",
       " 'my': 1,\n",
       " 'name': 1,\n",
       " 'is': 1,\n",
       " 'mayank': 2,\n",
       " 'i': 3,\n",
       " 'am': 2,\n",
       " 'a': 2,\n",
       " 'student': 1,\n",
       " 'in': 1,\n",
       " '3rd': 1,\n",
       " 'year': 1,\n",
       " 'and': 1,\n",
       " 'want': 1,\n",
       " 'to': 1,\n",
       " 'call': 1,\n",
       " 'myself': 1,\n",
       " 'because': 1,\n",
       " 'great': 1,\n",
       " 'guy': 1,\n",
       " 'no': 1,\n",
       " 'cap': 1,\n",
       " 'fam': 1}"
      ]
     },
     "execution_count": 8,
     "metadata": {},
     "output_type": "execute_result"
    }
   ],
   "source": [
    "dic = {} #here this is the code for checking the number of times are string is repeating in a string\n",
    "for i in words:\n",
    "    if i in dic:\n",
    "        dic[i] += 1\n",
    "    else:\n",
    "        dic[i] = 1\n",
    "dic"
   ]
  },
  {
   "cell_type": "code",
   "execution_count": null,
   "id": "2013e7c3",
   "metadata": {},
   "outputs": [],
   "source": []
  }
 ],
 "metadata": {
  "kernelspec": {
   "display_name": "Python 3 (ipykernel)",
   "language": "python",
   "name": "python3"
  },
  "language_info": {
   "codemirror_mode": {
    "name": "ipython",
    "version": 3
   },
   "file_extension": ".py",
   "mimetype": "text/x-python",
   "name": "python",
   "nbconvert_exporter": "python",
   "pygments_lexer": "ipython3",
   "version": "3.9.7"
  }
 },
 "nbformat": 4,
 "nbformat_minor": 5
}
