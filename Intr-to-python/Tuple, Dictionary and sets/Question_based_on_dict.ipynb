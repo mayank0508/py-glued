{
 "cells": [
  {
   "cell_type": "code",
   "execution_count": 31,
   "id": "a3e0f9bd",
   "metadata": {},
   "outputs": [],
   "source": [
    "str = \"he my name is mayank i am a student in 3rd year and i want to call myself mayank because i am a great guy no cap fam\"\n",
    "k = 2"
   ]
  },
  {
   "cell_type": "code",
   "execution_count": 3,
   "id": "df9a0ae8",
   "metadata": {},
   "outputs": [],
   "source": [
    "words = str.split()"
   ]
  },
  {
   "cell_type": "code",
   "execution_count": 5,
   "id": "0759ae3b",
   "metadata": {},
   "outputs": [
    {
     "data": {
      "text/plain": [
       "['he',\n",
       " 'my',\n",
       " 'name',\n",
       " 'is',\n",
       " 'mayank',\n",
       " 'i',\n",
       " 'am',\n",
       " 'a',\n",
       " 'student',\n",
       " 'in',\n",
       " '3rd',\n",
       " 'year',\n",
       " 'and',\n",
       " 'i',\n",
       " 'want',\n",
       " 'to',\n",
       " 'call',\n",
       " 'myself',\n",
       " 'mayank',\n",
       " 'because',\n",
       " 'i',\n",
       " 'am',\n",
       " 'a',\n",
       " 'great',\n",
       " 'guy',\n",
       " 'no',\n",
       " 'cap',\n",
       " 'fam']"
      ]
     },
     "execution_count": 5,
     "metadata": {},
     "output_type": "execute_result"
    }
   ],
   "source": [
    "words # we can see here that the whole string has been divided in to small words"
   ]
  },
  {
   "cell_type": "markdown",
   "id": "58ba36ac",
   "metadata": {},
   "source": [
    "### One way to do this"
   ]
  },
  {
   "cell_type": "code",
   "execution_count": 10,
   "id": "e299963c",
   "metadata": {},
   "outputs": [
    {
     "data": {
      "text/plain": [
       "{'he': 1,\n",
       " 'my': 1,\n",
       " 'name': 1,\n",
       " 'is': 1,\n",
       " 'mayank': 2,\n",
       " 'i': 3,\n",
       " 'am': 2,\n",
       " 'a': 2,\n",
       " 'student': 1,\n",
       " 'in': 1,\n",
       " '3rd': 1,\n",
       " 'year': 1,\n",
       " 'and': 1,\n",
       " 'want': 1,\n",
       " 'to': 1,\n",
       " 'call': 1,\n",
       " 'myself': 1,\n",
       " 'because': 1,\n",
       " 'great': 1,\n",
       " 'guy': 1,\n",
       " 'no': 1,\n",
       " 'cap': 1,\n",
       " 'fam': 1}"
      ]
     },
     "execution_count": 10,
     "metadata": {},
     "output_type": "execute_result"
    }
   ],
   "source": [
    "dic = {} #here this is the code for checking the number of times are string is repeating in a string\n",
    "for i in words: # this is one way to do it\n",
    "    if i in dic:\n",
    "        dic[i] += 1\n",
    "    else:\n",
    "        dic[i] = 1\n",
    "dic"
   ]
  },
  {
   "cell_type": "markdown",
   "id": "41ccdf61",
   "metadata": {},
   "source": [
    "### Another way to do it"
   ]
  },
  {
   "cell_type": "code",
   "execution_count": 28,
   "id": "03b2b9bc",
   "metadata": {},
   "outputs": [
    {
     "data": {
      "text/plain": [
       "{'he': 1,\n",
       " 'my': 1,\n",
       " 'name': 1,\n",
       " 'is': 1,\n",
       " 'mayank': 2,\n",
       " 'i': 3,\n",
       " 'am': 2,\n",
       " 'a': 2,\n",
       " 'student': 1,\n",
       " 'in': 1,\n",
       " '3rd': 1,\n",
       " 'year': 1,\n",
       " 'and': 1,\n",
       " 'want': 1,\n",
       " 'to': 1,\n",
       " 'call': 1,\n",
       " 'myself': 1,\n",
       " 'because': 1,\n",
       " 'great': 1,\n",
       " 'guy': 1,\n",
       " 'no': 1,\n",
       " 'cap': 1,\n",
       " 'fam': 1}"
      ]
     },
     "execution_count": 28,
     "metadata": {},
     "output_type": "execute_result"
    }
   ],
   "source": [
    "dic = {} #here this is the code for checking the number of times are string is repeating in a string\n",
    "for i in words:\n",
    "        dic[i] = dic.get(i,0) + 1 # this is a much optimized and better code than the previos one\n",
    "dic"
   ]
  },
  {
   "cell_type": "code",
   "execution_count": 27,
   "id": "e1a206e8",
   "metadata": {},
   "outputs": [
    {
     "name": "stdout",
     "output_type": "stream",
     "text": [
      "mayank\n",
      "am\n",
      "a\n"
     ]
    }
   ],
   "source": [
    "for i in dic: # this is the last part of the code where we justify the value\n",
    "    if dic[i] == k:\n",
    "        print(i)"
   ]
  },
  {
   "cell_type": "code",
   "execution_count": 29,
   "id": "aff5e2c6",
   "metadata": {},
   "outputs": [],
   "source": [
    "## Fuction"
   ]
  },
  {
   "cell_type": "code",
   "execution_count": 39,
   "id": "5eed04ec",
   "metadata": {},
   "outputs": [],
   "source": [
    "def freq(s,k):\n",
    "    words = str.split()\n",
    "    dic = {} #here this is the code for checking the number of times are string is repeating in a string\n",
    "    for i in words:\n",
    "        dic[i] = dic.get(i,0) + 1 # this is a much optimized and better code than the previos one\n",
    "    for i in dic: # this is the last part of the code where we justify the value\n",
    "        if dic[i] == k:\n",
    "            print(i)"
   ]
  },
  {
   "cell_type": "code",
   "execution_count": 40,
   "id": "28bbda4b",
   "metadata": {},
   "outputs": [
    {
     "name": "stdout",
     "output_type": "stream",
     "text": [
      "mayank\n",
      "am\n",
      "a\n"
     ]
    }
   ],
   "source": [
    "freq(str,2) # # here is no word which is repeated 2 times"
   ]
  },
  {
   "cell_type": "code",
   "execution_count": 41,
   "id": "f2ba37d6",
   "metadata": {},
   "outputs": [
    {
     "name": "stdout",
     "output_type": "stream",
     "text": [
      "i\n"
     ]
    }
   ],
   "source": [
    "freq(str,3) # here is no word which is repeated 3 times"
   ]
  },
  {
   "cell_type": "code",
   "execution_count": 42,
   "id": "71fd022f",
   "metadata": {},
   "outputs": [
    {
     "name": "stdout",
     "output_type": "stream",
     "text": [
      "he\n",
      "my\n",
      "name\n",
      "is\n",
      "student\n",
      "in\n",
      "3rd\n",
      "year\n",
      "and\n",
      "want\n",
      "to\n",
      "call\n",
      "myself\n",
      "because\n",
      "great\n",
      "guy\n",
      "no\n",
      "cap\n",
      "fam\n"
     ]
    }
   ],
   "source": [
    "freq(str,1) # here is no word which is repeated 1 times"
   ]
  },
  {
   "cell_type": "code",
   "execution_count": 35,
   "id": "a2473fda",
   "metadata": {},
   "outputs": [],
   "source": [
    "freq(str,4) # here is no word which is repeated 4 times"
   ]
  },
  {
   "cell_type": "code",
   "execution_count": null,
   "id": "d8a7211b",
   "metadata": {},
   "outputs": [],
   "source": []
  }
 ],
 "metadata": {
  "kernelspec": {
   "display_name": "Python 3 (ipykernel)",
   "language": "python",
   "name": "python3"
  },
  "language_info": {
   "codemirror_mode": {
    "name": "ipython",
    "version": 3
   },
   "file_extension": ".py",
   "mimetype": "text/x-python",
   "name": "python",
   "nbconvert_exporter": "python",
   "pygments_lexer": "ipython3",
   "version": "3.9.7"
  }
 },
 "nbformat": 4,
 "nbformat_minor": 5
}
