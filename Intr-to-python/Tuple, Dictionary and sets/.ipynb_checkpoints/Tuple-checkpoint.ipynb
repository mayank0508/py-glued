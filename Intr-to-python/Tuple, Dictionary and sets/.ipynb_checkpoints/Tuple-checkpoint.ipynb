{
 "cells": [
  {
   "cell_type": "code",
   "execution_count": 1,
   "id": "58eb7dae",
   "metadata": {},
   "outputs": [],
   "source": [
    "## Tuples"
   ]
  },
  {
   "cell_type": "markdown",
   "id": "5938ea95",
   "metadata": {},
   "source": [
    "##### they are not completly same as list rather it has more diffrence with list rather than similarities"
   ]
  },
  {
   "cell_type": "code",
   "execution_count": 1,
   "id": "a96cfc95",
   "metadata": {},
   "outputs": [],
   "source": [
    "# in lists we use li =['','','']\n",
    "# but in tuple we use tu = (,,)"
   ]
  },
  {
   "cell_type": "code",
   "execution_count": 2,
   "id": "82296695",
   "metadata": {},
   "outputs": [],
   "source": [
    "a = (1,2)"
   ]
  },
  {
   "cell_type": "code",
   "execution_count": 3,
   "id": "57e3fa98",
   "metadata": {},
   "outputs": [
    {
     "data": {
      "text/plain": [
       "(1, 2)"
      ]
     },
     "execution_count": 3,
     "metadata": {},
     "output_type": "execute_result"
    }
   ],
   "source": [
    "a"
   ]
  },
  {
   "cell_type": "code",
   "execution_count": 4,
   "id": "1bf2aa5a",
   "metadata": {},
   "outputs": [
    {
     "data": {
      "text/plain": [
       "tuple"
      ]
     },
     "execution_count": 4,
     "metadata": {},
     "output_type": "execute_result"
    }
   ],
   "source": [
    "type(a)"
   ]
  },
  {
   "cell_type": "code",
   "execution_count": 5,
   "id": "53d25c2d",
   "metadata": {},
   "outputs": [],
   "source": [
    "b = 2,3 # this has not became a tuple"
   ]
  },
  {
   "cell_type": "code",
   "execution_count": 6,
   "id": "789f1773",
   "metadata": {},
   "outputs": [],
   "source": [
    "c,d = 4,5"
   ]
  },
  {
   "cell_type": "code",
   "execution_count": 7,
   "id": "821430bd",
   "metadata": {},
   "outputs": [
    {
     "data": {
      "text/plain": [
       "tuple"
      ]
     },
     "execution_count": 7,
     "metadata": {},
     "output_type": "execute_result"
    }
   ],
   "source": [
    "type(b)"
   ]
  },
  {
   "cell_type": "code",
   "execution_count": 8,
   "id": "d7a9385d",
   "metadata": {},
   "outputs": [
    {
     "data": {
      "text/plain": [
       "int"
      ]
     },
     "execution_count": 8,
     "metadata": {},
     "output_type": "execute_result"
    }
   ],
   "source": [
    "type(c)"
   ]
  },
  {
   "cell_type": "code",
   "execution_count": 10,
   "id": "362dca66",
   "metadata": {},
   "outputs": [
    {
     "data": {
      "text/plain": [
       "3"
      ]
     },
     "execution_count": 10,
     "metadata": {},
     "output_type": "execute_result"
    }
   ],
   "source": [
    "b[1] # we can access the elements the same we did it in lists"
   ]
  },
  {
   "cell_type": "code",
   "execution_count": 12,
   "id": "5ea8b37a",
   "metadata": {},
   "outputs": [
    {
     "data": {
      "text/plain": [
       "3"
      ]
     },
     "execution_count": 12,
     "metadata": {},
     "output_type": "execute_result"
    }
   ],
   "source": [
    "b[-1] # here is another example"
   ]
  },
  {
   "cell_type": "markdown",
   "id": "b8865980",
   "metadata": {},
   "source": [
    "### Slicing in tuples"
   ]
  },
  {
   "cell_type": "code",
   "execution_count": 15,
   "id": "ceb5b6ef",
   "metadata": {},
   "outputs": [],
   "source": [
    "m = (2,3,4,5,6,7,8,9,9)"
   ]
  },
  {
   "cell_type": "code",
   "execution_count": 14,
   "id": "11c10dfc",
   "metadata": {},
   "outputs": [
    {
     "data": {
      "text/plain": [
       "(2, 3, 4)"
      ]
     },
     "execution_count": 14,
     "metadata": {},
     "output_type": "execute_result"
    }
   ],
   "source": [
    "m[:3]"
   ]
  },
  {
   "cell_type": "code",
   "execution_count": null,
   "id": "b5ec7894",
   "metadata": {},
   "outputs": [],
   "source": []
  }
 ],
 "metadata": {
  "kernelspec": {
   "display_name": "Python 3 (ipykernel)",
   "language": "python",
   "name": "python3"
  },
  "language_info": {
   "codemirror_mode": {
    "name": "ipython",
    "version": 3
   },
   "file_extension": ".py",
   "mimetype": "text/x-python",
   "name": "python",
   "nbconvert_exporter": "python",
   "pygments_lexer": "ipython3",
   "version": "3.9.7"
  }
 },
 "nbformat": 4,
 "nbformat_minor": 5
}
