{
 "cells": [
  {
   "cell_type": "code",
   "execution_count": 1,
   "id": "58eb7dae",
   "metadata": {},
   "outputs": [],
   "source": [
    "## Tuples"
   ]
  },
  {
   "cell_type": "markdown",
   "id": "5938ea95",
   "metadata": {},
   "source": [
    "##### they are not completly same as list rather it has more diffrence with list rather than similarities"
   ]
  },
  {
   "cell_type": "code",
   "execution_count": 1,
   "id": "a96cfc95",
   "metadata": {},
   "outputs": [],
   "source": [
    "# in lists we use li =['','','']\n",
    "# but in tuple we use tu = (,,)"
   ]
  },
  {
   "cell_type": "code",
   "execution_count": 2,
   "id": "8c6ab8de",
   "metadata": {},
   "outputs": [],
   "source": [
    "a = (1,2)"
   ]
  },
  {
   "cell_type": "code",
   "execution_count": 3,
   "id": "aa5882e9",
   "metadata": {},
   "outputs": [
    {
     "data": {
      "text/plain": [
       "(1, 2)"
      ]
     },
     "execution_count": 3,
     "metadata": {},
     "output_type": "execute_result"
    }
   ],
   "source": [
    "a"
   ]
  },
  {
   "cell_type": "code",
   "execution_count": 4,
   "id": "c285ab70",
   "metadata": {},
   "outputs": [
    {
     "data": {
      "text/plain": [
       "tuple"
      ]
     },
     "execution_count": 4,
     "metadata": {},
     "output_type": "execute_result"
    }
   ],
   "source": [
    "type(a)"
   ]
  },
  {
   "cell_type": "code",
   "execution_count": 5,
   "id": "ccd4333d",
   "metadata": {},
   "outputs": [],
   "source": [
    "b = 2,3 # this has not became a tuple"
   ]
  },
  {
   "cell_type": "code",
   "execution_count": 6,
   "id": "4adbbd51",
   "metadata": {},
   "outputs": [],
   "source": [
    "c,d = 4,5"
   ]
  },
  {
   "cell_type": "code",
   "execution_count": 7,
   "id": "c295a8c7",
   "metadata": {},
   "outputs": [
    {
     "data": {
      "text/plain": [
       "tuple"
      ]
     },
     "execution_count": 7,
     "metadata": {},
     "output_type": "execute_result"
    }
   ],
   "source": [
    "type(b)"
   ]
  },
  {
   "cell_type": "code",
   "execution_count": 8,
   "id": "b3f1dfdb",
   "metadata": {},
   "outputs": [
    {
     "data": {
      "text/plain": [
       "int"
      ]
     },
     "execution_count": 8,
     "metadata": {},
     "output_type": "execute_result"
    }
   ],
   "source": [
    "type(c)"
   ]
  },
  {
   "cell_type": "code",
   "execution_count": 10,
   "id": "91c19eb8",
   "metadata": {},
   "outputs": [
    {
     "data": {
      "text/plain": [
       "3"
      ]
     },
     "execution_count": 10,
     "metadata": {},
     "output_type": "execute_result"
    }
   ],
   "source": [
    "b[1] # we can access the elements the same we did it in lists"
   ]
  },
  {
   "cell_type": "code",
   "execution_count": 12,
   "id": "d4f1f4e1",
   "metadata": {},
   "outputs": [
    {
     "data": {
      "text/plain": [
       "3"
      ]
     },
     "execution_count": 12,
     "metadata": {},
     "output_type": "execute_result"
    }
   ],
   "source": [
    "b[-1] # here is another example"
   ]
  },
  {
   "cell_type": "code",
   "execution_count": null,
   "id": "8d1bc31e",
   "metadata": {},
   "outputs": [],
   "source": []
  }
 ],
 "metadata": {
  "kernelspec": {
   "display_name": "Python 3 (ipykernel)",
   "language": "python",
   "name": "python3"
  },
  "language_info": {
   "codemirror_mode": {
    "name": "ipython",
    "version": 3
   },
   "file_extension": ".py",
   "mimetype": "text/x-python",
   "name": "python",
   "nbconvert_exporter": "python",
   "pygments_lexer": "ipython3",
   "version": "3.9.7"
  }
 },
 "nbformat": 4,
 "nbformat_minor": 5
}
