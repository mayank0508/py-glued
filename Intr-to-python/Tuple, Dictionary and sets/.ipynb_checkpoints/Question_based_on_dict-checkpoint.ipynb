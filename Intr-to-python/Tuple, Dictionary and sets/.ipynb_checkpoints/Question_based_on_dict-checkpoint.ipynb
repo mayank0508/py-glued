{
 "cells": [
  {
   "cell_type": "code",
   "execution_count": 2,
   "id": "4543e4e8",
   "metadata": {},
   "outputs": [],
   "source": [
    "str = \"he my name is mayank i am a student in 3rd year and i want to call myself mayank because i am a great guy no cap fam\"\n",
    "k = 2"
   ]
  },
  {
   "cell_type": "code",
   "execution_count": 3,
   "id": "a3ac6923",
   "metadata": {},
   "outputs": [],
   "source": [
    "words = str.split()"
   ]
  },
  {
   "cell_type": "code",
   "execution_count": 5,
   "id": "1e7a7de3",
   "metadata": {},
   "outputs": [
    {
     "data": {
      "text/plain": [
       "['he',\n",
       " 'my',\n",
       " 'name',\n",
       " 'is',\n",
       " 'mayank',\n",
       " 'i',\n",
       " 'am',\n",
       " 'a',\n",
       " 'student',\n",
       " 'in',\n",
       " '3rd',\n",
       " 'year',\n",
       " 'and',\n",
       " 'i',\n",
       " 'want',\n",
       " 'to',\n",
       " 'call',\n",
       " 'myself',\n",
       " 'mayank',\n",
       " 'because',\n",
       " 'i',\n",
       " 'am',\n",
       " 'a',\n",
       " 'great',\n",
       " 'guy',\n",
       " 'no',\n",
       " 'cap',\n",
       " 'fam']"
      ]
     },
     "execution_count": 5,
     "metadata": {},
     "output_type": "execute_result"
    }
   ],
   "source": [
    "words # we can see here that the whole string has been divided in to small words"
   ]
  },
  {
   "cell_type": "markdown",
   "id": "9b33b12f",
   "metadata": {},
   "source": [
    "### One way to do this"
   ]
  },
  {
   "cell_type": "code",
   "execution_count": 10,
   "id": "3b4e881d",
   "metadata": {},
   "outputs": [
    {
     "data": {
      "text/plain": [
       "{'he': 1,\n",
       " 'my': 1,\n",
       " 'name': 1,\n",
       " 'is': 1,\n",
       " 'mayank': 2,\n",
       " 'i': 3,\n",
       " 'am': 2,\n",
       " 'a': 2,\n",
       " 'student': 1,\n",
       " 'in': 1,\n",
       " '3rd': 1,\n",
       " 'year': 1,\n",
       " 'and': 1,\n",
       " 'want': 1,\n",
       " 'to': 1,\n",
       " 'call': 1,\n",
       " 'myself': 1,\n",
       " 'because': 1,\n",
       " 'great': 1,\n",
       " 'guy': 1,\n",
       " 'no': 1,\n",
       " 'cap': 1,\n",
       " 'fam': 1}"
      ]
     },
     "execution_count": 10,
     "metadata": {},
     "output_type": "execute_result"
    }
   ],
   "source": [
    "dic = {} #here this is the code for checking the number of times are string is repeating in a string\n",
    "for i in words: # this is one way to do it\n",
    "    if i in dic:\n",
    "        dic[i] += 1\n",
    "    else:\n",
    "        dic[i] = 1\n",
    "dic"
   ]
  },
  {
   "cell_type": "markdown",
   "id": "b80461d4",
   "metadata": {},
   "source": [
    "### Another way to do it"
   ]
  },
  {
   "cell_type": "code",
   "execution_count": null,
   "id": "bdbaa9a9",
   "metadata": {},
   "outputs": [],
   "source": [
    "\n"
   ]
  }
 ],
 "metadata": {
  "kernelspec": {
   "display_name": "Python 3 (ipykernel)",
   "language": "python",
   "name": "python3"
  },
  "language_info": {
   "codemirror_mode": {
    "name": "ipython",
    "version": 3
   },
   "file_extension": ".py",
   "mimetype": "text/x-python",
   "name": "python",
   "nbconvert_exporter": "python",
   "pygments_lexer": "ipython3",
   "version": "3.9.7"
  }
 },
 "nbformat": 4,
 "nbformat_minor": 5
}
