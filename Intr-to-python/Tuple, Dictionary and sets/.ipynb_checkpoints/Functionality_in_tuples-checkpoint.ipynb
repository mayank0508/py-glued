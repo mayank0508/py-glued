{
 "cells": [
  {
   "cell_type": "markdown",
   "id": "b813e29a",
   "metadata": {},
   "source": [
    "### Functions in tuples"
   ]
  },
  {
   "cell_type": "code",
   "execution_count": 2,
   "id": "3104342a",
   "metadata": {},
   "outputs": [],
   "source": [
    "a = (1,2,3)\n",
    "b = 4,5,6"
   ]
  },
  {
   "cell_type": "code",
   "execution_count": 11,
   "id": "e093040e",
   "metadata": {},
   "outputs": [
    {
     "name": "stdout",
     "output_type": "stream",
     "text": [
      "1 2 3 \n"
     ]
    }
   ],
   "source": [
    "# for loops\n",
    "for i in a:\n",
    "    print(i, end=' ')\n",
    "print()"
   ]
  },
  {
   "cell_type": "markdown",
   "id": "772c991a",
   "metadata": {},
   "source": [
    "## Memebership in tuple"
   ]
  },
  {
   "cell_type": "code",
   "execution_count": 13,
   "id": "d19d8e64",
   "metadata": {},
   "outputs": [
    {
     "data": {
      "text/plain": [
       "True"
      ]
     },
     "execution_count": 13,
     "metadata": {},
     "output_type": "execute_result"
    }
   ],
   "source": [
    "2 in a # since we can find 2 in a thus it is possible"
   ]
  },
  {
   "cell_type": "code",
   "execution_count": 16,
   "id": "39eefb06",
   "metadata": {},
   "outputs": [
    {
     "data": {
      "text/plain": [
       "False"
      ]
     },
     "execution_count": 16,
     "metadata": {},
     "output_type": "execute_result"
    }
   ],
   "source": [
    "2 in b # since here we dont have 2 in b thus its not avaliable"
   ]
  },
  {
   "cell_type": "markdown",
   "id": "08ea6f26",
   "metadata": {},
   "source": [
    "### Length of tuple"
   ]
  },
  {
   "cell_type": "code",
   "execution_count": 29,
   "id": "206c6942",
   "metadata": {},
   "outputs": [
    {
     "data": {
      "text/plain": [
       "3"
      ]
     },
     "execution_count": 29,
     "metadata": {},
     "output_type": "execute_result"
    }
   ],
   "source": [
    "len(a)\n"
   ]
  },
  {
   "cell_type": "markdown",
   "id": "494dd270",
   "metadata": {},
   "source": [
    "### Concatination of tuples"
   ]
  },
  {
   "cell_type": "code",
   "execution_count": 22,
   "id": "b0712695",
   "metadata": {},
   "outputs": [],
   "source": [
    "c = a + b"
   ]
  },
  {
   "cell_type": "code",
   "execution_count": 24,
   "id": "ce213110",
   "metadata": {},
   "outputs": [
    {
     "data": {
      "text/plain": [
       "(1, 2, 3, 4, 5, 6)"
      ]
     },
     "execution_count": 24,
     "metadata": {},
     "output_type": "execute_result"
    }
   ],
   "source": [
    "c ## here it has added all the elements in a and b and made this a concatination"
   ]
  },
  {
   "cell_type": "code",
   "execution_count": 25,
   "id": "606bdae2",
   "metadata": {},
   "outputs": [],
   "source": [
    "s = (a,b)"
   ]
  },
  {
   "cell_type": "code",
   "execution_count": 27,
   "id": "1cfc951b",
   "metadata": {},
   "outputs": [
    {
     "data": {
      "text/plain": [
       "((1, 2, 3), (4, 5, 6))"
      ]
     },
     "execution_count": 27,
     "metadata": {},
     "output_type": "execute_result"
    }
   ],
   "source": [
    "s ## here its a bit diffrent because here we are actually combining the 2 diffrent tuples"
   ]
  },
  {
   "cell_type": "markdown",
   "id": "9c5b0841",
   "metadata": {},
   "source": [
    "### Repeat"
   ]
  },
  {
   "cell_type": "code",
   "execution_count": 31,
   "id": "b6342d0b",
   "metadata": {},
   "outputs": [],
   "source": [
    "m = a*4"
   ]
  },
  {
   "cell_type": "code",
   "execution_count": 41,
   "id": "09a38262",
   "metadata": {},
   "outputs": [
    {
     "data": {
      "text/plain": [
       "(1, 2, 3, 1, 2, 3, 1, 2, 3, 1, 2, 3)"
      ]
     },
     "execution_count": 41,
     "metadata": {},
     "output_type": "execute_result"
    }
   ],
   "source": [
    "m # here we have (1,2,3) four times"
   ]
  },
  {
   "cell_type": "markdown",
   "id": "e0ae16d5",
   "metadata": {},
   "source": [
    "### Max and Min"
   ]
  },
  {
   "cell_type": "code",
   "execution_count": 35,
   "id": "9c9f0be5",
   "metadata": {},
   "outputs": [
    {
     "data": {
      "text/plain": [
       "3"
      ]
     },
     "execution_count": 35,
     "metadata": {},
     "output_type": "execute_result"
    }
   ],
   "source": [
    "max(m) # this gives that max number in m"
   ]
  },
  {
   "cell_type": "code",
   "execution_count": 37,
   "id": "336c590b",
   "metadata": {},
   "outputs": [
    {
     "data": {
      "text/plain": [
       "6"
      ]
     },
     "execution_count": 37,
     "metadata": {},
     "output_type": "execute_result"
    }
   ],
   "source": [
    "max(c) # this is the max number in c"
   ]
  },
  {
   "cell_type": "code",
   "execution_count": 38,
   "id": "6ae2342c",
   "metadata": {},
   "outputs": [],
   "source": [
    "m1 = (1,2,'a', (1,2))"
   ]
  },
  {
   "cell_type": "code",
   "execution_count": 40,
   "id": "520cc615",
   "metadata": {},
   "outputs": [
    {
     "ename": "TypeError",
     "evalue": "'>' not supported between instances of 'str' and 'int'",
     "output_type": "error",
     "traceback": [
      "\u001b[1;31m---------------------------------------------------------------------------\u001b[0m",
      "\u001b[1;31mTypeError\u001b[0m                                 Traceback (most recent call last)",
      "\u001b[1;32m~\\AppData\\Local\\Temp/ipykernel_21712/191753325.py\u001b[0m in \u001b[0;36m<module>\u001b[1;34m\u001b[0m\n\u001b[1;32m----> 1\u001b[1;33m \u001b[0mmax\u001b[0m\u001b[1;33m(\u001b[0m\u001b[0mm1\u001b[0m\u001b[1;33m)\u001b[0m \u001b[1;31m# here we have this error beacuse tuple cant be compared\u001b[0m\u001b[1;33m\u001b[0m\u001b[1;33m\u001b[0m\u001b[0m\n\u001b[0m",
      "\u001b[1;31mTypeError\u001b[0m: '>' not supported between instances of 'str' and 'int'"
     ]
    }
   ],
   "source": [
    "max(m1) # here we have this error beacuse tuple cant be compared"
   ]
  },
  {
   "cell_type": "code",
   "execution_count": 43,
   "id": "b445abbd",
   "metadata": {},
   "outputs": [],
   "source": [
    "m2 =7,45,4,6,57,54,35,6,257,5,67,23,5,45,45,4,54,6,57,68,78,69,67,86,72,562,34"
   ]
  },
  {
   "cell_type": "code",
   "execution_count": 44,
   "id": "d5767d07",
   "metadata": {},
   "outputs": [
    {
     "data": {
      "text/plain": [
       "562"
      ]
     },
     "execution_count": 44,
     "metadata": {},
     "output_type": "execute_result"
    }
   ],
   "source": [
    "max(m2)"
   ]
  },
  {
   "cell_type": "code",
   "execution_count": 45,
   "id": "f6479924",
   "metadata": {},
   "outputs": [
    {
     "data": {
      "text/plain": [
       "4"
      ]
     },
     "execution_count": 45,
     "metadata": {},
     "output_type": "execute_result"
    }
   ],
   "source": [
    "min(m2)"
   ]
  },
  {
   "cell_type": "markdown",
   "id": "13874a8e",
   "metadata": {},
   "source": [
    "### Converting a list to a tuple"
   ]
  },
  {
   "cell_type": "code",
   "execution_count": null,
   "id": "f29e18e4",
   "metadata": {},
   "outputs": [],
   "source": []
  }
 ],
 "metadata": {
  "kernelspec": {
   "display_name": "Python 3 (ipykernel)",
   "language": "python",
   "name": "python3"
  },
  "language_info": {
   "codemirror_mode": {
    "name": "ipython",
    "version": 3
   },
   "file_extension": ".py",
   "mimetype": "text/x-python",
   "name": "python",
   "nbconvert_exporter": "python",
   "pygments_lexer": "ipython3",
   "version": "3.9.7"
  }
 },
 "nbformat": 4,
 "nbformat_minor": 5
}
