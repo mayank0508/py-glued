{
 "cells": [
  {
   "cell_type": "markdown",
   "id": "1bf390ed",
   "metadata": {},
   "source": [
    "# Sets "
   ]
  },
  {
   "cell_type": "code",
   "execution_count": 1,
   "id": "3d9cc094",
   "metadata": {},
   "outputs": [],
   "source": [
    "a = {'mayank', 'hi', 34}"
   ]
  },
  {
   "cell_type": "code",
   "execution_count": 2,
   "id": "8c0a87b7",
   "metadata": {},
   "outputs": [
    {
     "data": {
      "text/plain": [
       "{34, 'hi', 'mayank'}"
      ]
     },
     "execution_count": 2,
     "metadata": {},
     "output_type": "execute_result"
    }
   ],
   "source": [
    "a # the structure is same of dict but there is no keys and values "
   ]
  },
  {
   "cell_type": "code",
   "execution_count": 3,
   "id": "0d16ee41",
   "metadata": {},
   "outputs": [
    {
     "data": {
      "text/plain": [
       "set"
      ]
     },
     "execution_count": 3,
     "metadata": {},
     "output_type": "execute_result"
    }
   ],
   "source": [
    "type(a)"
   ]
  },
  {
   "cell_type": "code",
   "execution_count": 4,
   "id": "0efc40b3",
   "metadata": {},
   "outputs": [
    {
     "ename": "TypeError",
     "evalue": "'set' object is not subscriptable",
     "output_type": "error",
     "traceback": [
      "\u001b[1;31m---------------------------------------------------------------------------\u001b[0m",
      "\u001b[1;31mTypeError\u001b[0m                                 Traceback (most recent call last)",
      "\u001b[1;32m~\\AppData\\Local\\Temp/ipykernel_4584/1109539928.py\u001b[0m in \u001b[0;36m<module>\u001b[1;34m\u001b[0m\n\u001b[1;32m----> 1\u001b[1;33m \u001b[0ma\u001b[0m\u001b[1;33m[\u001b[0m\u001b[1;36m0\u001b[0m\u001b[1;33m]\u001b[0m\u001b[1;33m\u001b[0m\u001b[1;33m\u001b[0m\u001b[0m\n\u001b[0m",
      "\u001b[1;31mTypeError\u001b[0m: 'set' object is not subscriptable"
     ]
    }
   ],
   "source": [
    "a[0] # it aint structured and it does not have any kind of indexing"
   ]
  },
  {
   "cell_type": "code",
   "execution_count": 6,
   "id": "f6702f4f",
   "metadata": {},
   "outputs": [
    {
     "ename": "TypeError",
     "evalue": "'set' object is not subscriptable",
     "output_type": "error",
     "traceback": [
      "\u001b[1;31m---------------------------------------------------------------------------\u001b[0m",
      "\u001b[1;31mTypeError\u001b[0m                                 Traceback (most recent call last)",
      "\u001b[1;32m~\\AppData\\Local\\Temp/ipykernel_4584/963309905.py\u001b[0m in \u001b[0;36m<module>\u001b[1;34m\u001b[0m\n\u001b[1;32m----> 1\u001b[1;33m \u001b[0ma\u001b[0m\u001b[1;33m[\u001b[0m\u001b[1;34m'hi'\u001b[0m\u001b[1;33m]\u001b[0m \u001b[1;31m# still it wont work because it does not have any value\u001b[0m\u001b[1;33m\u001b[0m\u001b[1;33m\u001b[0m\u001b[0m\n\u001b[0m",
      "\u001b[1;31mTypeError\u001b[0m: 'set' object is not subscriptable"
     ]
    }
   ],
   "source": [
    "a['hi'] # still it wont work because it does not have any value"
   ]
  },
  {
   "cell_type": "code",
   "execution_count": 7,
   "id": "88affed5",
   "metadata": {},
   "outputs": [
    {
     "data": {
      "text/plain": [
       "True"
      ]
     },
     "execution_count": 7,
     "metadata": {},
     "output_type": "execute_result"
    }
   ],
   "source": [
    "'hi' in a # this will yeild the results "
   ]
  },
  {
   "cell_type": "code",
   "execution_count": 10,
   "id": "d967a658",
   "metadata": {},
   "outputs": [
    {
     "data": {
      "text/plain": [
       "True"
      ]
     },
     "execution_count": 10,
     "metadata": {},
     "output_type": "execute_result"
    }
   ],
   "source": [
    "34 in a # this method will yeild results"
   ]
  },
  {
   "cell_type": "code",
   "execution_count": 12,
   "id": "59872c2b",
   "metadata": {},
   "outputs": [
    {
     "name": "stdout",
     "output_type": "stream",
     "text": [
      "mayank\n",
      "34\n",
      "hi\n"
     ]
    }
   ],
   "source": [
    "for i in a:\n",
    "    print(i) # here in the answer we can see that there is no neccesary order for it"
   ]
  },
  {
   "cell_type": "code",
   "execution_count": 14,
   "id": "fb1b389d",
   "metadata": {},
   "outputs": [
    {
     "data": {
      "text/plain": [
       "3"
      ]
     },
     "execution_count": 14,
     "metadata": {},
     "output_type": "execute_result"
    }
   ],
   "source": [
    "len(a) # access the data's length"
   ]
  },
  {
   "cell_type": "markdown",
   "id": "039709f7",
   "metadata": {},
   "source": [
    "## Addition and Update data"
   ]
  },
  {
   "cell_type": "code",
   "execution_count": 18,
   "id": "60c95638",
   "metadata": {},
   "outputs": [],
   "source": [
    "a.add('me') # this can be used the data"
   ]
  },
  {
   "cell_type": "code",
   "execution_count": 19,
   "id": "6ad03057",
   "metadata": {},
   "outputs": [
    {
     "data": {
      "text/plain": [
       "{34, 'hi', 'mayank', 'me'}"
      ]
     },
     "execution_count": 19,
     "metadata": {},
     "output_type": "execute_result"
    }
   ],
   "source": [
    "a"
   ]
  },
  {
   "cell_type": "code",
   "execution_count": 20,
   "id": "fe8b5484",
   "metadata": {},
   "outputs": [],
   "source": [
    "b = {'me', 34, 54}"
   ]
  },
  {
   "cell_type": "code",
   "execution_count": 21,
   "id": "ee3fd48f",
   "metadata": {},
   "outputs": [],
   "source": [
    "a.update(b)"
   ]
  },
  {
   "cell_type": "code",
   "execution_count": 23,
   "id": "ae04345b",
   "metadata": {},
   "outputs": [
    {
     "data": {
      "text/plain": [
       "{34, 54, 'hi', 'mayank', 'me'}"
      ]
     },
     "execution_count": 23,
     "metadata": {},
     "output_type": "execute_result"
    }
   ],
   "source": [
    "a # here we can see that we can use this to add set in a set"
   ]
  },
  {
   "cell_type": "markdown",
   "id": "9982eda3",
   "metadata": {},
   "source": [
    "## Delete Data"
   ]
  },
  {
   "cell_type": "code",
   "execution_count": 25,
   "id": "f99cf165",
   "metadata": {},
   "outputs": [],
   "source": [
    "a.remove(34)"
   ]
  },
  {
   "cell_type": "code",
   "execution_count": 26,
   "id": "20a7c741",
   "metadata": {},
   "outputs": [
    {
     "data": {
      "text/plain": [
       "{54, 'hi', 'mayank', 'me'}"
      ]
     },
     "execution_count": 26,
     "metadata": {},
     "output_type": "execute_result"
    }
   ],
   "source": [
    "a"
   ]
  },
  {
   "cell_type": "code",
   "execution_count": 27,
   "id": "3b2fb9ba",
   "metadata": {},
   "outputs": [
    {
     "ename": "KeyError",
     "evalue": "{'mayank', 54, 'me', 'hi'}",
     "output_type": "error",
     "traceback": [
      "\u001b[1;31m---------------------------------------------------------------------------\u001b[0m",
      "\u001b[1;31mKeyError\u001b[0m                                  Traceback (most recent call last)",
      "\u001b[1;32m~\\AppData\\Local\\Temp/ipykernel_4584/3621693970.py\u001b[0m in \u001b[0;36m<module>\u001b[1;34m\u001b[0m\n\u001b[1;32m----> 1\u001b[1;33m \u001b[0ma\u001b[0m\u001b[1;33m.\u001b[0m\u001b[0mremove\u001b[0m\u001b[1;33m(\u001b[0m\u001b[0ma\u001b[0m\u001b[1;33m)\u001b[0m\u001b[1;33m\u001b[0m\u001b[1;33m\u001b[0m\u001b[0m\n\u001b[0m",
      "\u001b[1;31mKeyError\u001b[0m: {'mayank', 54, 'me', 'hi'}"
     ]
    }
   ],
   "source": [
    "a.remove(a) # error"
   ]
  },
  {
   "cell_type": "code",
   "execution_count": 32,
   "id": "62b7d7a0",
   "metadata": {},
   "outputs": [],
   "source": [
    "a.discard(32) # this does not shows any error"
   ]
  },
  {
   "cell_type": "code",
   "execution_count": 33,
   "id": "e6d681e9",
   "metadata": {},
   "outputs": [
    {
     "data": {
      "text/plain": [
       "{54, 'hi', 'mayank', 'me'}"
      ]
     },
     "execution_count": 33,
     "metadata": {},
     "output_type": "execute_result"
    }
   ],
   "source": [
    "a"
   ]
  },
  {
   "cell_type": "code",
   "execution_count": 36,
   "id": "d5cf9194",
   "metadata": {},
   "outputs": [
    {
     "data": {
      "text/plain": [
       "54"
      ]
     },
     "execution_count": 36,
     "metadata": {},
     "output_type": "execute_result"
    }
   ],
   "source": [
    "a.pop() # randomly removes any kind of data"
   ]
  },
  {
   "cell_type": "code",
   "execution_count": 37,
   "id": "2b3cfb5c",
   "metadata": {},
   "outputs": [
    {
     "data": {
      "text/plain": [
       "{'hi', 'me'}"
      ]
     },
     "execution_count": 37,
     "metadata": {},
     "output_type": "execute_result"
    }
   ],
   "source": [
    "a"
   ]
  },
  {
   "cell_type": "markdown",
   "id": "379c6c6a",
   "metadata": {},
   "source": [
    "# fUNCTIONS OF THE SETS"
   ]
  },
  {
   "cell_type": "code",
   "execution_count": 53,
   "id": "a9616fd1",
   "metadata": {},
   "outputs": [],
   "source": [
    "a = {1,2,3,4,5,6}\n",
    "b = {4,5,6,7,8,9}"
   ]
  },
  {
   "cell_type": "code",
   "execution_count": 41,
   "id": "058a905a",
   "metadata": {},
   "outputs": [
    {
     "data": {
      "text/plain": [
       "{4, 5, 6}"
      ]
     },
     "execution_count": 41,
     "metadata": {},
     "output_type": "execute_result"
    }
   ],
   "source": [
    "a.intersection(b) # this will give us the intersection between 2 sets"
   ]
  },
  {
   "cell_type": "code",
   "execution_count": 42,
   "id": "e7c916b4",
   "metadata": {},
   "outputs": [
    {
     "data": {
      "text/plain": [
       "{1, 2, 3, 4, 5, 6, 7, 8, 9}"
      ]
     },
     "execution_count": 42,
     "metadata": {},
     "output_type": "execute_result"
    }
   ],
   "source": [
    "a.union(b)"
   ]
  },
  {
   "cell_type": "code",
   "execution_count": 44,
   "id": "fd5e876e",
   "metadata": {},
   "outputs": [
    {
     "data": {
      "text/plain": [
       "{1, 2, 3}"
      ]
     },
     "execution_count": 44,
     "metadata": {},
     "output_type": "execute_result"
    }
   ],
   "source": [
    "a.difference(b)"
   ]
  },
  {
   "cell_type": "code",
   "execution_count": 45,
   "id": "daa458c9",
   "metadata": {},
   "outputs": [
    {
     "data": {
      "text/plain": [
       "{7, 8, 9}"
      ]
     },
     "execution_count": 45,
     "metadata": {},
     "output_type": "execute_result"
    }
   ],
   "source": [
    "b.difference(a)"
   ]
  },
  {
   "cell_type": "code",
   "execution_count": 47,
   "id": "a64ba1a5",
   "metadata": {},
   "outputs": [
    {
     "data": {
      "text/plain": [
       "{1, 2, 3, 7, 8, 9}"
      ]
     },
     "execution_count": 47,
     "metadata": {},
     "output_type": "execute_result"
    }
   ],
   "source": [
    "a.symmetric_difference(b) # the elements which is not common in a and b"
   ]
  },
  {
   "cell_type": "code",
   "execution_count": 48,
   "id": "982b4185",
   "metadata": {},
   "outputs": [],
   "source": [
    "a.intersection_update(b)"
   ]
  },
  {
   "cell_type": "code",
   "execution_count": 49,
   "id": "0b032640",
   "metadata": {},
   "outputs": [
    {
     "data": {
      "text/plain": [
       "{4, 5, 6}"
      ]
     },
     "execution_count": 49,
     "metadata": {},
     "output_type": "execute_result"
    }
   ],
   "source": [
    "a # here the intersection in a"
   ]
  },
  {
   "cell_type": "code",
   "execution_count": 51,
   "id": "b6f1cd51",
   "metadata": {},
   "outputs": [],
   "source": [
    "a.difference_update(b)"
   ]
  },
  {
   "cell_type": "code",
   "execution_count": 52,
   "id": "a6c3c9ff",
   "metadata": {},
   "outputs": [
    {
     "data": {
      "text/plain": [
       "{1, 2, 3}"
      ]
     },
     "execution_count": 52,
     "metadata": {},
     "output_type": "execute_result"
    }
   ],
   "source": [
    "a # here the difference has become the a"
   ]
  },
  {
   "cell_type": "code",
   "execution_count": 54,
   "id": "c2d95d0e",
   "metadata": {},
   "outputs": [],
   "source": [
    "a.symmetric_difference_update(b)"
   ]
  },
  {
   "cell_type": "code",
   "execution_count": 56,
   "id": "e6d5c865",
   "metadata": {},
   "outputs": [
    {
     "data": {
      "text/plain": [
       "{1, 2, 3, 7, 8, 9}"
      ]
     },
     "execution_count": 56,
     "metadata": {},
     "output_type": "execute_result"
    }
   ],
   "source": [
    "a # here symmetric_difference is a"
   ]
  },
  {
   "cell_type": "code",
   "execution_count": null,
   "id": "c41fd313",
   "metadata": {},
   "outputs": [],
   "source": []
  }
 ],
 "metadata": {
  "kernelspec": {
   "display_name": "Python 3 (ipykernel)",
   "language": "python",
   "name": "python3"
  },
  "language_info": {
   "codemirror_mode": {
    "name": "ipython",
    "version": 3
   },
   "file_extension": ".py",
   "mimetype": "text/x-python",
   "name": "python",
   "nbconvert_exporter": "python",
   "pygments_lexer": "ipython3",
   "version": "3.9.7"
  }
 },
 "nbformat": 4,
 "nbformat_minor": 5
}
