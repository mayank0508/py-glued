{
 "cells": [
  {
   "cell_type": "markdown",
   "id": "11e458e2",
   "metadata": {},
   "source": [
    "## Dictionary  "
   ]
  },
  {
   "cell_type": "code",
   "execution_count": 2,
   "id": "6d8d6bf3",
   "metadata": {},
   "outputs": [],
   "source": [
    "a = {}"
   ]
  },
  {
   "cell_type": "code",
   "execution_count": 3,
   "id": "a5f85199",
   "metadata": {},
   "outputs": [
    {
     "data": {
      "text/plain": [
       "dict"
      ]
     },
     "execution_count": 3,
     "metadata": {},
     "output_type": "execute_result"
    }
   ],
   "source": [
    "type(a)"
   ]
  },
  {
   "cell_type": "code",
   "execution_count": 6,
   "id": "68222eb1",
   "metadata": {},
   "outputs": [],
   "source": [
    "a = {\"ma\": 5, \"se\": 9, 69: \"str\"} # this is how we write a dict code"
   ]
  },
  {
   "cell_type": "code",
   "execution_count": 5,
   "id": "8ccce169",
   "metadata": {},
   "outputs": [
    {
     "data": {
      "text/plain": [
       "{'ma': 5, 'se': 9, 69: 'str'}"
      ]
     },
     "execution_count": 5,
     "metadata": {},
     "output_type": "execute_result"
    }
   ],
   "source": [
    "a"
   ]
  },
  {
   "cell_type": "code",
   "execution_count": 8,
   "id": "3c0786d9",
   "metadata": {},
   "outputs": [
    {
     "data": {
      "text/plain": [
       "3"
      ]
     },
     "execution_count": 8,
     "metadata": {},
     "output_type": "execute_result"
    }
   ],
   "source": [
    "len(a) # since here are 3 key values"
   ]
  },
  {
   "cell_type": "code",
   "execution_count": 12,
   "id": "76dc0008",
   "metadata": {},
   "outputs": [],
   "source": [
    "mx = a.copy() # this is a way we can make dicts"
   ]
  },
  {
   "cell_type": "code",
   "execution_count": 11,
   "id": "665a220a",
   "metadata": {},
   "outputs": [
    {
     "data": {
      "text/plain": [
       "{'ma': 5, 'se': 9, 69: 'str'}"
      ]
     },
     "execution_count": 11,
     "metadata": {},
     "output_type": "execute_result"
    }
   ],
   "source": [
    "mx # this is completely another dict"
   ]
  },
  {
   "cell_type": "code",
   "execution_count": 13,
   "id": "10467c68",
   "metadata": {},
   "outputs": [],
   "source": [
    "# another way to make dicts are"
   ]
  },
  {
   "cell_type": "code",
   "execution_count": 14,
   "id": "ac2d6db4",
   "metadata": {},
   "outputs": [],
   "source": [
    "maa = dict([('the', 4),('hi', 5),(9,8)])"
   ]
  },
  {
   "cell_type": "code",
   "execution_count": 15,
   "id": "28683162",
   "metadata": {},
   "outputs": [
    {
     "data": {
      "text/plain": [
       "{'the': 4, 'hi': 5, 9: 8}"
      ]
     },
     "execution_count": 15,
     "metadata": {},
     "output_type": "execute_result"
    }
   ],
   "source": [
    "maa"
   ]
  },
  {
   "cell_type": "code",
   "execution_count": 5,
   "id": "1c087653",
   "metadata": {},
   "outputs": [],
   "source": [
    "d = dict.fromkeys(['dc', 69, 420]) # this is the thrid way to make a dict"
   ]
  },
  {
   "cell_type": "code",
   "execution_count": 6,
   "id": "590e0f08",
   "metadata": {},
   "outputs": [
    {
     "data": {
      "text/plain": [
       "{'dc': None, 69: None, 420: None}"
      ]
     },
     "execution_count": 6,
     "metadata": {},
     "output_type": "execute_result"
    }
   ],
   "source": [
    "d"
   ]
  },
  {
   "cell_type": "code",
   "execution_count": null,
   "id": "b8995616",
   "metadata": {},
   "outputs": [],
   "source": []
  }
 ],
 "metadata": {
  "kernelspec": {
   "display_name": "Python 3 (ipykernel)",
   "language": "python",
   "name": "python3"
  },
  "language_info": {
   "codemirror_mode": {
    "name": "ipython",
    "version": 3
   },
   "file_extension": ".py",
   "mimetype": "text/x-python",
   "name": "python",
   "nbconvert_exporter": "python",
   "pygments_lexer": "ipython3",
   "version": "3.9.7"
  }
 },
 "nbformat": 4,
 "nbformat_minor": 5
}
