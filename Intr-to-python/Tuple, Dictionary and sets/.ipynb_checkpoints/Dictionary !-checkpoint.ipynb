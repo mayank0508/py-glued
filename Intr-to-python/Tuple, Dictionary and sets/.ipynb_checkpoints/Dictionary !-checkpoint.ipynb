{
 "cells": [
  {
   "cell_type": "markdown",
   "id": "11e458e2",
   "metadata": {},
   "source": [
    "## Dictionary  "
   ]
  },
  {
   "cell_type": "code",
   "execution_count": 2,
   "id": "6d8d6bf3",
   "metadata": {},
   "outputs": [],
   "source": [
    "a = {}"
   ]
  },
  {
   "cell_type": "code",
   "execution_count": 3,
   "id": "a5f85199",
   "metadata": {},
   "outputs": [
    {
     "data": {
      "text/plain": [
       "dict"
      ]
     },
     "execution_count": 3,
     "metadata": {},
     "output_type": "execute_result"
    }
   ],
   "source": [
    "type(a)"
   ]
  },
  {
   "cell_type": "code",
   "execution_count": 6,
   "id": "68222eb1",
   "metadata": {},
   "outputs": [],
   "source": [
    "a = {\"ma\": 5, \"se\": 9, 69: \"str\"} # this is how we write a dict code"
   ]
  },
  {
   "cell_type": "code",
   "execution_count": 5,
   "id": "8ccce169",
   "metadata": {},
   "outputs": [
    {
     "data": {
      "text/plain": [
       "{'ma': 5, 'se': 9, 69: 'str'}"
      ]
     },
     "execution_count": 5,
     "metadata": {},
     "output_type": "execute_result"
    }
   ],
   "source": [
    "a"
   ]
  },
  {
   "cell_type": "code",
   "execution_count": 8,
   "id": "3c0786d9",
   "metadata": {},
   "outputs": [
    {
     "data": {
      "text/plain": [
       "3"
      ]
     },
     "execution_count": 8,
     "metadata": {},
     "output_type": "execute_result"
    }
   ],
   "source": [
    "len(a) # since here are 3 key values"
   ]
  },
  {
   "cell_type": "code",
   "execution_count": 12,
   "id": "76dc0008",
   "metadata": {},
   "outputs": [],
   "source": [
    "mx = a.copy() # this is a way we can make dicts"
   ]
  },
  {
   "cell_type": "code",
   "execution_count": 11,
   "id": "665a220a",
   "metadata": {},
   "outputs": [
    {
     "data": {
      "text/plain": [
       "{'ma': 5, 'se': 9, 69: 'str'}"
      ]
     },
     "execution_count": 11,
     "metadata": {},
     "output_type": "execute_result"
    }
   ],
   "source": [
    "mx # this is completely another dict"
   ]
  },
  {
   "cell_type": "code",
   "execution_count": 13,
   "id": "10467c68",
   "metadata": {},
   "outputs": [],
   "source": [
    "# another way to make dicts are"
   ]
  },
  {
   "cell_type": "code",
   "execution_count": 14,
   "id": "ac2d6db4",
   "metadata": {},
   "outputs": [],
   "source": [
    "maa = dict([('the', 4),('hi', 5),(9,8)])"
   ]
  },
  {
   "cell_type": "code",
   "execution_count": 15,
   "id": "28683162",
   "metadata": {},
   "outputs": [
    {
     "data": {
      "text/plain": [
       "{'the': 4, 'hi': 5, 9: 8}"
      ]
     },
     "execution_count": 15,
     "metadata": {},
     "output_type": "execute_result"
    }
   ],
   "source": [
    "maa"
   ]
  },
  {
   "cell_type": "code",
   "execution_count": 5,
   "id": "1c087653",
   "metadata": {},
   "outputs": [],
   "source": [
    "d = dict.fromkeys(['dc', 69, 420]) # this is the thrid way to make a dict"
   ]
  },
  {
   "cell_type": "code",
   "execution_count": 6,
   "id": "14d1d40e",
   "metadata": {},
   "outputs": [
    {
     "data": {
      "text/plain": [
       "{'dc': None, 69: None, 420: None}"
      ]
     },
     "execution_count": 6,
     "metadata": {},
     "output_type": "execute_result"
    }
   ],
   "source": [
    "d"
   ]
  },
  {
   "cell_type": "markdown",
   "id": "97881010",
   "metadata": {},
   "source": [
    "## Accessing data in dict"
   ]
  },
  {
   "cell_type": "code",
   "execution_count": 8,
   "id": "e153de8b",
   "metadata": {},
   "outputs": [],
   "source": [
    "dic1 = {'a':10,'b':20,2:1,4:4,\"list\":[1,3], 'diet': {1,2}}"
   ]
  },
  {
   "cell_type": "code",
   "execution_count": 10,
   "id": "cb782df4",
   "metadata": {},
   "outputs": [
    {
     "data": {
      "text/plain": [
       "{'a': 10, 'b': 20, 2: 1, 4: 4, 'list': [1, 3], 'diet': {1, 2}}"
      ]
     },
     "execution_count": 10,
     "metadata": {},
     "output_type": "execute_result"
    }
   ],
   "source": [
    "dic1 # this has a dict inside a dict"
   ]
  },
  {
   "cell_type": "code",
   "execution_count": 11,
   "id": "ec48591a",
   "metadata": {},
   "outputs": [
    {
     "data": {
      "text/plain": [
       "1"
      ]
     },
     "execution_count": 11,
     "metadata": {},
     "output_type": "execute_result"
    }
   ],
   "source": [
    "dic1[2]"
   ]
  },
  {
   "cell_type": "code",
   "execution_count": 14,
   "id": "645a6d9d",
   "metadata": {},
   "outputs": [
    {
     "data": {
      "text/plain": [
       "{1, 2}"
      ]
     },
     "execution_count": 14,
     "metadata": {},
     "output_type": "execute_result"
    }
   ],
   "source": [
    "dic1['diet'] # this is one of the way to access data"
   ]
  },
  {
   "cell_type": "code",
   "execution_count": 15,
   "id": "901c754b",
   "metadata": {},
   "outputs": [
    {
     "data": {
      "text/plain": [
       "[1, 3]"
      ]
     },
     "execution_count": 15,
     "metadata": {},
     "output_type": "execute_result"
    }
   ],
   "source": [
    "dic1.get('list')"
   ]
  },
  {
   "cell_type": "code",
   "execution_count": 17,
   "id": "dc59ac10",
   "metadata": {},
   "outputs": [],
   "source": [
    "dic1.get(23) # if you use the dic1 then you wont get the error that you might get using the sqaure brackets"
   ]
  },
  {
   "cell_type": "code",
   "execution_count": 18,
   "id": "0f22f805",
   "metadata": {},
   "outputs": [
    {
     "data": {
      "text/plain": [
       "'no value in the key man'"
      ]
     },
     "execution_count": 18,
     "metadata": {},
     "output_type": "execute_result"
    }
   ],
   "source": [
    "dic1.get(12,'no value in the key man')"
   ]
  },
  {
   "cell_type": "code",
   "execution_count": 21,
   "id": "64a92876",
   "metadata": {},
   "outputs": [
    {
     "data": {
      "text/plain": [
       "dict_keys(['a', 'b', 2, 4, 'list', 'diet'])"
      ]
     },
     "execution_count": 21,
     "metadata": {},
     "output_type": "execute_result"
    }
   ],
   "source": [
    "dic1.keys() # by doing this you can get all the keys in the list"
   ]
  },
  {
   "cell_type": "code",
   "execution_count": 27,
   "id": "8693f1c1",
   "metadata": {},
   "outputs": [
    {
     "data": {
      "text/plain": [
       "dict_values([10, 20, 1, 4, [1, 3], {1, 2}])"
      ]
     },
     "execution_count": 27,
     "metadata": {},
     "output_type": "execute_result"
    }
   ],
   "source": [
    "dic1.values() # this will give you the values of the keys "
   ]
  },
  {
   "cell_type": "code",
   "execution_count": 26,
   "id": "0f1b7103",
   "metadata": {},
   "outputs": [
    {
     "data": {
      "text/plain": [
       "dict_items([('a', 10), ('b', 20), (2, 1), (4, 4), ('list', [1, 3]), ('diet', {1, 2})])"
      ]
     },
     "execution_count": 26,
     "metadata": {},
     "output_type": "execute_result"
    }
   ],
   "source": [
    "dic1.items() # this will give every item present in the dict"
   ]
  },
  {
   "cell_type": "code",
   "execution_count": 41,
   "id": "ae73d4b0",
   "metadata": {},
   "outputs": [
    {
     "name": "stdout",
     "output_type": "stream",
     "text": [
      "a\n",
      "b\n",
      "2\n",
      "4\n",
      "list\n",
      "diet\n"
     ]
    }
   ],
   "source": [
    "for i in dic1: # here we are only getting the keys\n",
    "    print(i)"
   ]
  },
  {
   "cell_type": "code",
   "execution_count": 43,
   "id": "8aaaa2b8",
   "metadata": {},
   "outputs": [
    {
     "name": "stdout",
     "output_type": "stream",
     "text": [
      "10\n",
      "20\n",
      "1\n",
      "4\n",
      "[1, 3]\n",
      "{1, 2}\n"
     ]
    }
   ],
   "source": [
    "for i in dic1: # here we are only getting the values\n",
    "    print(dic1[i])"
   ]
  },
  {
   "cell_type": "code",
   "execution_count": 42,
   "id": "5023fb3a",
   "metadata": {},
   "outputs": [
    {
     "name": "stdout",
     "output_type": "stream",
     "text": [
      "a = 10\n",
      "b = 20\n",
      "2 = 1\n",
      "4 = 4\n",
      "list = [1, 3]\n",
      "diet = {1, 2}\n"
     ]
    }
   ],
   "source": [
    "for i in dic1:\n",
    "    print(i,'=', dic1[i]) # here we are getting the values of the dict using the for loops"
   ]
  },
  {
   "cell_type": "markdown",
   "id": "8b698be2",
   "metadata": {},
   "source": [
    "### Checking that the key exits in a dict or not !!!"
   ]
  },
  {
   "cell_type": "code",
   "execution_count": 46,
   "id": "0140ff88",
   "metadata": {},
   "outputs": [
    {
     "data": {
      "text/plain": [
       "False"
      ]
     },
     "execution_count": 46,
     "metadata": {},
     "output_type": "execute_result"
    }
   ],
   "source": [
    "'hi' in dic1 "
   ]
  },
  {
   "cell_type": "code",
   "execution_count": 47,
   "id": "53806c8f",
   "metadata": {},
   "outputs": [
    {
     "data": {
      "text/plain": [
       "False"
      ]
     },
     "execution_count": 47,
     "metadata": {},
     "output_type": "execute_result"
    }
   ],
   "source": [
    "1 in dic1"
   ]
  },
  {
   "cell_type": "code",
   "execution_count": 49,
   "id": "01d560b7",
   "metadata": {},
   "outputs": [
    {
     "data": {
      "text/plain": [
       "True"
      ]
     },
     "execution_count": 49,
     "metadata": {},
     "output_type": "execute_result"
    }
   ],
   "source": [
    "'a' in dic1"
   ]
  },
  {
   "cell_type": "markdown",
   "id": "886a974a",
   "metadata": {},
   "source": [
    "# Adding or Removing data form Dict"
   ]
  },
  {
   "cell_type": "code",
   "execution_count": 77,
   "id": "cef4f8d4",
   "metadata": {},
   "outputs": [
    {
     "data": {
      "text/plain": [
       "{'a': 12,\n",
       " 'b': 20,\n",
       " 2: 11,\n",
       " 4: 4,\n",
       " 'list': [1, 3],\n",
       " 'diet': {1, 2},\n",
       " 'tuple': ('hi', 'i', 'have', 'added', 'a', 'new', 'values'),\n",
       " 'data': 122,\n",
       " 'toys': 54}"
      ]
     },
     "execution_count": 77,
     "metadata": {},
     "output_type": "execute_result"
    }
   ],
   "source": [
    "dic1"
   ]
  },
  {
   "cell_type": "code",
   "execution_count": 78,
   "id": "ed18eb61",
   "metadata": {},
   "outputs": [],
   "source": [
    "dic1['tuple'] = ('hi', 'i', 'have', 'added', 'a','new', 'values')"
   ]
  },
  {
   "cell_type": "code",
   "execution_count": 79,
   "id": "6a58903e",
   "metadata": {},
   "outputs": [
    {
     "data": {
      "text/plain": [
       "{'a': 12,\n",
       " 'b': 20,\n",
       " 2: 11,\n",
       " 4: 4,\n",
       " 'list': [1, 3],\n",
       " 'diet': {1, 2},\n",
       " 'tuple': ('hi', 'i', 'have', 'added', 'a', 'new', 'values'),\n",
       " 'data': 122,\n",
       " 'toys': 54}"
      ]
     },
     "execution_count": 79,
     "metadata": {},
     "output_type": "execute_result"
    }
   ],
   "source": [
    "dic1 # here we can see that the new value named tuple has been added here"
   ]
  },
  {
   "cell_type": "code",
   "execution_count": 102,
   "id": "9a4a901f",
   "metadata": {},
   "outputs": [],
   "source": [
    "dic1['a'] = 12 # here we are updating the value"
   ]
  },
  {
   "cell_type": "code",
   "execution_count": 103,
   "id": "bfc06166",
   "metadata": {},
   "outputs": [
    {
     "data": {
      "text/plain": [
       "{'a': 12,\n",
       " 'b': 20,\n",
       " 2: 11,\n",
       " 4: 4,\n",
       " 'list': [1, 3],\n",
       " 'diet': {1, 2},\n",
       " 'tuple': ('hi', 'i', 'have', 'added', 'a', 'new', 'values'),\n",
       " 'data': 122,\n",
       " 'toys': 54}"
      ]
     },
     "execution_count": 103,
     "metadata": {},
     "output_type": "execute_result"
    }
   ],
   "source": [
    "dic1 # as you can see that the value of a is updated in this line"
   ]
  },
  {
   "cell_type": "code",
   "execution_count": 104,
   "id": "fb319e73",
   "metadata": {},
   "outputs": [],
   "source": [
    "ab = {2:11, 'data':122, 'toys': 54}"
   ]
  },
  {
   "cell_type": "markdown",
   "id": "eaa497e0",
   "metadata": {},
   "source": [
    "### Update function"
   ]
  },
  {
   "cell_type": "code",
   "execution_count": 105,
   "id": "925d7e58",
   "metadata": {},
   "outputs": [],
   "source": [
    "dic1.update(ab)"
   ]
  },
  {
   "cell_type": "code",
   "execution_count": 106,
   "id": "1804b2f2",
   "metadata": {},
   "outputs": [
    {
     "data": {
      "text/plain": [
       "{'a': 12,\n",
       " 'b': 20,\n",
       " 2: 11,\n",
       " 4: 4,\n",
       " 'list': [1, 3],\n",
       " 'diet': {1, 2},\n",
       " 'tuple': ('hi', 'i', 'have', 'added', 'a', 'new', 'values'),\n",
       " 'data': 122,\n",
       " 'toys': 54}"
      ]
     },
     "execution_count": 106,
     "metadata": {},
     "output_type": "execute_result"
    }
   ],
   "source": [
    "dic1 # here we can see that the data in the dic1 has got updates"
   ]
  },
  {
   "cell_type": "code",
   "execution_count": 107,
   "id": "fcf9f125",
   "metadata": {},
   "outputs": [],
   "source": [
    "ab.update(dic1)"
   ]
  },
  {
   "cell_type": "code",
   "execution_count": 108,
   "id": "d2cfd16a",
   "metadata": {},
   "outputs": [
    {
     "data": {
      "text/plain": [
       "{2: 11,\n",
       " 'data': 122,\n",
       " 'toys': 54,\n",
       " 'a': 12,\n",
       " 'b': 20,\n",
       " 4: 4,\n",
       " 'list': [1, 3],\n",
       " 'diet': {1, 2},\n",
       " 'tuple': ('hi', 'i', 'have', 'added', 'a', 'new', 'values')}"
      ]
     },
     "execution_count": 108,
     "metadata": {},
     "output_type": "execute_result"
    }
   ],
   "source": [
    "ab # here we can see that the data in the ab has got updates"
   ]
  },
  {
   "cell_type": "markdown",
   "id": "a5586fe4",
   "metadata": {},
   "source": [
    "### pop"
   ]
  },
  {
   "cell_type": "code",
   "execution_count": 109,
   "id": "03a8fa16",
   "metadata": {},
   "outputs": [
    {
     "data": {
      "text/plain": [
       "{1, 2}"
      ]
     },
     "execution_count": 109,
     "metadata": {},
     "output_type": "execute_result"
    }
   ],
   "source": [
    "ab.pop('diet')"
   ]
  },
  {
   "cell_type": "code",
   "execution_count": 110,
   "id": "292ab801",
   "metadata": {},
   "outputs": [
    {
     "data": {
      "text/plain": [
       "{2: 11,\n",
       " 'data': 122,\n",
       " 'toys': 54,\n",
       " 'a': 12,\n",
       " 'b': 20,\n",
       " 4: 4,\n",
       " 'list': [1, 3],\n",
       " 'tuple': ('hi', 'i', 'have', 'added', 'a', 'new', 'values')}"
      ]
     },
     "execution_count": 110,
     "metadata": {},
     "output_type": "execute_result"
    }
   ],
   "source": [
    "ab # here we can see that there is no diet in the dict ab"
   ]
  },
  {
   "cell_type": "markdown",
   "id": "1fa00305",
   "metadata": {},
   "source": [
    "### del"
   ]
  },
  {
   "cell_type": "code",
   "execution_count": 111,
   "id": "b8f58e6d",
   "metadata": {},
   "outputs": [],
   "source": [
    "del ab[2]"
   ]
  },
  {
   "cell_type": "code",
   "execution_count": 112,
   "id": "a21bef5e",
   "metadata": {},
   "outputs": [
    {
     "data": {
      "text/plain": [
       "{'data': 122,\n",
       " 'toys': 54,\n",
       " 'a': 12,\n",
       " 'b': 20,\n",
       " 4: 4,\n",
       " 'list': [1, 3],\n",
       " 'tuple': ('hi', 'i', 'have', 'added', 'a', 'new', 'values')}"
      ]
     },
     "execution_count": 112,
     "metadata": {},
     "output_type": "execute_result"
    }
   ],
   "source": [
    "ab # here we dont have any kind of 2"
   ]
  },
  {
   "cell_type": "markdown",
   "id": "ccf42a60",
   "metadata": {},
   "source": [
    "### Clear"
   ]
  },
  {
   "cell_type": "code",
   "execution_count": 115,
   "id": "bcb63702",
   "metadata": {},
   "outputs": [],
   "source": [
    "ab.clear()"
   ]
  },
  {
   "cell_type": "code",
   "execution_count": 116,
   "id": "af085d22",
   "metadata": {},
   "outputs": [
    {
     "data": {
      "text/plain": [
       "{}"
      ]
     },
     "execution_count": 116,
     "metadata": {},
     "output_type": "execute_result"
    }
   ],
   "source": [
    "ab # here we are clearing the dic"
   ]
  },
  {
   "cell_type": "code",
   "execution_count": 117,
   "id": "4f7eba35",
   "metadata": {},
   "outputs": [],
   "source": [
    "del ab # and here we are deleting the whole ab"
   ]
  },
  {
   "cell_type": "code",
   "execution_count": 118,
   "id": "f4889ac5",
   "metadata": {},
   "outputs": [
    {
     "ename": "NameError",
     "evalue": "name 'ab' is not defined",
     "output_type": "error",
     "traceback": [
      "\u001b[1;31m---------------------------------------------------------------------------\u001b[0m",
      "\u001b[1;31mNameError\u001b[0m                                 Traceback (most recent call last)",
      "\u001b[1;32m~\\AppData\\Local\\Temp/ipykernel_29760/2805137849.py\u001b[0m in \u001b[0;36m<module>\u001b[1;34m\u001b[0m\n\u001b[1;32m----> 1\u001b[1;33m \u001b[0mab\u001b[0m\u001b[1;33m\u001b[0m\u001b[1;33m\u001b[0m\u001b[0m\n\u001b[0m",
      "\u001b[1;31mNameError\u001b[0m: name 'ab' is not defined"
     ]
    }
   ],
   "source": [
    "ab"
   ]
  }
 ],
 "metadata": {
  "kernelspec": {
   "display_name": "Python 3 (ipykernel)",
   "language": "python",
   "name": "python3"
  },
  "language_info": {
   "codemirror_mode": {
    "name": "ipython",
    "version": 3
   },
   "file_extension": ".py",
   "mimetype": "text/x-python",
   "name": "python",
   "nbconvert_exporter": "python",
   "pygments_lexer": "ipython3",
   "version": "3.9.7"
  }
 },
 "nbformat": 4,
 "nbformat_minor": 5
}
