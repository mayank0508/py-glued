{
 "cells": [
  {
   "cell_type": "markdown",
   "id": "11e458e2",
   "metadata": {},
   "source": [
    "## Dictionary  "
   ]
  },
  {
   "cell_type": "code",
   "execution_count": 2,
   "id": "6d8d6bf3",
   "metadata": {},
   "outputs": [],
   "source": [
    "a = {}"
   ]
  },
  {
   "cell_type": "code",
   "execution_count": 3,
   "id": "a5f85199",
   "metadata": {},
   "outputs": [
    {
     "data": {
      "text/plain": [
       "dict"
      ]
     },
     "execution_count": 3,
     "metadata": {},
     "output_type": "execute_result"
    }
   ],
   "source": [
    "type(a)"
   ]
  },
  {
   "cell_type": "code",
   "execution_count": 6,
   "id": "68222eb1",
   "metadata": {},
   "outputs": [],
   "source": [
    "a = {\"ma\": 5, \"se\": 9, 69: \"str\"} # this is how we write a dict code"
   ]
  },
  {
   "cell_type": "code",
   "execution_count": 5,
   "id": "8ccce169",
   "metadata": {},
   "outputs": [
    {
     "data": {
      "text/plain": [
       "{'ma': 5, 'se': 9, 69: 'str'}"
      ]
     },
     "execution_count": 5,
     "metadata": {},
     "output_type": "execute_result"
    }
   ],
   "source": [
    "a"
   ]
  },
  {
   "cell_type": "code",
   "execution_count": 8,
   "id": "3c0786d9",
   "metadata": {},
   "outputs": [
    {
     "data": {
      "text/plain": [
       "3"
      ]
     },
     "execution_count": 8,
     "metadata": {},
     "output_type": "execute_result"
    }
   ],
   "source": [
    "len(a) # since here are 3 key values"
   ]
  },
  {
   "cell_type": "code",
   "execution_count": 12,
   "id": "76dc0008",
   "metadata": {},
   "outputs": [],
   "source": [
    "mx = a.copy() # this is a way we can make dicts"
   ]
  },
  {
   "cell_type": "code",
   "execution_count": 11,
   "id": "665a220a",
   "metadata": {},
   "outputs": [
    {
     "data": {
      "text/plain": [
       "{'ma': 5, 'se': 9, 69: 'str'}"
      ]
     },
     "execution_count": 11,
     "metadata": {},
     "output_type": "execute_result"
    }
   ],
   "source": [
    "mx # this is completely another dict"
   ]
  },
  {
   "cell_type": "code",
   "execution_count": 13,
   "id": "10467c68",
   "metadata": {},
   "outputs": [],
   "source": [
    "# another way to make dicts are"
   ]
  },
  {
   "cell_type": "code",
   "execution_count": 14,
   "id": "ac2d6db4",
   "metadata": {},
   "outputs": [],
   "source": [
    "maa = dict([('the', 4),('hi', 5),(9,8)])"
   ]
  },
  {
   "cell_type": "code",
   "execution_count": 15,
   "id": "28683162",
   "metadata": {},
   "outputs": [
    {
     "data": {
      "text/plain": [
       "{'the': 4, 'hi': 5, 9: 8}"
      ]
     },
     "execution_count": 15,
     "metadata": {},
     "output_type": "execute_result"
    }
   ],
   "source": [
    "maa"
   ]
  },
  {
   "cell_type": "code",
   "execution_count": 5,
   "id": "1c087653",
   "metadata": {},
   "outputs": [],
   "source": [
    "d = dict.fromkeys(['dc', 69, 420]) # this is the thrid way to make a dict"
   ]
  },
  {
   "cell_type": "code",
   "execution_count": 6,
   "id": "8e1638c0",
   "metadata": {},
   "outputs": [
    {
     "data": {
      "text/plain": [
       "{'dc': None, 69: None, 420: None}"
      ]
     },
     "execution_count": 6,
     "metadata": {},
     "output_type": "execute_result"
    }
   ],
   "source": [
    "d"
   ]
  },
  {
   "cell_type": "markdown",
   "id": "7e4e02dc",
   "metadata": {},
   "source": [
    "## Accessing data in dict"
   ]
  },
  {
   "cell_type": "code",
   "execution_count": 8,
   "id": "6dfd5cc3",
   "metadata": {},
   "outputs": [],
   "source": [
    "dic1 = {'a':10,'b':20,2:1,4:4,\"list\":[1,3], 'diet': {1,2}}"
   ]
  },
  {
   "cell_type": "code",
   "execution_count": 10,
   "id": "bade5b9f",
   "metadata": {},
   "outputs": [
    {
     "data": {
      "text/plain": [
       "{'a': 10, 'b': 20, 2: 1, 4: 4, 'list': [1, 3], 'diet': {1, 2}}"
      ]
     },
     "execution_count": 10,
     "metadata": {},
     "output_type": "execute_result"
    }
   ],
   "source": [
    "dic1 # this has a dict inside a dict"
   ]
  },
  {
   "cell_type": "code",
   "execution_count": 11,
   "id": "ec1a95b6",
   "metadata": {},
   "outputs": [
    {
     "data": {
      "text/plain": [
       "1"
      ]
     },
     "execution_count": 11,
     "metadata": {},
     "output_type": "execute_result"
    }
   ],
   "source": [
    "dic1[2]"
   ]
  },
  {
   "cell_type": "code",
   "execution_count": 14,
   "id": "8a20bf85",
   "metadata": {},
   "outputs": [
    {
     "data": {
      "text/plain": [
       "{1, 2}"
      ]
     },
     "execution_count": 14,
     "metadata": {},
     "output_type": "execute_result"
    }
   ],
   "source": [
    "dic1['diet'] # this is one of the way to access data"
   ]
  },
  {
   "cell_type": "code",
   "execution_count": 15,
   "id": "dd06f6a1",
   "metadata": {},
   "outputs": [
    {
     "data": {
      "text/plain": [
       "[1, 3]"
      ]
     },
     "execution_count": 15,
     "metadata": {},
     "output_type": "execute_result"
    }
   ],
   "source": [
    "dic1.get('list')"
   ]
  },
  {
   "cell_type": "code",
   "execution_count": 17,
   "id": "8251ac10",
   "metadata": {},
   "outputs": [],
   "source": [
    "dic1.get(23) # if you use the dic1 then you wont get the error that you might get using the sqaure brackets"
   ]
  },
  {
   "cell_type": "code",
   "execution_count": null,
   "id": "f1821973",
   "metadata": {},
   "outputs": [],
   "source": []
  }
 ],
 "metadata": {
  "kernelspec": {
   "display_name": "Python 3 (ipykernel)",
   "language": "python",
   "name": "python3"
  },
  "language_info": {
   "codemirror_mode": {
    "name": "ipython",
    "version": 3
   },
   "file_extension": ".py",
   "mimetype": "text/x-python",
   "name": "python",
   "nbconvert_exporter": "python",
   "pygments_lexer": "ipython3",
   "version": "3.9.7"
  }
 },
 "nbformat": 4,
 "nbformat_minor": 5
}
