{
 "cells": [
  {
   "cell_type": "markdown",
   "id": "11e458e2",
   "metadata": {},
   "source": [
    "## Dictionary  "
   ]
  },
  {
   "cell_type": "code",
   "execution_count": 2,
   "id": "6d8d6bf3",
   "metadata": {},
   "outputs": [],
   "source": [
    "a = {}"
   ]
  },
  {
   "cell_type": "code",
   "execution_count": 3,
   "id": "a5f85199",
   "metadata": {},
   "outputs": [
    {
     "data": {
      "text/plain": [
       "dict"
      ]
     },
     "execution_count": 3,
     "metadata": {},
     "output_type": "execute_result"
    }
   ],
   "source": [
    "type(a)"
   ]
  },
  {
   "cell_type": "code",
   "execution_count": 6,
   "id": "68222eb1",
   "metadata": {},
   "outputs": [],
   "source": [
    "a = {\"ma\": 5, \"se\": 9, 69: \"str\"} # this is how we write a dict code"
   ]
  },
  {
   "cell_type": "code",
   "execution_count": 5,
   "id": "8ccce169",
   "metadata": {},
   "outputs": [
    {
     "data": {
      "text/plain": [
       "{'ma': 5, 'se': 9, 69: 'str'}"
      ]
     },
     "execution_count": 5,
     "metadata": {},
     "output_type": "execute_result"
    }
   ],
   "source": [
    "a"
   ]
  },
  {
   "cell_type": "code",
   "execution_count": 8,
   "id": "3c0786d9",
   "metadata": {},
   "outputs": [
    {
     "data": {
      "text/plain": [
       "3"
      ]
     },
     "execution_count": 8,
     "metadata": {},
     "output_type": "execute_result"
    }
   ],
   "source": [
    "len(a) # since here are 3 key values"
   ]
  },
  {
   "cell_type": "code",
   "execution_count": 12,
   "id": "76dc0008",
   "metadata": {},
   "outputs": [],
   "source": [
    "mx = a.copy() # this is a way we can make dicts"
   ]
  },
  {
   "cell_type": "code",
   "execution_count": 11,
   "id": "665a220a",
   "metadata": {},
   "outputs": [
    {
     "data": {
      "text/plain": [
       "{'ma': 5, 'se': 9, 69: 'str'}"
      ]
     },
     "execution_count": 11,
     "metadata": {},
     "output_type": "execute_result"
    }
   ],
   "source": [
    "mx # this is completely another dict"
   ]
  },
  {
   "cell_type": "code",
   "execution_count": 13,
   "id": "10467c68",
   "metadata": {},
   "outputs": [],
   "source": [
    "# another way to make dicts are"
   ]
  },
  {
   "cell_type": "code",
   "execution_count": 14,
   "id": "ac2d6db4",
   "metadata": {},
   "outputs": [],
   "source": [
    "maa = dict([('the', 4),('hi', 5),(9,8)])"
   ]
  },
  {
   "cell_type": "code",
   "execution_count": 15,
   "id": "28683162",
   "metadata": {},
   "outputs": [
    {
     "data": {
      "text/plain": [
       "{'the': 4, 'hi': 5, 9: 8}"
      ]
     },
     "execution_count": 15,
     "metadata": {},
     "output_type": "execute_result"
    }
   ],
   "source": [
    "maa"
   ]
  },
  {
   "cell_type": "code",
   "execution_count": 5,
   "id": "1c087653",
   "metadata": {},
   "outputs": [],
   "source": [
    "d = dict.fromkeys(['dc', 69, 420]) # this is the thrid way to make a dict"
   ]
  },
  {
   "cell_type": "code",
   "execution_count": 6,
   "id": "411627c0",
   "metadata": {},
   "outputs": [
    {
     "data": {
      "text/plain": [
       "{'dc': None, 69: None, 420: None}"
      ]
     },
     "execution_count": 6,
     "metadata": {},
     "output_type": "execute_result"
    }
   ],
   "source": [
    "d"
   ]
  },
  {
   "cell_type": "markdown",
   "id": "cf7ff148",
   "metadata": {},
   "source": [
    "## Accessing data in dict"
   ]
  },
  {
   "cell_type": "code",
   "execution_count": 8,
   "id": "a0f2fa0b",
   "metadata": {},
   "outputs": [],
   "source": [
    "dic1 = {'a':10,'b':20,2:1,4:4,\"list\":[1,3], 'diet': {1,2}}"
   ]
  },
  {
   "cell_type": "code",
   "execution_count": 10,
   "id": "c226b72a",
   "metadata": {},
   "outputs": [
    {
     "data": {
      "text/plain": [
       "{'a': 10, 'b': 20, 2: 1, 4: 4, 'list': [1, 3], 'diet': {1, 2}}"
      ]
     },
     "execution_count": 10,
     "metadata": {},
     "output_type": "execute_result"
    }
   ],
   "source": [
    "dic1 # this has a dict inside a dict"
   ]
  },
  {
   "cell_type": "code",
   "execution_count": 11,
   "id": "2361aa72",
   "metadata": {},
   "outputs": [
    {
     "data": {
      "text/plain": [
       "1"
      ]
     },
     "execution_count": 11,
     "metadata": {},
     "output_type": "execute_result"
    }
   ],
   "source": [
    "dic1[2]"
   ]
  },
  {
   "cell_type": "code",
   "execution_count": 14,
   "id": "e945ec08",
   "metadata": {},
   "outputs": [
    {
     "data": {
      "text/plain": [
       "{1, 2}"
      ]
     },
     "execution_count": 14,
     "metadata": {},
     "output_type": "execute_result"
    }
   ],
   "source": [
    "dic1['diet'] # this is one of the way to access data"
   ]
  },
  {
   "cell_type": "code",
   "execution_count": 15,
   "id": "01e7fc9d",
   "metadata": {},
   "outputs": [
    {
     "data": {
      "text/plain": [
       "[1, 3]"
      ]
     },
     "execution_count": 15,
     "metadata": {},
     "output_type": "execute_result"
    }
   ],
   "source": [
    "dic1.get('list')"
   ]
  },
  {
   "cell_type": "code",
   "execution_count": 17,
   "id": "4cf221a2",
   "metadata": {},
   "outputs": [],
   "source": [
    "dic1.get(23) # if you use the dic1 then you wont get the error that you might get using the sqaure brackets"
   ]
  },
  {
   "cell_type": "code",
   "execution_count": 18,
   "id": "cae419cd",
   "metadata": {},
   "outputs": [
    {
     "data": {
      "text/plain": [
       "'no value in the key man'"
      ]
     },
     "execution_count": 18,
     "metadata": {},
     "output_type": "execute_result"
    }
   ],
   "source": [
    "dic1.get(12,'no value in the key man')"
   ]
  },
  {
   "cell_type": "code",
   "execution_count": 21,
   "id": "e9f94e48",
   "metadata": {},
   "outputs": [
    {
     "data": {
      "text/plain": [
       "dict_keys(['a', 'b', 2, 4, 'list', 'diet'])"
      ]
     },
     "execution_count": 21,
     "metadata": {},
     "output_type": "execute_result"
    }
   ],
   "source": [
    "dic1.keys() # by doing this you can get all the keys in the list"
   ]
  },
  {
   "cell_type": "code",
   "execution_count": 27,
   "id": "ed308b9c",
   "metadata": {},
   "outputs": [
    {
     "data": {
      "text/plain": [
       "dict_values([10, 20, 1, 4, [1, 3], {1, 2}])"
      ]
     },
     "execution_count": 27,
     "metadata": {},
     "output_type": "execute_result"
    }
   ],
   "source": [
    "dic1.values() # this will give you the values of the keys "
   ]
  },
  {
   "cell_type": "code",
   "execution_count": 26,
   "id": "4471242d",
   "metadata": {},
   "outputs": [
    {
     "data": {
      "text/plain": [
       "dict_items([('a', 10), ('b', 20), (2, 1), (4, 4), ('list', [1, 3]), ('diet', {1, 2})])"
      ]
     },
     "execution_count": 26,
     "metadata": {},
     "output_type": "execute_result"
    }
   ],
   "source": [
    "dic1.items() # this will give every item present in the dict"
   ]
  },
  {
   "cell_type": "code",
   "execution_count": 41,
   "id": "bea1e7d0",
   "metadata": {},
   "outputs": [
    {
     "name": "stdout",
     "output_type": "stream",
     "text": [
      "a\n",
      "b\n",
      "2\n",
      "4\n",
      "list\n",
      "diet\n"
     ]
    }
   ],
   "source": [
    "for i in dic1: # here we are only getting the keys\n",
    "    print(i)"
   ]
  },
  {
   "cell_type": "code",
   "execution_count": 43,
   "id": "cb6ceb47",
   "metadata": {},
   "outputs": [
    {
     "name": "stdout",
     "output_type": "stream",
     "text": [
      "10\n",
      "20\n",
      "1\n",
      "4\n",
      "[1, 3]\n",
      "{1, 2}\n"
     ]
    }
   ],
   "source": [
    "for i in dic1: # here we are only getting the values\n",
    "    print(dic1[i])"
   ]
  },
  {
   "cell_type": "code",
   "execution_count": 42,
   "id": "e5a01aae",
   "metadata": {},
   "outputs": [
    {
     "name": "stdout",
     "output_type": "stream",
     "text": [
      "a = 10\n",
      "b = 20\n",
      "2 = 1\n",
      "4 = 4\n",
      "list = [1, 3]\n",
      "diet = {1, 2}\n"
     ]
    }
   ],
   "source": [
    "for i in dic1:\n",
    "    print(i,'=', dic1[i]) # here we are getting the values of the dict using the for loops"
   ]
  },
  {
   "cell_type": "code",
   "execution_count": null,
   "id": "3720b378",
   "metadata": {},
   "outputs": [],
   "source": []
  }
 ],
 "metadata": {
  "kernelspec": {
   "display_name": "Python 3 (ipykernel)",
   "language": "python",
   "name": "python3"
  },
  "language_info": {
   "codemirror_mode": {
    "name": "ipython",
    "version": 3
   },
   "file_extension": ".py",
   "mimetype": "text/x-python",
   "name": "python",
   "nbconvert_exporter": "python",
   "pygments_lexer": "ipython3",
   "version": "3.9.7"
  }
 },
 "nbformat": 4,
 "nbformat_minor": 5
}
