{
 "cells": [
  {
   "cell_type": "markdown",
   "id": "95aa8d80",
   "metadata": {},
   "source": [
    "### Functions in tuples"
   ]
  },
  {
   "cell_type": "code",
   "execution_count": 2,
   "id": "7e932a01",
   "metadata": {},
   "outputs": [],
   "source": [
    "a = (1,2,3)\n",
    "b = 4,5,6"
   ]
  },
  {
   "cell_type": "code",
   "execution_count": 11,
   "id": "01ef1a18",
   "metadata": {},
   "outputs": [
    {
     "name": "stdout",
     "output_type": "stream",
     "text": [
      "1 2 3 \n"
     ]
    }
   ],
   "source": [
    "# for loops\n",
    "for i in a:\n",
    "    print(i, end=' ')\n",
    "print()"
   ]
  },
  {
   "cell_type": "markdown",
   "id": "5edfc0aa",
   "metadata": {},
   "source": [
    "## Memebership in tuple"
   ]
  },
  {
   "cell_type": "code",
   "execution_count": 13,
   "id": "35d504f8",
   "metadata": {},
   "outputs": [
    {
     "data": {
      "text/plain": [
       "True"
      ]
     },
     "execution_count": 13,
     "metadata": {},
     "output_type": "execute_result"
    }
   ],
   "source": [
    "2 in a # since we can find 2 in a thus it is possible"
   ]
  },
  {
   "cell_type": "code",
   "execution_count": 15,
   "id": "aff58259",
   "metadata": {},
   "outputs": [
    {
     "data": {
      "text/plain": [
       "False"
      ]
     },
     "execution_count": 15,
     "metadata": {},
     "output_type": "execute_result"
    }
   ],
   "source": [
    "2 in b "
   ]
  },
  {
   "cell_type": "code",
   "execution_count": null,
   "id": "e2c24c8f",
   "metadata": {},
   "outputs": [],
   "source": []
  }
 ],
 "metadata": {
  "kernelspec": {
   "display_name": "Python 3 (ipykernel)",
   "language": "python",
   "name": "python3"
  },
  "language_info": {
   "codemirror_mode": {
    "name": "ipython",
    "version": 3
   },
   "file_extension": ".py",
   "mimetype": "text/x-python",
   "name": "python",
   "nbconvert_exporter": "python",
   "pygments_lexer": "ipython3",
   "version": "3.9.7"
  }
 },
 "nbformat": 4,
 "nbformat_minor": 5
}
