{
 "cells": [
  {
   "cell_type": "markdown",
   "id": "c22b2048",
   "metadata": {},
   "source": [
    "### Functions in tuples"
   ]
  },
  {
   "cell_type": "code",
   "execution_count": 2,
   "id": "018f2992",
   "metadata": {},
   "outputs": [],
   "source": [
    "a = (1,2,3)\n",
    "b = 4,5,6"
   ]
  },
  {
   "cell_type": "code",
   "execution_count": 11,
   "id": "14f97ec1",
   "metadata": {},
   "outputs": [
    {
     "name": "stdout",
     "output_type": "stream",
     "text": [
      "1 2 3 \n"
     ]
    }
   ],
   "source": [
    "# for loops\n",
    "for i in a:\n",
    "    print(i, end=' ')\n",
    "print()"
   ]
  },
  {
   "cell_type": "markdown",
   "id": "15de179d",
   "metadata": {},
   "source": [
    "## Memebership in tuple"
   ]
  },
  {
   "cell_type": "code",
   "execution_count": 13,
   "id": "f5c89ed6",
   "metadata": {},
   "outputs": [
    {
     "data": {
      "text/plain": [
       "True"
      ]
     },
     "execution_count": 13,
     "metadata": {},
     "output_type": "execute_result"
    }
   ],
   "source": [
    "2 in a # since we can find 2 in a thus it is possible"
   ]
  },
  {
   "cell_type": "code",
   "execution_count": 16,
   "id": "3b28a5c0",
   "metadata": {},
   "outputs": [
    {
     "data": {
      "text/plain": [
       "False"
      ]
     },
     "execution_count": 16,
     "metadata": {},
     "output_type": "execute_result"
    }
   ],
   "source": [
    "2 in b # since here we dont have 2 in b thus its not avaliable"
   ]
  },
  {
   "cell_type": "markdown",
   "id": "16fc342e",
   "metadata": {},
   "source": [
    "### Length of tuple"
   ]
  },
  {
   "cell_type": "code",
   "execution_count": 19,
   "id": "0c5450f1",
   "metadata": {},
   "outputs": [
    {
     "data": {
      "text/plain": [
       "3"
      ]
     },
     "execution_count": 19,
     "metadata": {},
     "output_type": "execute_result"
    }
   ],
   "source": [
    "len(a)\n"
   ]
  },
  {
   "cell_type": "code",
   "execution_count": 21,
   "id": "0eec5a42",
   "metadata": {},
   "outputs": [],
   "source": [
    "### Concatination of tuples"
   ]
  },
  {
   "cell_type": "code",
   "execution_count": 22,
   "id": "47d5448e",
   "metadata": {},
   "outputs": [],
   "source": [
    "c = a + b"
   ]
  },
  {
   "cell_type": "code",
   "execution_count": 24,
   "id": "e501b77d",
   "metadata": {},
   "outputs": [
    {
     "data": {
      "text/plain": [
       "(1, 2, 3, 4, 5, 6)"
      ]
     },
     "execution_count": 24,
     "metadata": {},
     "output_type": "execute_result"
    }
   ],
   "source": [
    "c ## here it has added all the elements in a and b and made this a concatination"
   ]
  },
  {
   "cell_type": "code",
   "execution_count": 25,
   "id": "bc09eab5",
   "metadata": {},
   "outputs": [],
   "source": [
    "s = (a,b)"
   ]
  },
  {
   "cell_type": "code",
   "execution_count": 26,
   "id": "131da507",
   "metadata": {},
   "outputs": [
    {
     "data": {
      "text/plain": [
       "((1, 2, 3), (4, 5, 6))"
      ]
     },
     "execution_count": 26,
     "metadata": {},
     "output_type": "execute_result"
    }
   ],
   "source": [
    "s ## here its a bit diffrent be"
   ]
  },
  {
   "cell_type": "code",
   "execution_count": null,
   "id": "2db5ac02",
   "metadata": {},
   "outputs": [],
   "source": []
  }
 ],
 "metadata": {
  "kernelspec": {
   "display_name": "Python 3 (ipykernel)",
   "language": "python",
   "name": "python3"
  },
  "language_info": {
   "codemirror_mode": {
    "name": "ipython",
    "version": 3
   },
   "file_extension": ".py",
   "mimetype": "text/x-python",
   "name": "python",
   "nbconvert_exporter": "python",
   "pygments_lexer": "ipython3",
   "version": "3.9.7"
  }
 },
 "nbformat": 4,
 "nbformat_minor": 5
}
