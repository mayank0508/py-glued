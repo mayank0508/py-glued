{
 "cells": [
  {
   "cell_type": "code",
   "execution_count": 1,
   "id": "58eb7dae",
   "metadata": {},
   "outputs": [],
   "source": [
    "## Tuples"
   ]
  },
  {
   "cell_type": "markdown",
   "id": "5938ea95",
   "metadata": {},
   "source": [
    "##### they are not completly same as list rather it has more diffrence with list rather than similarities"
   ]
  },
  {
   "cell_type": "code",
   "execution_count": null,
   "id": "a96cfc95",
   "metadata": {},
   "outputs": [],
   "source": [
    "# in lists we use li =['','','']\n",
    "# but in tuple we use tu = (,,)"
   ]
  }
 ],
 "metadata": {
  "kernelspec": {
   "display_name": "Python 3 (ipykernel)",
   "language": "python",
   "name": "python3"
  },
  "language_info": {
   "codemirror_mode": {
    "name": "ipython",
    "version": 3
   },
   "file_extension": ".py",
   "mimetype": "text/x-python",
   "name": "python",
   "nbconvert_exporter": "python",
   "pygments_lexer": "ipython3",
   "version": "3.9.7"
  }
 },
 "nbformat": 4,
 "nbformat_minor": 5
}
