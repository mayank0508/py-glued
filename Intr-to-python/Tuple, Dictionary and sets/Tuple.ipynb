{
 "cells": [
  {
   "cell_type": "code",
   "execution_count": 1,
   "id": "58eb7dae",
   "metadata": {},
   "outputs": [],
   "source": [
    "## Tuples"
   ]
  },
  {
   "cell_type": "markdown",
   "id": "5938ea95",
   "metadata": {},
   "source": [
    "##### they are not completly same as list rather it has more diffrence with list rather than similarities"
   ]
  },
  {
   "cell_type": "code",
   "execution_count": 1,
   "id": "a96cfc95",
   "metadata": {},
   "outputs": [],
   "source": [
    "# in lists we use li =['','','']\n",
    "# but in tuple we use tu = (,,)"
   ]
  },
  {
   "cell_type": "code",
   "execution_count": 2,
   "id": "75b8c529",
   "metadata": {},
   "outputs": [],
   "source": [
    "a = (1,2)"
   ]
  },
  {
   "cell_type": "code",
   "execution_count": 3,
   "id": "b770af0c",
   "metadata": {},
   "outputs": [
    {
     "data": {
      "text/plain": [
       "(1, 2)"
      ]
     },
     "execution_count": 3,
     "metadata": {},
     "output_type": "execute_result"
    }
   ],
   "source": [
    "a"
   ]
  },
  {
   "cell_type": "code",
   "execution_count": 4,
   "id": "163e8a01",
   "metadata": {},
   "outputs": [
    {
     "data": {
      "text/plain": [
       "tuple"
      ]
     },
     "execution_count": 4,
     "metadata": {},
     "output_type": "execute_result"
    }
   ],
   "source": [
    "type(a)"
   ]
  },
  {
   "cell_type": "code",
   "execution_count": 5,
   "id": "398572d9",
   "metadata": {},
   "outputs": [],
   "source": [
    "b = 2,3 # this has not became a tuple"
   ]
  },
  {
   "cell_type": "code",
   "execution_count": 6,
   "id": "d505da9d",
   "metadata": {},
   "outputs": [],
   "source": [
    "c,d = 4,5"
   ]
  },
  {
   "cell_type": "code",
   "execution_count": 7,
   "id": "693a1e2d",
   "metadata": {},
   "outputs": [
    {
     "data": {
      "text/plain": [
       "tuple"
      ]
     },
     "execution_count": 7,
     "metadata": {},
     "output_type": "execute_result"
    }
   ],
   "source": [
    "type(b)"
   ]
  },
  {
   "cell_type": "code",
   "execution_count": 8,
   "id": "d28289ab",
   "metadata": {},
   "outputs": [
    {
     "data": {
      "text/plain": [
       "int"
      ]
     },
     "execution_count": 8,
     "metadata": {},
     "output_type": "execute_result"
    }
   ],
   "source": [
    "type(c)"
   ]
  },
  {
   "cell_type": "code",
   "execution_count": 10,
   "id": "c5dc26b6",
   "metadata": {},
   "outputs": [
    {
     "data": {
      "text/plain": [
       "3"
      ]
     },
     "execution_count": 10,
     "metadata": {},
     "output_type": "execute_result"
    }
   ],
   "source": [
    "b[1] # we can access the elements the same we did it in lists"
   ]
  },
  {
   "cell_type": "code",
   "execution_count": 12,
   "id": "52b41278",
   "metadata": {},
   "outputs": [
    {
     "data": {
      "text/plain": [
       "3"
      ]
     },
     "execution_count": 12,
     "metadata": {},
     "output_type": "execute_result"
    }
   ],
   "source": [
    "b[-1] # here is another example"
   ]
  },
  {
   "cell_type": "markdown",
   "id": "c7070a19",
   "metadata": {},
   "source": [
    "### Slicing in tuples"
   ]
  },
  {
   "cell_type": "code",
   "execution_count": 30,
   "id": "c4bf6e0d",
   "metadata": {},
   "outputs": [],
   "source": [
    "m = (2,3,4,5,6,7,8,9,9)"
   ]
  },
  {
   "cell_type": "code",
   "execution_count": 31,
   "id": "eca1b1ac",
   "metadata": {},
   "outputs": [
    {
     "data": {
      "text/plain": [
       "(2, 3, 4)"
      ]
     },
     "execution_count": 31,
     "metadata": {},
     "output_type": "execute_result"
    }
   ],
   "source": [
    "m[:3]"
   ]
  },
  {
   "cell_type": "code",
   "execution_count": 32,
   "id": "de7c2cfe",
   "metadata": {},
   "outputs": [
    {
     "data": {
      "text/plain": [
       "(5, 6)"
      ]
     },
     "execution_count": 32,
     "metadata": {},
     "output_type": "execute_result"
    }
   ],
   "source": [
    "m[3:5:1]"
   ]
  },
  {
   "cell_type": "markdown",
   "id": "85a6bcd8",
   "metadata": {},
   "source": [
    "## one of the big diffrence between lists and tuple is that tuples are immutable were as lists are mutable"
   ]
  },
  {
   "cell_type": "code",
   "execution_count": 34,
   "id": "ad0493ea",
   "metadata": {},
   "outputs": [],
   "source": [
    "del m # this is how you delete the tuple"
   ]
  },
  {
   "cell_type": "code",
   "execution_count": 35,
   "id": "141b0234",
   "metadata": {},
   "outputs": [
    {
     "ename": "NameError",
     "evalue": "name 'm' is not defined",
     "output_type": "error",
     "traceback": [
      "\u001b[1;31m---------------------------------------------------------------------------\u001b[0m",
      "\u001b[1;31mNameError\u001b[0m                                 Traceback (most recent call last)",
      "\u001b[1;32m~\\AppData\\Local\\Temp/ipykernel_16984/1497821502.py\u001b[0m in \u001b[0;36m<module>\u001b[1;34m\u001b[0m\n\u001b[1;32m----> 1\u001b[1;33m \u001b[0mm\u001b[0m\u001b[1;33m\u001b[0m\u001b[1;33m\u001b[0m\u001b[0m\n\u001b[0m",
      "\u001b[1;31mNameError\u001b[0m: name 'm' is not defined"
     ]
    }
   ],
   "source": [
    "m"
   ]
  },
  {
   "cell_type": "code",
   "execution_count": null,
   "id": "c6c414ec",
   "metadata": {},
   "outputs": [],
   "source": [
    "\n"
   ]
  }
 ],
 "metadata": {
  "kernelspec": {
   "display_name": "Python 3 (ipykernel)",
   "language": "python",
   "name": "python3"
  },
  "language_info": {
   "codemirror_mode": {
    "name": "ipython",
    "version": 3
   },
   "file_extension": ".py",
   "mimetype": "text/x-python",
   "name": "python",
   "nbconvert_exporter": "python",
   "pygments_lexer": "ipython3",
   "version": "3.9.7"
  }
 },
 "nbformat": 4,
 "nbformat_minor": 5
}
