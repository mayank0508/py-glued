{
 "cells": [
  {
   "cell_type": "code",
   "execution_count": 1,
   "id": "58eb7dae",
   "metadata": {},
   "outputs": [],
   "source": [
    "## Tuples"
   ]
  },
  {
   "cell_type": "markdown",
   "id": "5938ea95",
   "metadata": {},
   "source": [
    "##### they are not completly same as list rather it has more diffrence with list rather than similarities"
   ]
  },
  {
   "cell_type": "code",
   "execution_count": 1,
   "id": "a96cfc95",
   "metadata": {},
   "outputs": [],
   "source": [
    "# in lists we use li =['','','']\n",
    "# but in tuple we use tu = (,,)"
   ]
  },
  {
   "cell_type": "code",
   "execution_count": 2,
   "id": "b131c3f5",
   "metadata": {},
   "outputs": [],
   "source": [
    "a = (1,2)"
   ]
  },
  {
   "cell_type": "code",
   "execution_count": 3,
   "id": "4eec32e9",
   "metadata": {},
   "outputs": [
    {
     "data": {
      "text/plain": [
       "(1, 2)"
      ]
     },
     "execution_count": 3,
     "metadata": {},
     "output_type": "execute_result"
    }
   ],
   "source": [
    "a"
   ]
  },
  {
   "cell_type": "code",
   "execution_count": 4,
   "id": "89bf7586",
   "metadata": {},
   "outputs": [
    {
     "data": {
      "text/plain": [
       "tuple"
      ]
     },
     "execution_count": 4,
     "metadata": {},
     "output_type": "execute_result"
    }
   ],
   "source": [
    "type(a)"
   ]
  },
  {
   "cell_type": "code",
   "execution_count": 5,
   "id": "fbe4d2f7",
   "metadata": {},
   "outputs": [],
   "source": [
    "b = 2,3 # this has not became a tuple"
   ]
  },
  {
   "cell_type": "code",
   "execution_count": 6,
   "id": "6c793558",
   "metadata": {},
   "outputs": [],
   "source": [
    "c,d = 4,5"
   ]
  },
  {
   "cell_type": "code",
   "execution_count": 7,
   "id": "af79aabf",
   "metadata": {},
   "outputs": [
    {
     "data": {
      "text/plain": [
       "tuple"
      ]
     },
     "execution_count": 7,
     "metadata": {},
     "output_type": "execute_result"
    }
   ],
   "source": [
    "type(b)"
   ]
  },
  {
   "cell_type": "code",
   "execution_count": 8,
   "id": "687242ce",
   "metadata": {},
   "outputs": [
    {
     "data": {
      "text/plain": [
       "int"
      ]
     },
     "execution_count": 8,
     "metadata": {},
     "output_type": "execute_result"
    }
   ],
   "source": [
    "type(c)"
   ]
  },
  {
   "cell_type": "code",
   "execution_count": 10,
   "id": "42359933",
   "metadata": {},
   "outputs": [
    {
     "data": {
      "text/plain": [
       "3"
      ]
     },
     "execution_count": 10,
     "metadata": {},
     "output_type": "execute_result"
    }
   ],
   "source": [
    "b[1] # we can access the elements the same we did it in lists"
   ]
  },
  {
   "cell_type": "code",
   "execution_count": 12,
   "id": "126efd75",
   "metadata": {},
   "outputs": [
    {
     "data": {
      "text/plain": [
       "3"
      ]
     },
     "execution_count": 12,
     "metadata": {},
     "output_type": "execute_result"
    }
   ],
   "source": [
    "b[-1] # here is another example"
   ]
  },
  {
   "cell_type": "markdown",
   "id": "99042d94",
   "metadata": {},
   "source": [
    "### Slicing in tuples"
   ]
  },
  {
   "cell_type": "code",
   "execution_count": 15,
   "id": "248c6080",
   "metadata": {},
   "outputs": [],
   "source": [
    "m = (2,3,4,5,6,7,8,9,9)"
   ]
  },
  {
   "cell_type": "code",
   "execution_count": 14,
   "id": "2075d3f2",
   "metadata": {},
   "outputs": [
    {
     "data": {
      "text/plain": [
       "(2, 3, 4)"
      ]
     },
     "execution_count": 14,
     "metadata": {},
     "output_type": "execute_result"
    }
   ],
   "source": [
    "m[:3]"
   ]
  },
  {
   "cell_type": "code",
   "execution_count": 22,
   "id": "24454bd9",
   "metadata": {},
   "outputs": [
    {
     "data": {
      "text/plain": [
       "(5, 6)"
      ]
     },
     "execution_count": 22,
     "metadata": {},
     "output_type": "execute_result"
    }
   ],
   "source": [
    "m[3:5:1]"
   ]
  },
  {
   "cell_type": "markdown",
   "id": "39c2f445",
   "metadata": {},
   "source": [
    "## one of the big diffrence between lists and tuple is that tuples are immutable were as lists are mutable"
   ]
  },
  {
   "cell_type": "code",
   "execution_count": null,
   "id": "1c3ec339",
   "metadata": {},
   "outputs": [],
   "source": []
  }
 ],
 "metadata": {
  "kernelspec": {
   "display_name": "Python 3 (ipykernel)",
   "language": "python",
   "name": "python3"
  },
  "language_info": {
   "codemirror_mode": {
    "name": "ipython",
    "version": 3
   },
   "file_extension": ".py",
   "mimetype": "text/x-python",
   "name": "python",
   "nbconvert_exporter": "python",
   "pygments_lexer": "ipython3",
   "version": "3.9.7"
  }
 },
 "nbformat": 4,
 "nbformat_minor": 5
}
