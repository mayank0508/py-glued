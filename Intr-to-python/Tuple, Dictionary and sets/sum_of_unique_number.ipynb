{
 "cells": [
  {
   "cell_type": "code",
   "execution_count": 1,
   "id": "a6b34b1f",
   "metadata": {},
   "outputs": [],
   "source": [
    "a = {1,2,3,4,5,4,3,2,1}"
   ]
  },
  {
   "cell_type": "code",
   "execution_count": 2,
   "id": "1d157592",
   "metadata": {},
   "outputs": [
    {
     "data": {
      "text/plain": [
       "5"
      ]
     },
     "execution_count": 2,
     "metadata": {},
     "output_type": "execute_result"
    }
   ],
   "source": [
    "len(a)"
   ]
  },
  {
   "cell_type": "code",
   "execution_count": 6,
   "id": "13a478d0",
   "metadata": {},
   "outputs": [],
   "source": [
    "def sumU(l):\n",
    "    s = set() # here we have made an empty set\n",
    "    for i in l:\n",
    "        s.add(i) # here it has added all the elements of the list to set\n",
    "    for i in s: # and since set does not takes repetative elements thus \n",
    "        sum = 0\n",
    "        sum += i # here it will only add the unique numbers\n",
    "    return sum"
   ]
  },
  {
   "cell_type": "code",
   "execution_count": 7,
   "id": "8ffe30ff",
   "metadata": {},
   "outputs": [
    {
     "data": {
      "text/plain": [
       "43"
      ]
     },
     "execution_count": 7,
     "metadata": {},
     "output_type": "execute_result"
    }
   ],
   "source": [
    "sumU([2,3,4,5,4,2,4,3,5,2,4,5,43,5,6,2,4,5,1,2,4,3,2,2,2,2,3,4,4,])"
   ]
  },
  {
   "cell_type": "code",
   "execution_count": null,
   "id": "685e908b",
   "metadata": {},
   "outputs": [],
   "source": []
  }
 ],
 "metadata": {
  "kernelspec": {
   "display_name": "Python 3 (ipykernel)",
   "language": "python",
   "name": "python3"
  },
  "language_info": {
   "codemirror_mode": {
    "name": "ipython",
    "version": 3
   },
   "file_extension": ".py",
   "mimetype": "text/x-python",
   "name": "python",
   "nbconvert_exporter": "python",
   "pygments_lexer": "ipython3",
   "version": "3.9.7"
  }
 },
 "nbformat": 4,
 "nbformat_minor": 5
}
