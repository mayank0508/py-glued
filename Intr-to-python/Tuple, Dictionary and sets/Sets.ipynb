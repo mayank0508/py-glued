{
 "cells": [
  {
   "cell_type": "markdown",
   "id": "1bf390ed",
   "metadata": {},
   "source": [
    "# Sets "
   ]
  },
  {
   "cell_type": "code",
   "execution_count": 1,
   "id": "3d9cc094",
   "metadata": {},
   "outputs": [],
   "source": [
    "a = {'mayank', 'hi', 34}"
   ]
  },
  {
   "cell_type": "code",
   "execution_count": 2,
   "id": "00e5ff30",
   "metadata": {},
   "outputs": [
    {
     "data": {
      "text/plain": [
       "{34, 'hi', 'mayank'}"
      ]
     },
     "execution_count": 2,
     "metadata": {},
     "output_type": "execute_result"
    }
   ],
   "source": [
    "a # the structure is same of dict but there is no keys and values "
   ]
  },
  {
   "cell_type": "code",
   "execution_count": 3,
   "id": "22fd477e",
   "metadata": {},
   "outputs": [
    {
     "data": {
      "text/plain": [
       "set"
      ]
     },
     "execution_count": 3,
     "metadata": {},
     "output_type": "execute_result"
    }
   ],
   "source": [
    "type(a)"
   ]
  },
  {
   "cell_type": "code",
   "execution_count": 4,
   "id": "3fe53b31",
   "metadata": {},
   "outputs": [
    {
     "ename": "TypeError",
     "evalue": "'set' object is not subscriptable",
     "output_type": "error",
     "traceback": [
      "\u001b[1;31m---------------------------------------------------------------------------\u001b[0m",
      "\u001b[1;31mTypeError\u001b[0m                                 Traceback (most recent call last)",
      "\u001b[1;32m~\\AppData\\Local\\Temp/ipykernel_4584/1109539928.py\u001b[0m in \u001b[0;36m<module>\u001b[1;34m\u001b[0m\n\u001b[1;32m----> 1\u001b[1;33m \u001b[0ma\u001b[0m\u001b[1;33m[\u001b[0m\u001b[1;36m0\u001b[0m\u001b[1;33m]\u001b[0m\u001b[1;33m\u001b[0m\u001b[1;33m\u001b[0m\u001b[0m\n\u001b[0m",
      "\u001b[1;31mTypeError\u001b[0m: 'set' object is not subscriptable"
     ]
    }
   ],
   "source": [
    "a[0] # it aint structured and it does not have any kind of indexing"
   ]
  },
  {
   "cell_type": "code",
   "execution_count": 6,
   "id": "e88534fe",
   "metadata": {},
   "outputs": [
    {
     "ename": "TypeError",
     "evalue": "'set' object is not subscriptable",
     "output_type": "error",
     "traceback": [
      "\u001b[1;31m---------------------------------------------------------------------------\u001b[0m",
      "\u001b[1;31mTypeError\u001b[0m                                 Traceback (most recent call last)",
      "\u001b[1;32m~\\AppData\\Local\\Temp/ipykernel_4584/963309905.py\u001b[0m in \u001b[0;36m<module>\u001b[1;34m\u001b[0m\n\u001b[1;32m----> 1\u001b[1;33m \u001b[0ma\u001b[0m\u001b[1;33m[\u001b[0m\u001b[1;34m'hi'\u001b[0m\u001b[1;33m]\u001b[0m \u001b[1;31m# still it wont work because it does not have any value\u001b[0m\u001b[1;33m\u001b[0m\u001b[1;33m\u001b[0m\u001b[0m\n\u001b[0m",
      "\u001b[1;31mTypeError\u001b[0m: 'set' object is not subscriptable"
     ]
    }
   ],
   "source": [
    "a['hi'] # still it wont work because it does not have any value"
   ]
  },
  {
   "cell_type": "code",
   "execution_count": 7,
   "id": "dd7c8e6b",
   "metadata": {},
   "outputs": [
    {
     "data": {
      "text/plain": [
       "True"
      ]
     },
     "execution_count": 7,
     "metadata": {},
     "output_type": "execute_result"
    }
   ],
   "source": [
    "'hi' in a # this will yeild the results "
   ]
  },
  {
   "cell_type": "code",
   "execution_count": 10,
   "id": "5c2009f9",
   "metadata": {},
   "outputs": [
    {
     "data": {
      "text/plain": [
       "True"
      ]
     },
     "execution_count": 10,
     "metadata": {},
     "output_type": "execute_result"
    }
   ],
   "source": [
    "34 in a # this method will yeild results"
   ]
  },
  {
   "cell_type": "code",
   "execution_count": 12,
   "id": "6f512116",
   "metadata": {},
   "outputs": [
    {
     "name": "stdout",
     "output_type": "stream",
     "text": [
      "mayank\n",
      "34\n",
      "hi\n"
     ]
    }
   ],
   "source": [
    "for i in a:\n",
    "    print(i) # here in the answer we can see that there is no neccesary order for it"
   ]
  },
  {
   "cell_type": "code",
   "execution_count": 14,
   "id": "c6a2921c",
   "metadata": {},
   "outputs": [
    {
     "data": {
      "text/plain": [
       "3"
      ]
     },
     "execution_count": 14,
     "metadata": {},
     "output_type": "execute_result"
    }
   ],
   "source": [
    "len(a) # access the data's length"
   ]
  },
  {
   "cell_type": "markdown",
   "id": "3a6bd8dd",
   "metadata": {},
   "source": [
    "## Addition and Update data"
   ]
  },
  {
   "cell_type": "code",
   "execution_count": 18,
   "id": "bf0c2fd1",
   "metadata": {},
   "outputs": [],
   "source": [
    "a.add('me') # this can be used the data"
   ]
  },
  {
   "cell_type": "code",
   "execution_count": 19,
   "id": "8f98426e",
   "metadata": {},
   "outputs": [
    {
     "data": {
      "text/plain": [
       "{34, 'hi', 'mayank', 'me'}"
      ]
     },
     "execution_count": 19,
     "metadata": {},
     "output_type": "execute_result"
    }
   ],
   "source": [
    "a"
   ]
  },
  {
   "cell_type": "code",
   "execution_count": 20,
   "id": "71d898b3",
   "metadata": {},
   "outputs": [],
   "source": [
    "b = {'me', 34, 54}"
   ]
  },
  {
   "cell_type": "code",
   "execution_count": 21,
   "id": "096f1371",
   "metadata": {},
   "outputs": [],
   "source": [
    "a.update(b)"
   ]
  },
  {
   "cell_type": "code",
   "execution_count": 23,
   "id": "e6ea5567",
   "metadata": {},
   "outputs": [
    {
     "data": {
      "text/plain": [
       "{34, 54, 'hi', 'mayank', 'me'}"
      ]
     },
     "execution_count": 23,
     "metadata": {},
     "output_type": "execute_result"
    }
   ],
   "source": [
    "a # here we can see that we can use this to add set in a set"
   ]
  },
  {
   "cell_type": "markdown",
   "id": "6bbb9a1d",
   "metadata": {},
   "source": [
    "## Delete Data"
   ]
  },
  {
   "cell_type": "code",
   "execution_count": 25,
   "id": "2e989d5a",
   "metadata": {},
   "outputs": [],
   "source": [
    "a.remove(34)"
   ]
  },
  {
   "cell_type": "code",
   "execution_count": 26,
   "id": "c9bc27d0",
   "metadata": {},
   "outputs": [
    {
     "data": {
      "text/plain": [
       "{54, 'hi', 'mayank', 'me'}"
      ]
     },
     "execution_count": 26,
     "metadata": {},
     "output_type": "execute_result"
    }
   ],
   "source": [
    "a"
   ]
  },
  {
   "cell_type": "code",
   "execution_count": 27,
   "id": "0f1e0970",
   "metadata": {},
   "outputs": [
    {
     "ename": "KeyError",
     "evalue": "{'mayank', 54, 'me', 'hi'}",
     "output_type": "error",
     "traceback": [
      "\u001b[1;31m---------------------------------------------------------------------------\u001b[0m",
      "\u001b[1;31mKeyError\u001b[0m                                  Traceback (most recent call last)",
      "\u001b[1;32m~\\AppData\\Local\\Temp/ipykernel_4584/3621693970.py\u001b[0m in \u001b[0;36m<module>\u001b[1;34m\u001b[0m\n\u001b[1;32m----> 1\u001b[1;33m \u001b[0ma\u001b[0m\u001b[1;33m.\u001b[0m\u001b[0mremove\u001b[0m\u001b[1;33m(\u001b[0m\u001b[0ma\u001b[0m\u001b[1;33m)\u001b[0m\u001b[1;33m\u001b[0m\u001b[1;33m\u001b[0m\u001b[0m\n\u001b[0m",
      "\u001b[1;31mKeyError\u001b[0m: {'mayank', 54, 'me', 'hi'}"
     ]
    }
   ],
   "source": [
    "a.remove(a) # error"
   ]
  },
  {
   "cell_type": "code",
   "execution_count": 32,
   "id": "c0309cf0",
   "metadata": {},
   "outputs": [],
   "source": [
    "a.discard(32) # this does not shows any error"
   ]
  },
  {
   "cell_type": "code",
   "execution_count": 33,
   "id": "82309461",
   "metadata": {},
   "outputs": [
    {
     "data": {
      "text/plain": [
       "{54, 'hi', 'mayank', 'me'}"
      ]
     },
     "execution_count": 33,
     "metadata": {},
     "output_type": "execute_result"
    }
   ],
   "source": [
    "a"
   ]
  },
  {
   "cell_type": "code",
   "execution_count": 36,
   "id": "5597fc27",
   "metadata": {},
   "outputs": [
    {
     "data": {
      "text/plain": [
       "54"
      ]
     },
     "execution_count": 36,
     "metadata": {},
     "output_type": "execute_result"
    }
   ],
   "source": [
    "a.pop() # randomly removes any kind of data"
   ]
  },
  {
   "cell_type": "code",
   "execution_count": 37,
   "id": "0f2832cd",
   "metadata": {},
   "outputs": [
    {
     "data": {
      "text/plain": [
       "{'hi', 'me'}"
      ]
     },
     "execution_count": 37,
     "metadata": {},
     "output_type": "execute_result"
    }
   ],
   "source": [
    "a"
   ]
  },
  {
   "cell_type": "markdown",
   "id": "44384e47",
   "metadata": {},
   "source": [
    "# fUNCTIONS OF THE SETS"
   ]
  },
  {
   "cell_type": "code",
   "execution_count": 64,
   "id": "a0b7b089",
   "metadata": {},
   "outputs": [],
   "source": [
    "a = {1,2,3,4,5,6}\n",
    "b = {4,5,6,7,8,9}"
   ]
  },
  {
   "cell_type": "code",
   "execution_count": 41,
   "id": "ab5e874c",
   "metadata": {},
   "outputs": [
    {
     "data": {
      "text/plain": [
       "{4, 5, 6}"
      ]
     },
     "execution_count": 41,
     "metadata": {},
     "output_type": "execute_result"
    }
   ],
   "source": [
    "a.intersection(b) # this will give us the intersection between 2 sets"
   ]
  },
  {
   "cell_type": "code",
   "execution_count": 42,
   "id": "a7e4eed6",
   "metadata": {},
   "outputs": [
    {
     "data": {
      "text/plain": [
       "{1, 2, 3, 4, 5, 6, 7, 8, 9}"
      ]
     },
     "execution_count": 42,
     "metadata": {},
     "output_type": "execute_result"
    }
   ],
   "source": [
    "a.union(b)"
   ]
  },
  {
   "cell_type": "code",
   "execution_count": 44,
   "id": "753af3a8",
   "metadata": {},
   "outputs": [
    {
     "data": {
      "text/plain": [
       "{1, 2, 3}"
      ]
     },
     "execution_count": 44,
     "metadata": {},
     "output_type": "execute_result"
    }
   ],
   "source": [
    "a.difference(b)"
   ]
  },
  {
   "cell_type": "code",
   "execution_count": 45,
   "id": "fd53ec5d",
   "metadata": {},
   "outputs": [
    {
     "data": {
      "text/plain": [
       "{7, 8, 9}"
      ]
     },
     "execution_count": 45,
     "metadata": {},
     "output_type": "execute_result"
    }
   ],
   "source": [
    "b.difference(a)"
   ]
  },
  {
   "cell_type": "code",
   "execution_count": 47,
   "id": "180a0ab1",
   "metadata": {},
   "outputs": [
    {
     "data": {
      "text/plain": [
       "{1, 2, 3, 7, 8, 9}"
      ]
     },
     "execution_count": 47,
     "metadata": {},
     "output_type": "execute_result"
    }
   ],
   "source": [
    "a.symmetric_difference(b) # the elements which is not common in a and b"
   ]
  },
  {
   "cell_type": "code",
   "execution_count": 48,
   "id": "2d2adb21",
   "metadata": {},
   "outputs": [],
   "source": [
    "a.intersection_update(b)"
   ]
  },
  {
   "cell_type": "code",
   "execution_count": 49,
   "id": "4793cc14",
   "metadata": {},
   "outputs": [
    {
     "data": {
      "text/plain": [
       "{4, 5, 6}"
      ]
     },
     "execution_count": 49,
     "metadata": {},
     "output_type": "execute_result"
    }
   ],
   "source": [
    "a # here the intersection in a"
   ]
  },
  {
   "cell_type": "code",
   "execution_count": 51,
   "id": "f6723c28",
   "metadata": {},
   "outputs": [],
   "source": [
    "a.difference_update(b)"
   ]
  },
  {
   "cell_type": "code",
   "execution_count": 52,
   "id": "28bac9aa",
   "metadata": {},
   "outputs": [
    {
     "data": {
      "text/plain": [
       "{1, 2, 3}"
      ]
     },
     "execution_count": 52,
     "metadata": {},
     "output_type": "execute_result"
    }
   ],
   "source": [
    "a # here the difference has become the a"
   ]
  },
  {
   "cell_type": "code",
   "execution_count": 54,
   "id": "bac90155",
   "metadata": {},
   "outputs": [],
   "source": [
    "a.symmetric_difference_update(b)"
   ]
  },
  {
   "cell_type": "code",
   "execution_count": 56,
   "id": "7fcf74a1",
   "metadata": {},
   "outputs": [
    {
     "data": {
      "text/plain": [
       "{1, 2, 3, 7, 8, 9}"
      ]
     },
     "execution_count": 56,
     "metadata": {},
     "output_type": "execute_result"
    }
   ],
   "source": [
    "a # here symmetric_difference is a"
   ]
  },
  {
   "cell_type": "code",
   "execution_count": 58,
   "id": "abdb6e92",
   "metadata": {},
   "outputs": [
    {
     "ename": "AttributeError",
     "evalue": "'set' object has no attribute 'union_update'",
     "output_type": "error",
     "traceback": [
      "\u001b[1;31m---------------------------------------------------------------------------\u001b[0m",
      "\u001b[1;31mAttributeError\u001b[0m                            Traceback (most recent call last)",
      "\u001b[1;32m~\\AppData\\Local\\Temp/ipykernel_4584/3895819893.py\u001b[0m in \u001b[0;36m<module>\u001b[1;34m\u001b[0m\n\u001b[1;32m----> 1\u001b[1;33m \u001b[0ma\u001b[0m\u001b[1;33m.\u001b[0m\u001b[0munion_update\u001b[0m\u001b[1;33m(\u001b[0m\u001b[0mb\u001b[0m\u001b[1;33m)\u001b[0m \u001b[1;31m# this does not work\u001b[0m\u001b[1;33m\u001b[0m\u001b[1;33m\u001b[0m\u001b[0m\n\u001b[0m",
      "\u001b[1;31mAttributeError\u001b[0m: 'set' object has no attribute 'union_update'"
     ]
    }
   ],
   "source": [
    "a.union_update(b) # this does not work"
   ]
  },
  {
   "cell_type": "code",
   "execution_count": 65,
   "id": "7e93373c",
   "metadata": {},
   "outputs": [
    {
     "data": {
      "text/plain": [
       "False"
      ]
     },
     "execution_count": 65,
     "metadata": {},
     "output_type": "execute_result"
    }
   ],
   "source": [
    "a.issubset(b) # checks the subset"
   ]
  },
  {
   "cell_type": "code",
   "execution_count": 66,
   "id": "e5a846ef",
   "metadata": {},
   "outputs": [],
   "source": [
    "c = {4,5}"
   ]
  },
  {
   "cell_type": "code",
   "execution_count": 67,
   "id": "985f9e7a",
   "metadata": {},
   "outputs": [
    {
     "data": {
      "text/plain": [
       "False"
      ]
     },
     "execution_count": 67,
     "metadata": {},
     "output_type": "execute_result"
    }
   ],
   "source": [
    "a.issubset(c)"
   ]
  },
  {
   "cell_type": "code",
   "execution_count": 69,
   "id": "d7c2228c",
   "metadata": {},
   "outputs": [
    {
     "data": {
      "text/plain": [
       "True"
      ]
     },
     "execution_count": 69,
     "metadata": {},
     "output_type": "execute_result"
    }
   ],
   "source": [
    "c.issubset(a) # here we use this function to check wheater the function is a subset or not"
   ]
  },
  {
   "cell_type": "code",
   "execution_count": 72,
   "id": "5f521215",
   "metadata": {},
   "outputs": [
    {
     "data": {
      "text/plain": [
       "True"
      ]
     },
     "execution_count": 72,
     "metadata": {},
     "output_type": "execute_result"
    }
   ],
   "source": [
    "a.issuperset(c) # here we use it to check that is it a superset or not !"
   ]
  },
  {
   "cell_type": "code",
   "execution_count": 75,
   "id": "c1a79f31",
   "metadata": {},
   "outputs": [
    {
     "data": {
      "text/plain": [
       "False"
      ]
     },
     "execution_count": 75,
     "metadata": {},
     "output_type": "execute_result"
    }
   ],
   "source": [
    "a.isdisjoint(a)"
   ]
  },
  {
   "cell_type": "code",
   "execution_count": 76,
   "id": "ca2128c1",
   "metadata": {},
   "outputs": [],
   "source": [
    "m = {9,8}"
   ]
  },
  {
   "cell_type": "code",
   "execution_count": null,
   "id": "85ff245d",
   "metadata": {},
   "outputs": [],
   "source": [
    "a.isdisjoint(a)"
   ]
  }
 ],
 "metadata": {
  "kernelspec": {
   "display_name": "Python 3 (ipykernel)",
   "language": "python",
   "name": "python3"
  },
  "language_info": {
   "codemirror_mode": {
    "name": "ipython",
    "version": 3
   },
   "file_extension": ".py",
   "mimetype": "text/x-python",
   "name": "python",
   "nbconvert_exporter": "python",
   "pygments_lexer": "ipython3",
   "version": "3.9.7"
  }
 },
 "nbformat": 4,
 "nbformat_minor": 5
}
