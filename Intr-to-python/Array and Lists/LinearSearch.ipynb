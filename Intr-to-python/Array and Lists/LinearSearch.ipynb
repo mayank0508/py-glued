{
 "cells": [
  {
   "cell_type": "markdown",
   "id": "9d55081f",
   "metadata": {},
   "source": [
    "## Linear Search"
   ]
  },
  {
   "cell_type": "code",
   "execution_count": 1,
   "id": "9f24892d",
   "metadata": {},
   "outputs": [
    {
     "name": "stdout",
     "output_type": "stream",
     "text": [
      "6\n"
     ]
    }
   ],
   "source": [
    "n =  int(input())"
   ]
  },
  {
   "cell_type": "code",
   "execution_count": 2,
   "id": "1ff10d2b",
   "metadata": {},
   "outputs": [
    {
     "name": "stdout",
     "output_type": "stream",
     "text": [
      "2 4 7 9 10 13\n"
     ]
    }
   ],
   "source": [
    "list = [int(x) for x in input().split()]"
   ]
  },
  {
   "cell_type": "code",
   "execution_count": 3,
   "id": "7f8fa427",
   "metadata": {},
   "outputs": [
    {
     "data": {
      "text/plain": [
       "[2, 4, 7, 9, 10, 13]"
      ]
     },
     "execution_count": 3,
     "metadata": {},
     "output_type": "execute_result"
    }
   ],
   "source": [
    "list"
   ]
  },
  {
   "cell_type": "code",
   "execution_count": 4,
   "id": "0d3df5a0",
   "metadata": {},
   "outputs": [
    {
     "name": "stdout",
     "output_type": "stream",
     "text": [
      "7\n"
     ]
    }
   ],
   "source": [
    "ele = int(input())"
   ]
  },
  {
   "cell_type": "code",
   "execution_count": 7,
   "id": "5240e995",
   "metadata": {},
   "outputs": [
    {
     "name": "stdout",
     "output_type": "stream",
     "text": [
      "2\n"
     ]
    }
   ],
   "source": [
    "is_found = False\n",
    "for i in range(len(list)):\n",
    "    if list[i] == ele:\n",
    "        print(i)\n",
    "        is_found = True\n",
    "        break\n",
    "if is_found is False:\n",
    "    print(-1)"
   ]
  },
  {
   "cell_type": "code",
   "execution_count": 8,
   "id": "e5e2b44a",
   "metadata": {},
   "outputs": [
    {
     "name": "stdout",
     "output_type": "stream",
     "text": [
      "12\n"
     ]
    }
   ],
   "source": [
    "ela = int(input())"
   ]
  },
  {
   "cell_type": "code",
   "execution_count": 9,
   "id": "0d8d6724",
   "metadata": {},
   "outputs": [
    {
     "name": "stdout",
     "output_type": "stream",
     "text": [
      "-1\n"
     ]
    }
   ],
   "source": [
    "is_found = False\n",
    "for i in range(len(list)):\n",
    "    if list[i] == ela:\n",
    "        print(i)\n",
    "        is_found = True\n",
    "        break\n",
    "if is_found is False:\n",
    "    print(-1)"
   ]
  },
  {
   "cell_type": "markdown",
   "id": "ffe1af18",
   "metadata": {},
   "source": [
    "## Linear Search through Function"
   ]
  },
  {
   "cell_type": "code",
   "execution_count": 14,
   "id": "956ffbf3",
   "metadata": {},
   "outputs": [
    {
     "name": "stdout",
     "output_type": "stream",
     "text": [
      "5\n"
     ]
    }
   ],
   "source": [
    "def linear_search(li,ele):\n",
    "    # li is the list \n",
    "    # ele is the element to be searched\n",
    "    for i in range(len(li)):\n",
    "        if li[i] == ele:\n",
    "            return i\n",
    "    return -1\n",
    "\n",
    "li = [1,2,3,4,5,6]\n",
    "index = linear_search(li,6)\n",
    "print(index)"
   ]
  },
  {
   "cell_type": "code",
   "execution_count": null,
   "id": "f17acf97",
   "metadata": {},
   "outputs": [],
   "source": []
  }
 ],
 "metadata": {
  "kernelspec": {
   "display_name": "Python 3 (ipykernel)",
   "language": "python",
   "name": "python3"
  },
  "language_info": {
   "codemirror_mode": {
    "name": "ipython",
    "version": 3
   },
   "file_extension": ".py",
   "mimetype": "text/x-python",
   "name": "python",
   "nbconvert_exporter": "python",
   "pygments_lexer": "ipython3",
   "version": "3.9.7"
  }
 },
 "nbformat": 4,
 "nbformat_minor": 5
}
