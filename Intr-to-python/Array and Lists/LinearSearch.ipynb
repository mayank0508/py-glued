{
 "cells": [
  {
   "cell_type": "markdown",
   "id": "172d6040",
   "metadata": {},
   "source": [
    "## Linear Search"
   ]
  },
  {
   "cell_type": "code",
   "execution_count": 3,
   "id": "fd17e7a9",
   "metadata": {},
   "outputs": [
    {
     "name": "stdout",
     "output_type": "stream",
     "text": [
      "6\n"
     ]
    }
   ],
   "source": [
    "n =  int(input())"
   ]
  },
  {
   "cell_type": "code",
   "execution_count": 4,
   "id": "39dc2987",
   "metadata": {},
   "outputs": [
    {
     "name": "stdout",
     "output_type": "stream",
     "text": [
      "2 4 7 9 10 13\n"
     ]
    }
   ],
   "source": [
    "list = [int(x) for x in input().split()] # this make sure that we can take space seperated inputs"
   ]
  },
  {
   "cell_type": "code",
   "execution_count": 5,
   "id": "3ef7dd7f",
   "metadata": {},
   "outputs": [
    {
     "data": {
      "text/plain": [
       "[2, 4, 7, 9, 10, 13]"
      ]
     },
     "execution_count": 5,
     "metadata": {},
     "output_type": "execute_result"
    }
   ],
   "source": [
    "list"
   ]
  },
  {
   "cell_type": "code",
   "execution_count": 6,
   "id": "19b37623",
   "metadata": {},
   "outputs": [
    {
     "name": "stdout",
     "output_type": "stream",
     "text": [
      "7\n"
     ]
    }
   ],
   "source": [
    "ele = int(input())"
   ]
  },
  {
   "cell_type": "code",
   "execution_count": 7,
   "id": "89c146f0",
   "metadata": {},
   "outputs": [
    {
     "name": "stdout",
     "output_type": "stream",
     "text": [
      "2\n"
     ]
    }
   ],
   "source": [
    "is_found = False # here we are intiliasing the is_found as Fasle as it is not yet found\n",
    "for i in range(len(list)):  \n",
    "    if list[i] == ele:\n",
    "        print(i)\n",
    "        is_found = True\n",
    "        break\n",
    "if is_found is False:\n",
    "    print(-1)"
   ]
  },
  {
   "cell_type": "code",
   "execution_count": 8,
   "id": "c45719e6",
   "metadata": {},
   "outputs": [
    {
     "name": "stdout",
     "output_type": "stream",
     "text": [
      "12\n"
     ]
    }
   ],
   "source": [
    "ela = int(input()) # here since the ela is not there in the given list thats why it will come false"
   ]
  },
  {
   "cell_type": "code",
   "execution_count": 9,
   "id": "05ba7331",
   "metadata": {},
   "outputs": [
    {
     "name": "stdout",
     "output_type": "stream",
     "text": [
      "-1\n"
     ]
    }
   ],
   "source": [
    "is_found = False\n",
    "for i in range(len(list)):\n",
    "    if list[i] == ela:\n",
    "        print(i)\n",
    "        is_found = True\n",
    "        break\n",
    "if is_found is False:\n",
    "    print(-1)"
   ]
  },
  {
   "cell_type": "markdown",
   "id": "d7663a46",
   "metadata": {},
   "source": [
    "## Linear Search through Function"
   ]
  },
  {
   "cell_type": "code",
   "execution_count": 16,
   "id": "087c68ca",
   "metadata": {},
   "outputs": [
    {
     "name": "stdout",
     "output_type": "stream",
     "text": [
      "5\n"
     ]
    }
   ],
   "source": [
    "def linear_search(li,ele): # here we are using function to make the linear search work\n",
    "    # li is the list \n",
    "    # ele is the element to be searched\n",
    "    for i in range(len(li)): # this is the main line of code as it helps in searching the range\n",
    "        if li[i] == ele:\n",
    "            return i\n",
    "    return -1\n",
    "\n",
    "li = [1,2,3,4,5,6]\n",
    "index = linear_search(li,6)\n",
    "print(index)"
   ]
  },
  {
   "cell_type": "code",
   "execution_count": null,
   "id": "31de19f7",
   "metadata": {},
   "outputs": [],
   "source": []
  }
 ],
 "metadata": {
  "kernelspec": {
   "display_name": "Python 3 (ipykernel)",
   "language": "python",
   "name": "python3"
  },
  "language_info": {
   "codemirror_mode": {
    "name": "ipython",
    "version": 3
   },
   "file_extension": ".py",
   "mimetype": "text/x-python",
   "name": "python",
   "nbconvert_exporter": "python",
   "pygments_lexer": "ipython3",
   "version": "3.9.7"
  }
 },
 "nbformat": 4,
 "nbformat_minor": 5
}
