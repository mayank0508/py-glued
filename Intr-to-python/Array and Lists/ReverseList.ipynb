{
 "cells": [
  {
   "cell_type": "markdown",
   "id": "3ec0fb72",
   "metadata": {},
   "source": [
    "# Reverse List"
   ]
  },
  {
   "cell_type": "code",
   "execution_count": 4,
   "id": "38ffecfa",
   "metadata": {},
   "outputs": [
    {
     "name": "stdout",
     "output_type": "stream",
     "text": [
      "[6, 5, 4, 3, 2, 1]\n"
     ]
    }
   ],
   "source": [
    "def reverse_l(li): # this is the function for swaping the the numbers\n",
    "    length = len(li) \n",
    "    for i in range(length//2):\n",
    "        li[i], li[length-i-1] = li[length-i-1], li[i] # this the main part of the list\n",
    "\n",
    "li = [1,2,3,4,5,6] # swaping \n",
    "reverse_l(li)\n",
    "print(li)"
   ]
  },
  {
   "cell_type": "code",
   "execution_count": 7,
   "id": "e8a3128e",
   "metadata": {},
   "outputs": [
    {
     "name": "stdout",
     "output_type": "stream",
     "text": [
      "[6, 5, 4, 3, 2, 1]\n"
     ]
    }
   ],
   "source": [
    "def reverse_2(li): # this is the function for swaping the the numbers\n",
    "    length = len(li) \n",
    "    for i in range(length//2):\n",
    "        li[i], li[-i-1] = li[-i-1], li[i] # this the main part of the list\n",
    "\n",
    "# here we have used the concept of negative indexing !!\n",
    "        \n",
    "li = [1,2,3,4,5,6] # swaping \n",
    "reverse_2(li)\n",
    "print(li)"
   ]
  },
  {
   "cell_type": "code",
   "execution_count": 8,
   "id": "3dbb693a",
   "metadata": {},
   "outputs": [
    {
     "data": {
      "text/plain": [
       "[6, 5, 4, 3, 2, 1]"
      ]
     },
     "execution_count": 8,
     "metadata": {},
     "output_type": "execute_result"
    }
   ],
   "source": [
    "li"
   ]
  },
  {
   "cell_type": "code",
   "execution_count": 9,
   "id": "f4f64cb3",
   "metadata": {},
   "outputs": [
    {
     "data": {
      "text/plain": [
       "[3, 4]"
      ]
     },
     "execution_count": 9,
     "metadata": {},
     "output_type": "execute_result"
    }
   ],
   "source": [
    "li[3:1:-1]"
   ]
  },
  {
   "cell_type": "code",
   "execution_count": 10,
   "id": "1be4f800",
   "metadata": {},
   "outputs": [
    {
     "data": {
      "text/plain": [
       "[1, 2, 3, 4, 5, 6]"
      ]
     },
     "execution_count": 10,
     "metadata": {},
     "output_type": "execute_result"
    }
   ],
   "source": [
    "li[::-1] # this simple trick here is enough to find the reverse list of a certain list"
   ]
  },
  {
   "cell_type": "code",
   "execution_count": 11,
   "id": "3e8a605a",
   "metadata": {},
   "outputs": [
    {
     "data": {
      "text/plain": [
       "[3, 4, 5, 6]"
      ]
     },
     "execution_count": 11,
     "metadata": {},
     "output_type": "execute_result"
    }
   ],
   "source": [
    "li[3::-1]"
   ]
  },
  {
   "cell_type": "code",
   "execution_count": 12,
   "id": "3fcd7540",
   "metadata": {},
   "outputs": [
    {
     "data": {
      "text/plain": [
       "[1, 2, 3]"
      ]
     },
     "execution_count": 12,
     "metadata": {},
     "output_type": "execute_result"
    }
   ],
   "source": [
    "li[:2:-1]"
   ]
  },
  {
   "cell_type": "code",
   "execution_count": 13,
   "id": "9a3acf67",
   "metadata": {},
   "outputs": [
    {
     "data": {
      "text/plain": [
       "[5, 3]"
      ]
     },
     "execution_count": 13,
     "metadata": {},
     "output_type": "execute_result"
    }
   ],
   "source": [
    "li[1:4:2]"
   ]
  },
  {
   "cell_type": "code",
   "execution_count": 14,
   "id": "9f95a6b4",
   "metadata": {},
   "outputs": [
    {
     "data": {
      "text/plain": [
       "[6, 4]"
      ]
     },
     "execution_count": 14,
     "metadata": {},
     "output_type": "execute_result"
    }
   ],
   "source": [
    "li[0:4:2]"
   ]
  },
  {
   "cell_type": "code",
   "execution_count": 16,
   "id": "2fce5d5e",
   "metadata": {},
   "outputs": [],
   "source": [
    "li_2 = [2,4,6,8,10]"
   ]
  },
  {
   "cell_type": "code",
   "execution_count": 17,
   "id": "869e28c7",
   "metadata": {},
   "outputs": [
    {
     "data": {
      "text/plain": [
       "[10, 8, 6, 4, 2]"
      ]
     },
     "execution_count": 17,
     "metadata": {},
     "output_type": "execute_result"
    }
   ],
   "source": [
    "li_2[::-1]"
   ]
  },
  {
   "cell_type": "code",
   "execution_count": 18,
   "id": "586bbae5",
   "metadata": {},
   "outputs": [
    {
     "data": {
      "text/plain": [
       "[2, 4, 6, 8, 10]"
      ]
     },
     "execution_count": 18,
     "metadata": {},
     "output_type": "execute_result"
    }
   ],
   "source": [
    "li_2 # here we can see that even after reversing the list the value of the li_2 is still same, so for that we need to point the \n",
    "# value of the l"
   ]
  },
  {
   "cell_type": "code",
   "execution_count": null,
   "id": "5bb3c3ad",
   "metadata": {},
   "outputs": [],
   "source": []
  }
 ],
 "metadata": {
  "kernelspec": {
   "display_name": "Python 3 (ipykernel)",
   "language": "python",
   "name": "python3"
  },
  "language_info": {
   "codemirror_mode": {
    "name": "ipython",
    "version": 3
   },
   "file_extension": ".py",
   "mimetype": "text/x-python",
   "name": "python",
   "nbconvert_exporter": "python",
   "pygments_lexer": "ipython3",
   "version": "3.9.7"
  }
 },
 "nbformat": 4,
 "nbformat_minor": 5
}
