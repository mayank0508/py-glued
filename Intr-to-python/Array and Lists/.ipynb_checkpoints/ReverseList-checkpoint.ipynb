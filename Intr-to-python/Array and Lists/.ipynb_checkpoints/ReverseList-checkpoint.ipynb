{
 "cells": [
  {
   "cell_type": "markdown",
   "id": "9e83549e",
   "metadata": {},
   "source": [
    "# Reverse List"
   ]
  },
  {
   "cell_type": "code",
   "execution_count": 4,
   "id": "38ffecfa",
   "metadata": {},
   "outputs": [
    {
     "name": "stdout",
     "output_type": "stream",
     "text": [
      "[6, 5, 4, 3, 2, 1]\n"
     ]
    }
   ],
   "source": [
    "def reverse_l(li): # this is the function for swaping the the numbers\n",
    "    length = len(li) \n",
    "    for i in range(length//2):\n",
    "        li[i], li[length-i-1] = li[length-i-1], li[i] # this the main part of the list\n",
    "\n",
    "li = [1,2,3,4,5,6] # swaping \n",
    "reverse_l(li)\n",
    "print(li)"
   ]
  },
  {
   "cell_type": "code",
   "execution_count": 6,
   "id": "a27c7ba2",
   "metadata": {},
   "outputs": [
    {
     "name": "stdout",
     "output_type": "stream",
     "text": [
      "[6, 5, 4, 3, 2, 1]\n"
     ]
    }
   ],
   "source": [
    "def reverse_2(li): # this is the function for swaping the the numbers\n",
    "    length = len(li) \n",
    "    for i in range(length//2):\n",
    "        li[i], li[-i-1] = li[-i-1], li[i] # this the main part of the list\n",
    "\n",
    "# here we have used the concept of negative indexing !!\n",
    "        \n",
    "li = [1,2,3,4,5,6] # swaping \n",
    "reverse_2(li)\n",
    "print(li)"
   ]
  }
 ],
 "metadata": {
  "kernelspec": {
   "display_name": "Python 3 (ipykernel)",
   "language": "python",
   "name": "python3"
  },
  "language_info": {
   "codemirror_mode": {
    "name": "ipython",
    "version": 3
   },
   "file_extension": ".py",
   "mimetype": "text/x-python",
   "name": "python",
   "nbconvert_exporter": "python",
   "pygments_lexer": "ipython3",
   "version": "3.9.7"
  }
 },
 "nbformat": 4,
 "nbformat_minor": 5
}
