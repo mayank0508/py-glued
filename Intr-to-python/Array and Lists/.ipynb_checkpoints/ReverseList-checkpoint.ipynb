{
 "cells": [
  {
   "cell_type": "markdown",
   "id": "8268e9d8",
   "metadata": {},
   "source": [
    "# Reverse List"
   ]
  },
  {
   "cell_type": "code",
   "execution_count": null,
   "id": "38ffecfa",
   "metadata": {},
   "outputs": [],
   "source": [
    "li = [1,2,3,4,5,6] # swaping\n",
    "reverse_l(li)\n",
    "print(li)"
   ]
  }
 ],
 "metadata": {
  "kernelspec": {
   "display_name": "Python 3 (ipykernel)",
   "language": "python",
   "name": "python3"
  },
  "language_info": {
   "codemirror_mode": {
    "name": "ipython",
    "version": 3
   },
   "file_extension": ".py",
   "mimetype": "text/x-python",
   "name": "python",
   "nbconvert_exporter": "python",
   "pygments_lexer": "ipython3",
   "version": "3.9.7"
  }
 },
 "nbformat": 4,
 "nbformat_minor": 5
}
