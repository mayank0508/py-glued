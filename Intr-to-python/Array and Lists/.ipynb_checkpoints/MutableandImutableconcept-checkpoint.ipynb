{
 "cells": [
  {
   "cell_type": "markdown",
   "id": "a5cbff44",
   "metadata": {},
   "source": [
    "#### Immutable "
   ]
  },
  {
   "cell_type": "code",
   "execution_count": 9,
   "id": "9ffb57c0",
   "metadata": {},
   "outputs": [
    {
     "name": "stdout",
     "output_type": "stream",
     "text": [
      "3\n"
     ]
    }
   ],
   "source": [
    "x = 3\n",
    "a = 3\n",
    "print(x)"
   ]
  },
  {
   "cell_type": "code",
   "execution_count": 2,
   "id": "85fe6070",
   "metadata": {},
   "outputs": [
    {
     "data": {
      "text/plain": [
       "1278815594864"
      ]
     },
     "execution_count": 2,
     "metadata": {},
     "output_type": "execute_result"
    }
   ],
   "source": [
    "id(x)"
   ]
  },
  {
   "cell_type": "code",
   "execution_count": 3,
   "id": "b2ee10c2",
   "metadata": {},
   "outputs": [
    {
     "data": {
      "text/plain": [
       "1278815594864"
      ]
     },
     "execution_count": 3,
     "metadata": {},
     "output_type": "execute_result"
    }
   ],
   "source": [
    "id(a)"
   ]
  },
  {
   "cell_type": "code",
   "execution_count": 4,
   "id": "d5b0e71a",
   "metadata": {},
   "outputs": [],
   "source": [
    "# here we can see how they are immutable and the address of both of the vars are same"
   ]
  },
  {
   "cell_type": "code",
   "execution_count": 5,
   "id": "2c34eac7",
   "metadata": {},
   "outputs": [],
   "source": [
    "a = 4"
   ]
  },
  {
   "cell_type": "code",
   "execution_count": 6,
   "id": "ba22318c",
   "metadata": {},
   "outputs": [
    {
     "data": {
      "text/plain": [
       "1278815594896"
      ]
     },
     "execution_count": 6,
     "metadata": {},
     "output_type": "execute_result"
    }
   ],
   "source": [
    "id(a)"
   ]
  },
  {
   "cell_type": "code",
   "execution_count": 7,
   "id": "ef6a67d6",
   "metadata": {},
   "outputs": [
    {
     "data": {
      "text/plain": [
       "3"
      ]
     },
     "execution_count": 7,
     "metadata": {},
     "output_type": "execute_result"
    }
   ],
   "source": [
    "x"
   ]
  },
  {
   "cell_type": "code",
   "execution_count": 8,
   "id": "f131ef17",
   "metadata": {},
   "outputs": [
    {
     "data": {
      "text/plain": [
       "4"
      ]
     },
     "execution_count": 8,
     "metadata": {},
     "output_type": "execute_result"
    }
   ],
   "source": [
    "a"
   ]
  },
  {
   "cell_type": "markdown",
   "id": "e28f7864",
   "metadata": {},
   "source": [
    "#### Mutable"
   ]
  },
  {
   "cell_type": "code",
   "execution_count": 17,
   "id": "777c6c95",
   "metadata": {},
   "outputs": [],
   "source": [
    "li = [1,2,3,4]\n",
    "li2 = li\n",
    "li2 = [2,4,6,8]\n",
    "li2[3] = 5"
   ]
  },
  {
   "cell_type": "code",
   "execution_count": 18,
   "id": "4ddbf30d",
   "metadata": {},
   "outputs": [
    {
     "data": {
      "text/plain": [
       "[1, 2, 3, 4]"
      ]
     },
     "execution_count": 18,
     "metadata": {},
     "output_type": "execute_result"
    }
   ],
   "source": [
    "li"
   ]
  },
  {
   "cell_type": "code",
   "execution_count": 19,
   "id": "b1b1e264",
   "metadata": {},
   "outputs": [
    {
     "data": {
      "text/plain": [
       "[2, 4, 6, 5]"
      ]
     },
     "execution_count": 19,
     "metadata": {},
     "output_type": "execute_result"
    }
   ],
   "source": [
    "li2"
   ]
  },
  {
   "cell_type": "code",
   "execution_count": 20,
   "id": "a719e7ff",
   "metadata": {},
   "outputs": [],
   "source": [
    "# here we can see that the list however are not immutable"
   ]
  },
  {
   "cell_type": "code",
   "execution_count": null,
   "id": "dd3a7aa5",
   "metadata": {},
   "outputs": [],
   "source": []
  }
 ],
 "metadata": {
  "kernelspec": {
   "display_name": "Python 3 (ipykernel)",
   "language": "python",
   "name": "python3"
  },
  "language_info": {
   "codemirror_mode": {
    "name": "ipython",
    "version": 3
   },
   "file_extension": ".py",
   "mimetype": "text/x-python",
   "name": "python",
   "nbconvert_exporter": "python",
   "pygments_lexer": "ipython3",
   "version": "3.9.7"
  }
 },
 "nbformat": 4,
 "nbformat_minor": 5
}
