{
 "cells": [
  {
   "cell_type": "markdown",
   "id": "2a1d3be0",
   "metadata": {},
   "source": [
    "# List Items"
   ]
  },
  {
   "cell_type": "code",
   "execution_count": 3,
   "id": "1c83addf",
   "metadata": {},
   "outputs": [],
   "source": [
    "li = []"
   ]
  },
  {
   "cell_type": "code",
   "execution_count": 4,
   "id": "32d55ef0",
   "metadata": {},
   "outputs": [
    {
     "data": {
      "text/plain": [
       "list"
      ]
     },
     "execution_count": 4,
     "metadata": {},
     "output_type": "execute_result"
    }
   ],
   "source": [
    "type(li)"
   ]
  },
  {
   "cell_type": "code",
   "execution_count": 5,
   "id": "49c6d285",
   "metadata": {},
   "outputs": [],
   "source": [
    "la = []"
   ]
  },
  {
   "cell_type": "code",
   "execution_count": 6,
   "id": "907345cc",
   "metadata": {},
   "outputs": [],
   "source": [
    "la = [1,2,3]"
   ]
  },
  {
   "cell_type": "code",
   "execution_count": 7,
   "id": "d41dfd64",
   "metadata": {},
   "outputs": [
    {
     "data": {
      "text/plain": [
       "list"
      ]
     },
     "execution_count": 7,
     "metadata": {},
     "output_type": "execute_result"
    }
   ],
   "source": [
    "type(la)"
   ]
  },
  {
   "cell_type": "code",
   "execution_count": 8,
   "id": "b8696ad3",
   "metadata": {},
   "outputs": [],
   "source": [
    "la = [1,2,'maya', 3.4] # this is the way lists are defined in python"
   ]
  },
  {
   "cell_type": "code",
   "execution_count": 14,
   "id": "af95e92d",
   "metadata": {},
   "outputs": [
    {
     "data": {
      "text/plain": [
       "[1, 2, 'maya', 3.4]"
      ]
     },
     "execution_count": 14,
     "metadata": {},
     "output_type": "execute_result"
    }
   ],
   "source": [
    "la"
   ]
  },
  {
   "cell_type": "markdown",
   "id": "87748c92",
   "metadata": {},
   "source": [
    "### Access and indexing the numbers"
   ]
  },
  {
   "cell_type": "code",
   "execution_count": 10,
   "id": "b1bb1764",
   "metadata": {},
   "outputs": [
    {
     "data": {
      "text/plain": [
       "3.4"
      ]
     },
     "execution_count": 10,
     "metadata": {},
     "output_type": "execute_result"
    }
   ],
   "source": [
    "la[3]"
   ]
  },
  {
   "cell_type": "code",
   "execution_count": 12,
   "id": "46704333",
   "metadata": {},
   "outputs": [
    {
     "data": {
      "text/plain": [
       "1"
      ]
     },
     "execution_count": 12,
     "metadata": {},
     "output_type": "execute_result"
    }
   ],
   "source": [
    "la[0]"
   ]
  },
  {
   "cell_type": "code",
   "execution_count": 13,
   "id": "7a31f9f9",
   "metadata": {},
   "outputs": [
    {
     "ename": "IndexError",
     "evalue": "list index out of range",
     "output_type": "error",
     "traceback": [
      "\u001b[1;31m---------------------------------------------------------------------------\u001b[0m",
      "\u001b[1;31mIndexError\u001b[0m                                Traceback (most recent call last)",
      "\u001b[1;32m~\\AppData\\Local\\Temp/ipykernel_12148/1783197707.py\u001b[0m in \u001b[0;36m<module>\u001b[1;34m\u001b[0m\n\u001b[1;32m----> 1\u001b[1;33m \u001b[0mla\u001b[0m\u001b[1;33m[\u001b[0m\u001b[1;36m5\u001b[0m\u001b[1;33m]\u001b[0m\u001b[1;33m\u001b[0m\u001b[1;33m\u001b[0m\u001b[0m\n\u001b[0m",
      "\u001b[1;31mIndexError\u001b[0m: list index out of range"
     ]
    }
   ],
   "source": [
    "la[5] # you can change only the elements that are inside the list"
   ]
  },
  {
   "cell_type": "code",
   "execution_count": 16,
   "id": "7d851317",
   "metadata": {},
   "outputs": [],
   "source": [
    "la[0] = 3"
   ]
  },
  {
   "cell_type": "code",
   "execution_count": 17,
   "id": "a257cac6",
   "metadata": {},
   "outputs": [
    {
     "data": {
      "text/plain": [
       "[3, 2, 'maya', 3.4]"
      ]
     },
     "execution_count": 17,
     "metadata": {},
     "output_type": "execute_result"
    }
   ],
   "source": [
    "la"
   ]
  },
  {
   "cell_type": "markdown",
   "id": "3bfbc653",
   "metadata": {},
   "source": [
    "#### Sliceing"
   ]
  },
  {
   "cell_type": "code",
   "execution_count": 19,
   "id": "928b07ba",
   "metadata": {},
   "outputs": [
    {
     "data": {
      "text/plain": [
       "[2]"
      ]
     },
     "execution_count": 19,
     "metadata": {},
     "output_type": "execute_result"
    }
   ],
   "source": [
    "la[1:2] # this gives you index from 1 to 1"
   ]
  },
  {
   "cell_type": "code",
   "execution_count": 20,
   "id": "ebf9eda6",
   "metadata": {},
   "outputs": [
    {
     "data": {
      "text/plain": [
       "[2, 'maya']"
      ]
     },
     "execution_count": 20,
     "metadata": {},
     "output_type": "execute_result"
    }
   ],
   "source": [
    "la[1:3] # this gives you index from 1 to 2"
   ]
  },
  {
   "cell_type": "code",
   "execution_count": 21,
   "id": "5264d705",
   "metadata": {},
   "outputs": [
    {
     "data": {
      "text/plain": [
       "[3, 2, 'maya', 3.4]"
      ]
     },
     "execution_count": 21,
     "metadata": {},
     "output_type": "execute_result"
    }
   ],
   "source": [
    "la[:] # this gives you every index"
   ]
  },
  {
   "cell_type": "code",
   "execution_count": 22,
   "id": "da04f3ad",
   "metadata": {},
   "outputs": [
    {
     "data": {
      "text/plain": [
       "['maya', 3.4]"
      ]
     },
     "execution_count": 22,
     "metadata": {},
     "output_type": "execute_result"
    }
   ],
   "source": [
    "la[2:] # this gieves you every index after 2nd index"
   ]
  },
  {
   "cell_type": "markdown",
   "id": "2fd1ae00",
   "metadata": {},
   "source": [
    "##### Insert and append elements in the list"
   ]
  },
  {
   "cell_type": "code",
   "execution_count": 26,
   "id": "8d17a4a2",
   "metadata": {},
   "outputs": [],
   "source": [
    "la.append(6.9)"
   ]
  },
  {
   "cell_type": "code",
   "execution_count": 27,
   "id": "632b8d11",
   "metadata": {},
   "outputs": [
    {
     "data": {
      "text/plain": [
       "[3, 2, 'maya', 3.4, 6.9]"
      ]
     },
     "execution_count": 27,
     "metadata": {},
     "output_type": "execute_result"
    }
   ],
   "source": [
    "la"
   ]
  },
  {
   "cell_type": "code",
   "execution_count": 28,
   "id": "286f5c67",
   "metadata": {},
   "outputs": [],
   "source": [
    "la.insert(1,\"Mayank\") # it does not removes the prior element but rather pushed it down the list"
   ]
  },
  {
   "cell_type": "code",
   "execution_count": 29,
   "id": "f097b146",
   "metadata": {},
   "outputs": [
    {
     "data": {
      "text/plain": [
       "[3, 'Mayank', 2, 'maya', 3.4, 6.9]"
      ]
     },
     "execution_count": 29,
     "metadata": {},
     "output_type": "execute_result"
    }
   ],
   "source": [
    "la"
   ]
  },
  {
   "cell_type": "code",
   "execution_count": 32,
   "id": "3e425038",
   "metadata": {},
   "outputs": [],
   "source": [
    "la.insert(69,'ranu') # it appends to the last index if the current number of elements are not present"
   ]
  },
  {
   "cell_type": "code",
   "execution_count": 31,
   "id": "5fc27f81",
   "metadata": {},
   "outputs": [
    {
     "data": {
      "text/plain": [
       "[3, 'Mayank', 2, 'maya', 3.4, 6.9, 'ranu']"
      ]
     },
     "execution_count": 31,
     "metadata": {},
     "output_type": "execute_result"
    }
   ],
   "source": [
    "la"
   ]
  },
  {
   "cell_type": "code",
   "execution_count": 33,
   "id": "c24e058d",
   "metadata": {},
   "outputs": [],
   "source": [
    "la.append([9,19,29]) # this will not insert the numbers directly rather indirectly"
   ]
  },
  {
   "cell_type": "code",
   "execution_count": 34,
   "id": "a488b3b1",
   "metadata": {},
   "outputs": [
    {
     "data": {
      "text/plain": [
       "[3, 'Mayank', 2, 'maya', 3.4, 6.9, 'ranu', 'ranu', [9, 19, 29]]"
      ]
     },
     "execution_count": 34,
     "metadata": {},
     "output_type": "execute_result"
    }
   ],
   "source": [
    "la"
   ]
  },
  {
   "cell_type": "code",
   "execution_count": 36,
   "id": "d6b18fe6",
   "metadata": {},
   "outputs": [],
   "source": [
    " la.extend([96,420,9211]) # this solves the problem of append "
   ]
  },
  {
   "cell_type": "code",
   "execution_count": 37,
   "id": "5af01018",
   "metadata": {},
   "outputs": [
    {
     "data": {
      "text/plain": [
       "[3, 'Mayank', 2, 'maya', 3.4, 6.9, 'ranu', 'ranu', [9, 19, 29], 96, 420, 9211]"
      ]
     },
     "execution_count": 37,
     "metadata": {},
     "output_type": "execute_result"
    }
   ],
   "source": [
    "la"
   ]
  },
  {
   "cell_type": "markdown",
   "id": "d8a9c2c3",
   "metadata": {},
   "source": [
    "##### Removing elements form the list"
   ]
  },
  {
   "cell_type": "code",
   "execution_count": 38,
   "id": "8fcf1045",
   "metadata": {},
   "outputs": [
    {
     "data": {
      "text/plain": [
       "[3, 'Mayank', 2, 'maya', 3.4, 6.9, 'ranu', 'ranu', [9, 19, 29], 96, 420, 9211]"
      ]
     },
     "execution_count": 38,
     "metadata": {},
     "output_type": "execute_result"
    }
   ],
   "source": [
    "la"
   ]
  },
  {
   "cell_type": "code",
   "execution_count": 39,
   "id": "8eee9432",
   "metadata": {},
   "outputs": [],
   "source": [
    "la.remove('maya')"
   ]
  },
  {
   "cell_type": "code",
   "execution_count": 40,
   "id": "b0b65553",
   "metadata": {},
   "outputs": [
    {
     "data": {
      "text/plain": [
       "[3, 'Mayank', 2, 3.4, 6.9, 'ranu', 'ranu', [9, 19, 29], 96, 420, 9211]"
      ]
     },
     "execution_count": 40,
     "metadata": {},
     "output_type": "execute_result"
    }
   ],
   "source": [
    "la"
   ]
  },
  {
   "cell_type": "code",
   "execution_count": 42,
   "id": "2bf415ca",
   "metadata": {},
   "outputs": [],
   "source": [
    "la.remove('ranu') # here the first ranu will be removed"
   ]
  },
  {
   "cell_type": "code",
   "execution_count": 43,
   "id": "31323108",
   "metadata": {},
   "outputs": [
    {
     "data": {
      "text/plain": [
       "[3, 'Mayank', 2, 3.4, 6.9, 'ranu', [9, 19, 29], 96, 420, 9211]"
      ]
     },
     "execution_count": 43,
     "metadata": {},
     "output_type": "execute_result"
    }
   ],
   "source": [
    "la\n"
   ]
  },
  {
   "cell_type": "code",
   "execution_count": 44,
   "id": "6ac11615",
   "metadata": {},
   "outputs": [
    {
     "ename": "ValueError",
     "evalue": "list.remove(x): x not in list",
     "output_type": "error",
     "traceback": [
      "\u001b[1;31m---------------------------------------------------------------------------\u001b[0m",
      "\u001b[1;31mValueError\u001b[0m                                Traceback (most recent call last)",
      "\u001b[1;32m~\\AppData\\Local\\Temp/ipykernel_12148/1543790767.py\u001b[0m in \u001b[0;36m<module>\u001b[1;34m\u001b[0m\n\u001b[1;32m----> 1\u001b[1;33m \u001b[0mla\u001b[0m\u001b[1;33m.\u001b[0m\u001b[0mremove\u001b[0m\u001b[1;33m(\u001b[0m\u001b[1;34m'ma'\u001b[0m\u001b[1;33m)\u001b[0m\u001b[1;33m\u001b[0m\u001b[1;33m\u001b[0m\u001b[0m\n\u001b[0m",
      "\u001b[1;31mValueError\u001b[0m: list.remove(x): x not in list"
     ]
    }
   ],
   "source": [
    "la.remove('ma')"
   ]
  },
  {
   "cell_type": "code",
   "execution_count": null,
   "id": "20b3a1b2",
   "metadata": {},
   "outputs": [],
   "source": []
  }
 ],
 "metadata": {
  "kernelspec": {
   "display_name": "Python 3 (ipykernel)",
   "language": "python",
   "name": "python3"
  },
  "language_info": {
   "codemirror_mode": {
    "name": "ipython",
    "version": 3
   },
   "file_extension": ".py",
   "mimetype": "text/x-python",
   "name": "python",
   "nbconvert_exporter": "python",
   "pygments_lexer": "ipython3",
   "version": "3.9.7"
  }
 },
 "nbformat": 4,
 "nbformat_minor": 5
}
