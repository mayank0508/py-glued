{
 "cells": [
  {
   "cell_type": "markdown",
   "id": "2a1d3be0",
   "metadata": {},
   "source": [
    "# List Items"
   ]
  },
  {
   "cell_type": "code",
   "execution_count": 3,
   "id": "1c83addf",
   "metadata": {},
   "outputs": [],
   "source": [
    "li = []"
   ]
  },
  {
   "cell_type": "code",
   "execution_count": 4,
   "id": "32d55ef0",
   "metadata": {},
   "outputs": [
    {
     "data": {
      "text/plain": [
       "list"
      ]
     },
     "execution_count": 4,
     "metadata": {},
     "output_type": "execute_result"
    }
   ],
   "source": [
    "type(li)"
   ]
  },
  {
   "cell_type": "code",
   "execution_count": 5,
   "id": "49c6d285",
   "metadata": {},
   "outputs": [],
   "source": [
    "la = []"
   ]
  },
  {
   "cell_type": "code",
   "execution_count": 6,
   "id": "907345cc",
   "metadata": {},
   "outputs": [],
   "source": [
    "la = [1,2,3]"
   ]
  },
  {
   "cell_type": "code",
   "execution_count": 7,
   "id": "d41dfd64",
   "metadata": {},
   "outputs": [
    {
     "data": {
      "text/plain": [
       "list"
      ]
     },
     "execution_count": 7,
     "metadata": {},
     "output_type": "execute_result"
    }
   ],
   "source": [
    "type(la)"
   ]
  },
  {
   "cell_type": "code",
   "execution_count": 8,
   "id": "b8696ad3",
   "metadata": {},
   "outputs": [],
   "source": [
    "la = [1,2,'maya', 3.4] # this is the way lists are defined in python"
   ]
  },
  {
   "cell_type": "code",
   "execution_count": 14,
   "id": "af95e92d",
   "metadata": {},
   "outputs": [
    {
     "data": {
      "text/plain": [
       "[1, 2, 'maya', 3.4]"
      ]
     },
     "execution_count": 14,
     "metadata": {},
     "output_type": "execute_result"
    }
   ],
   "source": [
    "la"
   ]
  },
  {
   "cell_type": "markdown",
   "id": "769e038e",
   "metadata": {},
   "source": [
    "### Access and indexing the numbers"
   ]
  },
  {
   "cell_type": "code",
   "execution_count": 10,
   "id": "2a4e8f96",
   "metadata": {},
   "outputs": [
    {
     "data": {
      "text/plain": [
       "3.4"
      ]
     },
     "execution_count": 10,
     "metadata": {},
     "output_type": "execute_result"
    }
   ],
   "source": [
    "la[3]"
   ]
  },
  {
   "cell_type": "code",
   "execution_count": 12,
   "id": "57a37549",
   "metadata": {},
   "outputs": [
    {
     "data": {
      "text/plain": [
       "1"
      ]
     },
     "execution_count": 12,
     "metadata": {},
     "output_type": "execute_result"
    }
   ],
   "source": [
    "la[0]"
   ]
  },
  {
   "cell_type": "code",
   "execution_count": 13,
   "id": "c7b51d1d",
   "metadata": {},
   "outputs": [
    {
     "ename": "IndexError",
     "evalue": "list index out of range",
     "output_type": "error",
     "traceback": [
      "\u001b[1;31m---------------------------------------------------------------------------\u001b[0m",
      "\u001b[1;31mIndexError\u001b[0m                                Traceback (most recent call last)",
      "\u001b[1;32m~\\AppData\\Local\\Temp/ipykernel_12148/1783197707.py\u001b[0m in \u001b[0;36m<module>\u001b[1;34m\u001b[0m\n\u001b[1;32m----> 1\u001b[1;33m \u001b[0mla\u001b[0m\u001b[1;33m[\u001b[0m\u001b[1;36m5\u001b[0m\u001b[1;33m]\u001b[0m\u001b[1;33m\u001b[0m\u001b[1;33m\u001b[0m\u001b[0m\n\u001b[0m",
      "\u001b[1;31mIndexError\u001b[0m: list index out of range"
     ]
    }
   ],
   "source": [
    "la[5] # you can change only the elements that are inside the list"
   ]
  },
  {
   "cell_type": "code",
   "execution_count": 16,
   "id": "9edabb9e",
   "metadata": {},
   "outputs": [],
   "source": [
    "la[0] = 3"
   ]
  },
  {
   "cell_type": "code",
   "execution_count": 17,
   "id": "fc5bc55e",
   "metadata": {},
   "outputs": [
    {
     "data": {
      "text/plain": [
       "[3, 2, 'maya', 3.4]"
      ]
     },
     "execution_count": 17,
     "metadata": {},
     "output_type": "execute_result"
    }
   ],
   "source": [
    "la"
   ]
  },
  {
   "cell_type": "markdown",
   "id": "6519585d",
   "metadata": {},
   "source": [
    "#### Sliceing"
   ]
  },
  {
   "cell_type": "code",
   "execution_count": 19,
   "id": "7da43312",
   "metadata": {},
   "outputs": [
    {
     "data": {
      "text/plain": [
       "[2]"
      ]
     },
     "execution_count": 19,
     "metadata": {},
     "output_type": "execute_result"
    }
   ],
   "source": [
    "la[1:2] # this gives you index from 1 to 1"
   ]
  },
  {
   "cell_type": "code",
   "execution_count": 20,
   "id": "0edc676e",
   "metadata": {},
   "outputs": [
    {
     "data": {
      "text/plain": [
       "[2, 'maya']"
      ]
     },
     "execution_count": 20,
     "metadata": {},
     "output_type": "execute_result"
    }
   ],
   "source": [
    "la[1:3] # this gives you index from 1 to 2"
   ]
  },
  {
   "cell_type": "code",
   "execution_count": 21,
   "id": "5f3ad485",
   "metadata": {},
   "outputs": [
    {
     "data": {
      "text/plain": [
       "[3, 2, 'maya', 3.4]"
      ]
     },
     "execution_count": 21,
     "metadata": {},
     "output_type": "execute_result"
    }
   ],
   "source": [
    "la[:] # this gives you every index"
   ]
  },
  {
   "cell_type": "code",
   "execution_count": 22,
   "id": "cf1243a9",
   "metadata": {},
   "outputs": [
    {
     "data": {
      "text/plain": [
       "['maya', 3.4]"
      ]
     },
     "execution_count": 22,
     "metadata": {},
     "output_type": "execute_result"
    }
   ],
   "source": [
    "la[2:] # this gieves you every index after 2nd index"
   ]
  },
  {
   "cell_type": "markdown",
   "id": "b2e7324b",
   "metadata": {},
   "source": [
    "##### Insert and append elements in the list"
   ]
  },
  {
   "cell_type": "code",
   "execution_count": 26,
   "id": "2cdc7621",
   "metadata": {},
   "outputs": [],
   "source": [
    "la.append(6.9)"
   ]
  },
  {
   "cell_type": "code",
   "execution_count": 27,
   "id": "509be4c6",
   "metadata": {},
   "outputs": [
    {
     "data": {
      "text/plain": [
       "[3, 2, 'maya', 3.4, 6.9]"
      ]
     },
     "execution_count": 27,
     "metadata": {},
     "output_type": "execute_result"
    }
   ],
   "source": [
    "la"
   ]
  },
  {
   "cell_type": "code",
   "execution_count": 28,
   "id": "de06be96",
   "metadata": {},
   "outputs": [],
   "source": [
    "la.insert(1,\"Mayank\") # it does not removes the prior element but rather pushed it down the list"
   ]
  },
  {
   "cell_type": "code",
   "execution_count": 29,
   "id": "7853f8fb",
   "metadata": {},
   "outputs": [
    {
     "data": {
      "text/plain": [
       "[3, 'Mayank', 2, 'maya', 3.4, 6.9]"
      ]
     },
     "execution_count": 29,
     "metadata": {},
     "output_type": "execute_result"
    }
   ],
   "source": [
    "la"
   ]
  },
  {
   "cell_type": "code",
   "execution_count": 32,
   "id": "460a6037",
   "metadata": {},
   "outputs": [],
   "source": [
    "la.insert(69,'ranu') # it appends to the last index if the current number of elements are not present"
   ]
  },
  {
   "cell_type": "code",
   "execution_count": 31,
   "id": "0364e8b7",
   "metadata": {},
   "outputs": [
    {
     "data": {
      "text/plain": [
       "[3, 'Mayank', 2, 'maya', 3.4, 6.9, 'ranu']"
      ]
     },
     "execution_count": 31,
     "metadata": {},
     "output_type": "execute_result"
    }
   ],
   "source": [
    "la"
   ]
  },
  {
   "cell_type": "code",
   "execution_count": 33,
   "id": "1529c8ac",
   "metadata": {},
   "outputs": [],
   "source": [
    "la.append([9,19,29]) # this will not insert the numbers directly rather indirectly"
   ]
  },
  {
   "cell_type": "code",
   "execution_count": 34,
   "id": "3c854478",
   "metadata": {},
   "outputs": [
    {
     "data": {
      "text/plain": [
       "[3, 'Mayank', 2, 'maya', 3.4, 6.9, 'ranu', 'ranu', [9, 19, 29]]"
      ]
     },
     "execution_count": 34,
     "metadata": {},
     "output_type": "execute_result"
    }
   ],
   "source": [
    "la"
   ]
  },
  {
   "cell_type": "code",
   "execution_count": 36,
   "id": "d6ab2ca5",
   "metadata": {},
   "outputs": [],
   "source": [
    " la.extend([96,420,9211]) # this solves the problem of append "
   ]
  },
  {
   "cell_type": "code",
   "execution_count": 37,
   "id": "81a3d0bf",
   "metadata": {},
   "outputs": [
    {
     "data": {
      "text/plain": [
       "[3, 'Mayank', 2, 'maya', 3.4, 6.9, 'ranu', 'ranu', [9, 19, 29], 96, 420, 9211]"
      ]
     },
     "execution_count": 37,
     "metadata": {},
     "output_type": "execute_result"
    }
   ],
   "source": [
    "la"
   ]
  },
  {
   "cell_type": "markdown",
   "id": "39f2aa2c",
   "metadata": {},
   "source": [
    "##### Removing elements form the list"
   ]
  },
  {
   "cell_type": "code",
   "execution_count": 38,
   "id": "bfe8975c",
   "metadata": {},
   "outputs": [
    {
     "data": {
      "text/plain": [
       "[3, 'Mayank', 2, 'maya', 3.4, 6.9, 'ranu', 'ranu', [9, 19, 29], 96, 420, 9211]"
      ]
     },
     "execution_count": 38,
     "metadata": {},
     "output_type": "execute_result"
    }
   ],
   "source": [
    "la"
   ]
  },
  {
   "cell_type": "code",
   "execution_count": 39,
   "id": "b90830f3",
   "metadata": {},
   "outputs": [],
   "source": [
    "la.remove('maya')"
   ]
  },
  {
   "cell_type": "code",
   "execution_count": 40,
   "id": "71970687",
   "metadata": {},
   "outputs": [
    {
     "data": {
      "text/plain": [
       "[3, 'Mayank', 2, 3.4, 6.9, 'ranu', 'ranu', [9, 19, 29], 96, 420, 9211]"
      ]
     },
     "execution_count": 40,
     "metadata": {},
     "output_type": "execute_result"
    }
   ],
   "source": [
    "la"
   ]
  },
  {
   "cell_type": "code",
   "execution_count": 42,
   "id": "ef3626bd",
   "metadata": {},
   "outputs": [],
   "source": [
    "la.remove('ranu') # here the first ranu will be removed"
   ]
  },
  {
   "cell_type": "code",
   "execution_count": 43,
   "id": "db2bcfb9",
   "metadata": {},
   "outputs": [
    {
     "data": {
      "text/plain": [
       "[3, 'Mayank', 2, 3.4, 6.9, 'ranu', [9, 19, 29], 96, 420, 9211]"
      ]
     },
     "execution_count": 43,
     "metadata": {},
     "output_type": "execute_result"
    }
   ],
   "source": [
    "la\n"
   ]
  },
  {
   "cell_type": "code",
   "execution_count": 44,
   "id": "304bbaf5",
   "metadata": {},
   "outputs": [
    {
     "ename": "ValueError",
     "evalue": "list.remove(x): x not in list",
     "output_type": "error",
     "traceback": [
      "\u001b[1;31m---------------------------------------------------------------------------\u001b[0m",
      "\u001b[1;31mValueError\u001b[0m                                Traceback (most recent call last)",
      "\u001b[1;32m~\\AppData\\Local\\Temp/ipykernel_12148/1543790767.py\u001b[0m in \u001b[0;36m<module>\u001b[1;34m\u001b[0m\n\u001b[1;32m----> 1\u001b[1;33m \u001b[0mla\u001b[0m\u001b[1;33m.\u001b[0m\u001b[0mremove\u001b[0m\u001b[1;33m(\u001b[0m\u001b[1;34m'ma'\u001b[0m\u001b[1;33m)\u001b[0m\u001b[1;33m\u001b[0m\u001b[1;33m\u001b[0m\u001b[0m\n\u001b[0m",
      "\u001b[1;31mValueError\u001b[0m: list.remove(x): x not in list"
     ]
    }
   ],
   "source": [
    "la.remove('ma')"
   ]
  },
  {
   "cell_type": "code",
   "execution_count": 46,
   "id": "1488d5bd",
   "metadata": {},
   "outputs": [
    {
     "data": {
      "text/plain": [
       "9211"
      ]
     },
     "execution_count": 46,
     "metadata": {},
     "output_type": "execute_result"
    }
   ],
   "source": [
    "la.pop() # the last element will be removed"
   ]
  },
  {
   "cell_type": "code",
   "execution_count": 47,
   "id": "6092191c",
   "metadata": {},
   "outputs": [
    {
     "data": {
      "text/plain": [
       "[3, 'Mayank', 2, 3.4, 6.9, 'ranu', [9, 19, 29], 96, 420]"
      ]
     },
     "execution_count": 47,
     "metadata": {},
     "output_type": "execute_result"
    }
   ],
   "source": [
    "la "
   ]
  },
  {
   "cell_type": "code",
   "execution_count": 48,
   "id": "39245d94",
   "metadata": {},
   "outputs": [
    {
     "data": {
      "text/plain": [
       "3.4"
      ]
     },
     "execution_count": 48,
     "metadata": {},
     "output_type": "execute_result"
    }
   ],
   "source": [
    "la.pop(3) # here the particular index will be removed"
   ]
  },
  {
   "cell_type": "code",
   "execution_count": 49,
   "id": "75584dbe",
   "metadata": {},
   "outputs": [
    {
     "ename": "IndexError",
     "evalue": "pop index out of range",
     "output_type": "error",
     "traceback": [
      "\u001b[1;31m---------------------------------------------------------------------------\u001b[0m",
      "\u001b[1;31mIndexError\u001b[0m                                Traceback (most recent call last)",
      "\u001b[1;32m~\\AppData\\Local\\Temp/ipykernel_12148/1857980905.py\u001b[0m in \u001b[0;36m<module>\u001b[1;34m\u001b[0m\n\u001b[1;32m----> 1\u001b[1;33m \u001b[0mla\u001b[0m\u001b[1;33m.\u001b[0m\u001b[0mpop\u001b[0m\u001b[1;33m(\u001b[0m\u001b[1;36m33\u001b[0m\u001b[1;33m)\u001b[0m\u001b[1;33m\u001b[0m\u001b[1;33m\u001b[0m\u001b[0m\n\u001b[0m",
      "\u001b[1;31mIndexError\u001b[0m: pop index out of range"
     ]
    }
   ],
   "source": [
    "la.pop(33)"
   ]
  },
  {
   "cell_type": "code",
   "execution_count": 50,
   "id": "d32adbb0",
   "metadata": {},
   "outputs": [
    {
     "data": {
      "text/plain": [
       "8"
      ]
     },
     "execution_count": 50,
     "metadata": {},
     "output_type": "execute_result"
    }
   ],
   "source": [
    "len(la)"
   ]
  },
  {
   "cell_type": "code",
   "execution_count": 51,
   "id": "0a0d1494",
   "metadata": {},
   "outputs": [
    {
     "data": {
      "text/plain": [
       "[3, 'Mayank', 2, 6.9, 'ranu', [9, 19, 29], 96, 420]"
      ]
     },
     "execution_count": 51,
     "metadata": {},
     "output_type": "execute_result"
    }
   ],
   "source": [
    "la"
   ]
  },
  {
   "cell_type": "code",
   "execution_count": 1,
   "id": "0544b448",
   "metadata": {},
   "outputs": [],
   "source": [
    "# list always follow the structure of resizing the moment the list is filled !"
   ]
  },
  {
   "cell_type": "markdown",
   "id": "659fefec",
   "metadata": {},
   "source": [
    "#### Loops in a LIST"
   ]
  },
  {
   "cell_type": "code",
   "execution_count": 2,
   "id": "8a6ac5f6",
   "metadata": {},
   "outputs": [],
   "source": [
    "li = [1,2,'mayank',69,420]"
   ]
  },
  {
   "cell_type": "code",
   "execution_count": 3,
   "id": "c48fc815",
   "metadata": {},
   "outputs": [
    {
     "data": {
      "text/plain": [
       "[1, 2, 'mayank', 69, 420]"
      ]
     },
     "execution_count": 3,
     "metadata": {},
     "output_type": "execute_result"
    }
   ],
   "source": [
    "li"
   ]
  },
  {
   "cell_type": "code",
   "execution_count": 6,
   "id": "da719eb2",
   "metadata": {},
   "outputs": [
    {
     "name": "stdout",
     "output_type": "stream",
     "text": [
      "1\n",
      "2\n",
      "mayank\n",
      "69\n",
      "420\n"
     ]
    }
   ],
   "source": [
    "for i in range(len(li)):\n",
    "    print(li[i])"
   ]
  },
  {
   "cell_type": "code",
   "execution_count": 7,
   "id": "51b602c5",
   "metadata": {},
   "outputs": [
    {
     "name": "stdout",
     "output_type": "stream",
     "text": [
      "mayank\n",
      "69\n",
      "420\n"
     ]
    }
   ],
   "source": [
    "for i in range(2,len(li)):\n",
    "    print(li[i])"
   ]
  },
  {
   "cell_type": "code",
   "execution_count": 8,
   "id": "c57529c5",
   "metadata": {},
   "outputs": [
    {
     "name": "stdout",
     "output_type": "stream",
     "text": [
      "1\n",
      "2\n",
      "mayank\n",
      "69\n",
      "420\n"
     ]
    }
   ],
   "source": [
    "for ele in li: # this will print the whole list all together\n",
    "    print(ele)"
   ]
  },
  {
   "cell_type": "code",
   "execution_count": 10,
   "id": "11ebdd11",
   "metadata": {},
   "outputs": [
    {
     "name": "stdout",
     "output_type": "stream",
     "text": [
      "mayank\n",
      "69\n",
      "420\n"
     ]
    }
   ],
   "source": [
    " for ele in li[2:]: # via slicing we can buffer particular items\n",
    "        print(ele)"
   ]
  },
  {
   "cell_type": "code",
   "execution_count": 11,
   "id": "6d3b0558",
   "metadata": {},
   "outputs": [
    {
     "name": "stdout",
     "output_type": "stream",
     "text": [
      "2\n",
      "mayank\n"
     ]
    }
   ],
   "source": [
    "for lund in li[1:3]: # in 1:3 we will only get 1st and 2nd index not the last one\n",
    "    print(lund)"
   ]
  },
  {
   "cell_type": "markdown",
   "id": "ed7ea1a6",
   "metadata": {},
   "source": [
    "#### Negatice indexing and Sequenceing"
   ]
  },
  {
   "cell_type": "code",
   "execution_count": 12,
   "id": "e5bd3cb6",
   "metadata": {},
   "outputs": [],
   "source": [
    "# Negative index"
   ]
  },
  {
   "cell_type": "code",
   "execution_count": 13,
   "id": "6237d9bc",
   "metadata": {},
   "outputs": [],
   "source": [
    "li = [1,2,3,4,5]"
   ]
  },
  {
   "cell_type": "code",
   "execution_count": 15,
   "id": "f3cf8e7c",
   "metadata": {},
   "outputs": [
    {
     "data": {
      "text/plain": [
       "1"
      ]
     },
     "execution_count": 15,
     "metadata": {},
     "output_type": "execute_result"
    }
   ],
   "source": [
    "li[0]"
   ]
  },
  {
   "cell_type": "code",
   "execution_count": 16,
   "id": "72024674",
   "metadata": {},
   "outputs": [
    {
     "data": {
      "text/plain": [
       "4"
      ]
     },
     "execution_count": 16,
     "metadata": {},
     "output_type": "execute_result"
    }
   ],
   "source": [
    "li[-2] # it counts form the last elements"
   ]
  },
  {
   "cell_type": "code",
   "execution_count": 17,
   "id": "185a4181",
   "metadata": {},
   "outputs": [
    {
     "ename": "IndexError",
     "evalue": "list index out of range",
     "output_type": "error",
     "traceback": [
      "\u001b[1;31m---------------------------------------------------------------------------\u001b[0m",
      "\u001b[1;31mIndexError\u001b[0m                                Traceback (most recent call last)",
      "\u001b[1;32m~\\AppData\\Local\\Temp/ipykernel_24248/3577933658.py\u001b[0m in \u001b[0;36m<module>\u001b[1;34m\u001b[0m\n\u001b[1;32m----> 1\u001b[1;33m \u001b[0mli\u001b[0m\u001b[1;33m[\u001b[0m\u001b[1;33m-\u001b[0m\u001b[1;36m8\u001b[0m\u001b[1;33m]\u001b[0m\u001b[1;33m\u001b[0m\u001b[1;33m\u001b[0m\u001b[0m\n\u001b[0m",
      "\u001b[1;31mIndexError\u001b[0m: list index out of range"
     ]
    }
   ],
   "source": [
    "li[-8]"
   ]
  },
  {
   "cell_type": "code",
   "execution_count": 33,
   "id": "04a470e0",
   "metadata": {},
   "outputs": [],
   "source": [
    "# Sequencing in list"
   ]
  },
  {
   "cell_type": "code",
   "execution_count": 34,
   "id": "c7fe2c63",
   "metadata": {},
   "outputs": [],
   "source": [
    "la = [1,2,3,4,5,6,7,8,9,10]"
   ]
  },
  {
   "cell_type": "code",
   "execution_count": 37,
   "id": "b131c344",
   "metadata": {},
   "outputs": [
    {
     "data": {
      "text/plain": [
       "[2, 3, 4, 5]"
      ]
     },
     "execution_count": 37,
     "metadata": {},
     "output_type": "execute_result"
    }
   ],
   "source": [
    "la[1:5:1] #[start:end:step] this can be used to iterate over a list"
   ]
  },
  {
   "cell_type": "code",
   "execution_count": 36,
   "id": "18fd2d42",
   "metadata": {},
   "outputs": [
    {
     "data": {
      "text/plain": [
       "[6, 7, 8]"
      ]
     },
     "execution_count": 36,
     "metadata": {},
     "output_type": "execute_result"
    }
   ],
   "source": [
    "la[5:-2:1]"
   ]
  },
  {
   "cell_type": "code",
   "execution_count": 38,
   "id": "582d5e5e",
   "metadata": {},
   "outputs": [
    {
     "data": {
      "text/plain": [
       "[2, 3, 4, 5, 6, 7, 8, 9, 10]"
      ]
     },
     "execution_count": 38,
     "metadata": {},
     "output_type": "execute_result"
    }
   ],
   "source": [
    "la[1:]"
   ]
  },
  {
   "cell_type": "code",
   "execution_count": 39,
   "id": "9feec311",
   "metadata": {},
   "outputs": [
    {
     "data": {
      "text/plain": [
       "[2, 4, 6, 8, 10]"
      ]
     },
     "execution_count": 39,
     "metadata": {},
     "output_type": "execute_result"
    }
   ],
   "source": [
    "la[1::2]"
   ]
  },
  {
   "cell_type": "code",
   "execution_count": 40,
   "id": "40fed28b",
   "metadata": {},
   "outputs": [
    {
     "data": {
      "text/plain": [
       "[1, 2, 3, 4, 5]"
      ]
     },
     "execution_count": 40,
     "metadata": {},
     "output_type": "execute_result"
    }
   ],
   "source": [
    "la[:5]"
   ]
  },
  {
   "cell_type": "code",
   "execution_count": 41,
   "id": "0549fe1c",
   "metadata": {},
   "outputs": [
    {
     "data": {
      "text/plain": [
       "[1, 2, 3, 4, 5]"
      ]
     },
     "execution_count": 41,
     "metadata": {},
     "output_type": "execute_result"
    }
   ],
   "source": [
    "la[:-5]"
   ]
  },
  {
   "cell_type": "markdown",
   "id": "597dc742",
   "metadata": {},
   "source": [
    "##### Taking input in a list"
   ]
  },
  {
   "cell_type": "code",
   "execution_count": 44,
   "id": "f244e908",
   "metadata": {},
   "outputs": [],
   "source": [
    "# 1 Line seprated"
   ]
  },
  {
   "cell_type": "code",
   "execution_count": 1,
   "id": "a54660fe",
   "metadata": {},
   "outputs": [
    {
     "name": "stdout",
     "output_type": "stream",
     "text": [
      "5\n"
     ]
    }
   ],
   "source": [
    "n = int(input())"
   ]
  },
  {
   "cell_type": "code",
   "execution_count": 2,
   "id": "2b9c1ea1",
   "metadata": {},
   "outputs": [
    {
     "name": "stdout",
     "output_type": "stream",
     "text": [
      "4\n",
      "5\n",
      "6\n",
      "7\n",
      "8\n"
     ]
    }
   ],
   "source": [
    "li = [] # this is how we get input form the range via using input method\n",
    "for i in range(n):\n",
    "    curr = int(input())\n",
    "    li.append(curr)"
   ]
  },
  {
   "cell_type": "code",
   "execution_count": 3,
   "id": "185a8a18",
   "metadata": {},
   "outputs": [
    {
     "data": {
      "text/plain": [
       "[4, 5, 6, 7, 8]"
      ]
     },
     "execution_count": 3,
     "metadata": {},
     "output_type": "execute_result"
    }
   ],
   "source": [
    "li"
   ]
  },
  {
   "cell_type": "code",
   "execution_count": 4,
   "id": "5e11cf38",
   "metadata": {},
   "outputs": [
    {
     "name": "stdout",
     "output_type": "stream",
     "text": [
      "4\n",
      "5\n",
      "6\n",
      "7\n",
      "8\n"
     ]
    }
   ],
   "source": [
    "for ele in li:\n",
    "    print(ele)"
   ]
  },
  {
   "cell_type": "code",
   "execution_count": 5,
   "id": "d6a1ec24",
   "metadata": {},
   "outputs": [],
   "source": [
    "# 2 Space seprated index"
   ]
  },
  {
   "cell_type": "code",
   "execution_count": 6,
   "id": "75f94e9c",
   "metadata": {},
   "outputs": [
    {
     "name": "stdout",
     "output_type": "stream",
     "text": [
      "5\n"
     ]
    }
   ],
   "source": [
    "n = int(input())"
   ]
  },
  {
   "cell_type": "code",
   "execution_count": 15,
   "id": "513445a7",
   "metadata": {},
   "outputs": [
    {
     "name": "stdout",
     "output_type": "stream",
     "text": [
      "1 2 3 4 5\n"
     ]
    }
   ],
   "source": [
    "str = input() # here we take the input and convert it into a string"
   ]
  },
  {
   "cell_type": "code",
   "execution_count": 21,
   "id": "95973b70",
   "metadata": {},
   "outputs": [
    {
     "data": {
      "text/plain": [
       "'1 2 3 4 5'"
      ]
     },
     "execution_count": 21,
     "metadata": {},
     "output_type": "execute_result"
    }
   ],
   "source": [
    "str"
   ]
  },
  {
   "cell_type": "code",
   "execution_count": 55,
   "id": "e85a2854",
   "metadata": {},
   "outputs": [],
   "source": [
    "str_split = str.split(' ') # this fuction only works when there is only once space in between the brackets"
   ]
  },
  {
   "cell_type": "code",
   "execution_count": 59,
   "id": "21a08e91",
   "metadata": {},
   "outputs": [
    {
     "data": {
      "text/plain": [
       "['1', '2', '3', '4', '5']"
      ]
     },
     "execution_count": 59,
     "metadata": {},
     "output_type": "execute_result"
    }
   ],
   "source": [
    "str_split"
   ]
  },
  {
   "cell_type": "code",
   "execution_count": 64,
   "id": "69792787",
   "metadata": {},
   "outputs": [],
   "source": [
    "ma = []"
   ]
  },
  {
   "cell_type": "code",
   "execution_count": 67,
   "id": "0a95d480",
   "metadata": {},
   "outputs": [],
   "source": [
    "for ele in str_split: # here the integers converted into strings can be converted back to integers\n",
    "    ma.append(int(ele))"
   ]
  },
  {
   "cell_type": "code",
   "execution_count": 66,
   "id": "248b4af0",
   "metadata": {},
   "outputs": [
    {
     "data": {
      "text/plain": [
       "[1, 2, 3, 4, 5]"
      ]
     },
     "execution_count": 66,
     "metadata": {},
     "output_type": "execute_result"
    }
   ],
   "source": [
    "ma"
   ]
  },
  {
   "cell_type": "code",
   "execution_count": 68,
   "id": "12d6835c",
   "metadata": {},
   "outputs": [],
   "source": [
    "# but now the big question is that do we need to do all these lines everytime we code, the answer is no"
   ]
  },
  {
   "cell_type": "code",
   "execution_count": 7,
   "id": "3a5715ad",
   "metadata": {},
   "outputs": [
    {
     "name": "stdout",
     "output_type": "stream",
     "text": [
      "1 2 3 4 5 6 7 8 9 10\n"
     ]
    }
   ],
   "source": [
    "list = [int(x) for x in input().split()] # this is how we can do the whole line above in one line"
   ]
  },
  {
   "cell_type": "code",
   "execution_count": 8,
   "id": "e3037f9c",
   "metadata": {},
   "outputs": [
    {
     "data": {
      "text/plain": [
       "[1, 2, 3, 4, 5, 6, 7, 8, 9, 10]"
      ]
     },
     "execution_count": 8,
     "metadata": {},
     "output_type": "execute_result"
    }
   ],
   "source": [
    "list"
   ]
  },
  {
   "cell_type": "code",
   "execution_count": 10,
   "id": "35eb20c5",
   "metadata": {},
   "outputs": [
    {
     "name": "stdout",
     "output_type": "stream",
     "text": [
      "1\n",
      "2\n",
      "3\n",
      "4\n",
      "5\n",
      "6\n",
      "7\n",
      "8\n",
      "9\n",
      "10\n"
     ]
    }
   ],
   "source": [
    "for ele in list: # this prints the list in line sperated\n",
    "    print(ele)"
   ]
  },
  {
   "cell_type": "code",
   "execution_count": 15,
   "id": "ab0a98fc",
   "metadata": {},
   "outputs": [
    {
     "name": "stdout",
     "output_type": "stream",
     "text": [
      "3\n",
      "1\n",
      "2\n"
     ]
    }
   ],
   "source": [
    "n = int(input()) # this is the whole crux code of the list and spaceing lectures\n",
    "mn = [int(x) for x in input().split()]\n",
    "for ele in mn:\n",
    "    num = 1\n",
    "    print(ele+num)"
   ]
  },
  {
   "cell_type": "markdown",
   "id": "0b4e1754",
   "metadata": {},
   "source": [
    "## "
   ]
  }
 ],
 "metadata": {
  "kernelspec": {
   "display_name": "Python 3 (ipykernel)",
   "language": "python",
   "name": "python3"
  },
  "language_info": {
   "codemirror_mode": {
    "name": "ipython",
    "version": 3
   },
   "file_extension": ".py",
   "mimetype": "text/x-python",
   "name": "python",
   "nbconvert_exporter": "python",
   "pygments_lexer": "ipython3",
   "version": "3.9.7"
  }
 },
 "nbformat": 4,
 "nbformat_minor": 5
}
