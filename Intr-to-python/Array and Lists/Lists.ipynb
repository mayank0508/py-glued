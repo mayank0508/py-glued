{
 "cells": [
  {
   "cell_type": "markdown",
   "id": "2a1d3be0",
   "metadata": {},
   "source": [
    "# List Items"
   ]
  },
  {
   "cell_type": "code",
   "execution_count": 3,
   "id": "1c83addf",
   "metadata": {},
   "outputs": [],
   "source": [
    "li = []"
   ]
  },
  {
   "cell_type": "code",
   "execution_count": 4,
   "id": "32d55ef0",
   "metadata": {},
   "outputs": [
    {
     "data": {
      "text/plain": [
       "list"
      ]
     },
     "execution_count": 4,
     "metadata": {},
     "output_type": "execute_result"
    }
   ],
   "source": [
    "type(li)"
   ]
  },
  {
   "cell_type": "code",
   "execution_count": 5,
   "id": "49c6d285",
   "metadata": {},
   "outputs": [],
   "source": [
    "la = []"
   ]
  },
  {
   "cell_type": "code",
   "execution_count": 6,
   "id": "907345cc",
   "metadata": {},
   "outputs": [],
   "source": [
    "la = [1,2,3]"
   ]
  },
  {
   "cell_type": "code",
   "execution_count": 7,
   "id": "d41dfd64",
   "metadata": {},
   "outputs": [
    {
     "data": {
      "text/plain": [
       "list"
      ]
     },
     "execution_count": 7,
     "metadata": {},
     "output_type": "execute_result"
    }
   ],
   "source": [
    "type(la)"
   ]
  },
  {
   "cell_type": "code",
   "execution_count": 8,
   "id": "b8696ad3",
   "metadata": {},
   "outputs": [],
   "source": [
    "la = [1,2,'maya', 3.4] # this is the way lists are defined in python"
   ]
  },
  {
   "cell_type": "code",
   "execution_count": 14,
   "id": "af95e92d",
   "metadata": {},
   "outputs": [
    {
     "data": {
      "text/plain": [
       "[1, 2, 'maya', 3.4]"
      ]
     },
     "execution_count": 14,
     "metadata": {},
     "output_type": "execute_result"
    }
   ],
   "source": [
    "la"
   ]
  },
  {
   "cell_type": "markdown",
   "id": "3cdb8161",
   "metadata": {},
   "source": [
    "### Access and indexing the numbers"
   ]
  },
  {
   "cell_type": "code",
   "execution_count": 10,
   "id": "2e838e37",
   "metadata": {},
   "outputs": [
    {
     "data": {
      "text/plain": [
       "3.4"
      ]
     },
     "execution_count": 10,
     "metadata": {},
     "output_type": "execute_result"
    }
   ],
   "source": [
    "la[3]"
   ]
  },
  {
   "cell_type": "code",
   "execution_count": 12,
   "id": "e952707a",
   "metadata": {},
   "outputs": [
    {
     "data": {
      "text/plain": [
       "1"
      ]
     },
     "execution_count": 12,
     "metadata": {},
     "output_type": "execute_result"
    }
   ],
   "source": [
    "la[0]"
   ]
  },
  {
   "cell_type": "code",
   "execution_count": 13,
   "id": "d24d852c",
   "metadata": {},
   "outputs": [
    {
     "ename": "IndexError",
     "evalue": "list index out of range",
     "output_type": "error",
     "traceback": [
      "\u001b[1;31m---------------------------------------------------------------------------\u001b[0m",
      "\u001b[1;31mIndexError\u001b[0m                                Traceback (most recent call last)",
      "\u001b[1;32m~\\AppData\\Local\\Temp/ipykernel_12148/1783197707.py\u001b[0m in \u001b[0;36m<module>\u001b[1;34m\u001b[0m\n\u001b[1;32m----> 1\u001b[1;33m \u001b[0mla\u001b[0m\u001b[1;33m[\u001b[0m\u001b[1;36m5\u001b[0m\u001b[1;33m]\u001b[0m\u001b[1;33m\u001b[0m\u001b[1;33m\u001b[0m\u001b[0m\n\u001b[0m",
      "\u001b[1;31mIndexError\u001b[0m: list index out of range"
     ]
    }
   ],
   "source": [
    "la[5] # you can change only the elements that are inside the list"
   ]
  },
  {
   "cell_type": "code",
   "execution_count": 16,
   "id": "9cd88026",
   "metadata": {},
   "outputs": [],
   "source": [
    "la[0] = 3"
   ]
  },
  {
   "cell_type": "code",
   "execution_count": 17,
   "id": "6a573a53",
   "metadata": {},
   "outputs": [
    {
     "data": {
      "text/plain": [
       "[3, 2, 'maya', 3.4]"
      ]
     },
     "execution_count": 17,
     "metadata": {},
     "output_type": "execute_result"
    }
   ],
   "source": [
    "la"
   ]
  },
  {
   "cell_type": "markdown",
   "id": "78fd931b",
   "metadata": {},
   "source": [
    "#### Sliceing"
   ]
  },
  {
   "cell_type": "code",
   "execution_count": 19,
   "id": "3350f4ff",
   "metadata": {},
   "outputs": [
    {
     "data": {
      "text/plain": [
       "[2]"
      ]
     },
     "execution_count": 19,
     "metadata": {},
     "output_type": "execute_result"
    }
   ],
   "source": [
    "la[1:2] # this gives you index from 1 to 1"
   ]
  },
  {
   "cell_type": "code",
   "execution_count": 20,
   "id": "79bacadf",
   "metadata": {},
   "outputs": [
    {
     "data": {
      "text/plain": [
       "[2, 'maya']"
      ]
     },
     "execution_count": 20,
     "metadata": {},
     "output_type": "execute_result"
    }
   ],
   "source": [
    "la[1:3] # this gives you index from 1 to 2"
   ]
  },
  {
   "cell_type": "code",
   "execution_count": 21,
   "id": "7c4a2886",
   "metadata": {},
   "outputs": [
    {
     "data": {
      "text/plain": [
       "[3, 2, 'maya', 3.4]"
      ]
     },
     "execution_count": 21,
     "metadata": {},
     "output_type": "execute_result"
    }
   ],
   "source": [
    "la[:] # this gives you every index"
   ]
  },
  {
   "cell_type": "code",
   "execution_count": 22,
   "id": "05582dd1",
   "metadata": {},
   "outputs": [
    {
     "data": {
      "text/plain": [
       "['maya', 3.4]"
      ]
     },
     "execution_count": 22,
     "metadata": {},
     "output_type": "execute_result"
    }
   ],
   "source": [
    "la[2:] # this gieves you every index after 2nd index"
   ]
  },
  {
   "cell_type": "markdown",
   "id": "b96aeb47",
   "metadata": {},
   "source": [
    "##### Insert and append elements in the list"
   ]
  },
  {
   "cell_type": "code",
   "execution_count": 26,
   "id": "5f74846e",
   "metadata": {},
   "outputs": [],
   "source": [
    "la.append(6.9)"
   ]
  },
  {
   "cell_type": "code",
   "execution_count": 27,
   "id": "398a348a",
   "metadata": {},
   "outputs": [
    {
     "data": {
      "text/plain": [
       "[3, 2, 'maya', 3.4, 6.9]"
      ]
     },
     "execution_count": 27,
     "metadata": {},
     "output_type": "execute_result"
    }
   ],
   "source": [
    "la"
   ]
  },
  {
   "cell_type": "code",
   "execution_count": 28,
   "id": "544d1acb",
   "metadata": {},
   "outputs": [],
   "source": [
    "la.insert(1,\"Mayank\") # it does not removes the prior element but rather pushed it down the list"
   ]
  },
  {
   "cell_type": "code",
   "execution_count": 29,
   "id": "29aad41b",
   "metadata": {},
   "outputs": [
    {
     "data": {
      "text/plain": [
       "[3, 'Mayank', 2, 'maya', 3.4, 6.9]"
      ]
     },
     "execution_count": 29,
     "metadata": {},
     "output_type": "execute_result"
    }
   ],
   "source": [
    "la"
   ]
  },
  {
   "cell_type": "code",
   "execution_count": 32,
   "id": "d0914e6b",
   "metadata": {},
   "outputs": [],
   "source": [
    "la.insert(69,'ranu') # it appends to the last index if the current number of elements are not present"
   ]
  },
  {
   "cell_type": "code",
   "execution_count": 31,
   "id": "b8120598",
   "metadata": {},
   "outputs": [
    {
     "data": {
      "text/plain": [
       "[3, 'Mayank', 2, 'maya', 3.4, 6.9, 'ranu']"
      ]
     },
     "execution_count": 31,
     "metadata": {},
     "output_type": "execute_result"
    }
   ],
   "source": [
    "la"
   ]
  },
  {
   "cell_type": "code",
   "execution_count": null,
   "id": "d89be74d",
   "metadata": {},
   "outputs": [],
   "source": []
  }
 ],
 "metadata": {
  "kernelspec": {
   "display_name": "Python 3 (ipykernel)",
   "language": "python",
   "name": "python3"
  },
  "language_info": {
   "codemirror_mode": {
    "name": "ipython",
    "version": 3
   },
   "file_extension": ".py",
   "mimetype": "text/x-python",
   "name": "python",
   "nbconvert_exporter": "python",
   "pygments_lexer": "ipython3",
   "version": "3.9.7"
  }
 },
 "nbformat": 4,
 "nbformat_minor": 5
}
