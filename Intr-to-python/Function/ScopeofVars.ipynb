{
 "cells": [
  {
   "cell_type": "markdown",
   "id": "c60742e4",
   "metadata": {},
   "source": [
    "## Scope of Vars"
   ]
  },
  {
   "cell_type": "code",
   "execution_count": null,
   "id": "c2321c55",
   "metadata": {},
   "outputs": [],
   "source": [
    "a1 = 10  # global var\n",
    "def f1():\n",
    "    b1 = 12 # local var\n",
    "    \n",
    "# we can not print a local var outside the function\n",
    "\n",
    "#but we can print a global var inside the function"
   ]
  },
  {
   "cell_type": "code",
   "execution_count": 3,
   "id": "778ffb25",
   "metadata": {},
   "outputs": [
    {
     "name": "stdout",
     "output_type": "stream",
     "text": [
      "10\n"
     ]
    }
   ],
   "source": [
    "def f():\n",
    "    b = 10\n",
    "    return b\n",
    "print(f())"
   ]
  },
  {
   "cell_type": "code",
   "execution_count": 6,
   "id": "fac08763",
   "metadata": {},
   "outputs": [
    {
     "name": "stdout",
     "output_type": "stream",
     "text": [
      "69\n",
      "420\n",
      "69\n"
     ]
    }
   ],
   "source": [
    "a = 69\n",
    "def b():\n",
    "    a = 420\n",
    "    print(a)\n",
    "    return a\n",
    "print(a)\n",
    "b()\n",
    "print(a)"
   ]
  },
  {
   "cell_type": "code",
   "execution_count": 7,
   "id": "9eec9ffb",
   "metadata": {},
   "outputs": [
    {
     "name": "stdout",
     "output_type": "stream",
     "text": [
      "69\n",
      "420\n",
      "420\n"
     ]
    }
   ],
   "source": [
    "a = 69\n",
    "def b():\n",
    "    global a # this makes sure that we dont make a local var inside rather use the global one only\n",
    "    a = 420\n",
    "    print(a)\n",
    "    return a\n",
    "print(a)\n",
    "b()\n",
    "print(a)"
   ]
  },
  {
   "cell_type": "markdown",
   "id": "8b57779a",
   "metadata": {},
   "source": [
    "## Argument"
   ]
  },
  {
   "cell_type": "code",
   "execution_count": 10,
   "id": "ce8ea733",
   "metadata": {},
   "outputs": [
    {
     "name": "stdout",
     "output_type": "stream",
     "text": [
      "5\n",
      "10\n"
     ]
    }
   ],
   "source": [
    "def sum(a,b,c = 0):\n",
    "    return a+b+c\n",
    "\n",
    "print(sum(2,3))\n",
    "\n",
    "print(sum(2,3,5))"
   ]
  },
  {
   "cell_type": "code",
   "execution_count": 11,
   "id": "c8a6cc8d",
   "metadata": {},
   "outputs": [],
   "source": [
    "def f(a,b,c): # here you can put c=0 but you can't put a = 0\n",
    "    sum = a+b+c\n",
    "    return sum"
   ]
  },
  {
   "cell_type": "code",
   "execution_count": 13,
   "id": "9cfd55cc",
   "metadata": {},
   "outputs": [
    {
     "name": "stdout",
     "output_type": "stream",
     "text": [
      "10\n",
      "-1\n",
      "11\n"
     ]
    }
   ],
   "source": [
    "def f(a,b,c=5,d=0):\n",
    "    return a+b+c-d\n",
    "\n",
    "print(f(2,3))\n",
    "\n",
    "print(f(2,3,4,10))\n",
    "\n",
    "print(f(2,3,6))"
   ]
  }
 ],
 "metadata": {
  "kernelspec": {
   "display_name": "Python 3 (ipykernel)",
   "language": "python",
   "name": "python3"
  },
  "language_info": {
   "codemirror_mode": {
    "name": "ipython",
    "version": 3
   },
   "file_extension": ".py",
   "mimetype": "text/x-python",
   "name": "python",
   "nbconvert_exporter": "python",
   "pygments_lexer": "ipython3",
   "version": "3.9.7"
  }
 },
 "nbformat": 4,
 "nbformat_minor": 5
}
