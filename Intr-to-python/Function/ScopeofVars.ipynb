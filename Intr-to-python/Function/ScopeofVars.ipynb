{
 "cells": [
  {
   "cell_type": "markdown",
   "id": "c60742e4",
   "metadata": {},
   "source": [
    "## Scope of Vars"
   ]
  },
  {
   "cell_type": "code",
   "execution_count": null,
   "id": "c2321c55",
   "metadata": {},
   "outputs": [],
   "source": [
    "a1 = 10  # global var\n",
    "def f1():\n",
    "    b1 = 12 # local var\n",
    "    \n",
    "# we can not print a local var outside the function\n",
    "\n",
    "#but we can print a global var inside the function"
   ]
  },
  {
   "cell_type": "code",
   "execution_count": 3,
   "id": "cea3fae6",
   "metadata": {},
   "outputs": [
    {
     "name": "stdout",
     "output_type": "stream",
     "text": [
      "10\n"
     ]
    }
   ],
   "source": [
    "def f():\n",
    "    b = 10\n",
    "    return b\n",
    "print(f())"
   ]
  },
  {
   "cell_type": "code",
   "execution_count": 6,
   "id": "990ea83d",
   "metadata": {},
   "outputs": [
    {
     "name": "stdout",
     "output_type": "stream",
     "text": [
      "69\n",
      "420\n",
      "69\n"
     ]
    }
   ],
   "source": [
    "a = 69\n",
    "def b():\n",
    "    a = 420\n",
    "    print(a)\n",
    "    return a\n",
    "print(a)\n",
    "b()\n",
    "print(a)"
   ]
  },
  {
   "cell_type": "code",
   "execution_count": 7,
   "id": "32256e74",
   "metadata": {},
   "outputs": [
    {
     "name": "stdout",
     "output_type": "stream",
     "text": [
      "69\n",
      "420\n",
      "420\n"
     ]
    }
   ],
   "source": [
    "a = 69\n",
    "def b():\n",
    "    global a # this makes sure that we dont make a local var inside rather use the global one only\n",
    "    a = 420\n",
    "    print(a)\n",
    "    return a\n",
    "print(a)\n",
    "b()\n",
    "print(a)"
   ]
  },
  {
   "cell_type": "markdown",
   "id": "17b4a4ea",
   "metadata": {},
   "source": [
    "## Argument"
   ]
  },
  {
   "cell_type": "code",
   "execution_count": 10,
   "id": "36277425",
   "metadata": {},
   "outputs": [
    {
     "name": "stdout",
     "output_type": "stream",
     "text": [
      "5\n",
      "10\n"
     ]
    }
   ],
   "source": [
    "def sum(a,b,c = 0):\n",
    "    return a+b+c\n",
    "\n",
    "print(sum(2,3))\n",
    "\n",
    "print(sum(2,3,5))"
   ]
  },
  {
   "cell_type": "code",
   "execution_count": 11,
   "id": "672d9e2b",
   "metadata": {},
   "outputs": [],
   "source": [
    "def f(a,b,c): # here you can put c=0 but you can't put a = 0\n",
    "    sum = a+b+c\n",
    "    return sum"
   ]
  },
  {
   "cell_type": "code",
   "execution_count": 15,
   "id": "c8a28fe5",
   "metadata": {},
   "outputs": [
    {
     "name": "stdout",
     "output_type": "stream",
     "text": [
      "10\n",
      "-1\n",
      "11\n",
      "4\n"
     ]
    }
   ],
   "source": [
    "def f(a,b,c=5,d=0):\n",
    "    return a+b+c-d\n",
    "\n",
    "print(f(2,3))\n",
    "\n",
    "print(f(2,3,4,10))\n",
    "\n",
    "print(f(2,3,6))\n",
    "\n",
    "\n",
    "print(f(2,3,d=6)) # we can assign the arguments too 😳"
   ]
  },
  {
   "cell_type": "code",
   "execution_count": 17,
   "id": "36d11bec",
   "metadata": {},
   "outputs": [
    {
     "data": {
      "text/plain": [
       "0"
      ]
     },
     "execution_count": 17,
     "metadata": {},
     "output_type": "execute_result"
    }
   ],
   "source": [
    "5/10\n",
    "5//10"
   ]
  }
 ],
 "metadata": {
  "kernelspec": {
   "display_name": "Python 3 (ipykernel)",
   "language": "python",
   "name": "python3"
  },
  "language_info": {
   "codemirror_mode": {
    "name": "ipython",
    "version": 3
   },
   "file_extension": ".py",
   "mimetype": "text/x-python",
   "name": "python",
   "nbconvert_exporter": "python",
   "pygments_lexer": "ipython3",
   "version": "3.9.7"
  }
 },
 "nbformat": 4,
 "nbformat_minor": 5
}
