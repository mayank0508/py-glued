{
 "cells": [
  {
   "cell_type": "markdown",
   "id": "c60742e4",
   "metadata": {},
   "source": [
    "## Scope of Vars"
   ]
  },
  {
   "cell_type": "code",
   "execution_count": null,
   "id": "c2321c55",
   "metadata": {},
   "outputs": [],
   "source": [
    "a1 = 10  # global var\n",
    "def f1():\n",
    "    b1 = 12 # local var\n",
    "    \n",
    "# we can not print a local var outside the function\n",
    "\n",
    "#but we can print a global var inside the function"
   ]
  },
  {
   "cell_type": "code",
   "execution_count": 3,
   "id": "9b25abaf",
   "metadata": {},
   "outputs": [
    {
     "name": "stdout",
     "output_type": "stream",
     "text": [
      "10\n"
     ]
    }
   ],
   "source": [
    "def f():\n",
    "    b = 10\n",
    "    return b\n",
    "print(f())"
   ]
  },
  {
   "cell_type": "code",
   "execution_count": 6,
   "id": "0f6088bf",
   "metadata": {},
   "outputs": [
    {
     "name": "stdout",
     "output_type": "stream",
     "text": [
      "69\n",
      "420\n",
      "69\n"
     ]
    }
   ],
   "source": [
    "a = 69\n",
    "def b():\n",
    "    a = 420\n",
    "    print(a)\n",
    "    return a\n",
    "print(a)\n",
    "b()\n",
    "print(a)"
   ]
  },
  {
   "cell_type": "code",
   "execution_count": 7,
   "id": "4fda9187",
   "metadata": {},
   "outputs": [
    {
     "name": "stdout",
     "output_type": "stream",
     "text": [
      "69\n",
      "420\n",
      "420\n"
     ]
    }
   ],
   "source": [
    "a = 69\n",
    "def b():\n",
    "    global a # this makes sure that we dont make a local var inside rather use the global one only\n",
    "    a = 420\n",
    "    print(a)\n",
    "    return a\n",
    "print(a)\n",
    "b()\n",
    "print(a)"
   ]
  }
 ],
 "metadata": {
  "kernelspec": {
   "display_name": "Python 3 (ipykernel)",
   "language": "python",
   "name": "python3"
  },
  "language_info": {
   "codemirror_mode": {
    "name": "ipython",
    "version": 3
   },
   "file_extension": ".py",
   "mimetype": "text/x-python",
   "name": "python",
   "nbconvert_exporter": "python",
   "pygments_lexer": "ipython3",
   "version": "3.9.7"
  }
 },
 "nbformat": 4,
 "nbformat_minor": 5
}
