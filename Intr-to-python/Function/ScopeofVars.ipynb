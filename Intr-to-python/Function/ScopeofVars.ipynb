{
 "cells": [
  {
   "cell_type": "markdown",
   "id": "c60742e4",
   "metadata": {},
   "source": [
    "## Scope of Vars"
   ]
  },
  {
   "cell_type": "code",
   "execution_count": null,
   "id": "c2321c55",
   "metadata": {},
   "outputs": [],
   "source": [
    "a1 = 10  # global var\n",
    "def f1():\n",
    "    b1 = 12 # local var\n",
    "    \n",
    "# we can not print a local var outside the function\n",
    "\n",
    "#but we can print a global var inside the function"
   ]
  }
 ],
 "metadata": {
  "kernelspec": {
   "display_name": "Python 3 (ipykernel)",
   "language": "python",
   "name": "python3"
  },
  "language_info": {
   "codemirror_mode": {
    "name": "ipython",
    "version": 3
   },
   "file_extension": ".py",
   "mimetype": "text/x-python",
   "name": "python",
   "nbconvert_exporter": "python",
   "pygments_lexer": "ipython3",
   "version": "3.9.7"
  }
 },
 "nbformat": 4,
 "nbformat_minor": 5
}
