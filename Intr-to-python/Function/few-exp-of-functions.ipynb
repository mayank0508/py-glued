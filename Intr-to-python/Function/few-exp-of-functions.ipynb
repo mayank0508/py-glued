{
 "cells": [
  {
   "cell_type": "markdown",
   "id": "d8c48c4d",
   "metadata": {},
   "source": [
    "## Prime or Not "
   ]
  },
  {
   "cell_type": "code",
   "execution_count": 18,
   "id": "6da341be",
   "metadata": {},
   "outputs": [],
   "source": [
    "def isPrime(n):\n",
    "    for i in range(2, n):\n",
    "        if (n%i ==0):\n",
    "            break\n",
    "        else:\n",
    "            return True\n",
    "    return False"
   ]
  },
  {
   "cell_type": "code",
   "execution_count": 2,
   "id": "91ff103a",
   "metadata": {},
   "outputs": [
    {
     "ename": "NameError",
     "evalue": "name 'isPrime' is not defined",
     "output_type": "error",
     "traceback": [
      "\u001b[1;31m---------------------------------------------------------------------------\u001b[0m",
      "\u001b[1;31mNameError\u001b[0m                                 Traceback (most recent call last)",
      "\u001b[1;32m~\\AppData\\Local\\Temp/ipykernel_8628/2505339090.py\u001b[0m in \u001b[0;36m<module>\u001b[1;34m\u001b[0m\n\u001b[1;32m----> 1\u001b[1;33m \u001b[0misPrime\u001b[0m\u001b[1;33m(\u001b[0m\u001b[1;36m4\u001b[0m\u001b[1;33m)\u001b[0m\u001b[1;33m\u001b[0m\u001b[1;33m\u001b[0m\u001b[0m\n\u001b[0m",
      "\u001b[1;31mNameError\u001b[0m: name 'isPrime' is not defined"
     ]
    }
   ],
   "source": [
    "isPrime(4)"
   ]
  },
  {
   "cell_type": "code",
   "execution_count": 40,
   "id": "515312c2",
   "metadata": {},
   "outputs": [],
   "source": [
    "def Primetill(n):\n",
    "    for i in range(2, n):\n",
    "        if (n%i==0):\n",
    "            continue\n",
    "        else:\n",
    "            print(i)"
   ]
  },
  {
   "cell_type": "code",
   "execution_count": 3,
   "id": "c6909039",
   "metadata": {},
   "outputs": [
    {
     "ename": "NameError",
     "evalue": "name 'Primetill' is not defined",
     "output_type": "error",
     "traceback": [
      "\u001b[1;31m---------------------------------------------------------------------------\u001b[0m",
      "\u001b[1;31mNameError\u001b[0m                                 Traceback (most recent call last)",
      "\u001b[1;32m~\\AppData\\Local\\Temp/ipykernel_8628/1136702007.py\u001b[0m in \u001b[0;36m<module>\u001b[1;34m\u001b[0m\n\u001b[1;32m----> 1\u001b[1;33m \u001b[0mPrimetill\u001b[0m\u001b[1;33m(\u001b[0m\u001b[1;36m10\u001b[0m\u001b[1;33m)\u001b[0m\u001b[1;33m\u001b[0m\u001b[1;33m\u001b[0m\u001b[0m\n\u001b[0m",
      "\u001b[1;31mNameError\u001b[0m: name 'Primetill' is not defined"
     ]
    }
   ],
   "source": [
    "Primetill(10)"
   ]
  },
  {
   "cell_type": "code",
   "execution_count": null,
   "id": "b74740b1",
   "metadata": {},
   "outputs": [],
   "source": []
  }
 ],
 "metadata": {
  "kernelspec": {
   "display_name": "Python 3 (ipykernel)",
   "language": "python",
   "name": "python3"
  },
  "language_info": {
   "codemirror_mode": {
    "name": "ipython",
    "version": 3
   },
   "file_extension": ".py",
   "mimetype": "text/x-python",
   "name": "python",
   "nbconvert_exporter": "python",
   "pygments_lexer": "ipython3",
   "version": "3.9.7"
  }
 },
 "nbformat": 4,
 "nbformat_minor": 5
}
