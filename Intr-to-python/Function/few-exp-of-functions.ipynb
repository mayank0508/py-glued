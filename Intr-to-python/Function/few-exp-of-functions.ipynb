{
 "cells": [
  {
   "cell_type": "markdown",
   "id": "97072bdc",
   "metadata": {},
   "source": [
    "## Prime or Not "
   ]
  },
  {
   "cell_type": "code",
   "execution_count": 10,
   "id": "6756de9a",
   "metadata": {},
   "outputs": [],
   "source": [
    "def isPrime(n):\n",
    "    for i in range(2, n):\n",
    "        if (n%i ==0):\n",
    "            break\n",
    "    else:\n",
    "        return True\n",
    "    \n",
    "    return False"
   ]
  },
  {
   "cell_type": "code",
   "execution_count": 14,
   "id": "a9082dc1",
   "metadata": {},
   "outputs": [
    {
     "data": {
      "text/plain": [
       "True"
      ]
     },
     "execution_count": 14,
     "metadata": {},
     "output_type": "execute_result"
    }
   ],
   "source": [
    "isPrime(21)"
   ]
  },
  {
   "cell_type": "code",
   "execution_count": 15,
   "id": "3fde3f58",
   "metadata": {},
   "outputs": [],
   "source": [
    "def Primetill(n):\n",
    "    for i in range(2, n):\n",
    "        if isPrime(i):\n",
    "            print(i)"
   ]
  },
  {
   "cell_type": "code",
   "execution_count": 16,
   "id": "4d81d7a8",
   "metadata": {},
   "outputs": [
    {
     "name": "stdout",
     "output_type": "stream",
     "text": [
      "2\n",
      "3\n",
      "5\n",
      "7\n"
     ]
    }
   ],
   "source": [
    "Primetill(1)"
   ]
  }
 ],
 "metadata": {
  "kernelspec": {
   "display_name": "Python 3 (ipykernel)",
   "language": "python",
   "name": "python3"
  },
  "language_info": {
   "codemirror_mode": {
    "name": "ipython",
    "version": 3
   },
   "file_extension": ".py",
   "mimetype": "text/x-python",
   "name": "python",
   "nbconvert_exporter": "python",
   "pygments_lexer": "ipython3",
   "version": "3.9.7"
  }
 },
 "nbformat": 4,
 "nbformat_minor": 5
}
