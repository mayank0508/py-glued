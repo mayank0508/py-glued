{
 "cells": [
  {
   "cell_type": "markdown",
   "id": "b8ba93ce",
   "metadata": {},
   "source": [
    "## Intro"
   ]
  },
  {
   "cell_type": "code",
   "execution_count": 7,
   "id": "fbce477e",
   "metadata": {},
   "outputs": [
    {
     "name": "stdout",
     "output_type": "stream",
     "text": [
      "4\n",
      "2\n",
      "6\n"
     ]
    }
   ],
   "source": [
    "# find out ncr without using fucntions\n",
    "n = int(input())\n",
    "r = int(input())\n",
    "\n",
    "n_fact = 1\n",
    "for i in range(1, n+1):\n",
    "    n_fact = n_fact * i\n",
    "\n",
    "r_fact = 1\n",
    "for i in range(1, r+1):\n",
    "    r_fact = r_fact * i\n",
    "\n",
    "n_r_fact = 1\n",
    "for i in range(1, n-r+1):\n",
    "    n_r_fact = n_r_fact * i\n",
    "\n",
    "ans = (n_fact)//(r_fact*n_r_fact)\n",
    "\n",
    "print(ans)"
   ]
  },
  {
   "cell_type": "code",
   "execution_count": 9,
   "id": "12094b61",
   "metadata": {},
   "outputs": [],
   "source": [
    "# fucntion\n",
    "\n",
    "def fact(n):\n",
    "    n_fact = 1\n",
    "    for i in range(1, n+1):\n",
    "        n_fact = n_fact * i\n",
    "    return n_fact"
   ]
  },
  {
   "cell_type": "code",
   "execution_count": 10,
   "id": "b260504d",
   "metadata": {},
   "outputs": [],
   "source": [
    "a = fact(4)"
   ]
  },
  {
   "cell_type": "code",
   "execution_count": 11,
   "id": "ba8aee49",
   "metadata": {},
   "outputs": [
    {
     "data": {
      "text/plain": [
       "24"
      ]
     },
     "execution_count": 11,
     "metadata": {},
     "output_type": "execute_result"
    }
   ],
   "source": [
    "a"
   ]
  },
  {
   "cell_type": "code",
   "execution_count": 12,
   "id": "72938f5c",
   "metadata": {},
   "outputs": [
    {
     "name": "stdout",
     "output_type": "stream",
     "text": [
      "4\n",
      "2\n",
      "6\n"
     ]
    }
   ],
   "source": [
    "\n",
    "def fact(n):\n",
    "    n_fact = 1\n",
    "    for i in range(1, n+1):\n",
    "        n_fact = n_fact * i\n",
    "    return n_fact\n",
    "\n",
    "n = int(input())\n",
    "r = int(input())\n",
    "\n",
    "n_fact = fact(n)\n",
    "r_fact = fact(r)\n",
    "n_r_fact = fact(n-r)\n",
    "\n",
    "ans = n_fact//(r_fact*n_r_fact)\n",
    "print(ans)"
   ]
  }
 ],
 "metadata": {
  "kernelspec": {
   "display_name": "Python 3 (ipykernel)",
   "language": "python",
   "name": "python3"
  },
  "language_info": {
   "codemirror_mode": {
    "name": "ipython",
    "version": 3
   },
   "file_extension": ".py",
   "mimetype": "text/x-python",
   "name": "python",
   "nbconvert_exporter": "python",
   "pygments_lexer": "ipython3",
   "version": "3.9.7"
  }
 },
 "nbformat": 4,
 "nbformat_minor": 5
}
