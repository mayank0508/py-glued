{
 "cells": [
  {
   "cell_type": "markdown",
   "id": "58c70958",
   "metadata": {},
   "source": [
    "## Break Keyword"
   ]
  },
  {
   "cell_type": "code",
   "execution_count": 2,
   "id": "791f5605",
   "metadata": {},
   "outputs": [
    {
     "name": "stdout",
     "output_type": "stream",
     "text": [
      "1212"
     ]
    }
   ],
   "source": [
    "i=1\n",
    "while i<3:\n",
    "    j=1\n",
    "    while j<5:\n",
    "        if j==3:\n",
    "            break\n",
    "        print(j,end='')\n",
    "        j = j + 1\n",
    "    i = i + 1"
   ]
  },
  {
   "cell_type": "code",
   "execution_count": 1,
   "id": "2d86dfc6",
   "metadata": {},
   "outputs": [
    {
     "name": "stdout",
     "output_type": "stream",
     "text": [
      "1\n",
      "2\n",
      "3\n",
      "4\n"
     ]
    }
   ],
   "source": [
    "i = 1\n",
    "while i < 20:\n",
    "    if i == 5:\n",
    "        break\n",
    "    print(i)\n",
    "    i += 1\n",
    "    "
   ]
  },
  {
   "cell_type": "code",
   "execution_count": 7,
   "id": "84cea590",
   "metadata": {},
   "outputs": [
    {
     "name": "stdout",
     "output_type": "stream",
     "text": [
      "5\n",
      "Take this L mf😲🤡 its a Prime 🤐\n"
     ]
    }
   ],
   "source": [
    "n = int(input())\n",
    "d = 2\n",
    "Flag = False;\n",
    "while(n > d):\n",
    "        if(n%d == 0):\n",
    "            Flag = True\n",
    "            break #this makes the code more effective and fast\n",
    "        d = d+1\n",
    "\n",
    "if Flag:\n",
    "    print(\"No Prime Bitach 😂😂🤷‍♂️\")\n",
    "else:\n",
    "    print('Take this L mf😲🤡 its a Prime 🤐')"
   ]
  }
 ],
 "metadata": {
  "kernelspec": {
   "display_name": "Python 3 (ipykernel)",
   "language": "python",
   "name": "python3"
  },
  "language_info": {
   "codemirror_mode": {
    "name": "ipython",
    "version": 3
   },
   "file_extension": ".py",
   "mimetype": "text/x-python",
   "name": "python",
   "nbconvert_exporter": "python",
   "pygments_lexer": "ipython3",
   "version": "3.9.7"
  }
 },
 "nbformat": 4,
 "nbformat_minor": 5
}
