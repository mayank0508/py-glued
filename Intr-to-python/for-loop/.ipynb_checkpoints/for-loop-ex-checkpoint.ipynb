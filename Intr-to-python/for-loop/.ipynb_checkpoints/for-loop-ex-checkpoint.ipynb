{
 "cells": [
  {
   "cell_type": "markdown",
   "id": "fb3274a7",
   "metadata": {},
   "source": [
    "## Example of for loop"
   ]
  },
  {
   "cell_type": "markdown",
   "id": "cca17472",
   "metadata": {},
   "source": [
    "## Multiple of 3"
   ]
  },
  {
   "cell_type": "code",
   "execution_count": 4,
   "id": "b1582d10",
   "metadata": {},
   "outputs": [
    {
     "name": "stdout",
     "output_type": "stream",
     "text": [
      "3\n",
      "10\n",
      "3\n",
      "6\n",
      "9\n"
     ]
    }
   ],
   "source": [
    "# a < b (given)\n",
    "n = int(input())\n",
    "m = int(input())\n",
    "for i in range(n, m+1, 3):\n",
    "    print(i)"
   ]
  },
  {
   "cell_type": "code",
   "execution_count": 5,
   "id": "86668eb5",
   "metadata": {
    "scrolled": true
   },
   "outputs": [
    {
     "name": "stdout",
     "output_type": "stream",
     "text": [
      "3\n",
      "10\n",
      "3\n",
      "6\n",
      "9\n"
     ]
    }
   ],
   "source": [
    "# multiple of 3\n",
    "# a < b (given)\n",
    "n = int(input())\n",
    "m = int(input())\n",
    "for i in range(n, m+1, 3): # but the problem with this loop is that it itterates a lot\n",
    "    if i % 3 == 0:\n",
    "        print(i)"
   ]
  },
  {
   "cell_type": "code",
   "execution_count": 7,
   "id": "773f1cfa",
   "metadata": {
    "scrolled": false
   },
   "outputs": [
    {
     "name": "stdout",
     "output_type": "stream",
     "text": [
      "7\n",
      "15\n",
      "9\n",
      "12\n",
      "15\n"
     ]
    }
   ],
   "source": [
    "# a < b (given)\n",
    "n = int(input())\n",
    "m = int(input())\n",
    "\n",
    "if n % 3 == 0:\n",
    "    s = n\n",
    "elif n % 3 == 1:\n",
    "    s = n + 2\n",
    "else:\n",
    "    s = n + 1\n",
    "\n",
    "for i in range(s, m+1, 3):\n",
    "    print(i)"
   ]
  },
  {
   "cell_type": "markdown",
   "id": "ce17f4a4",
   "metadata": {},
   "source": [
    "## Is prime or not ?"
   ]
  },
  {
   "cell_type": "code",
   "execution_count": 1,
   "id": "f9b2a0d8",
   "metadata": {},
   "outputs": [
    {
     "name": "stdout",
     "output_type": "stream",
     "text": [
      "10\n",
      "Not Prime 🥶👾\n"
     ]
    }
   ],
   "source": [
    "n = int(input())\n",
    "reg = False\n",
    "for i in range(2, n, 1):\n",
    "    if n % i == 0:\n",
    "        reg = True\n",
    "if reg:\n",
    "    print('Not Prime 🥶👾')\n",
    "else:\n",
    "    print('Party Time 😏👨‍💻')"
   ]
  },
  {
   "cell_type": "markdown",
   "id": "271fa3c2",
   "metadata": {},
   "source": [
    "## Pattern"
   ]
  },
  {
   "cell_type": "code",
   "execution_count": null,
   "id": "4589b5f1",
   "metadata": {},
   "outputs": [],
   "source": [
    "#    1\n",
    "#   232\n",
    "#  34543\n",
    "# 4567654"
   ]
  }
 ],
 "metadata": {
  "kernelspec": {
   "display_name": "Python 3 (ipykernel)",
   "language": "python",
   "name": "python3"
  },
  "language_info": {
   "codemirror_mode": {
    "name": "ipython",
    "version": 3
   },
   "file_extension": ".py",
   "mimetype": "text/x-python",
   "name": "python",
   "nbconvert_exporter": "python",
   "pygments_lexer": "ipython3",
   "version": "3.9.7"
  }
 },
 "nbformat": 4,
 "nbformat_minor": 5
}
