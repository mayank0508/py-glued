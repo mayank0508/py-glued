{
 "cells": [
  {
   "cell_type": "markdown",
   "id": "13eb47e8",
   "metadata": {},
   "source": [
    "## While Else "
   ]
  },
  {
   "cell_type": "code",
   "execution_count": 3,
   "id": "6aacc2a7",
   "metadata": {},
   "outputs": [
    {
     "name": "stdout",
     "output_type": "stream",
     "text": [
      "10\n",
      "1\n",
      "2\n",
      "3\n",
      "4\n",
      "5\n",
      "6\n",
      "7\n",
      "8\n",
      "9\n",
      "10\n",
      "loop over mf go suck some biatch 🤡🤡🤡🤡🤡\n"
     ]
    }
   ],
   "source": [
    "n = int(input())\n",
    "i = 1\n",
    "while(i<=n):\n",
    "    print(i)\n",
    "    i += 1\n",
    "else:\n",
    "    print(\"loop over mf go suck some biatch 🤡🤡🤡🤡🤡\")"
   ]
  },
  {
   "cell_type": "code",
   "execution_count": 4,
   "id": "e358b7c4",
   "metadata": {},
   "outputs": [
    {
     "name": "stdout",
     "output_type": "stream",
     "text": [
      "19\n",
      "1\n",
      "2\n",
      "3\n",
      "4\n",
      "5\n",
      "6\n",
      "7\n",
      "8\n",
      "9\n",
      "10\n",
      "11\n",
      "12\n",
      "13\n",
      "14\n",
      "15\n",
      "16\n",
      "17\n",
      "18\n",
      "19\n",
      "Go do some job mofo 😏😏\n"
     ]
    }
   ],
   "source": [
    "n = int(input())\n",
    "for i in range(1,n+1):\n",
    "    print(i)\n",
    "else:\n",
    "    print(\"Go do some job mofo 😏😏\")"
   ]
  },
  {
   "cell_type": "code",
   "execution_count": null,
   "id": "dd843a85",
   "metadata": {},
   "outputs": [],
   "source": [
    "n = int(input())\n",
    "for i in range(2,n,1):\n",
    "    if(n%i==0):\n",
    "        break\n",
    "        print('You are a useless number ')\n",
    "else:\n",
    "    print('This is a Optomus Prime of numbers 😂😂🤖 ')"
   ]
  }
 ],
 "metadata": {
  "kernelspec": {
   "display_name": "Python 3 (ipykernel)",
   "language": "python",
   "name": "python3"
  },
  "language_info": {
   "codemirror_mode": {
    "name": "ipython",
    "version": 3
   },
   "file_extension": ".py",
   "mimetype": "text/x-python",
   "name": "python",
   "nbconvert_exporter": "python",
   "pygments_lexer": "ipython3",
   "version": "3.9.7"
  }
 },
 "nbformat": 4,
 "nbformat_minor": 5
}
