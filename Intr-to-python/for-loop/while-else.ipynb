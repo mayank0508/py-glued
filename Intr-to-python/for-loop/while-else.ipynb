{
 "cells": [
  {
   "cell_type": "markdown",
   "id": "a9fc4276",
   "metadata": {},
   "source": [
    "## While Else "
   ]
  },
  {
   "cell_type": "code",
   "execution_count": 3,
   "id": "c437c3a2",
   "metadata": {},
   "outputs": [
    {
     "name": "stdout",
     "output_type": "stream",
     "text": [
      "10\n",
      "1\n",
      "2\n",
      "3\n",
      "4\n",
      "5\n",
      "6\n",
      "7\n",
      "8\n",
      "9\n",
      "10\n",
      "loop over mf go suck some biatch 🤡🤡🤡🤡🤡\n"
     ]
    }
   ],
   "source": [
    "n = int(input())\n",
    "i = 1\n",
    "while(i<=n):\n",
    "    print(i)\n",
    "    i += 1\n",
    "else:\n",
    "    print(\"loop over mf go suck some biatch 🤡🤡🤡🤡🤡\")"
   ]
  },
  {
   "cell_type": "code",
   "execution_count": null,
   "id": "d1daa66e",
   "metadata": {},
   "outputs": [],
   "source": [
    "n = int(input())\n",
    "for i in range(1,n+1):\n",
    "    print(i)\n",
    "else:\n",
    "    print(\"Go do some jon m\")"
   ]
  }
 ],
 "metadata": {
  "kernelspec": {
   "display_name": "Python 3 (ipykernel)",
   "language": "python",
   "name": "python3"
  },
  "language_info": {
   "codemirror_mode": {
    "name": "ipython",
    "version": 3
   },
   "file_extension": ".py",
   "mimetype": "text/x-python",
   "name": "python",
   "nbconvert_exporter": "python",
   "pygments_lexer": "ipython3",
   "version": "3.9.7"
  }
 },
 "nbformat": 4,
 "nbformat_minor": 5
}
