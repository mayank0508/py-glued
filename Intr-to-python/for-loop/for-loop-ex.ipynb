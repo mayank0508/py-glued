{
 "cells": [
  {
   "cell_type": "markdown",
   "id": "fb3274a7",
   "metadata": {},
   "source": [
    "## Example of for loop"
   ]
  },
  {
   "cell_type": "markdown",
   "id": "2c49e01f",
   "metadata": {},
   "source": [
    "## Multiple of 3"
   ]
  },
  {
   "cell_type": "code",
   "execution_count": 4,
   "id": "b1582d10",
   "metadata": {},
   "outputs": [
    {
     "name": "stdout",
     "output_type": "stream",
     "text": [
      "3\n",
      "10\n",
      "3\n",
      "6\n",
      "9\n"
     ]
    }
   ],
   "source": [
    "# a < b (given)\n",
    "n = int(input())\n",
    "m = int(input())\n",
    "for i in range(n, m+1, 3):\n",
    "    print(i)"
   ]
  },
  {
   "cell_type": "code",
   "execution_count": 5,
   "id": "77c9c549",
   "metadata": {
    "scrolled": true
   },
   "outputs": [
    {
     "name": "stdout",
     "output_type": "stream",
     "text": [
      "3\n",
      "10\n",
      "3\n",
      "6\n",
      "9\n"
     ]
    }
   ],
   "source": [
    "# multiple of 3\n",
    "# a < b (given)\n",
    "n = int(input())\n",
    "m = int(input())\n",
    "for i in range(n, m+1, 3): # but the problem with this loop is that it itterates a lot\n",
    "    if i % 3 == 0:\n",
    "        print(i)"
   ]
  },
  {
   "cell_type": "code",
   "execution_count": 7,
   "id": "dd1ea3b6",
   "metadata": {
    "scrolled": false
   },
   "outputs": [
    {
     "name": "stdout",
     "output_type": "stream",
     "text": [
      "7\n",
      "15\n",
      "9\n",
      "12\n",
      "15\n"
     ]
    }
   ],
   "source": [
    "# a < b (given)\n",
    "n = int(input())\n",
    "m = int(input())\n",
    "\n",
    "if n % 3 == 0:\n",
    "    s = n\n",
    "elif n % 3 == 1:\n",
    "    s = n + 2\n",
    "else:\n",
    "    s = n + 1\n",
    "\n",
    "for i in range(s, m+1, 3):\n",
    "    print(i)"
   ]
  },
  {
   "cell_type": "markdown",
   "id": "28096bb0",
   "metadata": {},
   "source": [
    "## Is prime or not ?"
   ]
  },
  {
   "cell_type": "code",
   "execution_count": 1,
   "id": "2cd72f3e",
   "metadata": {},
   "outputs": [
    {
     "name": "stdout",
     "output_type": "stream",
     "text": [
      "10\n",
      "Not Prime 🥶👾\n"
     ]
    }
   ],
   "source": [
    "n = int(input())\n",
    "reg = False\n",
    "for i in range(2, n, 1):\n",
    "    if n % i == 0:\n",
    "        reg = True\n",
    "if reg:\n",
    "    print('Not Prime 🥶👾')\n",
    "else:\n",
    "    print('Party Time 😏👨‍💻')"
   ]
  },
  {
   "cell_type": "markdown",
   "id": "022dc80d",
   "metadata": {},
   "source": [
    "## Pattern"
   ]
  },
  {
   "cell_type": "code",
   "execution_count": 2,
   "id": "d4a6dff5",
   "metadata": {},
   "outputs": [],
   "source": [
    "#    1\n",
    "#   232\n",
    "#  34543\n",
    "# 4567654"
   ]
  },
  {
   "cell_type": "code",
   "execution_count": 7,
   "id": "b0c3a0ce",
   "metadata": {},
   "outputs": [
    {
     "name": "stdout",
     "output_type": "stream",
     "text": [
      "4\n",
      "   1\n",
      "  232\n",
      " 34543\n",
      "4567654\n"
     ]
    }
   ],
   "source": [
    "n = int(input())\n",
    "\n",
    "for i in range(1, n+1, 1):\n",
    "    for s in range(n-i):\n",
    "        print(\" \", end='')\n",
    "    for j in range(i, 2*i, 1):\n",
    "        print(j, end='')\n",
    "    for k in range(2*i-2, i-1, -1): # here i -1 is the tricky part of the this question \n",
    "        print(k, end='')\n",
    "    print()"
   ]
  },
  {
   "cell_type": "code",
   "execution_count": 5,
   "id": "b84b3923",
   "metadata": {},
   "outputs": [
    {
     "name": "stdout",
     "output_type": "stream",
     "text": [
      "1\n",
      "2\n"
     ]
    }
   ],
   "source": [
    "for i in range(1,3,1):\n",
    "    print(i)"
   ]
  }
 ],
 "metadata": {
  "kernelspec": {
   "display_name": "Python 3 (ipykernel)",
   "language": "python",
   "name": "python3"
  },
  "language_info": {
   "codemirror_mode": {
    "name": "ipython",
    "version": 3
   },
   "file_extension": ".py",
   "mimetype": "text/x-python",
   "name": "python",
   "nbconvert_exporter": "python",
   "pygments_lexer": "ipython3",
   "version": "3.9.7"
  }
 },
 "nbformat": 4,
 "nbformat_minor": 5
}
