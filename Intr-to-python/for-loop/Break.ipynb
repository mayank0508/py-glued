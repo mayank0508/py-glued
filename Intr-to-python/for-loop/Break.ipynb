{
 "cells": [
  {
   "cell_type": "markdown",
   "id": "8e0f5373",
   "metadata": {},
   "source": [
    "## Break Keyword"
   ]
  },
  {
   "cell_type": "code",
   "execution_count": 2,
   "id": "dac0c337",
   "metadata": {},
   "outputs": [
    {
     "name": "stdout",
     "output_type": "stream",
     "text": [
      "1212"
     ]
    }
   ],
   "source": [
    "i=1\n",
    "while i<3:\n",
    "    j=1\n",
    "    while j<5:\n",
    "        if j==3:\n",
    "            break\n",
    "        print(j,end='')\n",
    "        j = j + 1\n",
    "    i = i + 1"
   ]
  },
  {
   "cell_type": "code",
   "execution_count": 1,
   "id": "07a0c9d0",
   "metadata": {},
   "outputs": [
    {
     "name": "stdout",
     "output_type": "stream",
     "text": [
      "1\n",
      "2\n",
      "3\n",
      "4\n"
     ]
    }
   ],
   "source": [
    "i = 1\n",
    "while i < 20:\n",
    "    if i == 5:\n",
    "        break\n",
    "    print(i)\n",
    "    i += 1\n",
    "    "
   ]
  },
  {
   "cell_type": "code",
   "execution_count": 8,
   "id": "48de8b26",
   "metadata": {},
   "outputs": [
    {
     "name": "stdout",
     "output_type": "stream",
     "text": [
      "13242346556747\n",
      "No Prime Bitach 😂😂🤷‍♂️\n"
     ]
    }
   ],
   "source": [
    "n = int(input())\n",
    "d = 2\n",
    "Flag = False;\n",
    "while(n > d):\n",
    "        if(n%d == 0):\n",
    "            Flag = True\n",
    "            break #this makes the code more effective and fast\n",
    "        d = d+1\n",
    "\n",
    "if Flag:\n",
    "    print(\"No Prime Bitach 😂😂🤷‍♂️\")\n",
    "else:\n",
    "    print('Take this L mf😲🤡 its a Prime 🤐')"
   ]
  },
  {
   "cell_type": "code",
   "execution_count": 13,
   "id": "88bcc4f1",
   "metadata": {},
   "outputs": [
    {
     "name": "stdout",
     "output_type": "stream",
     "text": [
      "19\n",
      "2\n",
      "3\n",
      "5\n",
      "7\n",
      "11\n",
      "13\n",
      "17\n",
      "19\n"
     ]
    }
   ],
   "source": [
    "n = int(input())\n",
    "k = 2\n",
    "while(n>=k):\n",
    "    d = 2\n",
    "    Flag = False;\n",
    "    while(k > d):\n",
    "        if(k%d == 0):\n",
    "            Flag = True\n",
    "            break\n",
    "        d = d+1\n",
    "    if not(Flag):\n",
    "        print(k)\n",
    "    k = k+1"
   ]
  }
 ],
 "metadata": {
  "kernelspec": {
   "display_name": "Python 3 (ipykernel)",
   "language": "python",
   "name": "python3"
  },
  "language_info": {
   "codemirror_mode": {
    "name": "ipython",
    "version": 3
   },
   "file_extension": ".py",
   "mimetype": "text/x-python",
   "name": "python",
   "nbconvert_exporter": "python",
   "pygments_lexer": "ipython3",
   "version": "3.9.7"
  }
 },
 "nbformat": 4,
 "nbformat_minor": 5
}
