{
 "cells": [
  {
   "cell_type": "markdown",
   "id": "e82989d9",
   "metadata": {},
   "source": [
    "## Character Patters"
   ]
  },
  {
   "cell_type": "code",
   "execution_count": 1,
   "id": "a8920557",
   "metadata": {},
   "outputs": [
    {
     "data": {
      "text/plain": [
       "109"
      ]
     },
     "execution_count": 1,
     "metadata": {},
     "output_type": "execute_result"
    }
   ],
   "source": [
    "ord('m')"
   ]
  },
  {
   "cell_type": "code",
   "execution_count": 2,
   "id": "389259a2",
   "metadata": {},
   "outputs": [
    {
     "data": {
      "text/plain": [
       "'B'"
      ]
     },
     "execution_count": 2,
     "metadata": {},
     "output_type": "execute_result"
    }
   ],
   "source": [
    "chr(66)"
   ]
  },
  {
   "cell_type": "markdown",
   "id": "18aa5648",
   "metadata": {},
   "source": [
    "### This is the way to convert numbers to Alphabet in Python"
   ]
  },
  {
   "cell_type": "code",
   "execution_count": 4,
   "id": "71c6584b",
   "metadata": {},
   "outputs": [
    {
     "name": "stdout",
     "output_type": "stream",
     "text": [
      "3\n",
      "C\n"
     ]
    }
   ],
   "source": [
    "#print kth alphabet\n",
    "k = int(input())\n",
    "x = ord('A')\n",
    "getChar = x + k - 1\n",
    "printChar = chr(getChar)\n",
    "print(printChar)"
   ]
  }
 ],
 "metadata": {
  "kernelspec": {
   "display_name": "Python 3 (ipykernel)",
   "language": "python",
   "name": "python3"
  },
  "language_info": {
   "codemirror_mode": {
    "name": "ipython",
    "version": 3
   },
   "file_extension": ".py",
   "mimetype": "text/x-python",
   "name": "python",
   "nbconvert_exporter": "python",
   "pygments_lexer": "ipython3",
   "version": "3.9.7"
  }
 },
 "nbformat": 4,
 "nbformat_minor": 5
}
