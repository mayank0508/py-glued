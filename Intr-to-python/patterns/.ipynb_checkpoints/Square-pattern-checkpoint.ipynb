{
 "cells": [
  {
   "cell_type": "markdown",
   "id": "d87855bb",
   "metadata": {},
   "source": [
    "## Square Patterns"
   ]
  },
  {
   "cell_type": "markdown",
   "id": "f1638580",
   "metadata": {},
   "source": [
    "****\n",
    "****\n",
    "****\n",
    "****"
   ]
  },
  {
   "cell_type": "code",
   "execution_count": 6,
   "id": "98d392f7",
   "metadata": {},
   "outputs": [
    {
     "ename": "SyntaxError",
     "evalue": "invalid syntax (Temp/ipykernel_11372/3313365792.py, line 2)",
     "output_type": "error",
     "traceback": [
      "\u001b[1;36m  File \u001b[1;32m\"C:\\Users\\Lenovo\\AppData\\Local\\Temp/ipykernel_11372/3313365792.py\"\u001b[1;36m, line \u001b[1;32m2\u001b[0m\n\u001b[1;33m    i = 1\u001b[0m\n\u001b[1;37m    ^\u001b[0m\n\u001b[1;31mSyntaxError\u001b[0m\u001b[1;31m:\u001b[0m invalid syntax\n"
     ]
    }
   ],
   "source": [
    "n = int(input('Enter Numbers')\n",
    "i = 1\n",
    "while(i<=n):\n",
    "        j = 1\n",
    "        while(j<=n):\n",
    "            print('*'end='')\n",
    "        print()\n",
    "        i = i+1"
   ]
  },
  {
   "cell_type": "code",
   "execution_count": 2,
   "id": "bc6ef0e5",
   "metadata": {},
   "outputs": [
    {
     "name": "stdout",
     "output_type": "stream",
     "text": [
      "Enter Numbers: 5\n",
      "*****\n",
      "*****\n",
      "*****\n",
      "*****\n",
      "*****\n"
     ]
    }
   ],
   "source": [
    "n = int(input('Enter Numbers: '))\n",
    "i = 1\n",
    "while(i<=n):\n",
    "        j = 1\n",
    "        while(j<=n):\n",
    "            print('*',end='')\n",
    "            j = j+1\n",
    "        print()\n",
    "        i = i+1"
   ]
  },
  {
   "cell_type": "code",
   "execution_count": 3,
   "id": "cb385c1c",
   "metadata": {},
   "outputs": [
    {
     "name": "stdout",
     "output_type": "stream",
     "text": [
      "Enter Numbers: 5\n",
      "11111\n",
      "22222\n",
      "33333\n",
      "44444\n",
      "55555\n"
     ]
    }
   ],
   "source": [
    "n = int(input('Enter Numbers: '))\n",
    "i = 1\n",
    "while(i<=n):\n",
    "        j = 1\n",
    "        while(j<=n):\n",
    "            print(i,end='')\n",
    "            j = j+1\n",
    "        print()\n",
    "        i = i+1"
   ]
  },
  {
   "cell_type": "code",
   "execution_count": 4,
   "id": "6c338bb8",
   "metadata": {},
   "outputs": [
    {
     "name": "stdout",
     "output_type": "stream",
     "text": [
      "Enter Numbers: 5\n",
      "12345\n",
      "12345\n",
      "12345\n",
      "12345\n",
      "12345\n"
     ]
    }
   ],
   "source": [
    "n = int(input('Enter Numbers: '))\n",
    "i = 1\n",
    "while(i<=n):\n",
    "        j = 1\n",
    "        while(j<=n):\n",
    "            print(j,end='')\n",
    "            j = j+1\n",
    "        print()\n",
    "        i = i+1"
   ]
  },
  {
   "cell_type": "code",
   "execution_count": 6,
   "id": "ee542269",
   "metadata": {},
   "outputs": [
    {
     "name": "stdout",
     "output_type": "stream",
     "text": [
      "Enter Numbers: 5\n",
      "54321\n",
      "54321\n",
      "54321\n",
      "54321\n",
      "54321\n"
     ]
    }
   ],
   "source": [
    "n = int(input('Enter Numbers: '))\n",
    "i = 1\n",
    "while(i<=n):\n",
    "        j = 1\n",
    "        while(j<=n):\n",
    "            print(n-j+1,end='')\n",
    "            j = j+1\n",
    "        print()\n",
    "        i = i+1"
   ]
  },
  {
   "cell_type": "code",
   "execution_count": null,
   "id": "aa14bc4a",
   "metadata": {},
   "outputs": [],
   "source": []
  }
 ],
 "metadata": {
  "kernelspec": {
   "display_name": "Python 3 (ipykernel)",
   "language": "python",
   "name": "python3"
  },
  "language_info": {
   "codemirror_mode": {
    "name": "ipython",
    "version": 3
   },
   "file_extension": ".py",
   "mimetype": "text/x-python",
   "name": "python",
   "nbconvert_exporter": "python",
   "pygments_lexer": "ipython3",
   "version": "3.9.7"
  }
 },
 "nbformat": 4,
 "nbformat_minor": 5
}
