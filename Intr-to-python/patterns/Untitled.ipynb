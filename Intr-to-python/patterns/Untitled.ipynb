{
 "cells": [
  {
   "cell_type": "markdown",
   "id": "29a03102",
   "metadata": {},
   "source": [
    "## Patterns"
   ]
  },
  {
   "cell_type": "markdown",
   "id": "dbea28b3",
   "metadata": {},
   "source": [
    "****\n",
    "****\n",
    "****\n",
    "****"
   ]
  },
  {
   "cell_type": "code",
   "execution_count": 6,
   "id": "afb737f6",
   "metadata": {},
   "outputs": [
    {
     "ename": "SyntaxError",
     "evalue": "invalid syntax (Temp/ipykernel_11372/3313365792.py, line 2)",
     "output_type": "error",
     "traceback": [
      "\u001b[1;36m  File \u001b[1;32m\"C:\\Users\\Lenovo\\AppData\\Local\\Temp/ipykernel_11372/3313365792.py\"\u001b[1;36m, line \u001b[1;32m2\u001b[0m\n\u001b[1;33m    i = 1\u001b[0m\n\u001b[1;37m    ^\u001b[0m\n\u001b[1;31mSyntaxError\u001b[0m\u001b[1;31m:\u001b[0m invalid syntax\n"
     ]
    }
   ],
   "source": [
    "n = int(input('Enter Numbers')\n",
    "i = 1\n",
    "while(i<=n):\n",
    "        j = 1\n",
    "        while(j<=n):\n",
    "            print('*'end='')\n",
    "        print()\n",
    "        i = i+1"
   ]
  },
  {
   "cell_type": "code",
   "execution_count": null,
   "id": "67b49092",
   "metadata": {},
   "outputs": [],
   "source": [
    "n = int(input('Enter Numbers'))\n",
    "i = 1\n",
    "while(i<=n):\n",
    "        j = 1\n",
    "        while(j<=n):\n",
    "            print('*',end='')\n",
    "            j = j+1\n",
    "        print()\n",
    "        i = i+1"
   ]
  }
 ],
 "metadata": {
  "kernelspec": {
   "display_name": "Python 3 (ipykernel)",
   "language": "python",
   "name": "python3"
  },
  "language_info": {
   "codemirror_mode": {
    "name": "ipython",
    "version": 3
   },
   "file_extension": ".py",
   "mimetype": "text/x-python",
   "name": "python",
   "nbconvert_exporter": "python",
   "pygments_lexer": "ipython3",
   "version": "3.9.7"
  }
 },
 "nbformat": 4,
 "nbformat_minor": 5
}
