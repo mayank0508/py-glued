{
 "cells": [
  {
   "cell_type": "markdown",
   "id": "b7c5e4e7",
   "metadata": {},
   "source": [
    "## Triangular patterns"
   ]
  },
  {
   "cell_type": "code",
   "execution_count": 1,
   "id": "9eefe849",
   "metadata": {},
   "outputs": [
    {
     "name": "stdout",
     "output_type": "stream",
     "text": [
      "4\n",
      "1\n",
      "12\n",
      "123\n",
      "1234\n"
     ]
    }
   ],
   "source": [
    "n = int(input())\n",
    "i = 1\n",
    "while(i<=n):\n",
    "    j = 1\n",
    "    while(j<=i):\n",
    "        print(j, end='')\n",
    "        j = j + 1\n",
    "    print()\n",
    "    i = i+1"
   ]
  },
  {
   "cell_type": "code",
   "execution_count": 5,
   "id": "5a4b8fd5",
   "metadata": {},
   "outputs": [
    {
     "name": "stdout",
     "output_type": "stream",
     "text": [
      "4\n",
      "1\n",
      "23\n",
      "345\n",
      "4567\n"
     ]
    }
   ],
   "source": [
    "n = int(input())\n",
    "i = 1\n",
    "while(i<=n):\n",
    "    j = 1\n",
    "    while(j<=i):\n",
    "        print(i+j-1, end='') # we are using a formula here which is good but below we will use a counter method to make this thing work\n",
    "        j = j + 1\n",
    "    print()\n",
    "    i = i+1"
   ]
  },
  {
   "cell_type": "code",
   "execution_count": 6,
   "id": "4e93b013",
   "metadata": {},
   "outputs": [
    {
     "name": "stdout",
     "output_type": "stream",
     "text": [
      "5\n",
      "1\n",
      "23\n",
      "345\n",
      "4567\n",
      "56789\n"
     ]
    }
   ],
   "source": [
    "n = int(input())\n",
    "i = 1\n",
    "while(i<=n):\n",
    "    j = 1\n",
    "    p = i # counter\n",
    "    while(j<=i):\n",
    "        print(p, end='')\n",
    "        j = j+1\n",
    "        p = p+1\n",
    "    print()\n",
    "    i = i +1"
   ]
  },
  {
   "cell_type": "code",
   "execution_count": 12,
   "id": "3d9600a1",
   "metadata": {},
   "outputs": [
    {
     "name": "stdout",
     "output_type": "stream",
     "text": [
      "4\n",
      "1\n",
      "23\n",
      "456\n",
      "78910\n"
     ]
    }
   ],
   "source": [
    "n = int(input())\n",
    "i = 1\n",
    "p = 1\n",
    "while(i<=n):\n",
    "    j = 1\n",
    "    while(j<=i):\n",
    "        print(p, end='')\n",
    "        j = j+1\n",
    "        p = p +1\n",
    "    print()\n",
    "    i = i + 1"
   ]
  }
 ],
 "metadata": {
  "kernelspec": {
   "display_name": "Python 3 (ipykernel)",
   "language": "python",
   "name": "python3"
  },
  "language_info": {
   "codemirror_mode": {
    "name": "ipython",
    "version": 3
   },
   "file_extension": ".py",
   "mimetype": "text/x-python",
   "name": "python",
   "nbconvert_exporter": "python",
   "pygments_lexer": "ipython3",
   "version": "3.9.7"
  }
 },
 "nbformat": 4,
 "nbformat_minor": 5
}
