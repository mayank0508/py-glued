{
 "cells": [
  {
   "cell_type": "markdown",
   "id": "f853648c",
   "metadata": {},
   "source": [
    "## Character Patters"
   ]
  },
  {
   "cell_type": "code",
   "execution_count": 1,
   "id": "af3bb1f6",
   "metadata": {},
   "outputs": [
    {
     "data": {
      "text/plain": [
       "109"
      ]
     },
     "execution_count": 1,
     "metadata": {},
     "output_type": "execute_result"
    }
   ],
   "source": [
    "ord('m')"
   ]
  },
  {
   "cell_type": "code",
   "execution_count": 2,
   "id": "d64dad47",
   "metadata": {},
   "outputs": [
    {
     "data": {
      "text/plain": [
       "'B'"
      ]
     },
     "execution_count": 2,
     "metadata": {},
     "output_type": "execute_result"
    }
   ],
   "source": [
    "chr(66)"
   ]
  },
  {
   "cell_type": "markdown",
   "id": "13ef4764",
   "metadata": {},
   "source": [
    "### This is the way to convert numbers to Alphabet in Python"
   ]
  },
  {
   "cell_type": "code",
   "execution_count": 4,
   "id": "84f11a59",
   "metadata": {},
   "outputs": [
    {
     "name": "stdout",
     "output_type": "stream",
     "text": [
      "3\n",
      "C\n"
     ]
    }
   ],
   "source": [
    "#print kth alphabet\n",
    "k = int(input())\n",
    "x = ord('A')\n",
    "getChar = x + k - 1\n",
    "printChar = chr(getChar)\n",
    "print(printChar)"
   ]
  },
  {
   "cell_type": "code",
   "execution_count": null,
   "id": "8b03211d",
   "metadata": {},
   "outputs": [],
   "source": [
    "n = int(input())\n",
    "i = 1\n",
    "while(i<=n):\n",
    "    j = 1\n",
    "    while(j<=1):\n",
    "        CharP = ord()"
   ]
  }
 ],
 "metadata": {
  "kernelspec": {
   "display_name": "Python 3 (ipykernel)",
   "language": "python",
   "name": "python3"
  },
  "language_info": {
   "codemirror_mode": {
    "name": "ipython",
    "version": 3
   },
   "file_extension": ".py",
   "mimetype": "text/x-python",
   "name": "python",
   "nbconvert_exporter": "python",
   "pygments_lexer": "ipython3",
   "version": "3.9.7"
  }
 },
 "nbformat": 4,
 "nbformat_minor": 5
}
