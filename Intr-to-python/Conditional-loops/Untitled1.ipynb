{
 "cells": [
  {
   "cell_type": "code",
   "execution_count": null,
   "id": "27f1f78a",
   "metadata": {},
   "outputs": [],
   "source": [
    "n = int(input())\n",
    "k = 2\n",
    "while(n>=k):\n",
    "    d = 2\n",
    "    Flag = False;\n",
    "    while(n > d):\n",
    "        if(n%d == 0):\n",
    "            Flag = True\n",
    "        d = d+1\n",
    "    if not(Flag):\n",
    "        print(k)\n",
    "k = k+1"
   ]
  },
  {
   "cell_type": "code",
   "execution_count": null,
   "id": "8e7c9977",
   "metadata": {},
   "outputs": [],
   "source": [
    "n = int(input())\n",
    "k = 2\n",
    "while(n>=k):\n",
    "    d = 2\n",
    "    Flag = False;\n",
    "    while(n > d):\n",
    "        if(n%d == 0):\n",
    "            Flag = True\n",
    "        d = d+1\n",
    "    if not(Flag):\n",
    "        print(k)\n",
    "k = k+1"
   ]
  }
 ],
 "metadata": {
  "kernelspec": {
   "display_name": "Python 3 (ipykernel)",
   "language": "python",
   "name": "python3"
  },
  "language_info": {
   "codemirror_mode": {
    "name": "ipython",
    "version": 3
   },
   "file_extension": ".py",
   "mimetype": "text/x-python",
   "name": "python",
   "nbconvert_exporter": "python",
   "pygments_lexer": "ipython3",
   "version": "3.9.7"
  }
 },
 "nbformat": 4,
 "nbformat_minor": 5
}
