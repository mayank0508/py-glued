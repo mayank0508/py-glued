{
 "cells": [
  {
   "cell_type": "markdown",
   "id": "cbfb2089",
   "metadata": {},
   "source": [
    "## Relational-Logical If Else"
   ]
  },
  {
   "cell_type": "code",
   "execution_count": 7,
   "id": "07dd89af",
   "metadata": {},
   "outputs": [
    {
     "name": "stdout",
     "output_type": "stream",
     "text": [
      "11\n",
      "11\n",
      "You passes the test MF 😏😏\n"
     ]
    }
   ],
   "source": [
    "num1 = int(input())\n",
    "num2 = int(input())\n",
    "if (num1 and num2) > 10:\n",
    "    print('You passes the test MF 😏😏')\n",
    "else: \n",
    "    print('You dont fell silly')"
   ]
  },
  {
   "cell_type": "code",
   "execution_count": 9,
   "id": "b8b3e1c4",
   "metadata": {},
   "outputs": [
    {
     "name": "stdout",
     "output_type": "stream",
     "text": [
      "7\n",
      "We win\n"
     ]
    }
   ],
   "source": [
    "a = int(input())\n",
    "if a != 7:\n",
    "    print('Print not equal to 7')\n",
    "else:\n",
    "    print('We win')"
   ]
  },
  {
   "cell_type": "code",
   "execution_count": 11,
   "id": "792eb822",
   "metadata": {},
   "outputs": [
    {
     "name": "stdout",
     "output_type": "stream",
     "text": [
      "7\n",
      "Print equal to 7\n"
     ]
    }
   ],
   "source": [
    "a = int(input())\n",
    "if a == 7:\n",
    "    print('Print equal to 7')\n",
    "else:\n",
    "    print('We lose')"
   ]
  }
 ],
 "metadata": {
  "kernelspec": {
   "display_name": "Python 3 (ipykernel)",
   "language": "python",
   "name": "python3"
  },
  "language_info": {
   "codemirror_mode": {
    "name": "ipython",
    "version": 3
   },
   "file_extension": ".py",
   "mimetype": "text/x-python",
   "name": "python",
   "nbconvert_exporter": "python",
   "pygments_lexer": "ipython3",
   "version": "3.9.7"
  }
 },
 "nbformat": 4,
 "nbformat_minor": 5
}
