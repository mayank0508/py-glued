{
 "cells": [
  {
   "cell_type": "markdown",
   "id": "08ac8141",
   "metadata": {},
   "source": [
    "## IF-Else 😉\n"
   ]
  },
  {
   "cell_type": "code",
   "execution_count": 4,
   "id": "9854fc5c",
   "metadata": {},
   "outputs": [
    {
     "name": "stdout",
     "output_type": "stream",
     "text": [
      "you are king\n"
     ]
    }
   ],
   "source": [
    "a = True\n",
    "if a:\n",
    "    print(\"you are king\")\n",
    "else:\n",
    "    print(\"Fuck of Bitch\")"
   ]
  },
  {
   "cell_type": "code",
   "execution_count": 7,
   "id": "4c584598",
   "metadata": {},
   "outputs": [
    {
     "name": "stdout",
     "output_type": "stream",
     "text": [
      "Fuck of Bitch\n",
      "LOL Just Kidding 😁\n"
     ]
    }
   ],
   "source": [
    "a = False\n",
    "if a:\n",
    "    print(\"you are king\")\n",
    "else:\n",
    "    print(\"Fuck of Bitch\")\n",
    "    print(\"LOL Just Kidding 😁\")"
   ]
  },
  {
   "cell_type": "code",
   "execution_count": 14,
   "id": "fe49a828",
   "metadata": {},
   "outputs": [
    {
     "name": "stdout",
     "output_type": "stream",
     "text": [
      "4\n",
      "Even bitches 🤐🤐\n"
     ]
    }
   ],
   "source": [
    "# check number to be odd or even\n",
    "num =  int(input())\n",
    "r = num % 2\n",
    "is_even = (r == 0)\n",
    "if is_even:\n",
    "    print(\"Even bitches 🤐🤐\")\n",
    "else:\n",
    "    print('Why am i here ? Just to suffer ..... 😐😑')"
   ]
  },
  {
   "cell_type": "code",
   "execution_count": 19,
   "id": "b718f285",
   "metadata": {},
   "outputs": [
    {
     "name": "stdout",
     "output_type": "stream",
     "text": [
      "5\n",
      "Why am i here ? Just to suffer ..... 😐😑\n"
     ]
    }
   ],
   "source": [
    "# check number to be odd or even\n",
    "num =  int(input())\n",
    "if num % 2 == 0:\n",
    "    print(\"Even bitches 🤐🤐\")\n",
    "else:\n",
    "    print('Why am i here ? Just to suffer ..... 😐😑')"
   ]
  }
 ],
 "metadata": {
  "kernelspec": {
   "display_name": "Python 3 (ipykernel)",
   "language": "python",
   "name": "python3"
  },
  "language_info": {
   "codemirror_mode": {
    "name": "ipython",
    "version": 3
   },
   "file_extension": ".py",
   "mimetype": "text/x-python",
   "name": "python",
   "nbconvert_exporter": "python",
   "pygments_lexer": "ipython3",
   "version": "3.9.7"
  }
 },
 "nbformat": 4,
 "nbformat_minor": 5
}
