{
 "cells": [
  {
   "cell_type": "markdown",
   "id": "4afcc695",
   "metadata": {},
   "source": [
    "### Nested Loops\n"
   ]
  },
  {
   "cell_type": "code",
   "execution_count": null,
   "id": "e2401eec",
   "metadata": {},
   "outputs": [],
   "source": [
    "# This is a simple prime or not prime problem\n",
    "n = int(input())\n",
    "d = 2\n",
    "Flag = False;\n",
    "\n",
    "while(n > d):\n",
    "    if(n%d == 0):\n",
    "        Flag = True\n",
    "    d = d+1\n",
    "\n",
    "if(Flag == True):\n",
    "    print(\"Not prime\")\n",
    "else:\n",
    "    print(\"Prime\")"
   ]
  },
  {
   "cell_type": "markdown",
   "id": "b2a37e93",
   "metadata": {},
   "source": [
    "## This is a code in which we go a diffrent way todo things\n"
   ]
  },
  {
   "cell_type": "code",
   "execution_count": null,
   "id": "44122bc0",
   "metadata": {},
   "outputs": [],
   "source": [
    "n = int(input())\n",
    "k = 2\n",
    "while(n>=k):\n",
    "    d = 2\n",
    "    Flag = False;\n",
    "    while(k > d):\n",
    "        if(k%d == 0):\n",
    "            Flag = True\n",
    "        d = d+1\n",
    "    if not(Flag):\n",
    "        print(k)\n",
    "    k = k + 1"
   ]
  },
  {
   "cell_type": "code",
   "execution_count": null,
   "id": "33200bba",
   "metadata": {},
   "outputs": [],
   "source": []
  }
 ],
 "metadata": {
  "kernelspec": {
   "display_name": "Python 3 (ipykernel)",
   "language": "python",
   "name": "python3"
  },
  "language_info": {
   "codemirror_mode": {
    "name": "ipython",
    "version": 3
   },
   "file_extension": ".py",
   "mimetype": "text/x-python",
   "name": "python",
   "nbconvert_exporter": "python",
   "pygments_lexer": "ipython3",
   "version": "3.9.7"
  }
 },
 "nbformat": 4,
 "nbformat_minor": 5
}
