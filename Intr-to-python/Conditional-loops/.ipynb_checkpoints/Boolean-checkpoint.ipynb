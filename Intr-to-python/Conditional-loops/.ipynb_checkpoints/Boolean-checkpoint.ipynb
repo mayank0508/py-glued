{
 "cells": [
  {
   "cell_type": "markdown",
   "id": "6d7b5540",
   "metadata": {},
   "source": [
    "## Boolean\n"
   ]
  },
  {
   "cell_type": "code",
   "execution_count": 3,
   "id": "c889a517",
   "metadata": {},
   "outputs": [
    {
     "data": {
      "text/plain": [
       "bool"
      ]
     },
     "execution_count": 3,
     "metadata": {},
     "output_type": "execute_result"
    }
   ],
   "source": [
    "a = True; # True and False are reserved keywords for only boolean values\n",
    "b = False;\n",
    "\n",
    "c = 'Ninjas';\n",
    "c\n",
    "type(a)"
   ]
  },
  {
   "cell_type": "markdown",
   "id": "2c8ef8bf",
   "metadata": {},
   "source": [
    "# Relational OP"
   ]
  },
  {
   "cell_type": "code",
   "execution_count": 6,
   "id": "f24aeef6",
   "metadata": {},
   "outputs": [
    {
     "name": "stdout",
     "output_type": "stream",
     "text": [
      "False\n",
      "False\n",
      "True\n",
      "False\n",
      "True\n",
      "True\n"
     ]
    }
   ],
   "source": [
    "a = 10\n",
    "b = 30\n",
    "print(a > b) # a greated than b\n",
    "print(a == b) # a equal to b\n",
    "print(a < b) # b greated than a\n",
    "print(a >= b) # a greated or equal b\n",
    "print(a <= b) # b greated or equal a\n",
    "print(a != b) # a not equal b"
   ]
  },
  {
   "cell_type": "markdown",
   "id": "3eaea2ab",
   "metadata": {},
   "source": [
    "# Logical OP"
   ]
  },
  {
   "cell_type": "code",
   "execution_count": 12,
   "id": "abd98959",
   "metadata": {},
   "outputs": [
    {
     "name": "stdout",
     "output_type": "stream",
     "text": [
      "False\n",
      "True\n",
      "False\n"
     ]
    }
   ],
   "source": [
    "m1 = 34;\n",
    "m2 = 53;\n",
    "a1 = m1 > 20 \n",
    "a2 = m2 > 60\n",
    "k1 = a1 and a2\n",
    "k2 = a1 or a2\n",
    "k3 = not a1\n",
    "print(k1)\n",
    "print(k2)\n",
    "print(k3)"
   ]
  }
 ],
 "metadata": {
  "kernelspec": {
   "display_name": "Python 3 (ipykernel)",
   "language": "python",
   "name": "python3"
  },
  "language_info": {
   "codemirror_mode": {
    "name": "ipython",
    "version": 3
   },
   "file_extension": ".py",
   "mimetype": "text/x-python",
   "name": "python",
   "nbconvert_exporter": "python",
   "pygments_lexer": "ipython3",
   "version": "3.9.7"
  }
 },
 "nbformat": 4,
 "nbformat_minor": 5
}
