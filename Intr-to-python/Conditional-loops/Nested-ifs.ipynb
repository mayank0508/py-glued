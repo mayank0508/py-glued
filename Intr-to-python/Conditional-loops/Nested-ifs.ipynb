{
 "cells": [
  {
   "cell_type": "markdown",
   "id": "4aebf75a",
   "metadata": {},
   "source": [
    "## Nested IF ELSE"
   ]
  },
  {
   "cell_type": "code",
   "execution_count": 2,
   "id": "76a67712",
   "metadata": {},
   "outputs": [
    {
     "name": "stdout",
     "output_type": "stream",
     "text": [
      "0\n",
      "Even bitches 🤐🤐\n",
      "But Its ZERO MFs 😩\n"
     ]
    }
   ],
   "source": [
    "# check number to be odd or even\n",
    "num =  int(input())\n",
    "if num % 2 == 0:\n",
    "    print(\"Even bitches 🤐🤐\")\n",
    "    if (num == 0):\n",
    "        print(\"But Its ZERO MFs 😩\")\n",
    "else:\n",
    "    print('Why am i here ? Just to suffer .😐😑')"
   ]
  },
  {
   "cell_type": "code",
   "execution_count": null,
   "id": "e127e017",
   "metadata": {},
   "outputs": [],
   "source": [
    "# check n and m\n",
    "n =  int(input())\n",
    "m =  int(input())\n",
    "\n",
    "if n % 2 == 0:\n",
    "    if m % 2 == 0:\n",
    "        print(1)\n",
    "    else:\n",
    "        print(2)\n",
    "else:\n",
    "    print(3)"
   ]
  }
 ],
 "metadata": {
  "kernelspec": {
   "display_name": "Python 3 (ipykernel)",
   "language": "python",
   "name": "python3"
  },
  "language_info": {
   "codemirror_mode": {
    "name": "ipython",
    "version": 3
   },
   "file_extension": ".py",
   "mimetype": "text/x-python",
   "name": "python",
   "nbconvert_exporter": "python",
   "pygments_lexer": "ipython3",
   "version": "3.9.7"
  }
 },
 "nbformat": 4,
 "nbformat_minor": 5
}
