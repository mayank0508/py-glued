{
 "cells": [
  {
   "cell_type": "markdown",
   "id": "13bbc92f",
   "metadata": {},
   "source": [
    "## Else If"
   ]
  },
  {
   "cell_type": "code",
   "execution_count": 8,
   "id": "48dc1a67",
   "metadata": {},
   "outputs": [
    {
     "name": "stdout",
     "output_type": "stream",
     "text": [
      "1\n",
      "2\n",
      "3\n",
      "C is the largest\n"
     ]
    }
   ],
   "source": [
    "a = int(input())\n",
    "b = int(input())\n",
    "c = int(input())\n",
    "if (a >= b and a >= c):\n",
    "    print(\"A is the largest\")\n",
    "elif (b >= a and b >= c):\n",
    "    print(\"B is the largest\")\n",
    "else:\n",
    "    print(\"C is the largest\")"
   ]
  },
  {
   "cell_type": "code",
   "execution_count": 12,
   "id": "239f9719",
   "metadata": {},
   "outputs": [
    {
     "name": "stdout",
     "output_type": "stream",
     "text": [
      "11\n",
      "RED\n"
     ]
    }
   ],
   "source": [
    "n = int(input())\n",
    "if (n>10):\n",
    "    print(\"RED\")\n",
    "elif (10 >= n and n>= 5):\n",
    "    print(\"GREEN\")\n",
    "elif (5>n and n>0):\n",
    "    print(\"YELLOW\")"
   ]
  },
  {
   "cell_type": "code",
   "execution_count": 13,
   "id": "fc07434d",
   "metadata": {},
   "outputs": [
    {
     "name": "stdout",
     "output_type": "stream",
     "text": [
      "9\n",
      "GREEN\n"
     ]
    }
   ],
   "source": [
    "n = int(input())\n",
    "if (n>10):\n",
    "    print(\"RED\")\n",
    "elif (10 >= n and n>= 5):\n",
    "    print(\"GREEN\")\n",
    "elif (5>n and n>0):\n",
    "    print(\"YELLOW\")"
   ]
  },
  {
   "cell_type": "code",
   "execution_count": 14,
   "id": "20a18f63",
   "metadata": {},
   "outputs": [
    {
     "name": "stdout",
     "output_type": "stream",
     "text": [
      "2\n",
      "YELLOW\n"
     ]
    }
   ],
   "source": [
    "n = int(input())\n",
    "if (n>10):\n",
    "    print(\"RED\")\n",
    "elif (10 >= n and n>= 5):\n",
    "    print(\"GREEN\")\n",
    "elif (5>n and n>0):\n",
    "    print(\"YELLOW\")"
   ]
  },
  {
   "cell_type": "code",
   "execution_count": 19,
   "id": "e6238b70",
   "metadata": {},
   "outputs": [
    {
     "name": "stdout",
     "output_type": "stream",
     "text": [
      "-2\n"
     ]
    }
   ],
   "source": [
    "n = int(input()) # this is the best code and most effective compared to all other cases !\n",
    "if (n>10):\n",
    "    print(\"RED\")\n",
    "elif (n>= 5):\n",
    "    print(\"GREEN\")\n",
    "elif (n>0):\n",
    "    print(\"YELLOW\")"
   ]
  }
 ],
 "metadata": {
  "kernelspec": {
   "display_name": "Python 3 (ipykernel)",
   "language": "python",
   "name": "python3"
  },
  "language_info": {
   "codemirror_mode": {
    "name": "ipython",
    "version": 3
   },
   "file_extension": ".py",
   "mimetype": "text/x-python",
   "name": "python",
   "nbconvert_exporter": "python",
   "pygments_lexer": "ipython3",
   "version": "3.9.7"
  }
 },
 "nbformat": 4,
 "nbformat_minor": 5
}
