{
 "cells": [
  {
   "cell_type": "markdown",
   "id": "4e8808f3",
   "metadata": {},
   "source": [
    "## Passing Vars through Functions"
   ]
  },
  {
   "cell_type": "code",
   "execution_count": 11,
   "id": "5ad73ca9",
   "metadata": {},
   "outputs": [
    {
     "name": "stdout",
     "output_type": "stream",
     "text": [
      "2\n"
     ]
    }
   ],
   "source": [
    "def increment(a):\n",
    "    a = a+2\n",
    "    return\n",
    "    \n",
    "a = 2\n",
    "increment(a) # this is a function\n",
    "print(a)"
   ]
  },
  {
   "cell_type": "markdown",
   "id": "3ff35593",
   "metadata": {},
   "source": [
    "##### in the above situation we can see that the code is not working as we have not really store dthe value of the increment any where"
   ]
  },
  {
   "cell_type": "code",
   "execution_count": 10,
   "id": "fae5aa32",
   "metadata": {},
   "outputs": [
    {
     "name": "stdout",
     "output_type": "stream",
     "text": [
      "4\n"
     ]
    }
   ],
   "source": [
    "def increment(a):\n",
    "    a = a+2\n",
    "    return a\n",
    "    \n",
    "a = 2\n",
    "a = increment(a) # this is a function\n",
    "print(a)"
   ]
  },
  {
   "cell_type": "markdown",
   "id": "a42d5d27",
   "metadata": {},
   "source": [
    "##### btw here as now we are storing the increment value in a so we are getting the value of the increment "
   ]
  },
  {
   "cell_type": "markdown",
   "id": "79f531df",
   "metadata": {},
   "source": [
    "## Passing Lists through Functions"
   ]
  },
  {
   "cell_type": "code",
   "execution_count": null,
   "id": "270bab7a",
   "metadata": {},
   "outputs": [],
   "source": []
  }
 ],
 "metadata": {
  "kernelspec": {
   "display_name": "Python 3 (ipykernel)",
   "language": "python",
   "name": "python3"
  },
  "language_info": {
   "codemirror_mode": {
    "name": "ipython",
    "version": 3
   },
   "file_extension": ".py",
   "mimetype": "text/x-python",
   "name": "python",
   "nbconvert_exporter": "python",
   "pygments_lexer": "ipython3",
   "version": "3.9.7"
  }
 },
 "nbformat": 4,
 "nbformat_minor": 5
}
