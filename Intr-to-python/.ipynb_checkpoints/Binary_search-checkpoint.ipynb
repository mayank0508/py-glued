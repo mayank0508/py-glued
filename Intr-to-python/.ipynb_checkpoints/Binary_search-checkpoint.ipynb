{
 "cells": [
  {
   "cell_type": "markdown",
   "id": "db3495b1",
   "metadata": {},
   "source": [
    " ### Binary search"
   ]
  },
  {
   "cell_type": "code",
   "execution_count": 5,
   "id": "dbd6e577",
   "metadata": {},
   "outputs": [],
   "source": [
    "def binary_search(array, element, debug=False):\n",
    "    l = 0\n",
    "    u = len(array)-1\n",
    "    while(l <= u):\n",
    "        mid=(l+u//2) #integer\n",
    "        if debug:\n",
    "            print(\"Lower Bound\", l)\n",
    "            print(\"Upper Bound\", u)\n",
    "            print(\"Middle Bound\", mid)\n",
    "        if element == array[mid]:\n",
    "            return \"Your value is found at middle at this index\", mid\n",
    "        elif element < array[mid]: # lesser\n",
    "            # no change in lowe bound\n",
    "            u = mid-1 # but there is change in u\n",
    "        else: # greater cond\n",
    "            # upper bound is same\n",
    "            l = mid + 1\n",
    "    \n",
    "    return \"Your element is not present here sir\""
   ]
  },
  {
   "cell_type": "code",
   "execution_count": 2,
   "id": "375644fb",
   "metadata": {},
   "outputs": [
    {
     "data": {
      "text/plain": [
       "'Your element is not present here sir'"
      ]
     },
     "execution_count": 2,
     "metadata": {},
     "output_type": "execute_result"
    }
   ],
   "source": [
    "array = [12,34,56,78,89,67]\n",
    "x1 = 69\n",
    "x2 = 67\n",
    "binary_search(array,x1, debug=False)"
   ]
  },
  {
   "cell_type": "code",
   "execution_count": 3,
   "id": "eb3327c5",
   "metadata": {},
   "outputs": [
    {
     "name": "stdout",
     "output_type": "stream",
     "text": [
      "Lower Bound 0\n",
      "Upper Bound 5\n",
      "Middle Bound 2\n",
      "Lower Bound 3\n",
      "Upper Bound 5\n",
      "Middle Bound 5\n"
     ]
    },
    {
     "data": {
      "text/plain": [
       "'Your element is not present here sir'"
      ]
     },
     "execution_count": 3,
     "metadata": {},
     "output_type": "execute_result"
    }
   ],
   "source": [
    "binary_search(array, x1, debug=True)"
   ]
  },
  {
   "cell_type": "code",
   "execution_count": 4,
   "id": "65a37eea",
   "metadata": {},
   "outputs": [
    {
     "data": {
      "text/plain": [
       "('Your value is found at middlw at this index', 5)"
      ]
     },
     "execution_count": 4,
     "metadata": {},
     "output_type": "execute_result"
    }
   ],
   "source": [
    "binary_search(array, x2, debug=False)"
   ]
  },
  {
   "cell_type": "code",
   "execution_count": null,
   "id": "d56d8688",
   "metadata": {},
   "outputs": [],
   "source": []
  }
 ],
 "metadata": {
  "kernelspec": {
   "display_name": "Python 3 (ipykernel)",
   "language": "python",
   "name": "python3"
  },
  "language_info": {
   "codemirror_mode": {
    "name": "ipython",
    "version": 3
   },
   "file_extension": ".py",
   "mimetype": "text/x-python",
   "name": "python",
   "nbconvert_exporter": "python",
   "pygments_lexer": "ipython3",
   "version": "3.9.7"
  }
 },
 "nbformat": 4,
 "nbformat_minor": 5
}
