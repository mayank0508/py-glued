{
 "cells": [
  {
   "cell_type": "code",
   "execution_count": 1,
   "id": "508aa664",
   "metadata": {},
   "outputs": [],
   "source": [
    "#bubble sort"
   ]
  },
  {
   "cell_type": "code",
   "execution_count": 13,
   "id": "83a57e2e",
   "metadata": {},
   "outputs": [],
   "source": [
    "def bubble_sort(a):\n",
    "    for i in range(len(a)): #this is for diffrent passes\n",
    "        print('This is pass:', i) \n",
    "        for j in range(len(a)-1): # this is for the comparison\n",
    "            if a[j] > a[j+1]: # here we are checkin that is the first element greater than the next or not\n",
    "                print('The pairs are', a[j], 'and' ,a[j+1])\n",
    "                a[j], a[j+1] = a[j+1], a[j] # and if it is true then we are swaping te position\n",
    "    return a"
   ]
  },
  {
   "cell_type": "code",
   "execution_count": 14,
   "id": "da2e4b32",
   "metadata": {},
   "outputs": [
    {
     "name": "stdout",
     "output_type": "stream",
     "text": [
      "This is pass: 0\n",
      "The pairs are 8 and 5\n",
      "The pairs are 8 and 3\n",
      "The pairs are 8 and 1\n",
      "This is pass: 1\n",
      "The pairs are 5 and 3\n",
      "The pairs are 5 and 1\n",
      "This is pass: 2\n",
      "The pairs are 3 and 1\n",
      "This is pass: 3\n"
     ]
    },
    {
     "data": {
      "text/plain": [
       "[1, 3, 5, 8]"
      ]
     },
     "execution_count": 14,
     "metadata": {},
     "output_type": "execute_result"
    }
   ],
   "source": [
    "bubble_sort([8,5,3,1])"
   ]
  },
  {
   "cell_type": "code",
   "execution_count": null,
   "id": "49acd648",
   "metadata": {},
   "outputs": [],
   "source": []
  }
 ],
 "metadata": {
  "kernelspec": {
   "display_name": "Python 3 (ipykernel)",
   "language": "python",
   "name": "python3"
  },
  "language_info": {
   "codemirror_mode": {
    "name": "ipython",
    "version": 3
   },
   "file_extension": ".py",
   "mimetype": "text/x-python",
   "name": "python",
   "nbconvert_exporter": "python",
   "pygments_lexer": "ipython3",
   "version": "3.9.7"
  }
 },
 "nbformat": 4,
 "nbformat_minor": 5
}
