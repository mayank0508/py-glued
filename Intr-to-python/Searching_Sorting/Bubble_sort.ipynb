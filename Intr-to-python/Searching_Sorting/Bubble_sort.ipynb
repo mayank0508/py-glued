{
 "cells": [
  {
   "cell_type": "code",
   "execution_count": 1,
   "id": "90776ad2",
   "metadata": {},
   "outputs": [],
   "source": [
    "#bubble sort"
   ]
  },
  {
   "cell_type": "code",
   "execution_count": 13,
   "id": "d75599e7",
   "metadata": {},
   "outputs": [],
   "source": [
    "def bubble_sort(a):\n",
    "    for i in range(len(a)): #this is for diffrent passes\n",
    "        print('This is pass:', i) \n",
    "        for j in range(len(a)-1): # this is for the comparison\n",
    "            if a[j] > a[j+1]: # here we are checkin that is the first element greater than the next or not\n",
    "                print('The pairs are', a[j], 'and' ,a[j+1])\n",
    "                a[j], a[j+1] = a[j+1], a[j] # and if it is true then we are swaping te position\n",
    "    return a"
   ]
  },
  {
   "cell_type": "code",
   "execution_count": 14,
   "id": "50e951b4",
   "metadata": {},
   "outputs": [
    {
     "name": "stdout",
     "output_type": "stream",
     "text": [
      "This is pass: 0\n",
      "The pairs are 8 and 5\n",
      "The pairs are 8 and 3\n",
      "The pairs are 8 and 1\n",
      "This is pass: 1\n",
      "The pairs are 5 and 3\n",
      "The pairs are 5 and 1\n",
      "This is pass: 2\n",
      "The pairs are 3 and 1\n",
      "This is pass: 3\n"
     ]
    },
    {
     "data": {
      "text/plain": [
       "[1, 3, 5, 8]"
      ]
     },
     "execution_count": 14,
     "metadata": {},
     "output_type": "execute_result"
    }
   ],
   "source": [
    "bubble_sort([8,5,3,1])"
   ]
  },
  {
   "cell_type": "code",
   "execution_count": 15,
   "id": "1eb96361",
   "metadata": {},
   "outputs": [],
   "source": [
    "# optimized Bubblr sort"
   ]
  },
  {
   "cell_type": "code",
   "execution_count": 25,
   "id": "7b107dfd",
   "metadata": {},
   "outputs": [],
   "source": [
    "def bubble_sort_optimized(A):\n",
    "    for i in range(len(A)-1): # here in the optimized version we always take the start len as n-1 \n",
    "        for j in range(len(A)-1-i): # and as we move forward with the change in the ith row we change the jth row\n",
    "            if A[j] > A[j+1]: # this is the normal comparison\n",
    "                A[j], A[j+1] = A[j+1], A[j] # and here the swaping take place\n",
    "    return A"
   ]
  },
  {
   "cell_type": "code",
   "execution_count": 24,
   "id": "93909823",
   "metadata": {},
   "outputs": [
    {
     "data": {
      "text/plain": [
       "[1, 2, 3, 7, 9]"
      ]
     },
     "execution_count": 24,
     "metadata": {},
     "output_type": "execute_result"
    }
   ],
   "source": [
    "bubble_sort_optimized([7,9,3,1,2])\n"
   ]
  },
  {
   "cell_type": "code",
   "execution_count": null,
   "id": "a0930414",
   "metadata": {},
   "outputs": [],
   "source": []
  }
 ],
 "metadata": {
  "kernelspec": {
   "display_name": "Python 3 (ipykernel)",
   "language": "python",
   "name": "python3"
  },
  "language_info": {
   "codemirror_mode": {
    "name": "ipython",
    "version": 3
   },
   "file_extension": ".py",
   "mimetype": "text/x-python",
   "name": "python",
   "nbconvert_exporter": "python",
   "pygments_lexer": "ipython3",
   "version": "3.9.7"
  }
 },
 "nbformat": 4,
 "nbformat_minor": 5
}
