{
 "cells": [
  {
   "cell_type": "code",
   "execution_count": 1,
   "id": "6e64cebb",
   "metadata": {},
   "outputs": [],
   "source": [
    "#bubble sort"
   ]
  },
  {
   "cell_type": "code",
   "execution_count": 13,
   "id": "26b94216",
   "metadata": {},
   "outputs": [],
   "source": [
    "def bubble_sort(a):\n",
    "    for i in range(len(a)): #this is for diffrent passes\n",
    "        print('This is pass:', i) \n",
    "        for j in range(len(a)-1): # this is for the comparison\n",
    "            if a[j] > a[j+1]: # here we are checkin that is the first element greater than the next or not\n",
    "                print('The pairs are', a[j], 'and' ,a[j+1])\n",
    "                a[j], a[j+1] = a[j+1], a[j] # and if it is true then we are swaping te position\n",
    "    return a"
   ]
  },
  {
   "cell_type": "code",
   "execution_count": 14,
   "id": "d9b8354b",
   "metadata": {},
   "outputs": [
    {
     "name": "stdout",
     "output_type": "stream",
     "text": [
      "This is pass: 0\n",
      "The pairs are 8 and 5\n",
      "The pairs are 8 and 3\n",
      "The pairs are 8 and 1\n",
      "This is pass: 1\n",
      "The pairs are 5 and 3\n",
      "The pairs are 5 and 1\n",
      "This is pass: 2\n",
      "The pairs are 3 and 1\n",
      "This is pass: 3\n"
     ]
    },
    {
     "data": {
      "text/plain": [
       "[1, 3, 5, 8]"
      ]
     },
     "execution_count": 14,
     "metadata": {},
     "output_type": "execute_result"
    }
   ],
   "source": [
    "bubble_sort([8,5,3,1])"
   ]
  },
  {
   "cell_type": "code",
   "execution_count": 15,
   "id": "69496dd5",
   "metadata": {},
   "outputs": [],
   "source": [
    "# optimized Bubblr sort"
   ]
  },
  {
   "cell_type": "code",
   "execution_count": 20,
   "id": "24f8c14f",
   "metadata": {},
   "outputs": [],
   "source": [
    "def bubble_sort_optimized(A):\n",
    "    for i in range(len(A)-1):\n",
    "        for j in range(len(A)-1-i):\n",
    "            if A[j] > A[j-1]:\n",
    "                A[j], A[j-1] = A[j-1], A[j]\n",
    "    return A"
   ]
  },
  {
   "cell_type": "code",
   "execution_count": 22,
   "id": "1e5564c0",
   "metadata": {},
   "outputs": [
    {
     "data": {
      "text/plain": [
       "[7, 3, 2, 1, 9]"
      ]
     },
     "execution_count": 22,
     "metadata": {},
     "output_type": "execute_result"
    }
   ],
   "source": [
    "bubble_sort_optimized([7,9,3,1,2])\n"
   ]
  },
  {
   "cell_type": "code",
   "execution_count": null,
   "id": "58db0f1d",
   "metadata": {},
   "outputs": [],
   "source": []
  }
 ],
 "metadata": {
  "kernelspec": {
   "display_name": "Python 3 (ipykernel)",
   "language": "python",
   "name": "python3"
  },
  "language_info": {
   "codemirror_mode": {
    "name": "ipython",
    "version": 3
   },
   "file_extension": ".py",
   "mimetype": "text/x-python",
   "name": "python",
   "nbconvert_exporter": "python",
   "pygments_lexer": "ipython3",
   "version": "3.9.7"
  }
 },
 "nbformat": 4,
 "nbformat_minor": 5
}
