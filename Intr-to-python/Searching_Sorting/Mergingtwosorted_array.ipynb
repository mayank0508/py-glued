{
 "cells": [
  {
   "cell_type": "code",
   "execution_count": 1,
   "id": "f40facd9",
   "metadata": {},
   "outputs": [],
   "source": [
    "# merging two sorted arrays"
   ]
  },
  {
   "cell_type": "code",
   "execution_count": 2,
   "id": "4c112ee1",
   "metadata": {},
   "outputs": [],
   "source": [
    "def mergetwoarray(a1,a2,debug=False):\n",
    "    i,j = 0,0 # these are the itterators that start in a and b\n",
    "    len1, len2 = len(a1), len(a2) # this is one of the imp condtion in the algo\n",
    "    new_array = [] # this is the a3 where we will have the sorted array\n",
    "    \n",
    "    while(i<len1 and j<len2):\n",
    "        #this is the very first conditons\n",
    "        if a1[i] < a2[j]: # here we check which array of a1 or a2 starts with a smaller number\n",
    "            new_array.append(a1[i]) # here we append the smallest number in the new array\n",
    "            i = i+1 # and keep itterating in the i array\n",
    "        else: # here we have the else cond\n",
    "            new_array.append(a2[j]) # since a2 was smaller thats why we are appending j\n",
    "            j = j+1\n",
    "    \n",
    "    while(i < len1):\n",
    "        new_array.append(a1[i]) # here we append the smallest number in the new array\n",
    "        i = i+1 # and keep itterating in the i array\n",
    "    \n",
    "    while(j < len1):\n",
    "        new_array.append(a2[j]) # here we append the smallest number in the new array\n",
    "        j = j+1 # and keep itterating in the i array\n",
    "\n",
    "    return new_array            "
   ]
  },
  {
   "cell_type": "code",
   "execution_count": 3,
   "id": "b755ed7b",
   "metadata": {},
   "outputs": [
    {
     "data": {
      "text/plain": [
       "[1, 2, 3, 3, 4, 4, 5, 6]"
      ]
     },
     "execution_count": 3,
     "metadata": {},
     "output_type": "execute_result"
    }
   ],
   "source": [
    "a1 = [1,2,3,4]\n",
    "a2 = [3,4,5,6]\n",
    "mergetwoarray(a1,a2)"
   ]
  },
  {
   "cell_type": "code",
   "execution_count": null,
   "id": "b7edf7be",
   "metadata": {},
   "outputs": [],
   "source": []
  }
 ],
 "metadata": {
  "kernelspec": {
   "display_name": "Python 3 (ipykernel)",
   "language": "python",
   "name": "python3"
  },
  "language_info": {
   "codemirror_mode": {
    "name": "ipython",
    "version": 3
   },
   "file_extension": ".py",
   "mimetype": "text/x-python",
   "name": "python",
   "nbconvert_exporter": "python",
   "pygments_lexer": "ipython3",
   "version": "3.9.7"
  }
 },
 "nbformat": 4,
 "nbformat_minor": 5
}
