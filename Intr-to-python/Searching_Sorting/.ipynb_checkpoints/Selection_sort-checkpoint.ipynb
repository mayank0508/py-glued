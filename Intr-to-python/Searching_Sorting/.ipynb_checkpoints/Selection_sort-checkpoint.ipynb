{
 "cells": [
  {
   "cell_type": "markdown",
   "id": "b83c535b",
   "metadata": {},
   "source": [
    "### Selection Sort"
   ]
  },
  {
   "cell_type": "code",
   "execution_count": 5,
   "id": "3c35c5d1",
   "metadata": {},
   "outputs": [],
   "source": [
    "def selection_sort(A): # here A is a array !\n",
    "    for i in range(len(A)): # this will take range as the len of any given array !\n",
    "        min_index = i # this assumes that the first index is the min index\n",
    "        for j in range(i+1, len(A)): \n",
    "            if A[j] < A[min_index]: #now this step happens, so we compare the element next to the first element and then \n",
    "                min_index = j # if the stament is true then put min_index = j\n",
    "        A[i], A[min_index] = A[min_index], A[i] # and here you gotta notice the indentaiton we are letting the whole loop run\n",
    "        # and after than we change the values\n",
    "    return A"
   ]
  },
  {
   "cell_type": "code",
   "execution_count": 4,
   "id": "22d9a7eb",
   "metadata": {},
   "outputs": [
    {
     "data": {
      "text/plain": [
       "[1, 3, 5, 12, 45]"
      ]
     },
     "execution_count": 4,
     "metadata": {},
     "output_type": "execute_result"
    }
   ],
   "source": [
    "selection_sort([12,3,1,45,5])"
   ]
  },
  {
   "cell_type": "code",
   "execution_count": null,
   "id": "28f2b649",
   "metadata": {},
   "outputs": [],
   "source": []
  }
 ],
 "metadata": {
  "kernelspec": {
   "display_name": "Python 3 (ipykernel)",
   "language": "python",
   "name": "python3"
  },
  "language_info": {
   "codemirror_mode": {
    "name": "ipython",
    "version": 3
   },
   "file_extension": ".py",
   "mimetype": "text/x-python",
   "name": "python",
   "nbconvert_exporter": "python",
   "pygments_lexer": "ipython3",
   "version": "3.9.7"
  }
 },
 "nbformat": 4,
 "nbformat_minor": 5
}
