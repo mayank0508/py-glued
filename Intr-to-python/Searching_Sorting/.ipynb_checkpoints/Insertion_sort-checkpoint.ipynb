{
 "cells": [
  {
   "cell_type": "code",
   "execution_count": 1,
   "id": "bc080495",
   "metadata": {},
   "outputs": [],
   "source": [
    "#insertion_sort"
   ]
  },
  {
   "cell_type": "code",
   "execution_count": 19,
   "id": "ac221218",
   "metadata": {},
   "outputs": [],
   "source": [
    "def insertion_sort(a):\n",
    "    \n",
    "    length = len(a)\n",
    "    for i in range(1,length): # i will be the start of the unsorted array\n",
    "        # here we chose 1 to length beacuse the first element in the array will be unsorted and range checks last-1\n",
    "        j = i-1 # here we have taken j as the start of sorted array\n",
    "        temp = a[i]  \n",
    "        # we are using a var here beacause here we need to store that var cause we will be comparing all the nums to that integer\n",
    "        while(j>=0 and a[j]>temp): # these are the two conditons for which we need to compare\n",
    "            a[j+1] =  a[j] # here we will put the value of the sorted element which we will be comparing i.e swaping\n",
    "            j = j-1 # and the j will now be one done so its being done here -1\n",
    "        a[j+1] = temp # the place where the condition does not satisfy there we nedd to put temp as\n",
    "    \n",
    "    return a"
   ]
  },
  {
   "cell_type": "code",
   "execution_count": 20,
   "id": "3b886d0b",
   "metadata": {},
   "outputs": [
    {
     "data": {
      "text/plain": [
       "[1, 2, 3, 4, 5]"
      ]
     },
     "execution_count": 20,
     "metadata": {},
     "output_type": "execute_result"
    }
   ],
   "source": [
    "insertion_sort([3,2,4,1,5])"
   ]
  },
  {
   "cell_type": "code",
   "execution_count": null,
   "id": "1a97c12d",
   "metadata": {},
   "outputs": [],
   "source": []
  }
 ],
 "metadata": {
  "kernelspec": {
   "display_name": "Python 3 (ipykernel)",
   "language": "python",
   "name": "python3"
  },
  "language_info": {
   "codemirror_mode": {
    "name": "ipython",
    "version": 3
   },
   "file_extension": ".py",
   "mimetype": "text/x-python",
   "name": "python",
   "nbconvert_exporter": "python",
   "pygments_lexer": "ipython3",
   "version": "3.9.7"
  }
 },
 "nbformat": 4,
 "nbformat_minor": 5
}
