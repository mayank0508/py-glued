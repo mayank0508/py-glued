{
 "cells": [
  {
   "cell_type": "code",
   "execution_count": 1,
   "id": "bc080495",
   "metadata": {},
   "outputs": [],
   "source": [
    "#insertion_sort"
   ]
  },
  {
   "cell_type": "code",
   "execution_count": 19,
   "id": "d9c57524",
   "metadata": {},
   "outputs": [],
   "source": [
    "def insertion_sort(a):\n",
    "    \n",
    "    length = len(a)\n",
    "    for i in range(1,length):\n",
    "        j = i-1\n",
    "        temp = a[i]\n",
    "        while(j>=0 and a[j]>temp):\n",
    "            a[j+1] =  a[j]\n",
    "            j = j-1\n",
    "        a[j+1] = temp\n",
    "    \n",
    "    return a"
   ]
  },
  {
   "cell_type": "code",
   "execution_count": 20,
   "id": "f0002329",
   "metadata": {},
   "outputs": [
    {
     "data": {
      "text/plain": [
       "[1, 2, 3, 4, 5]"
      ]
     },
     "execution_count": 20,
     "metadata": {},
     "output_type": "execute_result"
    }
   ],
   "source": [
    "insertion_sort([3,2,4,1,5])"
   ]
  },
  {
   "cell_type": "code",
   "execution_count": null,
   "id": "0f9150b8",
   "metadata": {},
   "outputs": [],
   "source": []
  }
 ],
 "metadata": {
  "kernelspec": {
   "display_name": "Python 3 (ipykernel)",
   "language": "python",
   "name": "python3"
  },
  "language_info": {
   "codemirror_mode": {
    "name": "ipython",
    "version": 3
   },
   "file_extension": ".py",
   "mimetype": "text/x-python",
   "name": "python",
   "nbconvert_exporter": "python",
   "pygments_lexer": "ipython3",
   "version": "3.9.7"
  }
 },
 "nbformat": 4,
 "nbformat_minor": 5
}
