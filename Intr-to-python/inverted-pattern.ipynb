{
 "cells": [
  {
   "cell_type": "markdown",
   "id": "0bc33024",
   "metadata": {},
   "source": [
    "## inverted-pattern"
   ]
  },
  {
   "cell_type": "code",
   "execution_count": 1,
   "id": "6bb7ba3f",
   "metadata": {},
   "outputs": [
    {
     "name": "stdout",
     "output_type": "stream",
     "text": [
      "5\n",
      "*****\n",
      "****\n",
      "***\n",
      "**\n",
      "*\n"
     ]
    }
   ],
   "source": [
    "n = int(input())\n",
    "i = 1\n",
    "while(i<=n):\n",
    "    j = 1\n",
    "    while(j<=n-i+1):\n",
    "        print('*', end='')\n",
    "        j = j + 1\n",
    "    print()\n",
    "    i = i+1\n"
   ]
  },
  {
   "cell_type": "markdown",
   "id": "7d682b87",
   "metadata": {},
   "source": [
    "## Reverse Pattern"
   ]
  },
  {
   "cell_type": "code",
   "execution_count": 1,
   "id": "9d0b346e",
   "metadata": {
    "scrolled": true
   },
   "outputs": [
    {
     "name": "stdout",
     "output_type": "stream",
     "text": [
      "4\n",
      "   *\n",
      "  **\n",
      " ***\n",
      "****\n"
     ]
    }
   ],
   "source": [
    "n = int(input())\n",
    "i = 1\n",
    "while(i<=n):\n",
    "    space = 1\n",
    "    while(space<= n-i):\n",
    "        print(' ', end =\"\")\n",
    "        space = space + 1\n",
    "    star = 1\n",
    "    while(star <= i):\n",
    "        print('*', end='')\n",
    "        star = star + 1\n",
    "    print()\n",
    "    i = i + 1"
   ]
  },
  {
   "cell_type": "markdown",
   "id": "a88cdd25",
   "metadata": {},
   "source": [
    "## Isoscelus Triangle"
   ]
  },
  {
   "cell_type": "code",
   "execution_count": 4,
   "id": "86c04ba9",
   "metadata": {},
   "outputs": [
    {
     "name": "stdout",
     "output_type": "stream",
     "text": [
      "5\n",
      "    1\n",
      "   12\n",
      "  123\n",
      " 1234\n",
      "12345\n"
     ]
    }
   ],
   "source": [
    "n = int(input())\n",
    "i = 1\n",
    "while(i<=n):\n",
    "    space = 1\n",
    "    while(space<=n-i):\n",
    "        print(' ', end=\"\")\n",
    "        space += 1\n",
    "    star = 1\n",
    "    while(star <= i):\n",
    "        print(star, end=\"\")\n",
    "        star += 1\n",
    "    print()\n",
    "    i += 1"
   ]
  },
  {
   "cell_type": "code",
   "execution_count": 6,
   "id": "47e7350d",
   "metadata": {},
   "outputs": [
    {
     "name": "stdout",
     "output_type": "stream",
     "text": [
      "5\n",
      "    1\n",
      "   121\n",
      "  12321\n",
      " 1234321\n",
      "123454321\n"
     ]
    }
   ],
   "source": [
    "n = int(input())\n",
    "i = 1\n",
    "while(i<=n):\n",
    "    space = 1\n",
    "    while(space<=n-i):\n",
    "        print(' ', end=\"\")\n",
    "        space += 1\n",
    "    j = 1\n",
    "    p = 1\n",
    "    #increasing sequence\n",
    "    while(j <= i):\n",
    "        print(p, end=\"\")\n",
    "        p += 1\n",
    "        j += 1\n",
    "    #increasing sequence\n",
    "    p = i-1\n",
    "    while(p>=1):\n",
    "        print(p, end='')\n",
    "        p -= 1\n",
    "    print()\n",
    "    i += 1"
   ]
  }
 ],
 "metadata": {
  "kernelspec": {
   "display_name": "Python 3 (ipykernel)",
   "language": "python",
   "name": "python3"
  },
  "language_info": {
   "codemirror_mode": {
    "name": "ipython",
    "version": 3
   },
   "file_extension": ".py",
   "mimetype": "text/x-python",
   "name": "python",
   "nbconvert_exporter": "python",
   "pygments_lexer": "ipython3",
   "version": "3.9.7"
  }
 },
 "nbformat": 4,
 "nbformat_minor": 5
}
