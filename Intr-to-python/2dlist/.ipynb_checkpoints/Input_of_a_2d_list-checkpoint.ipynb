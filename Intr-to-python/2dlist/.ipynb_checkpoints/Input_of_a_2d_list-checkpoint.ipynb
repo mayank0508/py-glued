{
 "cells": [
  {
   "cell_type": "markdown",
   "id": "f6e24975",
   "metadata": {},
   "source": [
    "### Input of a 2D list"
   ]
  },
  {
   "cell_type": "code",
   "execution_count": 13,
   "id": "4e42a96c",
   "metadata": {},
   "outputs": [
    {
     "name": "stdout",
     "output_type": "stream",
     "text": [
      "3 4\n",
      "1 2 3 4\n",
      "2 3 4 5\n",
      "4 5 5 6\n"
     ]
    }
   ],
   "source": [
    "str = input().split() #here we are spliting it because thats the way we can store n and m seperately\n",
    "n,m = int(str[0]), int(str[1]) # here we will be taking the input of m and n\n",
    "li = [[int (j) for j in input().split()] for i in range(n)] # and here is the list comp to print the code"
   ]
  },
  {
   "cell_type": "code",
   "execution_count": 14,
   "id": "7428c71f",
   "metadata": {},
   "outputs": [
    {
     "data": {
      "text/plain": [
       "[[1, 2, 3, 4], [2, 3, 4, 5], [4, 5, 5, 6]]"
      ]
     },
     "execution_count": 14,
     "metadata": {},
     "output_type": "execute_result"
    }
   ],
   "source": [
    "li"
   ]
  },
  {
   "cell_type": "markdown",
   "id": "b723b868",
   "metadata": {},
   "source": [
    "### Input of a Jagged list"
   ]
  },
  {
   "cell_type": "code",
   "execution_count": 17,
   "id": "2bfeeb51",
   "metadata": {},
   "outputs": [
    {
     "name": "stdout",
     "output_type": "stream",
     "text": [
      "3\n",
      "22 3 5 6\n",
      "1 \n",
      "2 3 4 5 6 7\n"
     ]
    }
   ],
   "source": [
    "str = input().split() #here we are spliting it because thats the way we can store n and m seperately\n",
    "n = int(str[0]) # here we will be taking the input of n\n",
    "li2 = [[int (j) for j in input().split()] for i in range(n)] # and here is the list comp to print the code"
   ]
  },
  {
   "cell_type": "code",
   "execution_count": 18,
   "id": "5a41e7b2",
   "metadata": {},
   "outputs": [
    {
     "data": {
      "text/plain": [
       "[[22, 3, 5, 6], [1], [2, 3, 4, 5, 6, 7]]"
      ]
     },
     "execution_count": 18,
     "metadata": {},
     "output_type": "execute_result"
    }
   ],
   "source": [
    "li2"
   ]
  },
  {
   "cell_type": "code",
   "execution_count": 19,
   "id": "9da33b83",
   "metadata": {},
   "outputs": [],
   "source": [
    "#### Using the formula"
   ]
  },
  {
   "cell_type": "code",
   "execution_count": null,
   "id": "904161a5",
   "metadata": {},
   "outputs": [],
   "source": [
    "\n"
   ]
  }
 ],
 "metadata": {
  "kernelspec": {
   "display_name": "Python 3 (ipykernel)",
   "language": "python",
   "name": "python3"
  },
  "language_info": {
   "codemirror_mode": {
    "name": "ipython",
    "version": 3
   },
   "file_extension": ".py",
   "mimetype": "text/x-python",
   "name": "python",
   "nbconvert_exporter": "python",
   "pygments_lexer": "ipython3",
   "version": "3.9.7"
  }
 },
 "nbformat": 4,
 "nbformat_minor": 5
}
