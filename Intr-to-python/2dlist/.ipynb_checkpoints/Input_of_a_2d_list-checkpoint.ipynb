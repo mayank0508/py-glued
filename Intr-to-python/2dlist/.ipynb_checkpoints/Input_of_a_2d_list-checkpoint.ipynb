{
 "cells": [
  {
   "cell_type": "markdown",
   "id": "f6e24975",
   "metadata": {},
   "source": [
    "### Input of a 2D list"
   ]
  },
  {
   "cell_type": "code",
   "execution_count": 13,
   "id": "4e42a96c",
   "metadata": {},
   "outputs": [
    {
     "name": "stdout",
     "output_type": "stream",
     "text": [
      "3 4\n",
      "1 2 3 4\n",
      "2 3 4 5\n",
      "4 5 5 6\n"
     ]
    }
   ],
   "source": [
    "str = input().split() #here we are spliting it because thats the way we can store n and m seperately\n",
    "n,m = int(str[0]), int(str[1]) # here we will be taking the input of m and n\n",
    "li = [[int (j) for j in input().split()] for i in range(n)] # and here is the list comp to print the code"
   ]
  },
  {
   "cell_type": "code",
   "execution_count": 14,
   "id": "048b0308",
   "metadata": {},
   "outputs": [
    {
     "data": {
      "text/plain": [
       "[[1, 2, 3, 4], [2, 3, 4, 5], [4, 5, 5, 6]]"
      ]
     },
     "execution_count": 14,
     "metadata": {},
     "output_type": "execute_result"
    }
   ],
   "source": [
    "li"
   ]
  },
  {
   "cell_type": "markdown",
   "id": "cd4ab6d9",
   "metadata": {},
   "source": [
    "### Input of a Jagged list"
   ]
  },
  {
   "cell_type": "code",
   "execution_count": 17,
   "id": "bbe90f4f",
   "metadata": {},
   "outputs": [
    {
     "name": "stdout",
     "output_type": "stream",
     "text": [
      "3\n",
      "22 3 5 6\n",
      "1 \n",
      "2 3 4 5 6 7\n"
     ]
    }
   ],
   "source": [
    "str = input().split() #here we are spliting it because thats the way we can store n and m seperately\n",
    "n = int(str[0]) # here we will be taking the input of n\n",
    "li2 = [[int (j) for j in input().split()] for i in range(n)] # and here is the list comp to print the code"
   ]
  },
  {
   "cell_type": "code",
   "execution_count": 18,
   "id": "4a98137c",
   "metadata": {},
   "outputs": [
    {
     "data": {
      "text/plain": [
       "[[22, 3, 5, 6], [1], [2, 3, 4, 5, 6, 7]]"
      ]
     },
     "execution_count": 18,
     "metadata": {},
     "output_type": "execute_result"
    }
   ],
   "source": [
    "li2"
   ]
  },
  {
   "cell_type": "markdown",
   "id": "e2b98b61",
   "metadata": {},
   "source": [
    "### Using the formula"
   ]
  },
  {
   "cell_type": "code",
   "execution_count": 3,
   "id": "ee30b059",
   "metadata": {},
   "outputs": [
    {
     "name": "stdout",
     "output_type": "stream",
     "text": [
      "3 4\n",
      "1 2 3 4 6 7 8 9 10 11 12 14\n"
     ]
    }
   ],
   "source": [
    "str1 = input().split() # this is for n and m input\n",
    "n, m = int(str1[0]),int(str1[1]) # since we are taking inputs and then spliting this we need to tell n and m to take it from the str\n",
    "b = input().split() #the input of the 2d array\n",
    "arr = [[ int(b[m*i+j])for j in range(m)] for i in range(n)] #here n is the number of list that will be created"
   ]
  },
  {
   "cell_type": "code",
   "execution_count": 4,
   "id": "e252cb14",
   "metadata": {},
   "outputs": [
    {
     "data": {
      "text/plain": [
       "[[1, 2, 3, 4], [6, 7, 8, 9], [10, 11, 12, 14]]"
      ]
     },
     "execution_count": 4,
     "metadata": {},
     "output_type": "execute_result"
    }
   ],
   "source": [
    "arr"
   ]
  },
  {
   "cell_type": "code",
   "execution_count": 3,
   "id": "1685083e",
   "metadata": {},
   "outputs": [
    {
     "name": "stdout",
     "output_type": "stream",
     "text": [
      "1 2 1 2\n"
     ]
    }
   ],
   "source": [
    "str1 = input().split() # this is for n and m input\n",
    "n, m = int(str1[0]),int(str1[1]) # since we are taking inputs and then spliting this we need to tell n and m to take it from the str\n",
    "b = str1[2:] #the input of the 2d array but straight after the namig of n and m\n",
    "arr = [[ int(b[m*i+j])for j in range(m)] for i in range(n)] #here n is the number of list that will be created"
   ]
  },
  {
   "cell_type": "code",
   "execution_count": 4,
   "id": "32bcdd08",
   "metadata": {},
   "outputs": [
    {
     "data": {
      "text/plain": [
       "[[1, 2]]"
      ]
     },
     "execution_count": 4,
     "metadata": {},
     "output_type": "execute_result"
    }
   ],
   "source": [
    "arr"
   ]
  },
  {
   "cell_type": "code",
   "execution_count": null,
   "id": "eb4d5e5d",
   "metadata": {},
   "outputs": [],
   "source": []
  }
 ],
 "metadata": {
  "kernelspec": {
   "display_name": "Python 3 (ipykernel)",
   "language": "python",
   "name": "python3"
  },
  "language_info": {
   "codemirror_mode": {
    "name": "ipython",
    "version": 3
   },
   "file_extension": ".py",
   "mimetype": "text/x-python",
   "name": "python",
   "nbconvert_exporter": "python",
   "pygments_lexer": "ipython3",
   "version": "3.9.7"
  }
 },
 "nbformat": 4,
 "nbformat_minor": 5
}
