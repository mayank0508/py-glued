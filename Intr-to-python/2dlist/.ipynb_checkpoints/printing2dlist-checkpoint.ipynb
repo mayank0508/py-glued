{
 "cells": [
  {
   "cell_type": "markdown",
   "id": "380054b3",
   "metadata": {},
   "source": [
    "## Iterating on a 2d list"
   ]
  },
  {
   "cell_type": "code",
   "execution_count": 4,
   "id": "eba86867",
   "metadata": {},
   "outputs": [],
   "source": [
    "li = [[1,2,3,4],[1,2,3,4],[1,2,2,2]] # here m is 4 and n is 3"
   ]
  },
  {
   "cell_type": "code",
   "execution_count": 8,
   "id": "dc2dd865",
   "metadata": {},
   "outputs": [],
   "source": [
    "n = 3\n",
    "m = 4"
   ]
  },
  {
   "cell_type": "code",
   "execution_count": 9,
   "id": "80826afb",
   "metadata": {},
   "outputs": [
    {
     "name": "stdout",
     "output_type": "stream",
     "text": [
      "1 2 3 4 \n",
      "1 2 3 4 \n",
      "1 2 2 2 \n"
     ]
    }
   ],
   "source": [
    "for i in range(n):\n",
    "    for j in range(m):\n",
    "        print(li[i][j], end=' ')\n",
    "    print()"
   ]
  },
  {
   "cell_type": "code",
   "execution_count": 12,
   "id": "91f78457",
   "metadata": {},
   "outputs": [
    {
     "name": "stdout",
     "output_type": "stream",
     "text": [
      "1 2 3 4 \n",
      "5 6 \n",
      "7 8 9 \n"
     ]
    }
   ],
   "source": [
    "li = [[1,2,3,4],[5,6],[7,8,9]]\n",
    "n = 3\n",
    "for row in li:\n",
    "    for ele in row:\n",
    "        print(ele,end=' ')\n",
    "    print()"
   ]
  },
  {
   "cell_type": "markdown",
   "id": "8f237661",
   "metadata": {},
   "source": [
    "### Join function"
   ]
  },
  {
   "cell_type": "code",
   "execution_count": 14,
   "id": "92a7d3cc",
   "metadata": {},
   "outputs": [
    {
     "data": {
      "text/plain": [
       "'aabcbabccabcd'"
      ]
     },
     "execution_count": 14,
     "metadata": {},
     "output_type": "execute_result"
    }
   ],
   "source": [
    "'abc'.join('abcd') # here we get aabc,babc,cabc,d"
   ]
  },
  {
   "cell_type": "code",
   "execution_count": 16,
   "id": "992f5b57",
   "metadata": {},
   "outputs": [
    {
     "data": {
      "text/plain": [
       "'1ab2ab3'"
      ]
     },
     "execution_count": 16,
     "metadata": {},
     "output_type": "execute_result"
    }
   ],
   "source": [
    "'ab'.join(['1','2','3'])"
   ]
  },
  {
   "cell_type": "code",
   "execution_count": 1,
   "id": "e86f4241",
   "metadata": {},
   "outputs": [],
   "source": [
    "# using this concept we can make a new 2d list"
   ]
  },
  {
   "cell_type": "code",
   "execution_count": 4,
   "id": "a67b6708",
   "metadata": {},
   "outputs": [
    {
     "name": "stdout",
     "output_type": "stream",
     "text": [
      "1 1 1 1\n",
      "2 2 2\n",
      "4 4 4\n"
     ]
    }
   ],
   "source": [
    "l2 = [[1,1,1,1],[2,2,2,],[4,4,4]]\n",
    "n =3 \n",
    "for row in l2:\n",
    "    output = ' '.join([str(ele) for ele in row]) # here we have used the list comprehension as well as the join function\n",
    "    print(output)"
   ]
  },
  {
   "cell_type": "code",
   "execution_count": null,
   "id": "011c433e",
   "metadata": {},
   "outputs": [],
   "source": []
  }
 ],
 "metadata": {
  "kernelspec": {
   "display_name": "Python 3 (ipykernel)",
   "language": "python",
   "name": "python3"
  },
  "language_info": {
   "codemirror_mode": {
    "name": "ipython",
    "version": 3
   },
   "file_extension": ".py",
   "mimetype": "text/x-python",
   "name": "python",
   "nbconvert_exporter": "python",
   "pygments_lexer": "ipython3",
   "version": "3.9.7"
  }
 },
 "nbformat": 4,
 "nbformat_minor": 5
}
