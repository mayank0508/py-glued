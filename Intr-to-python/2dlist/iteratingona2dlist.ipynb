{
 "cells": [
  {
   "cell_type": "markdown",
   "id": "c920d7b7",
   "metadata": {},
   "source": [
    "## Iterating on a 2d list"
   ]
  },
  {
   "cell_type": "code",
   "execution_count": 3,
   "id": "49edc219",
   "metadata": {},
   "outputs": [],
   "source": [
    "li = [[1,2,3,4],[1,2,3,4],[1,2,2,2]] # heer "
   ]
  },
  {
   "cell_type": "code",
   "execution_count": null,
   "id": "01f0a41c",
   "metadata": {},
   "outputs": [],
   "source": []
  }
 ],
 "metadata": {
  "kernelspec": {
   "display_name": "Python 3 (ipykernel)",
   "language": "python",
   "name": "python3"
  },
  "language_info": {
   "codemirror_mode": {
    "name": "ipython",
    "version": 3
   },
   "file_extension": ".py",
   "mimetype": "text/x-python",
   "name": "python",
   "nbconvert_exporter": "python",
   "pygments_lexer": "ipython3",
   "version": "3.9.7"
  }
 },
 "nbformat": 4,
 "nbformat_minor": 5
}
