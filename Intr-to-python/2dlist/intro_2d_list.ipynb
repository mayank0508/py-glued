{
 "cells": [
  {
   "cell_type": "markdown",
   "id": "bfe0c005",
   "metadata": {},
   "source": [
    "### 4X4 board"
   ]
  },
  {
   "cell_type": "code",
   "execution_count": 1,
   "id": "42a2952f",
   "metadata": {},
   "outputs": [],
   "source": [
    "li = [[1,2,3,4],[5,6,7,8,],[9,10,11,12],[13,14,15,16]]"
   ]
  },
  {
   "cell_type": "code",
   "execution_count": 4,
   "id": "0e03f019",
   "metadata": {},
   "outputs": [
    {
     "data": {
      "text/plain": [
       "16"
      ]
     },
     "execution_count": 4,
     "metadata": {},
     "output_type": "execute_result"
    }
   ],
   "source": [
    "li[3][3] # since the indexing starts form 0"
   ]
  },
  {
   "cell_type": "code",
   "execution_count": 5,
   "id": "271464bd",
   "metadata": {},
   "outputs": [],
   "source": [
    "li[3][3] = 69"
   ]
  },
  {
   "cell_type": "code",
   "execution_count": 6,
   "id": "e75bd655",
   "metadata": {},
   "outputs": [
    {
     "data": {
      "text/plain": [
       "[[1, 2, 3, 4], [5, 6, 7, 8], [9, 10, 11, 12], [13, 14, 15, 69]]"
      ]
     },
     "execution_count": 6,
     "metadata": {},
     "output_type": "execute_result"
    }
   ],
   "source": [
    "li\n"
   ]
  },
  {
   "cell_type": "code",
   "execution_count": null,
   "id": "5142deab",
   "metadata": {},
   "outputs": [],
   "source": [
    " "
   ]
  }
 ],
 "metadata": {
  "kernelspec": {
   "display_name": "Python 3 (ipykernel)",
   "language": "python",
   "name": "python3"
  },
  "language_info": {
   "codemirror_mode": {
    "name": "ipython",
    "version": 3
   },
   "file_extension": ".py",
   "mimetype": "text/x-python",
   "name": "python",
   "nbconvert_exporter": "python",
   "pygments_lexer": "ipython3",
   "version": "3.9.7"
  }
 },
 "nbformat": 4,
 "nbformat_minor": 5
}
