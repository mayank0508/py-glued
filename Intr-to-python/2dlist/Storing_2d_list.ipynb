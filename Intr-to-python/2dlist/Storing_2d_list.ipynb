{
 "cells": [
  {
   "cell_type": "markdown",
   "id": "da0f0a16",
   "metadata": {},
   "source": [
    "### Storing of 2d List"
   ]
  },
  {
   "cell_type": "code",
   "execution_count": 3,
   "id": "c1c98f65",
   "metadata": {},
   "outputs": [],
   "source": [
    "li = [[1,2,3,4],[5,6,7,8]] #2X4 board"
   ]
  },
  {
   "cell_type": "code",
   "execution_count": 4,
   "id": "56af4052",
   "metadata": {},
   "outputs": [
    {
     "data": {
      "text/plain": [
       "[1, 2, 3, 4]"
      ]
     },
     "execution_count": 4,
     "metadata": {},
     "output_type": "execute_result"
    }
   ],
   "source": [
    "li[0]"
   ]
  },
  {
   "cell_type": "code",
   "execution_count": 5,
   "id": "529b2e28",
   "metadata": {},
   "outputs": [
    {
     "data": {
      "text/plain": [
       "list"
      ]
     },
     "execution_count": 5,
     "metadata": {},
     "output_type": "execute_result"
    }
   ],
   "source": [
    "type(li[0]) #here we can see that both li and li[0] are lists no matter they are 2d or 1d"
   ]
  },
  {
   "cell_type": "code",
   "execution_count": 6,
   "id": "90301889",
   "metadata": {},
   "outputs": [
    {
     "data": {
      "text/plain": [
       "list"
      ]
     },
     "execution_count": 6,
     "metadata": {},
     "output_type": "execute_result"
    }
   ],
   "source": [
    "type(li)"
   ]
  },
  {
   "cell_type": "code",
   "execution_count": 7,
   "id": "05dc39a5",
   "metadata": {},
   "outputs": [],
   "source": [
    "li[0][3] = 59"
   ]
  },
  {
   "cell_type": "code",
   "execution_count": 9,
   "id": "df0ebd57",
   "metadata": {},
   "outputs": [
    {
     "data": {
      "text/plain": [
       "[[1, 2, 3, 59], [5, 6, 7, 8]]"
      ]
     },
     "execution_count": 9,
     "metadata": {},
     "output_type": "execute_result"
    }
   ],
   "source": [
    "li"
   ]
  },
  {
   "cell_type": "code",
   "execution_count": 12,
   "id": "6fe9478c",
   "metadata": {},
   "outputs": [
    {
     "data": {
      "text/plain": [
       "2019777868864"
      ]
     },
     "execution_count": 12,
     "metadata": {},
     "output_type": "execute_result"
    }
   ],
   "source": [
    "id(li) # the ref of the data are stores in the li rather than the data itself"
   ]
  },
  {
   "cell_type": "code",
   "execution_count": 11,
   "id": "f2931a00",
   "metadata": {},
   "outputs": [
    {
     "data": {
      "text/plain": [
       "2019778884160"
      ]
     },
     "execution_count": 11,
     "metadata": {},
     "output_type": "execute_result"
    }
   ],
   "source": [
    "id(li[0])"
   ]
  },
  {
   "cell_type": "code",
   "execution_count": 13,
   "id": "73426a9e",
   "metadata": {},
   "outputs": [],
   "source": [
    "li2 = [[1,2,3,4], 'Mayabk']"
   ]
  },
  {
   "cell_type": "code",
   "execution_count": 15,
   "id": "0737a340",
   "metadata": {},
   "outputs": [
    {
     "data": {
      "text/plain": [
       "[[1, 2, 3, 4], 'Mayabk']"
      ]
     },
     "execution_count": 15,
     "metadata": {},
     "output_type": "execute_result"
    }
   ],
   "source": [
    "li2 # this aint a 2d list, rather it is a normal list 2d lists are only lists that are more than 2 "
   ]
  },
  {
   "cell_type": "code",
   "execution_count": 16,
   "id": "6c1cefa4",
   "metadata": {},
   "outputs": [],
   "source": [
    "li2[1] = [1,2,3,4]"
   ]
  },
  {
   "cell_type": "code",
   "execution_count": 17,
   "id": "961ed0df",
   "metadata": {},
   "outputs": [
    {
     "data": {
      "text/plain": [
       "[[1, 2, 3, 4], [1, 2, 3, 4]]"
      ]
     },
     "execution_count": 17,
     "metadata": {},
     "output_type": "execute_result"
    }
   ],
   "source": [
    "li2 # now this is a 2d list"
   ]
  },
  {
   "cell_type": "code",
   "execution_count": null,
   "id": "180460db",
   "metadata": {},
   "outputs": [],
   "source": []
  }
 ],
 "metadata": {
  "kernelspec": {
   "display_name": "Python 3 (ipykernel)",
   "language": "python",
   "name": "python3"
  },
  "language_info": {
   "codemirror_mode": {
    "name": "ipython",
    "version": 3
   },
   "file_extension": ".py",
   "mimetype": "text/x-python",
   "name": "python",
   "nbconvert_exporter": "python",
   "pygments_lexer": "ipython3",
   "version": "3.9.7"
  }
 },
 "nbformat": 4,
 "nbformat_minor": 5
}
