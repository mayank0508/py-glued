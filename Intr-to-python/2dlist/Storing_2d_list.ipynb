{
 "cells": [
  {
   "cell_type": "markdown",
   "id": "43f2c2ce",
   "metadata": {},
   "source": [
    "### Storing of 2d List"
   ]
  },
  {
   "cell_type": "code",
   "execution_count": 3,
   "id": "3485da6e",
   "metadata": {},
   "outputs": [],
   "source": [
    "li = [[1,2,3,4],[5,6,7,8]] #2X4 board"
   ]
  },
  {
   "cell_type": "code",
   "execution_count": 4,
   "id": "1a0005b2",
   "metadata": {},
   "outputs": [
    {
     "data": {
      "text/plain": [
       "[1, 2, 3, 4]"
      ]
     },
     "execution_count": 4,
     "metadata": {},
     "output_type": "execute_result"
    }
   ],
   "source": [
    "li[0]"
   ]
  },
  {
   "cell_type": "code",
   "execution_count": 5,
   "id": "12e0506b",
   "metadata": {},
   "outputs": [
    {
     "data": {
      "text/plain": [
       "list"
      ]
     },
     "execution_count": 5,
     "metadata": {},
     "output_type": "execute_result"
    }
   ],
   "source": [
    "type(li[0]) #here we can see that both li and li[0] are lists no matter they are 2d or 1d"
   ]
  },
  {
   "cell_type": "code",
   "execution_count": 6,
   "id": "506ceec8",
   "metadata": {},
   "outputs": [
    {
     "data": {
      "text/plain": [
       "list"
      ]
     },
     "execution_count": 6,
     "metadata": {},
     "output_type": "execute_result"
    }
   ],
   "source": [
    "type(li)"
   ]
  },
  {
   "cell_type": "code",
   "execution_count": 7,
   "id": "9421805f",
   "metadata": {},
   "outputs": [],
   "source": [
    "li[0][3] = 59"
   ]
  },
  {
   "cell_type": "code",
   "execution_count": 9,
   "id": "49a78681",
   "metadata": {},
   "outputs": [
    {
     "data": {
      "text/plain": [
       "[[1, 2, 3, 59], [5, 6, 7, 8]]"
      ]
     },
     "execution_count": 9,
     "metadata": {},
     "output_type": "execute_result"
    }
   ],
   "source": [
    "li"
   ]
  },
  {
   "cell_type": "code",
   "execution_count": 10,
   "id": "8d038979",
   "metadata": {},
   "outputs": [
    {
     "data": {
      "text/plain": [
       "2019777868864"
      ]
     },
     "execution_count": 10,
     "metadata": {},
     "output_type": "execute_result"
    }
   ],
   "source": [
    "id(li) # "
   ]
  },
  {
   "cell_type": "code",
   "execution_count": 11,
   "id": "c289478e",
   "metadata": {},
   "outputs": [
    {
     "data": {
      "text/plain": [
       "2019778884160"
      ]
     },
     "execution_count": 11,
     "metadata": {},
     "output_type": "execute_result"
    }
   ],
   "source": [
    "id(li[0])"
   ]
  },
  {
   "cell_type": "code",
   "execution_count": null,
   "id": "73e2310f",
   "metadata": {},
   "outputs": [],
   "source": []
  }
 ],
 "metadata": {
  "kernelspec": {
   "display_name": "Python 3 (ipykernel)",
   "language": "python",
   "name": "python3"
  },
  "language_info": {
   "codemirror_mode": {
    "name": "ipython",
    "version": 3
   },
   "file_extension": ".py",
   "mimetype": "text/x-python",
   "name": "python",
   "nbconvert_exporter": "python",
   "pygments_lexer": "ipython3",
   "version": "3.9.7"
  }
 },
 "nbformat": 4,
 "nbformat_minor": 5
}
