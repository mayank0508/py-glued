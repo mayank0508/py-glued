{
 "cells": [
  {
   "cell_type": "markdown",
   "id": "174ae8ee",
   "metadata": {},
   "source": [
    "### Largest colum sum"
   ]
  },
  {
   "cell_type": "code",
   "execution_count": 14,
   "id": "c38e9349",
   "metadata": {},
   "outputs": [
    {
     "name": "stdout",
     "output_type": "stream",
     "text": [
      "25 3\n"
     ]
    }
   ],
   "source": [
    "def lar_col_sum(li):\n",
    "    n = len(li) # no of rows\n",
    "    m = len(li[0]) # no of colums\n",
    "    \n",
    "    max_sum = -1\n",
    "    lar_col_index = -1\n",
    "    for j in range(m): # we have started witht the j range so that we can iterate vertically rather than horizontaly\n",
    "        sum = 0 # here we have taken any arbitary value\n",
    "        for i in range(n): \n",
    "            sum += li[i][j] # and we add the whole colum and then compare it with max_sum\n",
    "        if sum > max_sum:\n",
    "            lar_col_index = j # and give the large index as j\n",
    "            max_sum = sum # and max sum as max_sum\n",
    "    return max_sum,lar_col_index\n",
    "\n",
    "li = [[1,2,3,4],[8,7,6,5],[13,14,15,16]]\n",
    "ms, lci  = lar_col_sum(li)\n",
    "print(ms,lci)"
   ]
  },
  {
   "cell_type": "code",
   "execution_count": 15,
   "id": "23e8813e",
   "metadata": {},
   "outputs": [
    {
     "name": "stdout",
     "output_type": "stream",
     "text": [
      "26 1\n"
     ]
    }
   ],
   "source": [
    "def lar_col_sum(li):\n",
    "    n = len(li) # no of rows\n",
    "    m = len(li[0]) # no of colums\n",
    "    \n",
    "    max_sum = -1\n",
    "    lar_col_index = -1\n",
    "    for j in range(m): # we have started witht the j range so that we can iterate vertically rather than horizontaly\n",
    "        sum = 0 # here we have taken any arbitary value\n",
    "        for i in range(n): \n",
    "            sum += li[i][j] # and we add the whole colum and then compare it with max_sum\n",
    "        if sum > max_sum:\n",
    "            lar_col_index = j # and give the large index as j\n",
    "            max_sum = sum # and max sum as max_sum\n",
    "    return max_sum,lar_col_index\n",
    "\n",
    "li = [[1,2,2,4],[9,7,6,5],[11,17,15,11]]\n",
    "ms, lci  = lar_col_sum(li)\n",
    "print(ms,lci)"
   ]
  },
  {
   "cell_type": "markdown",
   "id": "e3ae0c48",
   "metadata": {},
   "source": [
    "### Lowest colum sum"
   ]
  },
  {
   "cell_type": "code",
   "execution_count": null,
   "id": "94a9c79c",
   "metadata": {},
   "outputs": [],
   "source": [
    "def low_col_sum(li):\n",
    "    n = len(li) # no of rows\n",
    "    m = len(li[0]) # no of colums\n",
    "    \n",
    "    max_sum = 999999\n",
    "    min_col_index = -1\n",
    "    for j in range(m): # we have started witht the j range so that we can iterate vertically rather than horizontaly\n",
    "        sum = 0 # here we have taken any arbitary value\n",
    "        for i in range(n): \n",
    "            sum += li[i][j] # and we add the whole colum and then compare it with max_sum\n",
    "        if sum < min_sum:\n",
    "            min_col_index = j # and give the large index as j\n",
    "            max_sum = sum # and max sum as max_sum\n",
    "    return max_sum,lar_col_index\n",
    "\n",
    "li = [[1,2,2,4],[9,7,6,5],[11,17,15,11]]\n",
    "ms, lci  = lar_col_sum(li)\n",
    "print(ms,lci)"
   ]
  }
 ],
 "metadata": {
  "kernelspec": {
   "display_name": "Python 3 (ipykernel)",
   "language": "python",
   "name": "python3"
  },
  "language_info": {
   "codemirror_mode": {
    "name": "ipython",
    "version": 3
   },
   "file_extension": ".py",
   "mimetype": "text/x-python",
   "name": "python",
   "nbconvert_exporter": "python",
   "pygments_lexer": "ipython3",
   "version": "3.9.7"
  }
 },
 "nbformat": 4,
 "nbformat_minor": 5
}
