{
 "cells": [
  {
   "cell_type": "code",
   "execution_count": 1,
   "id": "8932059e",
   "metadata": {},
   "outputs": [],
   "source": [
    "### Largest colum sun"
   ]
  },
  {
   "cell_type": "code",
   "execution_count": null,
   "id": "5b7ca777",
   "metadata": {},
   "outputs": [],
   "source": [
    "li = [[1,2,3,4],[8,7,6,5],[13,14,15,16]]"
   ]
  }
 ],
 "metadata": {
  "kernelspec": {
   "display_name": "Python 3 (ipykernel)",
   "language": "python",
   "name": "python3"
  },
  "language_info": {
   "codemirror_mode": {
    "name": "ipython",
    "version": 3
   },
   "file_extension": ".py",
   "mimetype": "text/x-python",
   "name": "python",
   "nbconvert_exporter": "python",
   "pygments_lexer": "ipython3",
   "version": "3.9.7"
  }
 },
 "nbformat": 4,
 "nbformat_minor": 5
}
