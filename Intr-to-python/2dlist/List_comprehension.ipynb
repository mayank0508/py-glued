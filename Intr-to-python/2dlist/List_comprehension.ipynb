{
 "cells": [
  {
   "cell_type": "code",
   "execution_count": 1,
   "id": "43bed83d",
   "metadata": {},
   "outputs": [],
   "source": [
    "li = [1,2,3,4]\n",
    "# i want a list of square of each element of the particular list"
   ]
  },
  {
   "cell_type": "code",
   "execution_count": 3,
   "id": "bb722d06",
   "metadata": {},
   "outputs": [
    {
     "name": "stdout",
     "output_type": "stream",
     "text": [
      "[1, 4, 9, 16]\n"
     ]
    }
   ],
   "source": [
    "li_new = [] # this is the code we need to write to make the li_new as the sqaure of each element of the list\n",
    "for i in li:\n",
    "    li_new.append(i**2)\n",
    "print(li_new)"
   ]
  },
  {
   "cell_type": "markdown",
   "id": "59bbf03b",
   "metadata": {},
   "source": [
    "### Power of list comprehension"
   ]
  },
  {
   "cell_type": "code",
   "execution_count": 5,
   "id": "14546546",
   "metadata": {},
   "outputs": [],
   "source": [
    "li_comp = [i**2 for i in li_new] # here i have done the list compehension of the li_new list"
   ]
  },
  {
   "cell_type": "code",
   "execution_count": 6,
   "id": "b88e06c2",
   "metadata": {},
   "outputs": [
    {
     "data": {
      "text/plain": [
       "[1, 16, 81, 256]"
      ]
     },
     "execution_count": 6,
     "metadata": {},
     "output_type": "execute_result"
    }
   ],
   "source": [
    "li_comp"
   ]
  },
  {
   "cell_type": "code",
   "execution_count": 11,
   "id": "59c67dd7",
   "metadata": {},
   "outputs": [],
   "source": [
    "li_e = [i**2 for i in li if i%2==0] # here i am using the conditions in the loop"
   ]
  },
  {
   "cell_type": "code",
   "execution_count": 8,
   "id": "d3ec90b3",
   "metadata": {},
   "outputs": [],
   "source": [
    "li_o = [i**2 for i in li if i%3==0]"
   ]
  },
  {
   "cell_type": "code",
   "execution_count": 12,
   "id": "6ad53af8",
   "metadata": {},
   "outputs": [
    {
     "data": {
      "text/plain": [
       "[4, 16]"
      ]
     },
     "execution_count": 12,
     "metadata": {},
     "output_type": "execute_result"
    }
   ],
   "source": [
    "li_e"
   ]
  },
  {
   "cell_type": "code",
   "execution_count": 10,
   "id": "9ee4d631",
   "metadata": {},
   "outputs": [
    {
     "data": {
      "text/plain": [
       "[9]"
      ]
     },
     "execution_count": 10,
     "metadata": {},
     "output_type": "execute_result"
    }
   ],
   "source": [
    "li_o"
   ]
  },
  {
   "cell_type": "code",
   "execution_count": 13,
   "id": "cea22e00",
   "metadata": {},
   "outputs": [],
   "source": [
    "li_1 = [1,2,3,4,5,6,7,8,9]"
   ]
  },
  {
   "cell_type": "code",
   "execution_count": 14,
   "id": "07238c44",
   "metadata": {},
   "outputs": [],
   "source": [
    "li_c_1 = [ele for ele in li_1 if ele%2==0 and ele%3 == 0]"
   ]
  },
  {
   "cell_type": "code",
   "execution_count": 15,
   "id": "73533288",
   "metadata": {},
   "outputs": [
    {
     "data": {
      "text/plain": [
       "[6]"
      ]
     },
     "execution_count": 15,
     "metadata": {},
     "output_type": "execute_result"
    }
   ],
   "source": [
    "li_c_1"
   ]
  },
  {
   "cell_type": "markdown",
   "id": "513c2f2e",
   "metadata": {},
   "source": [
    "### nested for loop"
   ]
  },
  {
   "cell_type": "code",
   "execution_count": 16,
   "id": "15f7cbd6",
   "metadata": {},
   "outputs": [],
   "source": [
    "#### Traditional Method"
   ]
  },
  {
   "cell_type": "code",
   "execution_count": 19,
   "id": "77375aed",
   "metadata": {},
   "outputs": [],
   "source": [
    "li1 = [1,2,3,4,5]\n",
    "li2 = [2,4,6,8,10]\n",
    "li_new = []\n",
    "for ele in li1:\n",
    "    for ele_2 in li2:\n",
    "        if ele == ele_2:\n",
    "            li_new.append(ele)"
   ]
  },
  {
   "cell_type": "code",
   "execution_count": 20,
   "id": "d11e9bac",
   "metadata": {},
   "outputs": [
    {
     "data": {
      "text/plain": [
       "[2, 4]"
      ]
     },
     "execution_count": 20,
     "metadata": {},
     "output_type": "execute_result"
    }
   ],
   "source": [
    "li_new"
   ]
  },
  {
   "cell_type": "code",
   "execution_count": 21,
   "id": "867238c3",
   "metadata": {},
   "outputs": [],
   "source": [
    "#### List Comprehension method"
   ]
  },
  {
   "cell_type": "code",
   "execution_count": null,
   "id": "408f1030",
   "metadata": {},
   "outputs": [],
   "source": [
    "li1 = [1,2,3,4,5]\n",
    "li2 = [2,4,6,8,10]\n",
    "li_inter = [ele for ele in li1 for ]"
   ]
  }
 ],
 "metadata": {
  "kernelspec": {
   "display_name": "Python 3 (ipykernel)",
   "language": "python",
   "name": "python3"
  },
  "language_info": {
   "codemirror_mode": {
    "name": "ipython",
    "version": 3
   },
   "file_extension": ".py",
   "mimetype": "text/x-python",
   "name": "python",
   "nbconvert_exporter": "python",
   "pygments_lexer": "ipython3",
   "version": "3.9.7"
  }
 },
 "nbformat": 4,
 "nbformat_minor": 5
}
