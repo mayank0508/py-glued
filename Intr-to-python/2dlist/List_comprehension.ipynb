{
 "cells": [
  {
   "cell_type": "code",
   "execution_count": 1,
   "id": "a0c978bd",
   "metadata": {},
   "outputs": [],
   "source": [
    "li = [1,2,3,4]\n",
    "# i want a list of square of each element of the particular list"
   ]
  },
  {
   "cell_type": "code",
   "execution_count": 3,
   "id": "5a997df2",
   "metadata": {},
   "outputs": [
    {
     "name": "stdout",
     "output_type": "stream",
     "text": [
      "[1, 4, 9, 16]\n"
     ]
    }
   ],
   "source": [
    "li_new = [] # this is the code we need to write to make the li_new as the sqaure of each element of the list\n",
    "for i in li:\n",
    "    li_new.append(i**2)\n",
    "print(li_new)"
   ]
  },
  {
   "cell_type": "code",
   "execution_count": 4,
   "id": "bf2fb814",
   "metadata": {},
   "outputs": [],
   "source": [
    "## Power of list comprehension"
   ]
  },
  {
   "cell_type": "code",
   "execution_count": null,
   "id": "96305424",
   "metadata": {},
   "outputs": [],
   "source": [
    "li_comp = [i**2 for ]"
   ]
  }
 ],
 "metadata": {
  "kernelspec": {
   "display_name": "Python 3 (ipykernel)",
   "language": "python",
   "name": "python3"
  },
  "language_info": {
   "codemirror_mode": {
    "name": "ipython",
    "version": 3
   },
   "file_extension": ".py",
   "mimetype": "text/x-python",
   "name": "python",
   "nbconvert_exporter": "python",
   "pygments_lexer": "ipython3",
   "version": "3.9.7"
  }
 },
 "nbformat": 4,
 "nbformat_minor": 5
}
