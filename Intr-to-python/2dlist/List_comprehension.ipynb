{
 "cells": [
  {
   "cell_type": "code",
   "execution_count": 1,
   "id": "58253f12",
   "metadata": {},
   "outputs": [],
   "source": [
    "li = [1,2,3,4]\n",
    "# i want a list of square of each element of the particular list"
   ]
  },
  {
   "cell_type": "code",
   "execution_count": 3,
   "id": "f346d7b4",
   "metadata": {},
   "outputs": [
    {
     "name": "stdout",
     "output_type": "stream",
     "text": [
      "[1, 4, 9, 16]\n"
     ]
    }
   ],
   "source": [
    "li_new = [] # this is the code we need to write to make the li_new as the sqaure of each element of the list\n",
    "for i in li:\n",
    "    li_new.append(i**2)\n",
    "print(li_new)"
   ]
  },
  {
   "cell_type": "markdown",
   "id": "5e5b18c0",
   "metadata": {},
   "source": [
    "### Power of list comprehension"
   ]
  },
  {
   "cell_type": "code",
   "execution_count": 5,
   "id": "06d9d412",
   "metadata": {},
   "outputs": [],
   "source": [
    "li_comp = [i**2 for i in li_new] # here i have done the list compehension of the li_new list"
   ]
  },
  {
   "cell_type": "code",
   "execution_count": 6,
   "id": "51e8b776",
   "metadata": {},
   "outputs": [
    {
     "data": {
      "text/plain": [
       "[1, 16, 81, 256]"
      ]
     },
     "execution_count": 6,
     "metadata": {},
     "output_type": "execute_result"
    }
   ],
   "source": [
    "li_comp"
   ]
  },
  {
   "cell_type": "code",
   "execution_count": 11,
   "id": "923754e6",
   "metadata": {},
   "outputs": [],
   "source": [
    "li_e = [i**2 for i in li if i%2==0] # here i am using the conditions in the loop"
   ]
  },
  {
   "cell_type": "code",
   "execution_count": 8,
   "id": "63175b8f",
   "metadata": {},
   "outputs": [],
   "source": [
    "li_o = [i**2 for i in li if i%3==0]"
   ]
  },
  {
   "cell_type": "code",
   "execution_count": 12,
   "id": "2b350137",
   "metadata": {},
   "outputs": [
    {
     "data": {
      "text/plain": [
       "[4, 16]"
      ]
     },
     "execution_count": 12,
     "metadata": {},
     "output_type": "execute_result"
    }
   ],
   "source": [
    "li_e"
   ]
  },
  {
   "cell_type": "code",
   "execution_count": 10,
   "id": "749e2005",
   "metadata": {},
   "outputs": [
    {
     "data": {
      "text/plain": [
       "[9]"
      ]
     },
     "execution_count": 10,
     "metadata": {},
     "output_type": "execute_result"
    }
   ],
   "source": [
    "li_o"
   ]
  },
  {
   "cell_type": "code",
   "execution_count": 13,
   "id": "a86fbadb",
   "metadata": {},
   "outputs": [],
   "source": [
    "li_1 = [1,2,3,4,5,6,7,8,9]"
   ]
  },
  {
   "cell_type": "code",
   "execution_count": 14,
   "id": "7c707d1d",
   "metadata": {},
   "outputs": [],
   "source": [
    "li_c_1 = [ele for ele in li_1 if ele%2==0 and ele%3 == 0]"
   ]
  },
  {
   "cell_type": "code",
   "execution_count": 15,
   "id": "06816504",
   "metadata": {},
   "outputs": [
    {
     "data": {
      "text/plain": [
       "[6]"
      ]
     },
     "execution_count": 15,
     "metadata": {},
     "output_type": "execute_result"
    }
   ],
   "source": [
    "li_c_1"
   ]
  },
  {
   "cell_type": "markdown",
   "id": "4c71f73b",
   "metadata": {},
   "source": [
    "#### nested for loop"
   ]
  },
  {
   "cell_type": "code",
   "execution_count": 16,
   "id": "1ca85784",
   "metadata": {},
   "outputs": [],
   "source": [
    "#### Traditional Method"
   ]
  },
  {
   "cell_type": "code",
   "execution_count": 19,
   "id": "44c930e1",
   "metadata": {},
   "outputs": [],
   "source": [
    "li1 = [1,2,3,4,5]\n",
    "li2 = [2,4,6,8,10]\n",
    "li_new = []\n",
    "for ele in li1:\n",
    "    for ele_2 in li2:\n",
    "        if ele == ele_2:\n",
    "            li_new.append(ele)"
   ]
  },
  {
   "cell_type": "code",
   "execution_count": 20,
   "id": "f0d6c8c5",
   "metadata": {},
   "outputs": [
    {
     "data": {
      "text/plain": [
       "[2, 4]"
      ]
     },
     "execution_count": 20,
     "metadata": {},
     "output_type": "execute_result"
    }
   ],
   "source": [
    "li_new"
   ]
  },
  {
   "cell_type": "code",
   "execution_count": 21,
   "id": "c0120ada",
   "metadata": {},
   "outputs": [],
   "source": [
    "#### List Comprehension method"
   ]
  },
  {
   "cell_type": "code",
   "execution_count": 22,
   "id": "7cdb2e39",
   "metadata": {},
   "outputs": [],
   "source": [
    "li1 = [1,2,3,4,5]\n",
    "li2 = [2,4,6,8,10]\n",
    "li_inter = [ele for ele in li1 for ele2 in li2 if ele == ele2 ]"
   ]
  },
  {
   "cell_type": "code",
   "execution_count": 23,
   "id": "ebe6778f",
   "metadata": {},
   "outputs": [
    {
     "data": {
      "text/plain": [
       "[2, 4]"
      ]
     },
     "execution_count": 23,
     "metadata": {},
     "output_type": "execute_result"
    }
   ],
   "source": [
    "li_inter"
   ]
  },
  {
   "cell_type": "markdown",
   "id": "20d07617",
   "metadata": {},
   "source": [
    "#### If else statments"
   ]
  },
  {
   "cell_type": "code",
   "execution_count": 28,
   "id": "cfbe6da0",
   "metadata": {},
   "outputs": [],
   "source": [
    "li3 = [1,2,3,4,5,6,7,8,9]\n",
    "li4 = [ele**2 if ele%2==0 else ele for ele in li3] # here we will be squaring the numbers if they are even else square them"
   ]
  },
  {
   "cell_type": "code",
   "execution_count": 29,
   "id": "6b467669",
   "metadata": {},
   "outputs": [
    {
     "data": {
      "text/plain": [
       "[1, 4, 3, 16, 5, 36, 7, 64, 9]"
      ]
     },
     "execution_count": 29,
     "metadata": {},
     "output_type": "execute_result"
    }
   ],
   "source": [
    "li4"
   ]
  },
  {
   "cell_type": "markdown",
   "id": "11ef4c21",
   "metadata": {},
   "source": [
    "## List comprehesion using strings"
   ]
  },
  {
   "cell_type": "code",
   "execution_count": 35,
   "id": "3f098e75",
   "metadata": {},
   "outputs": [],
   "source": [
    "li5 = 'Mayank'\n",
    "lol = [li5 for i in li]"
   ]
  },
  {
   "cell_type": "code",
   "execution_count": 37,
   "id": "65388411",
   "metadata": {},
   "outputs": [
    {
     "data": {
      "text/plain": [
       "['Mayank', 'Mayank', 'Mayank', 'Mayank']"
      ]
     },
     "execution_count": 37,
     "metadata": {},
     "output_type": "execute_result"
    }
   ],
   "source": [
    "lol"
   ]
  },
  {
   "cell_type": "code",
   "execution_count": 40,
   "id": "69090ff7",
   "metadata": {},
   "outputs": [],
   "source": [
    "li5 = 'Mayank'\n",
    "lamo = [ele for ele in li5]"
   ]
  },
  {
   "cell_type": "code",
   "execution_count": 41,
   "id": "ff7d7731",
   "metadata": {},
   "outputs": [
    {
     "data": {
      "text/plain": [
       "['M', 'a', 'y', 'a', 'n', 'k']"
      ]
     },
     "execution_count": 41,
     "metadata": {},
     "output_type": "execute_result"
    }
   ],
   "source": [
    "lamo"
   ]
  },
  {
   "cell_type": "markdown",
   "id": "e6479bb7",
   "metadata": {},
   "source": [
    "##### 2D lists of strings"
   ]
  },
  {
   "cell_type": "code",
   "execution_count": 44,
   "id": "6d88d12f",
   "metadata": {},
   "outputs": [],
   "source": [
    "li6 = ['Mayank', 'RanaPratap', 'TomBrady']\n",
    "li7 = [[ele for ele in li] for li in li6]"
   ]
  },
  {
   "cell_type": "code",
   "execution_count": 45,
   "id": "ad6dbd1c",
   "metadata": {},
   "outputs": [
    {
     "data": {
      "text/plain": [
       "[['M', 'a', 'y', 'a', 'n', 'k'],\n",
       " ['R', 'a', 'n', 'a', 'P', 'r', 'a', 't', 'a', 'p'],\n",
       " ['T', 'o', 'm', 'B', 'r', 'a', 'd', 'y']]"
      ]
     },
     "execution_count": 45,
     "metadata": {},
     "output_type": "execute_result"
    }
   ],
   "source": [
    "li7"
   ]
  },
  {
   "cell_type": "code",
   "execution_count": 46,
   "id": "013490c0",
   "metadata": {},
   "outputs": [],
   "source": [
    "### Example"
   ]
  },
  {
   "cell_type": "code",
   "execution_count": 47,
   "id": "fd48723f",
   "metadata": {},
   "outputs": [],
   "source": [
    "li8 = [[i*j for j in range(4)] for i in range(3)]"
   ]
  },
  {
   "cell_type": "code",
   "execution_count": 48,
   "id": "7f2b4694",
   "metadata": {},
   "outputs": [
    {
     "data": {
      "text/plain": [
       "[[0, 0, 0, 0], [0, 1, 2, 3], [0, 2, 4, 6]]"
      ]
     },
     "execution_count": 48,
     "metadata": {},
     "output_type": "execute_result"
    }
   ],
   "source": [
    "li8"
   ]
  },
  {
   "cell_type": "code",
   "execution_count": null,
   "id": "0265f6d2",
   "metadata": {},
   "outputs": [],
   "source": []
  }
 ],
 "metadata": {
  "kernelspec": {
   "display_name": "Python 3 (ipykernel)",
   "language": "python",
   "name": "python3"
  },
  "language_info": {
   "codemirror_mode": {
    "name": "ipython",
    "version": 3
   },
   "file_extension": ".py",
   "mimetype": "text/x-python",
   "name": "python",
   "nbconvert_exporter": "python",
   "pygments_lexer": "ipython3",
   "version": "3.9.7"
  }
 },
 "nbformat": 4,
 "nbformat_minor": 5
}
