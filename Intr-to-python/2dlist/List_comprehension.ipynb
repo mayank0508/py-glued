{
 "cells": [
  {
   "cell_type": "code",
   "execution_count": 1,
   "id": "e2113df0",
   "metadata": {},
   "outputs": [],
   "source": [
    "li = [1,2,3,4]\n",
    "# i want a list of square of each element of the particular list"
   ]
  },
  {
   "cell_type": "code",
   "execution_count": 3,
   "id": "effb2dbe",
   "metadata": {},
   "outputs": [
    {
     "name": "stdout",
     "output_type": "stream",
     "text": [
      "[1, 4, 9, 16]\n"
     ]
    }
   ],
   "source": [
    "li_new = [] # this is the code we need to write to make the li_new as the sqaure of each element of the list\n",
    "for i in li:\n",
    "    li_new.append(i**2)\n",
    "print(li_new)"
   ]
  },
  {
   "cell_type": "code",
   "execution_count": 4,
   "id": "e95f8658",
   "metadata": {},
   "outputs": [],
   "source": [
    "## Power of list comprehension"
   ]
  },
  {
   "cell_type": "code",
   "execution_count": 5,
   "id": "725a2e7b",
   "metadata": {},
   "outputs": [],
   "source": [
    "li_comp = [i**2 for i in li_new] # here i have done the list compehension of the li_new list"
   ]
  },
  {
   "cell_type": "code",
   "execution_count": 6,
   "id": "8814257d",
   "metadata": {},
   "outputs": [
    {
     "data": {
      "text/plain": [
       "[1, 16, 81, 256]"
      ]
     },
     "execution_count": 6,
     "metadata": {},
     "output_type": "execute_result"
    }
   ],
   "source": [
    "li_comp"
   ]
  },
  {
   "cell_type": "code",
   "execution_count": 11,
   "id": "6daf4225",
   "metadata": {},
   "outputs": [],
   "source": [
    "li_e = [i**2 for i in li if i%2==0] # here i am using the conditions in the loop"
   ]
  },
  {
   "cell_type": "code",
   "execution_count": 8,
   "id": "c2696a38",
   "metadata": {},
   "outputs": [],
   "source": [
    "li_o = [i**2 for i in li if i%3==0]"
   ]
  },
  {
   "cell_type": "code",
   "execution_count": 12,
   "id": "7fe8259c",
   "metadata": {},
   "outputs": [
    {
     "data": {
      "text/plain": [
       "[4, 16]"
      ]
     },
     "execution_count": 12,
     "metadata": {},
     "output_type": "execute_result"
    }
   ],
   "source": [
    "li_e"
   ]
  },
  {
   "cell_type": "code",
   "execution_count": 10,
   "id": "5a9e9978",
   "metadata": {},
   "outputs": [
    {
     "data": {
      "text/plain": [
       "[9]"
      ]
     },
     "execution_count": 10,
     "metadata": {},
     "output_type": "execute_result"
    }
   ],
   "source": [
    "li_o"
   ]
  },
  {
   "cell_type": "code",
   "execution_count": 13,
   "id": "d212831f",
   "metadata": {},
   "outputs": [],
   "source": [
    "li_1 = [1,2,3,4,5,6,7,8,9]"
   ]
  },
  {
   "cell_type": "code",
   "execution_count": null,
   "id": "85898587",
   "metadata": {},
   "outputs": [],
   "source": [
    "li_c_1 = [ele for ]"
   ]
  }
 ],
 "metadata": {
  "kernelspec": {
   "display_name": "Python 3 (ipykernel)",
   "language": "python",
   "name": "python3"
  },
  "language_info": {
   "codemirror_mode": {
    "name": "ipython",
    "version": 3
   },
   "file_extension": ".py",
   "mimetype": "text/x-python",
   "name": "python",
   "nbconvert_exporter": "python",
   "pygments_lexer": "ipython3",
   "version": "3.9.7"
  }
 },
 "nbformat": 4,
 "nbformat_minor": 5
}
