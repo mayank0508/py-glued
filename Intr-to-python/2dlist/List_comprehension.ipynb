{
 "cells": [
  {
   "cell_type": "code",
   "execution_count": 1,
   "id": "2df1ca08",
   "metadata": {},
   "outputs": [],
   "source": [
    "li = [1,2,3,4]\n",
    "# i want a list of square of each element of the particular list"
   ]
  },
  {
   "cell_type": "code",
   "execution_count": 3,
   "id": "2f0a9e86",
   "metadata": {},
   "outputs": [
    {
     "name": "stdout",
     "output_type": "stream",
     "text": [
      "[1, 4, 9, 16]\n"
     ]
    }
   ],
   "source": [
    "li_new = [] # this is the code we need to write to make the li_new as the sqaure of each element of the list\n",
    "for i in li:\n",
    "    li_new.append(i**2)\n",
    "print(li_new)"
   ]
  },
  {
   "cell_type": "markdown",
   "id": "ab8175b7",
   "metadata": {},
   "source": [
    "### Power of list comprehension"
   ]
  },
  {
   "cell_type": "code",
   "execution_count": 5,
   "id": "7393795f",
   "metadata": {},
   "outputs": [],
   "source": [
    "li_comp = [i**2 for i in li_new] # here i have done the list compehension of the li_new list"
   ]
  },
  {
   "cell_type": "code",
   "execution_count": 6,
   "id": "a5a977a5",
   "metadata": {},
   "outputs": [
    {
     "data": {
      "text/plain": [
       "[1, 16, 81, 256]"
      ]
     },
     "execution_count": 6,
     "metadata": {},
     "output_type": "execute_result"
    }
   ],
   "source": [
    "li_comp"
   ]
  },
  {
   "cell_type": "code",
   "execution_count": 11,
   "id": "56b4e08d",
   "metadata": {},
   "outputs": [],
   "source": [
    "li_e = [i**2 for i in li if i%2==0] # here i am using the conditions in the loop"
   ]
  },
  {
   "cell_type": "code",
   "execution_count": 8,
   "id": "62697a53",
   "metadata": {},
   "outputs": [],
   "source": [
    "li_o = [i**2 for i in li if i%3==0]"
   ]
  },
  {
   "cell_type": "code",
   "execution_count": 12,
   "id": "d70275c2",
   "metadata": {},
   "outputs": [
    {
     "data": {
      "text/plain": [
       "[4, 16]"
      ]
     },
     "execution_count": 12,
     "metadata": {},
     "output_type": "execute_result"
    }
   ],
   "source": [
    "li_e"
   ]
  },
  {
   "cell_type": "code",
   "execution_count": 10,
   "id": "4510ad40",
   "metadata": {},
   "outputs": [
    {
     "data": {
      "text/plain": [
       "[9]"
      ]
     },
     "execution_count": 10,
     "metadata": {},
     "output_type": "execute_result"
    }
   ],
   "source": [
    "li_o"
   ]
  },
  {
   "cell_type": "code",
   "execution_count": 13,
   "id": "eee34ae9",
   "metadata": {},
   "outputs": [],
   "source": [
    "li_1 = [1,2,3,4,5,6,7,8,9]"
   ]
  },
  {
   "cell_type": "code",
   "execution_count": 14,
   "id": "e777103d",
   "metadata": {},
   "outputs": [],
   "source": [
    "li_c_1 = [ele for ele in li_1 if ele%2==0 and ele%3 == 0]"
   ]
  },
  {
   "cell_type": "code",
   "execution_count": 15,
   "id": "9b0cf836",
   "metadata": {},
   "outputs": [
    {
     "data": {
      "text/plain": [
       "[6]"
      ]
     },
     "execution_count": 15,
     "metadata": {},
     "output_type": "execute_result"
    }
   ],
   "source": [
    "li_c_1"
   ]
  },
  {
   "cell_type": "markdown",
   "id": "2f239791",
   "metadata": {},
   "source": [
    "#### nested for loop"
   ]
  },
  {
   "cell_type": "code",
   "execution_count": 16,
   "id": "52c0310e",
   "metadata": {},
   "outputs": [],
   "source": [
    "#### Traditional Method"
   ]
  },
  {
   "cell_type": "code",
   "execution_count": 19,
   "id": "2ec64727",
   "metadata": {},
   "outputs": [],
   "source": [
    "li1 = [1,2,3,4,5]\n",
    "li2 = [2,4,6,8,10]\n",
    "li_new = []\n",
    "for ele in li1:\n",
    "    for ele_2 in li2:\n",
    "        if ele == ele_2:\n",
    "            li_new.append(ele)"
   ]
  },
  {
   "cell_type": "code",
   "execution_count": 20,
   "id": "0da49a6c",
   "metadata": {},
   "outputs": [
    {
     "data": {
      "text/plain": [
       "[2, 4]"
      ]
     },
     "execution_count": 20,
     "metadata": {},
     "output_type": "execute_result"
    }
   ],
   "source": [
    "li_new"
   ]
  },
  {
   "cell_type": "code",
   "execution_count": 21,
   "id": "bf47b106",
   "metadata": {},
   "outputs": [],
   "source": [
    "#### List Comprehension method"
   ]
  },
  {
   "cell_type": "code",
   "execution_count": 22,
   "id": "c925786c",
   "metadata": {},
   "outputs": [],
   "source": [
    "li1 = [1,2,3,4,5]\n",
    "li2 = [2,4,6,8,10]\n",
    "li_inter = [ele for ele in li1 for ele2 in li2 if ele == ele2 ]"
   ]
  },
  {
   "cell_type": "code",
   "execution_count": 23,
   "id": "950ecf5a",
   "metadata": {},
   "outputs": [
    {
     "data": {
      "text/plain": [
       "[2, 4]"
      ]
     },
     "execution_count": 23,
     "metadata": {},
     "output_type": "execute_result"
    }
   ],
   "source": [
    "li_inter"
   ]
  },
  {
   "cell_type": "markdown",
   "id": "b6208ec6",
   "metadata": {},
   "source": [
    "#### If else statments"
   ]
  },
  {
   "cell_type": "code",
   "execution_count": 28,
   "id": "f4905bf4",
   "metadata": {},
   "outputs": [],
   "source": [
    "li3 = [1,2,3,4,5,6,7,8,9]\n",
    "li4 = [ele**2 if ele%2==0 else ele for ele in li3] # here we will be squaring the numbers if they are even else square them"
   ]
  },
  {
   "cell_type": "code",
   "execution_count": 29,
   "id": "f0bdea81",
   "metadata": {},
   "outputs": [
    {
     "data": {
      "text/plain": [
       "[1, 4, 3, 16, 5, 36, 7, 64, 9]"
      ]
     },
     "execution_count": 29,
     "metadata": {},
     "output_type": "execute_result"
    }
   ],
   "source": [
    "li4"
   ]
  },
  {
   "cell_type": "markdown",
   "id": "e6dc9107",
   "metadata": {},
   "source": [
    "## List comprehesion using strings"
   ]
  },
  {
   "cell_type": "code",
   "execution_count": 35,
   "id": "13d585ef",
   "metadata": {},
   "outputs": [],
   "source": [
    "li5 = 'Mayank'\n",
    "lol = [li5 for i in li]"
   ]
  },
  {
   "cell_type": "code",
   "execution_count": 37,
   "id": "bb543f27",
   "metadata": {},
   "outputs": [
    {
     "data": {
      "text/plain": [
       "['Mayank', 'Mayank', 'Mayank', 'Mayank']"
      ]
     },
     "execution_count": 37,
     "metadata": {},
     "output_type": "execute_result"
    }
   ],
   "source": [
    "lol"
   ]
  },
  {
   "cell_type": "code",
   "execution_count": 40,
   "id": "48e4b951",
   "metadata": {},
   "outputs": [],
   "source": [
    "li5 = 'Mayank'\n",
    "lamo = [ele for ele in li5]"
   ]
  },
  {
   "cell_type": "code",
   "execution_count": 41,
   "id": "7f47d5eb",
   "metadata": {},
   "outputs": [
    {
     "data": {
      "text/plain": [
       "['M', 'a', 'y', 'a', 'n', 'k']"
      ]
     },
     "execution_count": 41,
     "metadata": {},
     "output_type": "execute_result"
    }
   ],
   "source": [
    "lamo"
   ]
  },
  {
   "cell_type": "markdown",
   "id": "3e00d42d",
   "metadata": {},
   "source": [
    "##### 2D lists of strings"
   ]
  },
  {
   "cell_type": "code",
   "execution_count": null,
   "id": "c461ae5f",
   "metadata": {},
   "outputs": [],
   "source": [
    "li6 = ['Mayank', 'RanaPratap', 'TomBrady']\n",
    "li7 = [[for ele in li] f]"
   ]
  }
 ],
 "metadata": {
  "kernelspec": {
   "display_name": "Python 3 (ipykernel)",
   "language": "python",
   "name": "python3"
  },
  "language_info": {
   "codemirror_mode": {
    "name": "ipython",
    "version": 3
   },
   "file_extension": ".py",
   "mimetype": "text/x-python",
   "name": "python",
   "nbconvert_exporter": "python",
   "pygments_lexer": "ipython3",
   "version": "3.9.7"
  }
 },
 "nbformat": 4,
 "nbformat_minor": 5
}
