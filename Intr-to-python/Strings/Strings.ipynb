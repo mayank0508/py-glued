{
 "cells": [
  {
   "cell_type": "code",
   "execution_count": 1,
   "id": "ea5a6e47",
   "metadata": {},
   "outputs": [],
   "source": [
    "#Strings"
   ]
  },
  {
   "cell_type": "code",
   "execution_count": 16,
   "id": "10fc494f",
   "metadata": {},
   "outputs": [],
   "source": [
    "ac = \"mayank\""
   ]
  },
  {
   "cell_type": "code",
   "execution_count": 18,
   "id": "1a929002",
   "metadata": {},
   "outputs": [
    {
     "name": "stdout",
     "output_type": "stream",
     "text": [
      "mayank\n"
     ]
    }
   ],
   "source": [
    "print(ac)"
   ]
  },
  {
   "cell_type": "code",
   "execution_count": 4,
   "id": "f80b3165",
   "metadata": {},
   "outputs": [],
   "source": [
    "a = '''Mayank'''"
   ]
  },
  {
   "cell_type": "code",
   "execution_count": 5,
   "id": "0a39642e",
   "metadata": {},
   "outputs": [
    {
     "name": "stdout",
     "output_type": "stream",
     "text": [
      "Mayank\n"
     ]
    }
   ],
   "source": [
    "print(a)"
   ]
  },
  {
   "cell_type": "code",
   "execution_count": null,
   "id": "829999e2",
   "metadata": {},
   "outputs": [],
   "source": []
  },
  {
   "cell_type": "code",
   "execution_count": 8,
   "id": "781923eb",
   "metadata": {},
   "outputs": [],
   "source": [
    "ab = '''My \n",
    "name is \n",
    "ranu''' # this is the reason why we used ''' ''' it can be used for intitiling a double line index"
   ]
  },
  {
   "cell_type": "code",
   "execution_count": 7,
   "id": "06bce476",
   "metadata": {},
   "outputs": [
    {
     "name": "stdout",
     "output_type": "stream",
     "text": [
      "My\n",
      "name is \n",
      "ranu\n"
     ]
    }
   ],
   "source": [
    "print(ab)"
   ]
  },
  {
   "cell_type": "code",
   "execution_count": 14,
   "id": "c019d396",
   "metadata": {},
   "outputs": [
    {
     "data": {
      "text/plain": [
       "'n'"
      ]
     },
     "execution_count": 14,
     "metadata": {},
     "output_type": "execute_result"
    }
   ],
   "source": [
    "ab[4]"
   ]
  },
  {
   "cell_type": "code",
   "execution_count": 15,
   "id": "4c1a95fb",
   "metadata": {},
   "outputs": [
    {
     "data": {
      "text/plain": [
       "'M'"
      ]
     },
     "execution_count": 15,
     "metadata": {},
     "output_type": "execute_result"
    }
   ],
   "source": [
    "a[0]"
   ]
  },
  {
   "cell_type": "code",
   "execution_count": 19,
   "id": "5923c56f",
   "metadata": {},
   "outputs": [
    {
     "data": {
      "text/plain": [
       "'m'"
      ]
     },
     "execution_count": 19,
     "metadata": {},
     "output_type": "execute_result"
    }
   ],
   "source": [
    "ac[0]"
   ]
  },
  {
   "cell_type": "code",
   "execution_count": 21,
   "id": "d5769e76",
   "metadata": {},
   "outputs": [
    {
     "data": {
      "text/plain": [
       "'u'"
      ]
     },
     "execution_count": 21,
     "metadata": {},
     "output_type": "execute_result"
    }
   ],
   "source": [
    "ab[-1] # this is used to op the last list"
   ]
  },
  {
   "cell_type": "code",
   "execution_count": null,
   "id": "292ea9c1",
   "metadata": {},
   "outputs": [],
   "source": []
  }
 ],
 "metadata": {
  "kernelspec": {
   "display_name": "Python 3 (ipykernel)",
   "language": "python",
   "name": "python3"
  },
  "language_info": {
   "codemirror_mode": {
    "name": "ipython",
    "version": 3
   },
   "file_extension": ".py",
   "mimetype": "text/x-python",
   "name": "python",
   "nbconvert_exporter": "python",
   "pygments_lexer": "ipython3",
   "version": "3.9.7"
  }
 },
 "nbformat": 4,
 "nbformat_minor": 5
}
