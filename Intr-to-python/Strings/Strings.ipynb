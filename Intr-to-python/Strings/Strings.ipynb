{
 "cells": [
  {
   "cell_type": "code",
   "execution_count": 1,
   "id": "f0fb46e8",
   "metadata": {},
   "outputs": [],
   "source": [
    "#Strings"
   ]
  },
  {
   "cell_type": "code",
   "execution_count": 16,
   "id": "aae54be3",
   "metadata": {},
   "outputs": [],
   "source": [
    "ac = \"mayank\""
   ]
  },
  {
   "cell_type": "code",
   "execution_count": 18,
   "id": "9c85fe88",
   "metadata": {},
   "outputs": [
    {
     "name": "stdout",
     "output_type": "stream",
     "text": [
      "mayank\n"
     ]
    }
   ],
   "source": [
    "print(ac)"
   ]
  },
  {
   "cell_type": "code",
   "execution_count": 4,
   "id": "8fd0a174",
   "metadata": {},
   "outputs": [],
   "source": [
    "a = '''Mayank'''"
   ]
  },
  {
   "cell_type": "code",
   "execution_count": 5,
   "id": "698090ff",
   "metadata": {},
   "outputs": [
    {
     "name": "stdout",
     "output_type": "stream",
     "text": [
      "Mayank\n"
     ]
    }
   ],
   "source": [
    "print(a)"
   ]
  },
  {
   "cell_type": "code",
   "execution_count": null,
   "id": "3f974e31",
   "metadata": {},
   "outputs": [],
   "source": []
  },
  {
   "cell_type": "code",
   "execution_count": 8,
   "id": "ee2f4de4",
   "metadata": {},
   "outputs": [],
   "source": [
    "ab = '''My \n",
    "name is \n",
    "ranu''' # this is the reason why we used ''' ''' it can be used for intitiling a double line index"
   ]
  },
  {
   "cell_type": "code",
   "execution_count": 7,
   "id": "d0739979",
   "metadata": {},
   "outputs": [
    {
     "name": "stdout",
     "output_type": "stream",
     "text": [
      "My\n",
      "name is \n",
      "ranu\n"
     ]
    }
   ],
   "source": [
    "print(ab)"
   ]
  },
  {
   "cell_type": "code",
   "execution_count": 14,
   "id": "82641237",
   "metadata": {},
   "outputs": [
    {
     "data": {
      "text/plain": [
       "'n'"
      ]
     },
     "execution_count": 14,
     "metadata": {},
     "output_type": "execute_result"
    }
   ],
   "source": [
    "ab[4]"
   ]
  },
  {
   "cell_type": "code",
   "execution_count": 15,
   "id": "09904f51",
   "metadata": {},
   "outputs": [
    {
     "data": {
      "text/plain": [
       "'M'"
      ]
     },
     "execution_count": 15,
     "metadata": {},
     "output_type": "execute_result"
    }
   ],
   "source": [
    "a[0]"
   ]
  },
  {
   "cell_type": "code",
   "execution_count": 19,
   "id": "a298f95f",
   "metadata": {},
   "outputs": [
    {
     "data": {
      "text/plain": [
       "'m'"
      ]
     },
     "execution_count": 19,
     "metadata": {},
     "output_type": "execute_result"
    }
   ],
   "source": [
    "ac[0]"
   ]
  },
  {
   "cell_type": "code",
   "execution_count": 21,
   "id": "626c1fb2",
   "metadata": {},
   "outputs": [
    {
     "data": {
      "text/plain": [
       "'u'"
      ]
     },
     "execution_count": 21,
     "metadata": {},
     "output_type": "execute_result"
    }
   ],
   "source": [
    "ab[-1] # this is used to op the last list"
   ]
  },
  {
   "cell_type": "markdown",
   "id": "020a7654",
   "metadata": {},
   "source": [
    "### How Strigns are stored"
   ]
  },
  {
   "cell_type": "code",
   "execution_count": 22,
   "id": "d09baff2",
   "metadata": {},
   "outputs": [],
   "source": [
    "a = 'Mayank'"
   ]
  },
  {
   "cell_type": "code",
   "execution_count": 23,
   "id": "c33ee6b7",
   "metadata": {},
   "outputs": [
    {
     "data": {
      "text/plain": [
       "2216721405488"
      ]
     },
     "execution_count": 23,
     "metadata": {},
     "output_type": "execute_result"
    }
   ],
   "source": [
    "id(a)"
   ]
  },
  {
   "cell_type": "code",
   "execution_count": 24,
   "id": "1de9a797",
   "metadata": {},
   "outputs": [],
   "source": [
    "b = 'Mayank'"
   ]
  },
  {
   "cell_type": "code",
   "execution_count": 25,
   "id": "5c01fde8",
   "metadata": {},
   "outputs": [
    {
     "data": {
      "text/plain": [
       "2216721405488"
      ]
     },
     "execution_count": 25,
     "metadata": {},
     "output_type": "execute_result"
    }
   ],
   "source": [
    "id(b)"
   ]
  },
  {
   "cell_type": "code",
   "execution_count": 26,
   "id": "44bbd723",
   "metadata": {},
   "outputs": [],
   "source": [
    "# here we see that a and b have the same reference value"
   ]
  },
  {
   "cell_type": "markdown",
   "id": "84699704",
   "metadata": {},
   "source": [
    "### Strings are immutable in python"
   ]
  },
  {
   "cell_type": "code",
   "execution_count": 27,
   "id": "68cb8713",
   "metadata": {},
   "outputs": [],
   "source": [
    "abc = 'mayank'"
   ]
  },
  {
   "cell_type": "code",
   "execution_count": 28,
   "id": "72ccd1e8",
   "metadata": {},
   "outputs": [
    {
     "name": "stdout",
     "output_type": "stream",
     "text": [
      "n\n"
     ]
    }
   ],
   "source": [
    "print(abc[4])"
   ]
  },
  {
   "cell_type": "code",
   "execution_count": null,
   "id": "6817ea80",
   "metadata": {},
   "outputs": [],
   "source": [
    "abc[0] = ''"
   ]
  }
 ],
 "metadata": {
  "kernelspec": {
   "display_name": "Python 3 (ipykernel)",
   "language": "python",
   "name": "python3"
  },
  "language_info": {
   "codemirror_mode": {
    "name": "ipython",
    "version": 3
   },
   "file_extension": ".py",
   "mimetype": "text/x-python",
   "name": "python",
   "nbconvert_exporter": "python",
   "pygments_lexer": "ipython3",
   "version": "3.9.7"
  }
 },
 "nbformat": 4,
 "nbformat_minor": 5
}
