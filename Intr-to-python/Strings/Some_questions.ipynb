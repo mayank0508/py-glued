{
 "cells": [
  {
   "cell_type": "markdown",
   "id": "d8042421",
   "metadata": {},
   "source": [
    "### Replace char function program"
   ]
  },
  {
   "cell_type": "code",
   "execution_count": 5,
   "id": "4ef52d62",
   "metadata": {},
   "outputs": [
    {
     "name": "stdout",
     "output_type": "stream",
     "text": [
      "mynlmeismlylnk\n"
     ]
    }
   ],
   "source": [
    "def replace(str, char1, char2):\n",
    "    new_str = '' # here we make a new str because the strings are immutabl\n",
    "    for i in str:\n",
    "        if i == char1:\n",
    "            new_str += char2\n",
    "        else:\n",
    "            new_str += i\n",
    "    return new_str\n",
    "\n",
    "str = 'mynameismayank'\n",
    "str = replace(str,'a', 'l')\n",
    "print(str)"
   ]
  },
  {
   "cell_type": "markdown",
   "id": "2edb2473",
   "metadata": {},
   "source": [
    "### Count numbers of vowels, consonants, digits and special characters in string"
   ]
  },
  {
   "cell_type": "code",
   "execution_count": null,
   "id": "b57dd764",
   "metadata": {},
   "outputs": [],
   "source": [
    "def countstring(str):\n",
    "    v,c,d,s = 0,0,0,0\n",
    "    for char in str:\n",
    "        if ((char >= 'a' and char <='z') or (char >= 'A' and char <= 'Z')):\n",
    "            char = char.lower()\n",
    "            if (char == 'a' or char == 'e' or char == 'i' or char == 'o' or char == 'u'):\n",
    "                v += 1\n",
    "            else:\n",
    "                c += 1\n",
    "        elif(char >= '0' and char <= '9'):\n",
    "            d += 1\n",
    "        else:\n",
    "            s +=1\n",
    "    return v,c,d"
   ]
  }
 ],
 "metadata": {
  "kernelspec": {
   "display_name": "Python 3 (ipykernel)",
   "language": "python",
   "name": "python3"
  },
  "language_info": {
   "codemirror_mode": {
    "name": "ipython",
    "version": 3
   },
   "file_extension": ".py",
   "mimetype": "text/x-python",
   "name": "python",
   "nbconvert_exporter": "python",
   "pygments_lexer": "ipython3",
   "version": "3.9.7"
  }
 },
 "nbformat": 4,
 "nbformat_minor": 5
}
