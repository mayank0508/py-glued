{
 "cells": [
  {
   "cell_type": "code",
   "execution_count": 1,
   "id": "7c6bd1ce",
   "metadata": {},
   "outputs": [],
   "source": [
    "# Concatination of strings"
   ]
  },
  {
   "cell_type": "code",
   "execution_count": 2,
   "id": "0dc46e02",
   "metadata": {},
   "outputs": [],
   "source": [
    "a = 'red'"
   ]
  },
  {
   "cell_type": "code",
   "execution_count": 3,
   "id": "dfc5d7c2",
   "metadata": {},
   "outputs": [
    {
     "data": {
      "text/plain": [
       "'red'"
      ]
     },
     "execution_count": 3,
     "metadata": {},
     "output_type": "execute_result"
    }
   ],
   "source": [
    "a"
   ]
  },
  {
   "cell_type": "code",
   "execution_count": 8,
   "id": "50d619c9",
   "metadata": {},
   "outputs": [],
   "source": [
    "a = a + 'blue' # concatination happen using the + operator"
   ]
  },
  {
   "cell_type": "code",
   "execution_count": 5,
   "id": "e5e2d95f",
   "metadata": {},
   "outputs": [
    {
     "data": {
      "text/plain": [
       "'redblue'"
      ]
     },
     "execution_count": 5,
     "metadata": {},
     "output_type": "execute_result"
    }
   ],
   "source": [
    "a"
   ]
  },
  {
   "cell_type": "code",
   "execution_count": 6,
   "id": "b531ef02",
   "metadata": {},
   "outputs": [],
   "source": [
    "a = a +'blue' + 'green'"
   ]
  },
  {
   "cell_type": "code",
   "execution_count": 7,
   "id": "92503688",
   "metadata": {},
   "outputs": [
    {
     "data": {
      "text/plain": [
       "'redbluebluegreen'"
      ]
     },
     "execution_count": 7,
     "metadata": {},
     "output_type": "execute_result"
    }
   ],
   "source": [
    "a"
   ]
  },
  {
   "cell_type": "code",
   "execution_count": 9,
   "id": "ba450953",
   "metadata": {},
   "outputs": [],
   "source": [
    "a += 'sex'"
   ]
  },
  {
   "cell_type": "code",
   "execution_count": 10,
   "id": "8436f7f6",
   "metadata": {},
   "outputs": [
    {
     "data": {
      "text/plain": [
       "'redbluebluegreenbluesex'"
      ]
     },
     "execution_count": 10,
     "metadata": {},
     "output_type": "execute_result"
    }
   ],
   "source": [
    "a"
   ]
  },
  {
   "cell_type": "code",
   "execution_count": 11,
   "id": "15e5e234",
   "metadata": {},
   "outputs": [
    {
     "data": {
      "text/plain": [
       "1217468630720"
      ]
     },
     "execution_count": 11,
     "metadata": {},
     "output_type": "execute_result"
    }
   ],
   "source": [
    "id(a)"
   ]
  },
  {
   "cell_type": "code",
   "execution_count": 12,
   "id": "0aa40cb4",
   "metadata": {},
   "outputs": [],
   "source": [
    "a += 'yellow'"
   ]
  },
  {
   "cell_type": "code",
   "execution_count": 13,
   "id": "f5312cd7",
   "metadata": {},
   "outputs": [
    {
     "data": {
      "text/plain": [
       "'redbluebluegreenbluesexyellow'"
      ]
     },
     "execution_count": 13,
     "metadata": {},
     "output_type": "execute_result"
    }
   ],
   "source": [
    "a"
   ]
  },
  {
   "cell_type": "code",
   "execution_count": 15,
   "id": "2c1076aa",
   "metadata": {},
   "outputs": [
    {
     "data": {
      "text/plain": [
       "1217468288736"
      ]
     },
     "execution_count": 15,
     "metadata": {},
     "output_type": "execute_result"
    }
   ],
   "source": [
    "id(a) # here the string reffers to a diffrent adderess"
   ]
  },
  {
   "cell_type": "code",
   "execution_count": 16,
   "id": "d8390660",
   "metadata": {},
   "outputs": [],
   "source": [
    "# another way of concatination"
   ]
  },
  {
   "cell_type": "code",
   "execution_count": 24,
   "id": "3cf05d8b",
   "metadata": {},
   "outputs": [],
   "source": [
    "a = 'sex'"
   ]
  },
  {
   "cell_type": "code",
   "execution_count": 22,
   "id": "7d06eeac",
   "metadata": {},
   "outputs": [
    {
     "data": {
      "text/plain": [
       "'sexsexsexsexsexsexsexsexsexsexsexsexsexsexsexsexsexsexsexsexsexsexsexsexsexsexsexsexsexsexsexsexsexsexsexsexsexsexsexsexsexsexsexsexsexsexsexsexsexsexsexsexsexsexsexsexsexsexsexsexsexsexsexsexsexsexsexsexsexsexsexsexsexsexsexsexsexsexsexsexsexsexsexsexsexsexsexsexsexsexsexsexsexsexsexsexsexsexsexsexsexsexsexsexsexsexsexsexsexsexsexsexsexsexsexsexsexsexsexsexsexsexsexsexsexsexsexsexsexsexsexsexsexsexsexsexsexsex'"
      ]
     },
     "execution_count": 22,
     "metadata": {},
     "output_type": "execute_result"
    }
   ],
   "source": [
    "a*69 # here we can append the same string many times using multiplication"
   ]
  },
  {
   "cell_type": "code",
   "execution_count": 25,
   "id": "d1c912bb",
   "metadata": {},
   "outputs": [
    {
     "data": {
      "text/plain": [
       "1217468703984"
      ]
     },
     "execution_count": 25,
     "metadata": {},
     "output_type": "execute_result"
    }
   ],
   "source": [
    "id(a)"
   ]
  },
  {
   "cell_type": "code",
   "execution_count": 19,
   "id": "8ffea54b",
   "metadata": {},
   "outputs": [
    {
     "data": {
      "text/plain": [
       "'sex'"
      ]
     },
     "execution_count": 19,
     "metadata": {},
     "output_type": "execute_result"
    }
   ],
   "source": [
    "a"
   ]
  },
  {
   "cell_type": "code",
   "execution_count": 26,
   "id": "e77143e0",
   "metadata": {},
   "outputs": [],
   "source": [
    "a = a*2"
   ]
  },
  {
   "cell_type": "code",
   "execution_count": 27,
   "id": "9db94e8b",
   "metadata": {},
   "outputs": [
    {
     "data": {
      "text/plain": [
       "'sexsex'"
      ]
     },
     "execution_count": 27,
     "metadata": {},
     "output_type": "execute_result"
    }
   ],
   "source": [
    "a"
   ]
  },
  {
   "cell_type": "code",
   "execution_count": 29,
   "id": "4cbecf4e",
   "metadata": {},
   "outputs": [
    {
     "data": {
      "text/plain": [
       "1217468704624"
      ]
     },
     "execution_count": 29,
     "metadata": {},
     "output_type": "execute_result"
    }
   ],
   "source": [
    "id(a) # here we can again see that the adderess of the a string is diff in both"
   ]
  },
  {
   "cell_type": "code",
   "execution_count": 30,
   "id": "9189dd8c",
   "metadata": {},
   "outputs": [],
   "source": [
    "ab = 'red'"
   ]
  },
  {
   "cell_type": "code",
   "execution_count": 31,
   "id": "1165643c",
   "metadata": {},
   "outputs": [
    {
     "ename": "TypeError",
     "evalue": "can only concatenate str (not \"int\") to str",
     "output_type": "error",
     "traceback": [
      "\u001b[1;31m---------------------------------------------------------------------------\u001b[0m",
      "\u001b[1;31mTypeError\u001b[0m                                 Traceback (most recent call last)",
      "\u001b[1;32m~\\AppData\\Local\\Temp/ipykernel_26356/1426633424.py\u001b[0m in \u001b[0;36m<module>\u001b[1;34m\u001b[0m\n\u001b[1;32m----> 1\u001b[1;33m \u001b[0mab\u001b[0m \u001b[1;33m+=\u001b[0m \u001b[1;36m3\u001b[0m\u001b[1;33m\u001b[0m\u001b[1;33m\u001b[0m\u001b[0m\n\u001b[0m",
      "\u001b[1;31mTypeError\u001b[0m: can only concatenate str (not \"int\") to str"
     ]
    }
   ],
   "source": [
    "ab += 3"
   ]
  },
  {
   "cell_type": "code",
   "execution_count": null,
   "id": "3e743145",
   "metadata": {},
   "outputs": [],
   "source": [
    "#python does not know how to concatinate a word and a"
   ]
  }
 ],
 "metadata": {
  "kernelspec": {
   "display_name": "Python 3 (ipykernel)",
   "language": "python",
   "name": "python3"
  },
  "language_info": {
   "codemirror_mode": {
    "name": "ipython",
    "version": 3
   },
   "file_extension": ".py",
   "mimetype": "text/x-python",
   "name": "python",
   "nbconvert_exporter": "python",
   "pygments_lexer": "ipython3",
   "version": "3.9.7"
  }
 },
 "nbformat": 4,
 "nbformat_minor": 5
}
