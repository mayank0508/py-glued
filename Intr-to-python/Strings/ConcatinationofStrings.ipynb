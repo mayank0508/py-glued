{
 "cells": [
  {
   "cell_type": "code",
   "execution_count": 1,
   "id": "ae90feac",
   "metadata": {},
   "outputs": [],
   "source": [
    "# Concatination of strings"
   ]
  },
  {
   "cell_type": "code",
   "execution_count": 2,
   "id": "63bccc98",
   "metadata": {},
   "outputs": [],
   "source": [
    "a = 'red'"
   ]
  },
  {
   "cell_type": "code",
   "execution_count": 3,
   "id": "94340380",
   "metadata": {},
   "outputs": [
    {
     "data": {
      "text/plain": [
       "'red'"
      ]
     },
     "execution_count": 3,
     "metadata": {},
     "output_type": "execute_result"
    }
   ],
   "source": [
    "a"
   ]
  },
  {
   "cell_type": "code",
   "execution_count": 8,
   "id": "393a23e7",
   "metadata": {},
   "outputs": [],
   "source": [
    "a = a + 'blue' # concatination happen using the + operator"
   ]
  },
  {
   "cell_type": "code",
   "execution_count": 5,
   "id": "a6e7e310",
   "metadata": {},
   "outputs": [
    {
     "data": {
      "text/plain": [
       "'redblue'"
      ]
     },
     "execution_count": 5,
     "metadata": {},
     "output_type": "execute_result"
    }
   ],
   "source": [
    "a"
   ]
  },
  {
   "cell_type": "code",
   "execution_count": 6,
   "id": "03e50065",
   "metadata": {},
   "outputs": [],
   "source": [
    "a = a +'blue' + 'green'"
   ]
  },
  {
   "cell_type": "code",
   "execution_count": 7,
   "id": "83d3a4f9",
   "metadata": {},
   "outputs": [
    {
     "data": {
      "text/plain": [
       "'redbluebluegreen'"
      ]
     },
     "execution_count": 7,
     "metadata": {},
     "output_type": "execute_result"
    }
   ],
   "source": [
    "a"
   ]
  },
  {
   "cell_type": "code",
   "execution_count": 9,
   "id": "31585795",
   "metadata": {},
   "outputs": [],
   "source": [
    "a += 'sex'"
   ]
  },
  {
   "cell_type": "code",
   "execution_count": 10,
   "id": "5dcb3e1a",
   "metadata": {},
   "outputs": [
    {
     "data": {
      "text/plain": [
       "'redbluebluegreenbluesex'"
      ]
     },
     "execution_count": 10,
     "metadata": {},
     "output_type": "execute_result"
    }
   ],
   "source": [
    "a"
   ]
  },
  {
   "cell_type": "code",
   "execution_count": 11,
   "id": "96c081e9",
   "metadata": {},
   "outputs": [
    {
     "data": {
      "text/plain": [
       "1217468630720"
      ]
     },
     "execution_count": 11,
     "metadata": {},
     "output_type": "execute_result"
    }
   ],
   "source": [
    "id(a)"
   ]
  },
  {
   "cell_type": "code",
   "execution_count": 12,
   "id": "21257e47",
   "metadata": {},
   "outputs": [],
   "source": [
    "a += 'yellow'"
   ]
  },
  {
   "cell_type": "code",
   "execution_count": 13,
   "id": "cda56e6e",
   "metadata": {},
   "outputs": [
    {
     "data": {
      "text/plain": [
       "'redbluebluegreenbluesexyellow'"
      ]
     },
     "execution_count": 13,
     "metadata": {},
     "output_type": "execute_result"
    }
   ],
   "source": [
    "a"
   ]
  },
  {
   "cell_type": "code",
   "execution_count": 15,
   "id": "caa54b78",
   "metadata": {},
   "outputs": [
    {
     "data": {
      "text/plain": [
       "1217468288736"
      ]
     },
     "execution_count": 15,
     "metadata": {},
     "output_type": "execute_result"
    }
   ],
   "source": [
    "id(a) # here the string reffers to a diffrent adderess"
   ]
  },
  {
   "cell_type": "code",
   "execution_count": 16,
   "id": "c5e18cd3",
   "metadata": {},
   "outputs": [],
   "source": [
    "# another way of concatination"
   ]
  },
  {
   "cell_type": "code",
   "execution_count": 24,
   "id": "1cdc37c4",
   "metadata": {},
   "outputs": [],
   "source": [
    "a = 'sex'"
   ]
  },
  {
   "cell_type": "code",
   "execution_count": 22,
   "id": "cc3d13fb",
   "metadata": {},
   "outputs": [
    {
     "data": {
      "text/plain": [
       "'sexsexsexsexsexsexsexsexsexsexsexsexsexsexsexsexsexsexsexsexsexsexsexsexsexsexsexsexsexsexsexsexsexsexsexsexsexsexsexsexsexsexsexsexsexsexsexsexsexsexsexsexsexsexsexsexsexsexsexsexsexsexsexsexsexsexsexsexsexsexsexsexsexsexsexsexsexsexsexsexsexsexsexsexsexsexsexsexsexsexsexsexsexsexsexsexsexsexsexsexsexsexsexsexsexsexsexsexsexsexsexsexsexsexsexsexsexsexsexsexsexsexsexsexsexsexsexsexsexsexsexsexsexsexsexsexsexsex'"
      ]
     },
     "execution_count": 22,
     "metadata": {},
     "output_type": "execute_result"
    }
   ],
   "source": [
    "a*69 # here we can append the same string many times using multiplication"
   ]
  },
  {
   "cell_type": "code",
   "execution_count": 25,
   "id": "64c34982",
   "metadata": {},
   "outputs": [
    {
     "data": {
      "text/plain": [
       "1217468703984"
      ]
     },
     "execution_count": 25,
     "metadata": {},
     "output_type": "execute_result"
    }
   ],
   "source": [
    "id(a)"
   ]
  },
  {
   "cell_type": "code",
   "execution_count": 19,
   "id": "a8b0e1a5",
   "metadata": {},
   "outputs": [
    {
     "data": {
      "text/plain": [
       "'sex'"
      ]
     },
     "execution_count": 19,
     "metadata": {},
     "output_type": "execute_result"
    }
   ],
   "source": [
    "a"
   ]
  },
  {
   "cell_type": "code",
   "execution_count": 26,
   "id": "40886d00",
   "metadata": {},
   "outputs": [],
   "source": [
    "a = a*2"
   ]
  },
  {
   "cell_type": "code",
   "execution_count": 27,
   "id": "074a1ccd",
   "metadata": {},
   "outputs": [
    {
     "data": {
      "text/plain": [
       "'sexsex'"
      ]
     },
     "execution_count": 27,
     "metadata": {},
     "output_type": "execute_result"
    }
   ],
   "source": [
    "a"
   ]
  },
  {
   "cell_type": "code",
   "execution_count": 29,
   "id": "bb35b1ee",
   "metadata": {},
   "outputs": [
    {
     "data": {
      "text/plain": [
       "1217468704624"
      ]
     },
     "execution_count": 29,
     "metadata": {},
     "output_type": "execute_result"
    }
   ],
   "source": [
    "id(a) # here we can again see that the adderess of the a string is diff in both"
   ]
  },
  {
   "cell_type": "code",
   "execution_count": 30,
   "id": "64d2f2d0",
   "metadata": {},
   "outputs": [],
   "source": [
    "ab = 'red'"
   ]
  },
  {
   "cell_type": "code",
   "execution_count": 31,
   "id": "7ee06a61",
   "metadata": {},
   "outputs": [
    {
     "ename": "TypeError",
     "evalue": "can only concatenate str (not \"int\") to str",
     "output_type": "error",
     "traceback": [
      "\u001b[1;31m---------------------------------------------------------------------------\u001b[0m",
      "\u001b[1;31mTypeError\u001b[0m                                 Traceback (most recent call last)",
      "\u001b[1;32m~\\AppData\\Local\\Temp/ipykernel_26356/1426633424.py\u001b[0m in \u001b[0;36m<module>\u001b[1;34m\u001b[0m\n\u001b[1;32m----> 1\u001b[1;33m \u001b[0mab\u001b[0m \u001b[1;33m+=\u001b[0m \u001b[1;36m3\u001b[0m\u001b[1;33m\u001b[0m\u001b[1;33m\u001b[0m\u001b[0m\n\u001b[0m",
      "\u001b[1;31mTypeError\u001b[0m: can only concatenate str (not \"int\") to str"
     ]
    }
   ],
   "source": [
    "ab += 3"
   ]
  },
  {
   "cell_type": "code",
   "execution_count": 32,
   "id": "3d11f575",
   "metadata": {},
   "outputs": [],
   "source": [
    "#python does not know how to concatinate a word and a int"
   ]
  },
  {
   "cell_type": "markdown",
   "id": "e2307636",
   "metadata": {},
   "source": [
    "#### but we can do it via a trick"
   ]
  },
  {
   "cell_type": "code",
   "execution_count": 35,
   "id": "c59e3b6a",
   "metadata": {},
   "outputs": [],
   "source": [
    "ab += str(3)"
   ]
  },
  {
   "cell_type": "code",
   "execution_count": 36,
   "id": "1d568a57",
   "metadata": {},
   "outputs": [
    {
     "data": {
      "text/plain": [
       "'red3'"
      ]
     },
     "execution_count": 36,
     "metadata": {},
     "output_type": "execute_result"
    }
   ],
   "source": [
    "ab"
   ]
  },
  {
   "cell_type": "code",
   "execution_count": null,
   "id": "13316248",
   "metadata": {},
   "outputs": [],
   "source": []
  }
 ],
 "metadata": {
  "kernelspec": {
   "display_name": "Python 3 (ipykernel)",
   "language": "python",
   "name": "python3"
  },
  "language_info": {
   "codemirror_mode": {
    "name": "ipython",
    "version": 3
   },
   "file_extension": ".py",
   "mimetype": "text/x-python",
   "name": "python",
   "nbconvert_exporter": "python",
   "pygments_lexer": "ipython3",
   "version": "3.9.7"
  }
 },
 "nbformat": 4,
 "nbformat_minor": 5
}
