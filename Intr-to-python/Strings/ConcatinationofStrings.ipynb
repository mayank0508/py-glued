{
 "cells": [
  {
   "cell_type": "code",
   "execution_count": 1,
   "id": "5e9906ad",
   "metadata": {},
   "outputs": [],
   "source": [
    "# Concatination of strings"
   ]
  },
  {
   "cell_type": "code",
   "execution_count": 2,
   "id": "863302f0",
   "metadata": {},
   "outputs": [],
   "source": [
    "a = 'red'"
   ]
  },
  {
   "cell_type": "code",
   "execution_count": 3,
   "id": "2abeeb30",
   "metadata": {},
   "outputs": [
    {
     "data": {
      "text/plain": [
       "'red'"
      ]
     },
     "execution_count": 3,
     "metadata": {},
     "output_type": "execute_result"
    }
   ],
   "source": [
    "a"
   ]
  },
  {
   "cell_type": "code",
   "execution_count": 8,
   "id": "73f956f1",
   "metadata": {},
   "outputs": [],
   "source": [
    "a = a + 'blue' # concatination happen using the + operator"
   ]
  },
  {
   "cell_type": "code",
   "execution_count": 5,
   "id": "6d33fd17",
   "metadata": {},
   "outputs": [
    {
     "data": {
      "text/plain": [
       "'redblue'"
      ]
     },
     "execution_count": 5,
     "metadata": {},
     "output_type": "execute_result"
    }
   ],
   "source": [
    "a"
   ]
  },
  {
   "cell_type": "code",
   "execution_count": 6,
   "id": "42d20826",
   "metadata": {},
   "outputs": [],
   "source": [
    "a = a +'blue' + 'green'"
   ]
  },
  {
   "cell_type": "code",
   "execution_count": 7,
   "id": "1ff2513e",
   "metadata": {},
   "outputs": [
    {
     "data": {
      "text/plain": [
       "'redbluebluegreen'"
      ]
     },
     "execution_count": 7,
     "metadata": {},
     "output_type": "execute_result"
    }
   ],
   "source": [
    "a"
   ]
  },
  {
   "cell_type": "code",
   "execution_count": 9,
   "id": "43b046bd",
   "metadata": {},
   "outputs": [],
   "source": [
    "a += 'sex'"
   ]
  },
  {
   "cell_type": "code",
   "execution_count": 10,
   "id": "4ab6b786",
   "metadata": {},
   "outputs": [
    {
     "data": {
      "text/plain": [
       "'redbluebluegreenbluesex'"
      ]
     },
     "execution_count": 10,
     "metadata": {},
     "output_type": "execute_result"
    }
   ],
   "source": [
    "a"
   ]
  },
  {
   "cell_type": "code",
   "execution_count": 11,
   "id": "dfd87dbc",
   "metadata": {},
   "outputs": [
    {
     "data": {
      "text/plain": [
       "1217468630720"
      ]
     },
     "execution_count": 11,
     "metadata": {},
     "output_type": "execute_result"
    }
   ],
   "source": [
    "id(a)"
   ]
  },
  {
   "cell_type": "code",
   "execution_count": 12,
   "id": "44f9f991",
   "metadata": {},
   "outputs": [],
   "source": [
    "a += 'yellow'"
   ]
  },
  {
   "cell_type": "code",
   "execution_count": 13,
   "id": "0d300fd1",
   "metadata": {},
   "outputs": [
    {
     "data": {
      "text/plain": [
       "'redbluebluegreenbluesexyellow'"
      ]
     },
     "execution_count": 13,
     "metadata": {},
     "output_type": "execute_result"
    }
   ],
   "source": [
    "a"
   ]
  },
  {
   "cell_type": "code",
   "execution_count": 15,
   "id": "992616c8",
   "metadata": {},
   "outputs": [
    {
     "data": {
      "text/plain": [
       "1217468288736"
      ]
     },
     "execution_count": 15,
     "metadata": {},
     "output_type": "execute_result"
    }
   ],
   "source": [
    "id(a) # here the string reffers to a diffrent adderess"
   ]
  },
  {
   "cell_type": "code",
   "execution_count": 16,
   "id": "cf507cf9",
   "metadata": {},
   "outputs": [],
   "source": [
    "# another way of concatination"
   ]
  },
  {
   "cell_type": "code",
   "execution_count": 24,
   "id": "1f467506",
   "metadata": {},
   "outputs": [],
   "source": [
    "a = 'sex'"
   ]
  },
  {
   "cell_type": "code",
   "execution_count": 22,
   "id": "3bbda5a8",
   "metadata": {},
   "outputs": [
    {
     "data": {
      "text/plain": [
       "'sexsexsexsexsexsexsexsexsexsexsexsexsexsexsexsexsexsexsexsexsexsexsexsexsexsexsexsexsexsexsexsexsexsexsexsexsexsexsexsexsexsexsexsexsexsexsexsexsexsexsexsexsexsexsexsexsexsexsexsexsexsexsexsexsexsexsexsexsexsexsexsexsexsexsexsexsexsexsexsexsexsexsexsexsexsexsexsexsexsexsexsexsexsexsexsexsexsexsexsexsexsexsexsexsexsexsexsexsexsexsexsexsexsexsexsexsexsexsexsexsexsexsexsexsexsexsexsexsexsexsexsexsexsexsexsexsexsex'"
      ]
     },
     "execution_count": 22,
     "metadata": {},
     "output_type": "execute_result"
    }
   ],
   "source": [
    "a*69 # here we can append the same string many times using multiplication"
   ]
  },
  {
   "cell_type": "code",
   "execution_count": 25,
   "id": "40b0b3ee",
   "metadata": {},
   "outputs": [
    {
     "data": {
      "text/plain": [
       "1217468703984"
      ]
     },
     "execution_count": 25,
     "metadata": {},
     "output_type": "execute_result"
    }
   ],
   "source": [
    "id(a)"
   ]
  },
  {
   "cell_type": "code",
   "execution_count": 19,
   "id": "f55242e9",
   "metadata": {},
   "outputs": [
    {
     "data": {
      "text/plain": [
       "'sex'"
      ]
     },
     "execution_count": 19,
     "metadata": {},
     "output_type": "execute_result"
    }
   ],
   "source": [
    "a"
   ]
  },
  {
   "cell_type": "code",
   "execution_count": 26,
   "id": "56a85822",
   "metadata": {},
   "outputs": [],
   "source": [
    "a = a*2"
   ]
  },
  {
   "cell_type": "code",
   "execution_count": 27,
   "id": "f1892c92",
   "metadata": {},
   "outputs": [
    {
     "data": {
      "text/plain": [
       "'sexsex'"
      ]
     },
     "execution_count": 27,
     "metadata": {},
     "output_type": "execute_result"
    }
   ],
   "source": [
    "a"
   ]
  },
  {
   "cell_type": "code",
   "execution_count": 28,
   "id": "3a8f1a9a",
   "metadata": {},
   "outputs": [
    {
     "data": {
      "text/plain": [
       "1217468704624"
      ]
     },
     "execution_count": 28,
     "metadata": {},
     "output_type": "execute_result"
    }
   ],
   "source": [
    "id(a) # here we can again se"
   ]
  },
  {
   "cell_type": "code",
   "execution_count": null,
   "id": "743eb04f",
   "metadata": {},
   "outputs": [],
   "source": []
  }
 ],
 "metadata": {
  "kernelspec": {
   "display_name": "Python 3 (ipykernel)",
   "language": "python",
   "name": "python3"
  },
  "language_info": {
   "codemirror_mode": {
    "name": "ipython",
    "version": 3
   },
   "file_extension": ".py",
   "mimetype": "text/x-python",
   "name": "python",
   "nbconvert_exporter": "python",
   "pygments_lexer": "ipython3",
   "version": "3.9.7"
  }
 },
 "nbformat": 4,
 "nbformat_minor": 5
}
