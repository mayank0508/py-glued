{
 "cells": [
  {
   "cell_type": "markdown",
   "id": "866abfc2",
   "metadata": {},
   "source": [
    "## Kind of comparison operators"
   ]
  },
  {
   "cell_type": "markdown",
   "id": "09f6b7cf",
   "metadata": {},
   "source": [
    "## = ,<= , >= , == , !="
   ]
  },
  {
   "cell_type": "code",
   "execution_count": 3,
   "id": "3399d3a3",
   "metadata": {},
   "outputs": [],
   "source": [
    "a = \"mayank\" == \"Mayank\""
   ]
  },
  {
   "cell_type": "code",
   "execution_count": 4,
   "id": "9c8f6efa",
   "metadata": {},
   "outputs": [
    {
     "data": {
      "text/plain": [
       "False"
      ]
     },
     "execution_count": 4,
     "metadata": {},
     "output_type": "execute_result"
    }
   ],
   "source": [
    "a # here it is falise beacuse it is case sensi"
   ]
  },
  {
   "cell_type": "code",
   "execution_count": null,
   "id": "746d8b17",
   "metadata": {},
   "outputs": [],
   "source": []
  }
 ],
 "metadata": {
  "kernelspec": {
   "display_name": "Python 3 (ipykernel)",
   "language": "python",
   "name": "python3"
  },
  "language_info": {
   "codemirror_mode": {
    "name": "ipython",
    "version": 3
   },
   "file_extension": ".py",
   "mimetype": "text/x-python",
   "name": "python",
   "nbconvert_exporter": "python",
   "pygments_lexer": "ipython3",
   "version": "3.9.7"
  }
 },
 "nbformat": 4,
 "nbformat_minor": 5
}
