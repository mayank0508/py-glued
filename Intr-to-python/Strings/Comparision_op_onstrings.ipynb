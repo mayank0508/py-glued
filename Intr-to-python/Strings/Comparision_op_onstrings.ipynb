{
 "cells": [
  {
   "cell_type": "markdown",
   "id": "8551e8dc",
   "metadata": {},
   "source": [
    "## Kind of comparison operators"
   ]
  },
  {
   "cell_type": "markdown",
   "id": "2e505ac3",
   "metadata": {},
   "source": [
    "## = ,<= , >= , == , !="
   ]
  },
  {
   "cell_type": "code",
   "execution_count": 3,
   "id": "f430cf3a",
   "metadata": {},
   "outputs": [],
   "source": [
    "a = \"mayank\" == \"Mayank\""
   ]
  },
  {
   "cell_type": "code",
   "execution_count": 5,
   "id": "c4653d69",
   "metadata": {},
   "outputs": [
    {
     "data": {
      "text/plain": [
       "False"
      ]
     },
     "execution_count": 5,
     "metadata": {},
     "output_type": "execute_result"
    }
   ],
   "source": [
    "a # here it is falise beacuse it is case sensitve language"
   ]
  },
  {
   "cell_type": "code",
   "execution_count": 6,
   "id": "9eccf3a2",
   "metadata": {},
   "outputs": [],
   "source": [
    "b = \"mayank\" == \"mayank\""
   ]
  },
  {
   "cell_type": "code",
   "execution_count": 8,
   "id": "19aa8acd",
   "metadata": {},
   "outputs": [
    {
     "data": {
      "text/plain": [
       "True"
      ]
     },
     "execution_count": 8,
     "metadata": {},
     "output_type": "execute_result"
    }
   ],
   "source": [
    "b # here we can see the same thing is true"
   ]
  },
  {
   "cell_type": "code",
   "execution_count": 9,
   "id": "d9b6e4f8",
   "metadata": {},
   "outputs": [],
   "source": [
    "c = 'Mayank' >= 'Aayank'"
   ]
  },
  {
   "cell_type": "code",
   "execution_count": 11,
   "id": "b2761b38",
   "metadata": {},
   "outputs": [
    {
     "data": {
      "text/plain": [
       "True"
      ]
     },
     "execution_count": 11,
     "metadata": {},
     "output_type": "execute_result"
    }
   ],
   "source": [
    "c # why it is true ??"
   ]
  },
  {
   "cell_type": "code",
   "execution_count": 12,
   "id": "74b5f9a0",
   "metadata": {},
   "outputs": [],
   "source": [
    "# this comparison of strings happens on the measure of ASCII table"
   ]
  },
  {
   "cell_type": "code",
   "execution_count": 30,
   "id": "ffa1fed6",
   "metadata": {},
   "outputs": [],
   "source": [
    "a = 'maya' >= 'Maya'"
   ]
  },
  {
   "cell_type": "code",
   "execution_count": 31,
   "id": "23ace9ed",
   "metadata": {},
   "outputs": [
    {
     "data": {
      "text/plain": [
       "True"
      ]
     },
     "execution_count": 31,
     "metadata": {},
     "output_type": "execute_result"
    }
   ],
   "source": [
    "a"
   ]
  },
  {
   "cell_type": "code",
   "execution_count": 42,
   "id": "51d28a48",
   "metadata": {},
   "outputs": [
    {
     "data": {
      "text/plain": [
       "True"
      ]
     },
     "execution_count": 42,
     "metadata": {},
     "output_type": "execute_result"
    }
   ],
   "source": [
    "\"may\" >= \"Mayank\""
   ]
  },
  {
   "cell_type": "code",
   "execution_count": 41,
   "id": "d8edcb7c",
   "metadata": {},
   "outputs": [
    {
     "data": {
      "text/plain": [
       "False"
      ]
     },
     "execution_count": 41,
     "metadata": {},
     "output_type": "execute_result"
    }
   ],
   "source": [
    "'May' != 'May'"
   ]
  },
  {
   "cell_type": "code",
   "execution_count": null,
   "id": "38e3af66",
   "metadata": {},
   "outputs": [],
   "source": []
  }
 ],
 "metadata": {
  "kernelspec": {
   "display_name": "Python 3 (ipykernel)",
   "language": "python",
   "name": "python3"
  },
  "language_info": {
   "codemirror_mode": {
    "name": "ipython",
    "version": 3
   },
   "file_extension": ".py",
   "mimetype": "text/x-python",
   "name": "python",
   "nbconvert_exporter": "python",
   "pygments_lexer": "ipython3",
   "version": "3.9.7"
  }
 },
 "nbformat": 4,
 "nbformat_minor": 5
}
