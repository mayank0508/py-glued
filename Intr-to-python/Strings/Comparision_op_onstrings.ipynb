{
 "cells": [
  {
   "cell_type": "markdown",
   "id": "176968cd",
   "metadata": {},
   "source": [
    "## Kind of comparison operators"
   ]
  },
  {
   "cell_type": "markdown",
   "id": "c02e1a95",
   "metadata": {},
   "source": [
    "## = ,<= , >= , == , !="
   ]
  },
  {
   "cell_type": "code",
   "execution_count": 3,
   "id": "1f8ae982",
   "metadata": {},
   "outputs": [],
   "source": [
    "a = \"mayank\" == \"Mayank\""
   ]
  },
  {
   "cell_type": "code",
   "execution_count": 5,
   "id": "93f0e8da",
   "metadata": {},
   "outputs": [
    {
     "data": {
      "text/plain": [
       "False"
      ]
     },
     "execution_count": 5,
     "metadata": {},
     "output_type": "execute_result"
    }
   ],
   "source": [
    "a # here it is falise beacuse it is case sensitve language"
   ]
  },
  {
   "cell_type": "code",
   "execution_count": 6,
   "id": "f4399a82",
   "metadata": {},
   "outputs": [],
   "source": [
    "b = \"mayank\" == \"mayank\""
   ]
  },
  {
   "cell_type": "code",
   "execution_count": 8,
   "id": "51925851",
   "metadata": {},
   "outputs": [
    {
     "data": {
      "text/plain": [
       "True"
      ]
     },
     "execution_count": 8,
     "metadata": {},
     "output_type": "execute_result"
    }
   ],
   "source": [
    "b # here we can see the same thing is true"
   ]
  },
  {
   "cell_type": "code",
   "execution_count": 9,
   "id": "18bc25a2",
   "metadata": {},
   "outputs": [],
   "source": [
    "c = 'Mayank' >= 'Aayank'"
   ]
  },
  {
   "cell_type": "code",
   "execution_count": 11,
   "id": "18ce0326",
   "metadata": {},
   "outputs": [
    {
     "data": {
      "text/plain": [
       "True"
      ]
     },
     "execution_count": 11,
     "metadata": {},
     "output_type": "execute_result"
    }
   ],
   "source": [
    "c # why it is true ??"
   ]
  },
  {
   "cell_type": "code",
   "execution_count": 12,
   "id": "1fc12ffe",
   "metadata": {},
   "outputs": [],
   "source": [
    "# this comparison of strings happens on the measure of ASCII table"
   ]
  },
  {
   "cell_type": "code",
   "execution_count": 30,
   "id": "23b9d615",
   "metadata": {},
   "outputs": [],
   "source": [
    "a = 'maya' >= 'Maya'"
   ]
  },
  {
   "cell_type": "code",
   "execution_count": 31,
   "id": "e5e2885c",
   "metadata": {},
   "outputs": [
    {
     "data": {
      "text/plain": [
       "True"
      ]
     },
     "execution_count": 31,
     "metadata": {},
     "output_type": "execute_result"
    }
   ],
   "source": [
    "a"
   ]
  },
  {
   "cell_type": "code",
   "execution_count": 42,
   "id": "91aa6133",
   "metadata": {},
   "outputs": [
    {
     "data": {
      "text/plain": [
       "True"
      ]
     },
     "execution_count": 42,
     "metadata": {},
     "output_type": "execute_result"
    }
   ],
   "source": [
    "\"may\" >= \"Mayank\""
   ]
  },
  {
   "cell_type": "code",
   "execution_count": 41,
   "id": "44e0a33b",
   "metadata": {},
   "outputs": [
    {
     "data": {
      "text/plain": [
       "False"
      ]
     },
     "execution_count": 41,
     "metadata": {},
     "output_type": "execute_result"
    }
   ],
   "source": [
    "'May' != 'May'"
   ]
  },
  {
   "cell_type": "code",
   "execution_count": 46,
   "id": "9830e5cb",
   "metadata": {},
   "outputs": [],
   "source": [
    "a = \"abce\" >= \"abcdef\""
   ]
  },
  {
   "cell_type": "code",
   "execution_count": 45,
   "id": "797ae616",
   "metadata": {},
   "outputs": [
    {
     "data": {
      "text/plain": [
       "True"
      ]
     },
     "execution_count": 45,
     "metadata": {},
     "output_type": "execute_result"
    }
   ],
   "source": [
    "a"
   ]
  },
  {
   "cell_type": "code",
   "execution_count": null,
   "id": "dcafbb1c",
   "metadata": {},
   "outputs": [],
   "source": []
  }
 ],
 "metadata": {
  "kernelspec": {
   "display_name": "Python 3 (ipykernel)",
   "language": "python",
   "name": "python3"
  },
  "language_info": {
   "codemirror_mode": {
    "name": "ipython",
    "version": 3
   },
   "file_extension": ".py",
   "mimetype": "text/x-python",
   "name": "python",
   "nbconvert_exporter": "python",
   "pygments_lexer": "ipython3",
   "version": "3.9.7"
  }
 },
 "nbformat": 4,
 "nbformat_minor": 5
}
