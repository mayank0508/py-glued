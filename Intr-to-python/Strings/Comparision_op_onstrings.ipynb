{
 "cells": [
  {
   "cell_type": "markdown",
   "id": "4920f34b",
   "metadata": {},
   "source": [
    "## Kind of comparison operators"
   ]
  },
  {
   "cell_type": "markdown",
   "id": "d1c4ab6c",
   "metadata": {},
   "source": [
    "## = ,<= , >= , == , !="
   ]
  },
  {
   "cell_type": "code",
   "execution_count": 3,
   "id": "687a4e4f",
   "metadata": {},
   "outputs": [],
   "source": [
    "a = \"mayank\" == \"Mayank\""
   ]
  },
  {
   "cell_type": "code",
   "execution_count": 5,
   "id": "fb1040ef",
   "metadata": {},
   "outputs": [
    {
     "data": {
      "text/plain": [
       "False"
      ]
     },
     "execution_count": 5,
     "metadata": {},
     "output_type": "execute_result"
    }
   ],
   "source": [
    "a # here it is falise beacuse it is case sensitve language"
   ]
  },
  {
   "cell_type": "code",
   "execution_count": 6,
   "id": "fa03dfdb",
   "metadata": {},
   "outputs": [],
   "source": [
    "b = \"mayank\" == \"mayank\""
   ]
  },
  {
   "cell_type": "code",
   "execution_count": 8,
   "id": "27108e62",
   "metadata": {},
   "outputs": [
    {
     "data": {
      "text/plain": [
       "True"
      ]
     },
     "execution_count": 8,
     "metadata": {},
     "output_type": "execute_result"
    }
   ],
   "source": [
    "b # here we can see the same thing is true"
   ]
  },
  {
   "cell_type": "code",
   "execution_count": 9,
   "id": "c81bf9f1",
   "metadata": {},
   "outputs": [],
   "source": [
    "c = 'Mayank' >= 'Aayank'"
   ]
  },
  {
   "cell_type": "code",
   "execution_count": 11,
   "id": "6e2a3fc4",
   "metadata": {},
   "outputs": [
    {
     "data": {
      "text/plain": [
       "True"
      ]
     },
     "execution_count": 11,
     "metadata": {},
     "output_type": "execute_result"
    }
   ],
   "source": [
    "c # why it is true ??"
   ]
  },
  {
   "cell_type": "code",
   "execution_count": null,
   "id": "74b88109",
   "metadata": {},
   "outputs": [],
   "source": []
  }
 ],
 "metadata": {
  "kernelspec": {
   "display_name": "Python 3 (ipykernel)",
   "language": "python",
   "name": "python3"
  },
  "language_info": {
   "codemirror_mode": {
    "name": "ipython",
    "version": 3
   },
   "file_extension": ".py",
   "mimetype": "text/x-python",
   "name": "python",
   "nbconvert_exporter": "python",
   "pygments_lexer": "ipython3",
   "version": "3.9.7"
  }
 },
 "nbformat": 4,
 "nbformat_minor": 5
}
