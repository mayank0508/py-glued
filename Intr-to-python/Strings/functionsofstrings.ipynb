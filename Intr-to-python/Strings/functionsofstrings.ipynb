{
 "cells": [
  {
   "cell_type": "markdown",
   "id": "f21c0160",
   "metadata": {},
   "source": [
    "### Split"
   ]
  },
  {
   "cell_type": "code",
   "execution_count": 17,
   "id": "5eba8eff",
   "metadata": {},
   "outputs": [
    {
     "name": "stdout",
     "output_type": "stream",
     "text": [
      "['mayank', 'is', 'a', 'very', 'sexy', 'boy', 'ngl']\n"
     ]
    }
   ],
   "source": [
    "str = 'mayank is a very sexy boy ngl'\n",
    "li = str.split()\n",
    "print(li)"
   ]
  },
  {
   "cell_type": "code",
   "execution_count": 21,
   "id": "7f43e4ed",
   "metadata": {},
   "outputs": [
    {
     "name": "stdout",
     "output_type": "stream",
     "text": [
      "['mayank', 'is,a,very,sexy,boy,ngl']\n"
     ]
    }
   ],
   "source": [
    "str = \"mayank,is,a,very,sexy,boy,ngl\"\n",
    "li = str.split(',',1)\n",
    "print(li)"
   ]
  },
  {
   "cell_type": "code",
   "execution_count": null,
   "id": "f29fbbc7",
   "metadata": {},
   "outputs": [],
   "source": []
  },
  {
   "cell_type": "code",
   "execution_count": null,
   "id": "e1d074a3",
   "metadata": {},
   "outputs": [],
   "source": []
  }
 ],
 "metadata": {
  "kernelspec": {
   "display_name": "Python 3 (ipykernel)",
   "language": "python",
   "name": "python3"
  },
  "language_info": {
   "codemirror_mode": {
    "name": "ipython",
    "version": 3
   },
   "file_extension": ".py",
   "mimetype": "text/x-python",
   "name": "python",
   "nbconvert_exporter": "python",
   "pygments_lexer": "ipython3",
   "version": "3.9.7"
  }
 },
 "nbformat": 4,
 "nbformat_minor": 5
}
