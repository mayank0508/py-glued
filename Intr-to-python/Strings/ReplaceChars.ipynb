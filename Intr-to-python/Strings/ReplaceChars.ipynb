{
 "cells": [
  {
   "cell_type": "markdown",
   "id": "304d7fd0",
   "metadata": {},
   "source": [
    "### Replace char function program"
   ]
  },
  {
   "cell_type": "code",
   "execution_count": 5,
   "id": "e34e1a36",
   "metadata": {},
   "outputs": [
    {
     "name": "stdout",
     "output_type": "stream",
     "text": [
      "mynlmeismlylnk\n"
     ]
    }
   ],
   "source": [
    "def replace(str, char1, char2):\n",
    "    new_str = ''\n",
    "    for i in str:\n",
    "        if i == char1:\n",
    "            new_str += char2\n",
    "        else:\n",
    "            new_str += i\n",
    "    return new_str\n",
    "\n",
    "str = 'mynameismayank'\n",
    "str = replace(str,'a', 'l')\n",
    "print(str)"
   ]
  },
  {
   "cell_type": "code",
   "execution_count": null,
   "id": "0c4ff034",
   "metadata": {},
   "outputs": [],
   "source": []
  }
 ],
 "metadata": {
  "kernelspec": {
   "display_name": "Python 3 (ipykernel)",
   "language": "python",
   "name": "python3"
  },
  "language_info": {
   "codemirror_mode": {
    "name": "ipython",
    "version": 3
   },
   "file_extension": ".py",
   "mimetype": "text/x-python",
   "name": "python",
   "nbconvert_exporter": "python",
   "pygments_lexer": "ipython3",
   "version": "3.9.7"
  }
 },
 "nbformat": 4,
 "nbformat_minor": 5
}
