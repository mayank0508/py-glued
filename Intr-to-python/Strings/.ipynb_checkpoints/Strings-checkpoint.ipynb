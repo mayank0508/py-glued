{
 "cells": [
  {
   "cell_type": "code",
   "execution_count": 1,
   "id": "6517b083",
   "metadata": {},
   "outputs": [],
   "source": [
    "#Strings"
   ]
  },
  {
   "cell_type": "code",
   "execution_count": 16,
   "id": "22e7bee3",
   "metadata": {},
   "outputs": [],
   "source": [
    "ac = \"mayank\""
   ]
  },
  {
   "cell_type": "code",
   "execution_count": 18,
   "id": "345bc01d",
   "metadata": {},
   "outputs": [
    {
     "name": "stdout",
     "output_type": "stream",
     "text": [
      "mayank\n"
     ]
    }
   ],
   "source": [
    "print(ac)"
   ]
  },
  {
   "cell_type": "code",
   "execution_count": 4,
   "id": "788ff634",
   "metadata": {},
   "outputs": [],
   "source": [
    "a = '''Mayank'''"
   ]
  },
  {
   "cell_type": "code",
   "execution_count": 5,
   "id": "e068443e",
   "metadata": {},
   "outputs": [
    {
     "name": "stdout",
     "output_type": "stream",
     "text": [
      "Mayank\n"
     ]
    }
   ],
   "source": [
    "print(a)"
   ]
  },
  {
   "cell_type": "code",
   "execution_count": null,
   "id": "7d83e778",
   "metadata": {},
   "outputs": [],
   "source": []
  },
  {
   "cell_type": "code",
   "execution_count": 8,
   "id": "ad10fc66",
   "metadata": {},
   "outputs": [],
   "source": [
    "ab = '''My \n",
    "name is \n",
    "ranu''' # this is the reason why we used ''' ''' it can be used for intitiling a double line index"
   ]
  },
  {
   "cell_type": "code",
   "execution_count": 7,
   "id": "22f45995",
   "metadata": {},
   "outputs": [
    {
     "name": "stdout",
     "output_type": "stream",
     "text": [
      "My\n",
      "name is \n",
      "ranu\n"
     ]
    }
   ],
   "source": [
    "print(ab)"
   ]
  },
  {
   "cell_type": "code",
   "execution_count": 14,
   "id": "38e246da",
   "metadata": {},
   "outputs": [
    {
     "data": {
      "text/plain": [
       "'n'"
      ]
     },
     "execution_count": 14,
     "metadata": {},
     "output_type": "execute_result"
    }
   ],
   "source": [
    "ab[4]"
   ]
  },
  {
   "cell_type": "code",
   "execution_count": 15,
   "id": "e0504260",
   "metadata": {},
   "outputs": [
    {
     "data": {
      "text/plain": [
       "'M'"
      ]
     },
     "execution_count": 15,
     "metadata": {},
     "output_type": "execute_result"
    }
   ],
   "source": [
    "a[0]"
   ]
  },
  {
   "cell_type": "code",
   "execution_count": 19,
   "id": "fe20dfae",
   "metadata": {},
   "outputs": [
    {
     "data": {
      "text/plain": [
       "'m'"
      ]
     },
     "execution_count": 19,
     "metadata": {},
     "output_type": "execute_result"
    }
   ],
   "source": [
    "ac[0]"
   ]
  },
  {
   "cell_type": "code",
   "execution_count": 21,
   "id": "122ff17d",
   "metadata": {},
   "outputs": [
    {
     "data": {
      "text/plain": [
       "'u'"
      ]
     },
     "execution_count": 21,
     "metadata": {},
     "output_type": "execute_result"
    }
   ],
   "source": [
    "ab[-1] # this is used to op the last list"
   ]
  },
  {
   "cell_type": "markdown",
   "id": "ec2c05ca",
   "metadata": {},
   "source": [
    "### How Strigns are stored"
   ]
  },
  {
   "cell_type": "code",
   "execution_count": 22,
   "id": "3b76fca9",
   "metadata": {},
   "outputs": [],
   "source": [
    "a = 'Mayank'"
   ]
  },
  {
   "cell_type": "code",
   "execution_count": 23,
   "id": "d2420bc8",
   "metadata": {},
   "outputs": [
    {
     "data": {
      "text/plain": [
       "2216721405488"
      ]
     },
     "execution_count": 23,
     "metadata": {},
     "output_type": "execute_result"
    }
   ],
   "source": [
    "id(a)"
   ]
  },
  {
   "cell_type": "code",
   "execution_count": 24,
   "id": "b6bc8df1",
   "metadata": {},
   "outputs": [],
   "source": [
    "b = 'Mayank'"
   ]
  },
  {
   "cell_type": "code",
   "execution_count": 25,
   "id": "7444397e",
   "metadata": {},
   "outputs": [
    {
     "data": {
      "text/plain": [
       "2216721405488"
      ]
     },
     "execution_count": 25,
     "metadata": {},
     "output_type": "execute_result"
    }
   ],
   "source": [
    "id(b)"
   ]
  },
  {
   "cell_type": "code",
   "execution_count": 26,
   "id": "61746304",
   "metadata": {},
   "outputs": [],
   "source": [
    "# here we see that a and b have the same reference value"
   ]
  },
  {
   "cell_type": "markdown",
   "id": "6ec551b4",
   "metadata": {},
   "source": [
    "### Strings are immutable in python"
   ]
  },
  {
   "cell_type": "code",
   "execution_count": 27,
   "id": "e61e719b",
   "metadata": {},
   "outputs": [],
   "source": [
    "abc = 'mayank'"
   ]
  },
  {
   "cell_type": "code",
   "execution_count": 28,
   "id": "5b1c05b8",
   "metadata": {},
   "outputs": [
    {
     "name": "stdout",
     "output_type": "stream",
     "text": [
      "n\n"
     ]
    }
   ],
   "source": [
    "print(abc[4])"
   ]
  },
  {
   "cell_type": "code",
   "execution_count": 30,
   "id": "e8b94240",
   "metadata": {},
   "outputs": [
    {
     "ename": "TypeError",
     "evalue": "'str' object does not support item assignment",
     "output_type": "error",
     "traceback": [
      "\u001b[1;31m---------------------------------------------------------------------------\u001b[0m",
      "\u001b[1;31mTypeError\u001b[0m                                 Traceback (most recent call last)",
      "\u001b[1;32m~\\AppData\\Local\\Temp/ipykernel_22716/3715972792.py\u001b[0m in \u001b[0;36m<module>\u001b[1;34m\u001b[0m\n\u001b[1;32m----> 1\u001b[1;33m \u001b[0mabc\u001b[0m\u001b[1;33m[\u001b[0m\u001b[1;36m0\u001b[0m\u001b[1;33m]\u001b[0m \u001b[1;33m=\u001b[0m \u001b[1;34m's'\u001b[0m \u001b[1;31m#this here proves that strings are immutable\u001b[0m\u001b[1;33m\u001b[0m\u001b[1;33m\u001b[0m\u001b[0m\n\u001b[0m",
      "\u001b[1;31mTypeError\u001b[0m: 'str' object does not support item assignment"
     ]
    }
   ],
   "source": [
    "abc[0] = 's' #this here proves that strings are immutable"
   ]
  },
  {
   "cell_type": "code",
   "execution_count": null,
   "id": "6008fd65",
   "metadata": {},
   "outputs": [],
   "source": [
    "#the strings are immutable beacause we know that some strings are stored with the same adderess so that not to replace items in all the other \n",
    "# items that are associated with the particular adderss we have to do this thing "
   ]
  }
 ],
 "metadata": {
  "kernelspec": {
   "display_name": "Python 3 (ipykernel)",
   "language": "python",
   "name": "python3"
  },
  "language_info": {
   "codemirror_mode": {
    "name": "ipython",
    "version": 3
   },
   "file_extension": ".py",
   "mimetype": "text/x-python",
   "name": "python",
   "nbconvert_exporter": "python",
   "pygments_lexer": "ipython3",
   "version": "3.9.7"
  }
 },
 "nbformat": 4,
 "nbformat_minor": 5
}
