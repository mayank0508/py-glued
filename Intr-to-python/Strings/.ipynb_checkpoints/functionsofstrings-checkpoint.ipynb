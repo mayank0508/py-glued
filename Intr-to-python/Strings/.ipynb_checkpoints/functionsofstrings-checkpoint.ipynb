{
 "cells": [
  {
   "cell_type": "markdown",
   "id": "67e0fb03",
   "metadata": {},
   "source": [
    "### Split"
   ]
  },
  {
   "cell_type": "code",
   "execution_count": 17,
   "id": "5b990209",
   "metadata": {},
   "outputs": [
    {
     "name": "stdout",
     "output_type": "stream",
     "text": [
      "['mayank', 'is', 'a', 'very', 'sexy', 'boy', 'ngl']\n"
     ]
    }
   ],
   "source": [
    "str = 'mayank is a very sexy boy ngl'\n",
    "li = str.split()\n",
    "print(li)"
   ]
  },
  {
   "cell_type": "code",
   "execution_count": 21,
   "id": "1f021283",
   "metadata": {},
   "outputs": [
    {
     "name": "stdout",
     "output_type": "stream",
     "text": [
      "['mayank', 'is,a,very,sexy,boy,ngl']\n"
     ]
    }
   ],
   "source": [
    "str = \"mayank,is,a,very,sexy,boy,ngl\"\n",
    "li = str.split(',',1)\n",
    "print(li)"
   ]
  },
  {
   "cell_type": "markdown",
   "id": "1dbb6b67",
   "metadata": {},
   "source": [
    "### Replace"
   ]
  },
  {
   "cell_type": "code",
   "execution_count": 24,
   "id": "7d7e4a55",
   "metadata": {},
   "outputs": [
    {
     "name": "stdout",
     "output_type": "stream",
     "text": [
      "My god is Mayank\n"
     ]
    }
   ],
   "source": [
    "str = 'My name is Mayank'\n",
    "se= str.replace('name', 'god')\n",
    "print(se)"
   ]
  },
  {
   "cell_type": "code",
   "execution_count": 27,
   "id": "8130c5f0",
   "metadata": {},
   "outputs": [
    {
     "name": "stdout",
     "output_type": "stream",
     "text": [
      "My god is Mayank and my siste's god is Paru\n"
     ]
    }
   ],
   "source": [
    "st = \"My name is Mayank and my siste's name is Paru\"\n",
    "e= st.replace('name', 'god')\n",
    "print(e)"
   ]
  },
  {
   "cell_type": "markdown",
   "id": "90eec854",
   "metadata": {},
   "source": [
    "### Find"
   ]
  },
  {
   "cell_type": "code",
   "execution_count": 28,
   "id": "b4304348",
   "metadata": {},
   "outputs": [
    {
     "name": "stdout",
     "output_type": "stream",
     "text": [
      "15\n"
     ]
    }
   ],
   "source": [
    "may='My fav char is vegeta'\n",
    "m = may.find('veg')\n",
    "print(m) # here it is returing the number 15 because the char 'veg' comes on index no. 15"
   ]
  },
  {
   "cell_type": "code",
   "execution_count": 30,
   "id": "6822899d",
   "metadata": {},
   "outputs": [
    {
     "name": "stdout",
     "output_type": "stream",
     "text": [
      "-1\n"
     ]
    }
   ],
   "source": [
    "my='My fav char is vegeta'\n",
    "n = my.find('vg')\n",
    "print(n) # here it is returing the number -1 because the char 'vg' is not present in the particular strung"
   ]
  },
  {
   "cell_type": "code",
   "execution_count": 34,
   "id": "8d228245",
   "metadata": {},
   "outputs": [
    {
     "name": "stdout",
     "output_type": "stream",
     "text": [
      "10\n"
     ]
    }
   ],
   "source": [
    "r='My is xyz xyz'\n",
    "a = r.find('x', 8,11)\n",
    "print(a) # here it is returing the number 10 because the num x is search from 8 to 11, but if we dont\n",
    "# search the particular index after the point at which the letter is than we might get it wrong"
   ]
  },
  {
   "cell_type": "code",
   "execution_count": null,
   "id": "04cf6ca3",
   "metadata": {},
   "outputs": [],
   "source": []
  }
 ],
 "metadata": {
  "kernelspec": {
   "display_name": "Python 3 (ipykernel)",
   "language": "python",
   "name": "python3"
  },
  "language_info": {
   "codemirror_mode": {
    "name": "ipython",
    "version": 3
   },
   "file_extension": ".py",
   "mimetype": "text/x-python",
   "name": "python",
   "nbconvert_exporter": "python",
   "pygments_lexer": "ipython3",
   "version": "3.9.7"
  }
 },
 "nbformat": 4,
 "nbformat_minor": 5
}
