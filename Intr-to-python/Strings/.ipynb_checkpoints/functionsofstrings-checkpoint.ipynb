{
 "cells": [
  {
   "cell_type": "markdown",
   "id": "438e7b25",
   "metadata": {},
   "source": [
    "### Split"
   ]
  },
  {
   "cell_type": "code",
   "execution_count": 17,
   "id": "4d72b771",
   "metadata": {},
   "outputs": [
    {
     "name": "stdout",
     "output_type": "stream",
     "text": [
      "['mayank', 'is', 'a', 'very', 'sexy', 'boy', 'ngl']\n"
     ]
    }
   ],
   "source": [
    "str = 'mayank is a very sexy boy ngl'\n",
    "li = str.split()\n",
    "print(li)"
   ]
  },
  {
   "cell_type": "code",
   "execution_count": 21,
   "id": "df297e78",
   "metadata": {},
   "outputs": [
    {
     "name": "stdout",
     "output_type": "stream",
     "text": [
      "['mayank', 'is,a,very,sexy,boy,ngl']\n"
     ]
    }
   ],
   "source": [
    "str = \"mayank,is,a,very,sexy,boy,ngl\"\n",
    "li = str.split(',',1)\n",
    "print(li)"
   ]
  },
  {
   "cell_type": "markdown",
   "id": "36469b43",
   "metadata": {},
   "source": [
    "### Replace"
   ]
  },
  {
   "cell_type": "code",
   "execution_count": 24,
   "id": "f662f7d4",
   "metadata": {},
   "outputs": [
    {
     "name": "stdout",
     "output_type": "stream",
     "text": [
      "My god is Mayank\n"
     ]
    }
   ],
   "source": [
    "str = 'My name is Mayank'\n",
    "se= str.replace('name', 'god')\n",
    "print(se)"
   ]
  },
  {
   "cell_type": "code",
   "execution_count": 27,
   "id": "8c12358c",
   "metadata": {},
   "outputs": [
    {
     "name": "stdout",
     "output_type": "stream",
     "text": [
      "My god is Mayank and my siste's god is Paru\n"
     ]
    }
   ],
   "source": [
    "st = \"My name is Mayank and my siste's name is Paru\"\n",
    "e= st.replace('name', 'god')\n",
    "print(e)"
   ]
  },
  {
   "cell_type": "markdown",
   "id": "31ac3b9b",
   "metadata": {},
   "source": [
    "### Find"
   ]
  },
  {
   "cell_type": "code",
   "execution_count": 28,
   "id": "6e385d14",
   "metadata": {},
   "outputs": [
    {
     "name": "stdout",
     "output_type": "stream",
     "text": [
      "15\n"
     ]
    }
   ],
   "source": [
    "may='My fav char is vegeta'\n",
    "m = may.find('veg')\n",
    "print(m) # here it is returing the number 15 because the char 'veg' comes on index no. 15"
   ]
  },
  {
   "cell_type": "code",
   "execution_count": null,
   "id": "4b983a8d",
   "metadata": {},
   "outputs": [],
   "source": []
  }
 ],
 "metadata": {
  "kernelspec": {
   "display_name": "Python 3 (ipykernel)",
   "language": "python",
   "name": "python3"
  },
  "language_info": {
   "codemirror_mode": {
    "name": "ipython",
    "version": 3
   },
   "file_extension": ".py",
   "mimetype": "text/x-python",
   "name": "python",
   "nbconvert_exporter": "python",
   "pygments_lexer": "ipython3",
   "version": "3.9.7"
  }
 },
 "nbformat": 4,
 "nbformat_minor": 5
}
