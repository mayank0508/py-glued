{
 "cells": [
  {
   "cell_type": "markdown",
   "id": "3094d2b0",
   "metadata": {},
   "source": [
    "### Split"
   ]
  },
  {
   "cell_type": "code",
   "execution_count": 17,
   "id": "f8822522",
   "metadata": {},
   "outputs": [
    {
     "name": "stdout",
     "output_type": "stream",
     "text": [
      "['mayank', 'is', 'a', 'very', 'sexy', 'boy', 'ngl']\n"
     ]
    }
   ],
   "source": [
    "str = 'mayank is a very sexy boy ngl'\n",
    "li = str.split()\n",
    "print(li)"
   ]
  },
  {
   "cell_type": "code",
   "execution_count": 21,
   "id": "b7a540fe",
   "metadata": {},
   "outputs": [
    {
     "name": "stdout",
     "output_type": "stream",
     "text": [
      "['mayank', 'is,a,very,sexy,boy,ngl']\n"
     ]
    }
   ],
   "source": [
    "str = \"mayank,is,a,very,sexy,boy,ngl\"\n",
    "li = str.split(',',1)\n",
    "print(li)"
   ]
  },
  {
   "cell_type": "markdown",
   "id": "398068e8",
   "metadata": {},
   "source": [
    "### Replace"
   ]
  },
  {
   "cell_type": "code",
   "execution_count": 24,
   "id": "290cc8f8",
   "metadata": {},
   "outputs": [
    {
     "name": "stdout",
     "output_type": "stream",
     "text": [
      "My god is Mayank\n"
     ]
    }
   ],
   "source": [
    "str = 'My name is Mayank'\n",
    "se= str.replace('name', 'god')\n",
    "print(se)"
   ]
  },
  {
   "cell_type": "code",
   "execution_count": 27,
   "id": "aa610583",
   "metadata": {},
   "outputs": [
    {
     "name": "stdout",
     "output_type": "stream",
     "text": [
      "My god is Mayank and my siste's god is Paru\n"
     ]
    }
   ],
   "source": [
    "st = \"My name is Mayank and my siste's name is Paru\"\n",
    "e= st.replace('name', 'god')\n",
    "print(e)"
   ]
  },
  {
   "cell_type": "markdown",
   "id": "e2969b29",
   "metadata": {},
   "source": [
    "### Find"
   ]
  },
  {
   "cell_type": "code",
   "execution_count": 28,
   "id": "859bac30",
   "metadata": {},
   "outputs": [
    {
     "name": "stdout",
     "output_type": "stream",
     "text": [
      "15\n"
     ]
    }
   ],
   "source": [
    "may='My fav char is vegeta'\n",
    "m = may.find('veg')\n",
    "print(m) # here it is returing the number 15 because the char 'veg' comes on index no. 15"
   ]
  },
  {
   "cell_type": "code",
   "execution_count": 30,
   "id": "b68c9c81",
   "metadata": {},
   "outputs": [
    {
     "name": "stdout",
     "output_type": "stream",
     "text": [
      "-1\n"
     ]
    }
   ],
   "source": [
    "my='My fav char is vegeta'\n",
    "n = my.find('vg')\n",
    "print(n) # here it is returing the number -1 because the char 'vg' is not present in the particular strung"
   ]
  },
  {
   "cell_type": "code",
   "execution_count": null,
   "id": "38d336d1",
   "metadata": {},
   "outputs": [],
   "source": []
  }
 ],
 "metadata": {
  "kernelspec": {
   "display_name": "Python 3 (ipykernel)",
   "language": "python",
   "name": "python3"
  },
  "language_info": {
   "codemirror_mode": {
    "name": "ipython",
    "version": 3
   },
   "file_extension": ".py",
   "mimetype": "text/x-python",
   "name": "python",
   "nbconvert_exporter": "python",
   "pygments_lexer": "ipython3",
   "version": "3.9.7"
  }
 },
 "nbformat": 4,
 "nbformat_minor": 5
}
