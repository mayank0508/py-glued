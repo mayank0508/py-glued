{
 "cells": [
  {
   "cell_type": "code",
   "execution_count": 2,
   "id": "4fa60ef8",
   "metadata": {},
   "outputs": [],
   "source": [
    "#Itterating on the strings"
   ]
  },
  {
   "cell_type": "markdown",
   "id": "c2323887",
   "metadata": {},
   "source": [
    "### How to itterate on string"
   ]
  },
  {
   "cell_type": "code",
   "execution_count": 7,
   "id": "aa84d9f5",
   "metadata": {},
   "outputs": [],
   "source": [
    "str = \"Hello World, this is mayank kumar here, and i just wanna tell you all to fook off !\""
   ]
  },
  {
   "cell_type": "code",
   "execution_count": 15,
   "id": "19a89e7f",
   "metadata": {},
   "outputs": [
    {
     "data": {
      "text/plain": [
       "'Hello World, this is mayank kumar here, and i just wanna tell you all to fook off !'"
      ]
     },
     "execution_count": 15,
     "metadata": {},
     "output_type": "execute_result"
    }
   ],
   "source": [
    "str"
   ]
  },
  {
   "cell_type": "code",
   "execution_count": 39,
   "id": "593e47e8",
   "metadata": {},
   "outputs": [],
   "source": [
    "count = 0  # this is the one in which we take much care of the each element \n",
    "for letter in str:\n",
    "    if letter =='a':\n",
    "        count += 1"
   ]
  },
  {
   "cell_type": "code",
   "execution_count": 40,
   "id": "e8bdf6cd",
   "metadata": {},
   "outputs": [
    {
     "data": {
      "text/plain": [
       "7"
      ]
     },
     "execution_count": 40,
     "metadata": {},
     "output_type": "execute_result"
    }
   ],
   "source": [
    "count"
   ]
  },
  {
   "cell_type": "code",
   "execution_count": 44,
   "id": "85e64fd9",
   "metadata": {},
   "outputs": [],
   "source": [
    "counter = 0 # this is the way where we keep the considration of the index\n",
    "for i in range(len(str)):\n",
    "    if(str[i]=='l'):\n",
    "        counter += 1"
   ]
  },
  {
   "cell_type": "code",
   "execution_count": 45,
   "id": "fe09f83a",
   "metadata": {},
   "outputs": [
    {
     "data": {
      "text/plain": [
       "7"
      ]
     },
     "execution_count": 45,
     "metadata": {},
     "output_type": "execute_result"
    }
   ],
   "source": [
    "counter"
   ]
  },
  {
   "cell_type": "code",
   "execution_count": null,
   "id": "9bb1871a",
   "metadata": {},
   "outputs": [],
   "source": []
  }
 ],
 "metadata": {
  "kernelspec": {
   "display_name": "Python 3 (ipykernel)",
   "language": "python",
   "name": "python3"
  },
  "language_info": {
   "codemirror_mode": {
    "name": "ipython",
    "version": 3
   },
   "file_extension": ".py",
   "mimetype": "text/x-python",
   "name": "python",
   "nbconvert_exporter": "python",
   "pygments_lexer": "ipython3",
   "version": "3.9.7"
  }
 },
 "nbformat": 4,
 "nbformat_minor": 5
}
