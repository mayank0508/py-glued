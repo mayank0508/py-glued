{
 "cells": [
  {
   "cell_type": "code",
   "execution_count": 2,
   "id": "f5299915",
   "metadata": {},
   "outputs": [],
   "source": [
    "#Itterating on the strings"
   ]
  },
  {
   "cell_type": "markdown",
   "id": "7a4dd4ff",
   "metadata": {},
   "source": [
    "### How to itterate on string"
   ]
  },
  {
   "cell_type": "code",
   "execution_count": 7,
   "id": "5b66b8cb",
   "metadata": {},
   "outputs": [],
   "source": [
    "str = \"Hello World, this is mayank kumar here, and i just wanna tell you all to fook off !\""
   ]
  },
  {
   "cell_type": "code",
   "execution_count": 15,
   "id": "8581a567",
   "metadata": {},
   "outputs": [
    {
     "data": {
      "text/plain": [
       "'Hello World, this is mayank kumar here, and i just wanna tell you all to fook off !'"
      ]
     },
     "execution_count": 15,
     "metadata": {},
     "output_type": "execute_result"
    }
   ],
   "source": [
    "str"
   ]
  },
  {
   "cell_type": "code",
   "execution_count": 39,
   "id": "1b017416",
   "metadata": {},
   "outputs": [],
   "source": [
    "count = 0\n",
    "for letter in str:\n",
    "    if letter =='a':\n",
    "        count += 1"
   ]
  },
  {
   "cell_type": "code",
   "execution_count": 40,
   "id": "84651ddb",
   "metadata": {},
   "outputs": [
    {
     "data": {
      "text/plain": [
       "7"
      ]
     },
     "execution_count": 40,
     "metadata": {},
     "output_type": "execute_result"
    }
   ],
   "source": [
    "count"
   ]
  },
  {
   "cell_type": "code",
   "execution_count": null,
   "id": "90b3651e",
   "metadata": {},
   "outputs": [],
   "source": []
  }
 ],
 "metadata": {
  "kernelspec": {
   "display_name": "Python 3 (ipykernel)",
   "language": "python",
   "name": "python3"
  },
  "language_info": {
   "codemirror_mode": {
    "name": "ipython",
    "version": 3
   },
   "file_extension": ".py",
   "mimetype": "text/x-python",
   "name": "python",
   "nbconvert_exporter": "python",
   "pygments_lexer": "ipython3",
   "version": "3.9.7"
  }
 },
 "nbformat": 4,
 "nbformat_minor": 5
}
