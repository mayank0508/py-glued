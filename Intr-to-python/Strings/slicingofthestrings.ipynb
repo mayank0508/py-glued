{
 "cells": [
  {
   "cell_type": "code",
   "execution_count": 2,
   "id": "d8d459e8",
   "metadata": {},
   "outputs": [],
   "source": [
    "a = \"mayank\""
   ]
  },
  {
   "cell_type": "code",
   "execution_count": 2,
   "id": "bcf6815b",
   "metadata": {},
   "outputs": [
    {
     "data": {
      "text/plain": [
       "'aya'"
      ]
     },
     "execution_count": 2,
     "metadata": {},
     "output_type": "execute_result"
    }
   ],
   "source": [
    "a[1:4:1]"
   ]
  },
  {
   "cell_type": "code",
   "execution_count": 3,
   "id": "b6e4f12e",
   "metadata": {},
   "outputs": [
    {
     "data": {
      "text/plain": [
       "'aya'"
      ]
     },
     "execution_count": 3,
     "metadata": {},
     "output_type": "execute_result"
    }
   ],
   "source": [
    "a[1:4]"
   ]
  },
  {
   "cell_type": "code",
   "execution_count": 4,
   "id": "4bdc41d7",
   "metadata": {},
   "outputs": [
    {
     "data": {
      "text/plain": [
       "'ayank'"
      ]
     },
     "execution_count": 4,
     "metadata": {},
     "output_type": "execute_result"
    }
   ],
   "source": [
    "a[1::1] # since here in end is not given it will go till the end"
   ]
  },
  {
   "cell_type": "code",
   "execution_count": 5,
   "id": "604f822c",
   "metadata": {},
   "outputs": [
    {
     "data": {
      "text/plain": [
       "'knayam'"
      ]
     },
     "execution_count": 5,
     "metadata": {},
     "output_type": "execute_result"
    }
   ],
   "source": [
    "a[::-1] # this one started from the bottom"
   ]
  },
  {
   "cell_type": "code",
   "execution_count": 8,
   "id": "5c6dd005",
   "metadata": {},
   "outputs": [
    {
     "data": {
      "text/plain": [
       "'kna'"
      ]
     },
     "execution_count": 8,
     "metadata": {},
     "output_type": "execute_result"
    }
   ],
   "source": [
    "a[:2:-1] # for it to start from last index, the start has to be undefined"
   ]
  },
  {
   "cell_type": "code",
   "execution_count": 13,
   "id": "904cba84",
   "metadata": {},
   "outputs": [
    {
     "data": {
      "text/plain": [
       "'knaya'"
      ]
     },
     "execution_count": 13,
     "metadata": {},
     "output_type": "execute_result"
    }
   ],
   "source": [
    "a[:0:-1] # here since it is from behind then we are following index form behind"
   ]
  },
  {
   "cell_type": "code",
   "execution_count": 14,
   "id": "335da58a",
   "metadata": {},
   "outputs": [
    {
     "data": {
      "text/plain": [
       "'nayam'"
      ]
     },
     "execution_count": 14,
     "metadata": {},
     "output_type": "execute_result"
    }
   ],
   "source": [
    "a[4::-1]"
   ]
  },
  {
   "cell_type": "code",
   "execution_count": 3,
   "id": "72ba90ad",
   "metadata": {},
   "outputs": [
    {
     "data": {
      "text/plain": [
       "'ay'"
      ]
     },
     "execution_count": 3,
     "metadata": {},
     "output_type": "execute_result"
    }
   ],
   "source": [
    "a[-5:-3] # here we are starting from 5th last and going till 3rd last"
   ]
  },
  {
   "cell_type": "code",
   "execution_count": 5,
   "id": "1c96a371",
   "metadata": {},
   "outputs": [
    {
     "data": {
      "text/plain": [
       "'may'"
      ]
     },
     "execution_count": 5,
     "metadata": {},
     "output_type": "execute_result"
    }
   ],
   "source": [
    "a[:3] # here this is happning because the start is by default 0"
   ]
  },
  {
   "cell_type": "code",
   "execution_count": 6,
   "id": "ca235527",
   "metadata": {},
   "outputs": [
    {
     "data": {
      "text/plain": [
       "'may'"
      ]
     },
     "execution_count": 6,
     "metadata": {},
     "output_type": "execute_result"
    }
   ],
   "source": [
    "a[0:3] # here you can see that there is no diff b/w the above line and this line"
   ]
  },
  {
   "cell_type": "code",
   "execution_count": 7,
   "id": "34608627",
   "metadata": {},
   "outputs": [
    {
     "data": {
      "text/plain": [
       "'ay'"
      ]
     },
     "execution_count": 7,
     "metadata": {},
     "output_type": "execute_result"
    }
   ],
   "source": [
    "a[1:3]"
   ]
  },
  {
   "cell_type": "code",
   "execution_count": null,
   "id": "f877b597",
   "metadata": {},
   "outputs": [],
   "source": [
    "a"
   ]
  }
 ],
 "metadata": {
  "kernelspec": {
   "display_name": "Python 3 (ipykernel)",
   "language": "python",
   "name": "python3"
  },
  "language_info": {
   "codemirror_mode": {
    "name": "ipython",
    "version": 3
   },
   "file_extension": ".py",
   "mimetype": "text/x-python",
   "name": "python",
   "nbconvert_exporter": "python",
   "pygments_lexer": "ipython3",
   "version": "3.9.7"
  }
 },
 "nbformat": 4,
 "nbformat_minor": 5
}
