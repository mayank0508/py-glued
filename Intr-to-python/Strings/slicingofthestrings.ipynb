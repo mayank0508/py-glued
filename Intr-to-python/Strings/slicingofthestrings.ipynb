{
 "cells": [
  {
   "cell_type": "code",
   "execution_count": 1,
   "id": "d8d459e8",
   "metadata": {},
   "outputs": [],
   "source": [
    "a = \"mayank\""
   ]
  },
  {
   "cell_type": "code",
   "execution_count": 2,
   "id": "f82f38a7",
   "metadata": {},
   "outputs": [
    {
     "data": {
      "text/plain": [
       "'aya'"
      ]
     },
     "execution_count": 2,
     "metadata": {},
     "output_type": "execute_result"
    }
   ],
   "source": [
    "a[1:4:1]"
   ]
  },
  {
   "cell_type": "code",
   "execution_count": 3,
   "id": "81f0930f",
   "metadata": {},
   "outputs": [
    {
     "data": {
      "text/plain": [
       "'aya'"
      ]
     },
     "execution_count": 3,
     "metadata": {},
     "output_type": "execute_result"
    }
   ],
   "source": [
    "a[1:4]"
   ]
  },
  {
   "cell_type": "code",
   "execution_count": 4,
   "id": "83da2a0a",
   "metadata": {},
   "outputs": [
    {
     "data": {
      "text/plain": [
       "'ayank'"
      ]
     },
     "execution_count": 4,
     "metadata": {},
     "output_type": "execute_result"
    }
   ],
   "source": [
    "a[1::1] # since here in end is not given it will go till the end"
   ]
  },
  {
   "cell_type": "code",
   "execution_count": 5,
   "id": "670a2248",
   "metadata": {},
   "outputs": [
    {
     "data": {
      "text/plain": [
       "'knayam'"
      ]
     },
     "execution_count": 5,
     "metadata": {},
     "output_type": "execute_result"
    }
   ],
   "source": [
    "a[::-1] # this one started from the bottom"
   ]
  },
  {
   "cell_type": "code",
   "execution_count": 7,
   "id": "d934c55c",
   "metadata": {},
   "outputs": [
    {
     "data": {
      "text/plain": [
       "'kna'"
      ]
     },
     "execution_count": 7,
     "metadata": {},
     "output_type": "execute_result"
    }
   ],
   "source": [
    "a[:2:-1] # for it to start from las"
   ]
  },
  {
   "cell_type": "code",
   "execution_count": null,
   "id": "548d5683",
   "metadata": {},
   "outputs": [],
   "source": []
  }
 ],
 "metadata": {
  "kernelspec": {
   "display_name": "Python 3 (ipykernel)",
   "language": "python",
   "name": "python3"
  },
  "language_info": {
   "codemirror_mode": {
    "name": "ipython",
    "version": 3
   },
   "file_extension": ".py",
   "mimetype": "text/x-python",
   "name": "python",
   "nbconvert_exporter": "python",
   "pygments_lexer": "ipython3",
   "version": "3.9.7"
  }
 },
 "nbformat": 4,
 "nbformat_minor": 5
}
