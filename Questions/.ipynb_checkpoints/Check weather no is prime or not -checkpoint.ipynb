{
 "cells": [
  {
   "cell_type": "markdown",
   "id": "137ec5c2",
   "metadata": {},
   "source": [
    "## Question"
   ]
  },
  {
   "cell_type": "code",
   "execution_count": null,
   "id": "ddf98594",
   "metadata": {},
   "outputs": [],
   "source": [
    "n = int(input())\n",
    "d = 2 # cause in the case of prime 1 does not matter that much\n",
    "flag = False\n",
    "while(d < n):\n",
    "    if(n%d == 0):\n",
    "        Flag = True\n",
    "    d = d+1\n",
    "\n",
    "if(flag == True):\n",
    "    print(\"Number is not prime\")\n",
    "else:\n",
    "    print(\"Number is prime\")"
   ]
  }
 ],
 "metadata": {
  "kernelspec": {
   "display_name": "Python 3 (ipykernel)",
   "language": "python",
   "name": "python3"
  },
  "language_info": {
   "codemirror_mode": {
    "name": "ipython",
    "version": 3
   },
   "file_extension": ".py",
   "mimetype": "text/x-python",
   "name": "python",
   "nbconvert_exporter": "python",
   "pygments_lexer": "ipython3",
   "version": "3.9.7"
  }
 },
 "nbformat": 4,
 "nbformat_minor": 5
}
