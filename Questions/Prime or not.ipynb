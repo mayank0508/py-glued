{
 "cells": [
  {
   "cell_type": "markdown",
   "id": "b524db4a",
   "metadata": {},
   "source": [
    "# Check wheather a number is prime or not"
   ]
  },
  {
   "cell_type": "code",
   "execution_count": 9,
   "id": "4b25b5d7",
   "metadata": {},
   "outputs": [
    {
     "name": "stdout",
     "output_type": "stream",
     "text": [
      "29\n",
      "Number is prime\n"
     ]
    }
   ],
   "source": [
    "n = int(input())\n",
    "d = 2 # cause in the case of prime 1 does not matter that much\n",
    "flag = False\n",
    "while(d < n):\n",
    "    if(n%d == 0):\n",
    "        flag = True\n",
    "    d = d+1\n",
    "\n",
    "if(flag == True):\n",
    "    print(\"Number is not prime\")\n",
    "else:\n",
    "    print(\"Number is prime\")"
   ]
  }
 ],
 "metadata": {
  "kernelspec": {
   "display_name": "Python 3 (ipykernel)",
   "language": "python",
   "name": "python3"
  },
  "language_info": {
   "codemirror_mode": {
    "name": "ipython",
    "version": 3
   },
   "file_extension": ".py",
   "mimetype": "text/x-python",
   "name": "python",
   "nbconvert_exporter": "python",
   "pygments_lexer": "ipython3",
   "version": "3.9.7"
  }
 },
 "nbformat": 4,
 "nbformat_minor": 5
}
