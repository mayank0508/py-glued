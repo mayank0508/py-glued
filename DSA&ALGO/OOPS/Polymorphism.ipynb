{
 "cells": [
  {
   "cell_type": "code",
   "execution_count": 157,
   "id": "aeae6aee",
   "metadata": {},
   "outputs": [],
   "source": [
    "# Parent class\n",
    "class Vechile():\n",
    "    \n",
    "    current_year = 2021\n",
    "    base_price = 100000\n",
    "    \n",
    "    def __init__(self, make, model, fuel):\n",
    "        \n",
    "        #public\n",
    "        self.make = make\n",
    "        \n",
    "        #private\n",
    "        self.model = model\n",
    "        self.fuel = fuel\n",
    "        \n",
    "    def __private_bitch(self):\n",
    "        print(\"Ayo STFU and keep doing your own bussiness 😡\")\n",
    "        \n",
    "    def getValue(self):\n",
    "        age = Vechile.current_year - self.model\n",
    "        print(\"this is default values\")\n",
    "        return Vechile.base_price*(1/age)\n",
    "        "
   ]
  },
  {
   "cell_type": "code",
   "execution_count": 158,
   "id": "805f35b2",
   "metadata": {},
   "outputs": [],
   "source": [
    "# Child class\n",
    "class Car(Vechile): # this is where we pass the parent class insdie the ()\n",
    "    def __init__(self, make, model, fuel, ac, sunproof):\n",
    "\n",
    "        # SUPER FUNCTIONNNNEEEAAA\n",
    "        \n",
    "        super(Car, self).__init__(make,model,fuel)\n",
    "        \n",
    "        # own attr\n",
    "        self.ac = ac\n",
    "        self.sunproof = sunproof\n",
    "        \n",
    "    #This is the Overriding method - replaces the default method\n",
    "    def getValue(self):\n",
    "        Vechile.base_price = 400000\n",
    "        age = Vechile.current_year - self.model\n",
    "        print(\"this is Overridding values\")\n",
    "        return Vechile.base_price*(1/age)"
   ]
  },
  {
   "cell_type": "code",
   "execution_count": 159,
   "id": "0f31601f",
   "metadata": {},
   "outputs": [],
   "source": [
    "Myobj = Car(\"Telsa\", 2019, \"Petrol\", True, True)"
   ]
  },
  {
   "cell_type": "code",
   "execution_count": 160,
   "id": "62e909ff",
   "metadata": {},
   "outputs": [
    {
     "data": {
      "text/plain": [
       "{'make': 'Telsa',\n",
       " 'model': 2019,\n",
       " 'fuel': 'Petrol',\n",
       " 'ac': True,\n",
       " 'sunproof': True}"
      ]
     },
     "execution_count": 160,
     "metadata": {},
     "output_type": "execute_result"
    }
   ],
   "source": [
    "Myobj.__dict__"
   ]
  },
  {
   "cell_type": "code",
   "execution_count": 161,
   "id": "e46a2923",
   "metadata": {},
   "outputs": [
    {
     "name": "stdout",
     "output_type": "stream",
     "text": [
      "this is Overridding values\n"
     ]
    },
    {
     "data": {
      "text/plain": [
       "200000.0"
      ]
     },
     "execution_count": 161,
     "metadata": {},
     "output_type": "execute_result"
    }
   ],
   "source": [
    "Myobj.getValue() # here we can see that we are using the child obj"
   ]
  },
  {
   "cell_type": "code",
   "execution_count": 162,
   "id": "2b1cca75",
   "metadata": {},
   "outputs": [],
   "source": [
    "Myobj2 = Vechile(\"Ford\", 2000, \"Diseal\")"
   ]
  },
  {
   "cell_type": "code",
   "execution_count": 164,
   "id": "d5314865",
   "metadata": {},
   "outputs": [
    {
     "name": "stdout",
     "output_type": "stream",
     "text": [
      "this is default values\n"
     ]
    },
    {
     "data": {
      "text/plain": [
       "19047.619047619046"
      ]
     },
     "execution_count": 164,
     "metadata": {},
     "output_type": "execute_result"
    }
   ],
   "source": [
    "Myobj2.getValue() # and here we can see that this is the default class"
   ]
  },
  {
   "cell_type": "code",
   "execution_count": null,
   "id": "90e81dbb",
   "metadata": {},
   "outputs": [],
   "source": []
  },
  {
   "cell_type": "code",
   "execution_count": null,
   "id": "974d4b74",
   "metadata": {},
   "outputs": [],
   "source": []
  },
  {
   "cell_type": "code",
   "execution_count": null,
   "id": "85cb848a",
   "metadata": {},
   "outputs": [],
   "source": []
  },
  {
   "cell_type": "code",
   "execution_count": null,
   "id": "b0f6922f",
   "metadata": {},
   "outputs": [],
   "source": []
  },
  {
   "cell_type": "code",
   "execution_count": null,
   "id": "710f1fae",
   "metadata": {},
   "outputs": [],
   "source": []
  },
  {
   "cell_type": "code",
   "execution_count": null,
   "id": "c5120ce9",
   "metadata": {},
   "outputs": [],
   "source": []
  },
  {
   "cell_type": "code",
   "execution_count": null,
   "id": "d18cca5e",
   "metadata": {},
   "outputs": [],
   "source": []
  },
  {
   "cell_type": "code",
   "execution_count": null,
   "id": "40d06399",
   "metadata": {},
   "outputs": [],
   "source": []
  },
  {
   "cell_type": "code",
   "execution_count": null,
   "id": "9932b79b",
   "metadata": {},
   "outputs": [],
   "source": []
  },
  {
   "cell_type": "code",
   "execution_count": null,
   "id": "b511c01c",
   "metadata": {},
   "outputs": [],
   "source": []
  }
 ],
 "metadata": {
  "kernelspec": {
   "display_name": "Python 3 (ipykernel)",
   "language": "python",
   "name": "python3"
  },
  "language_info": {
   "codemirror_mode": {
    "name": "ipython",
    "version": 3
   },
   "file_extension": ".py",
   "mimetype": "text/x-python",
   "name": "python",
   "nbconvert_exporter": "python",
   "pygments_lexer": "ipython3",
   "version": "3.9.7"
  }
 },
 "nbformat": 4,
 "nbformat_minor": 5
}
