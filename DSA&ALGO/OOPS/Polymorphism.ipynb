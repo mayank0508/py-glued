{
 "cells": [
  {
   "cell_type": "code",
   "execution_count": 148,
   "id": "8dd258ac",
   "metadata": {},
   "outputs": [],
   "source": [
    "# Parent class\n",
    "class Vechile():\n",
    "    \n",
    "    current_year = 2021\n",
    "    base_price = 100000\n",
    "    \n",
    "    def __init__(self, make, model, fuel):\n",
    "        \n",
    "        #public\n",
    "        self.make = make\n",
    "        \n",
    "        #private\n",
    "        self.model = model\n",
    "        self.fuel = fuel\n",
    "        \n",
    "    def __private_bitch(self):\n",
    "        print(\"Ayo STFU and keep doing your own bussiness 😡\")\n",
    "        \n",
    "    def getVaue(self):\n",
    "        age = Vechile.current_year - self.model\n",
    "        print(\"this is default values\")\n",
    "        return Vechile.base_price*(1/age)\n",
    "        "
   ]
  },
  {
   "cell_type": "code",
   "execution_count": 153,
   "id": "076d896f",
   "metadata": {},
   "outputs": [],
   "source": [
    "# Child class\n",
    "class Car(Vechile): # this is where we pass the parent class insdie the ()\n",
    "    def __init__(self, make, model, fuel, ac, sunproof):\n",
    "\n",
    "        # SUPER FUNCTIONNNNEEEAAA\n",
    "        \n",
    "        super(Car, self).__init__(make,model,fuel)\n",
    "        \n",
    "        # own attr\n",
    "        self.ac = ac\n",
    "        self.sunproof = sunproof\n",
    "        \n",
    "    #This is the Overriding method - replaces the default method\n",
    "    def getValue(self):\n",
    "        Vechile.base_price = 400000\n",
    "        age = Vechile.current_year - self.model\n",
    "        print(\"this is Overridding values\")\n",
    "        return Vechile.base_price*(1/age)"
   ]
  },
  {
   "cell_type": "code",
   "execution_count": 154,
   "id": "d31d49d6",
   "metadata": {},
   "outputs": [],
   "source": [
    "Myobj = Car(\"Telsa\", 2019, \"Petrol\", True, True)"
   ]
  },
  {
   "cell_type": "code",
   "execution_count": 155,
   "id": "1990d5a8",
   "metadata": {},
   "outputs": [
    {
     "data": {
      "text/plain": [
       "{'make': 'Telsa',\n",
       " 'model': 2019,\n",
       " 'fuel': 'Petrol',\n",
       " 'ac': True,\n",
       " 'sunproof': True}"
      ]
     },
     "execution_count": 155,
     "metadata": {},
     "output_type": "execute_result"
    }
   ],
   "source": [
    "Myobj.__dict__"
   ]
  },
  {
   "cell_type": "code",
   "execution_count": 156,
   "id": "b710ef66",
   "metadata": {},
   "outputs": [
    {
     "name": "stdout",
     "output_type": "stream",
     "text": [
      "this is Overridding values\n"
     ]
    },
    {
     "data": {
      "text/plain": [
       "200000.0"
      ]
     },
     "execution_count": 156,
     "metadata": {},
     "output_type": "execute_result"
    }
   ],
   "source": [
    "Myobj.getValue()"
   ]
  },
  {
   "cell_type": "code",
   "execution_count": 146,
   "id": "919023d7",
   "metadata": {},
   "outputs": [],
   "source": [
    "Myobj2 = Vechile(\"Ford\", 2000, \"Diseal\")"
   ]
  },
  {
   "cell_type": "code",
   "execution_count": 147,
   "id": "746a2f31",
   "metadata": {},
   "outputs": [
    {
     "name": "stdout",
     "output_type": "stream",
     "text": [
      "this is default values\n"
     ]
    },
    {
     "data": {
      "text/plain": [
       "4761.9047619047615"
      ]
     },
     "execution_count": 147,
     "metadata": {},
     "output_type": "execute_result"
    }
   ],
   "source": [
    "Myobj2.getValue()"
   ]
  },
  {
   "cell_type": "code",
   "execution_count": null,
   "id": "130a9bba",
   "metadata": {},
   "outputs": [],
   "source": []
  },
  {
   "cell_type": "code",
   "execution_count": null,
   "id": "ed05489d",
   "metadata": {},
   "outputs": [],
   "source": []
  },
  {
   "cell_type": "code",
   "execution_count": null,
   "id": "c563c6f9",
   "metadata": {},
   "outputs": [],
   "source": []
  },
  {
   "cell_type": "code",
   "execution_count": null,
   "id": "c0ff097e",
   "metadata": {},
   "outputs": [],
   "source": []
  },
  {
   "cell_type": "code",
   "execution_count": null,
   "id": "1943e67e",
   "metadata": {},
   "outputs": [],
   "source": []
  },
  {
   "cell_type": "code",
   "execution_count": null,
   "id": "86a96a9d",
   "metadata": {},
   "outputs": [],
   "source": []
  },
  {
   "cell_type": "code",
   "execution_count": null,
   "id": "0e31e2aa",
   "metadata": {},
   "outputs": [],
   "source": []
  },
  {
   "cell_type": "code",
   "execution_count": null,
   "id": "3f179ae2",
   "metadata": {},
   "outputs": [],
   "source": []
  },
  {
   "cell_type": "code",
   "execution_count": null,
   "id": "e6430e08",
   "metadata": {},
   "outputs": [],
   "source": []
  },
  {
   "cell_type": "code",
   "execution_count": null,
   "id": "bb76615d",
   "metadata": {},
   "outputs": [],
   "source": []
  }
 ],
 "metadata": {
  "kernelspec": {
   "display_name": "Python 3 (ipykernel)",
   "language": "python",
   "name": "python3"
  },
  "language_info": {
   "codemirror_mode": {
    "name": "ipython",
    "version": 3
   },
   "file_extension": ".py",
   "mimetype": "text/x-python",
   "name": "python",
   "nbconvert_exporter": "python",
   "pygments_lexer": "ipython3",
   "version": "3.9.7"
  }
 },
 "nbformat": 4,
 "nbformat_minor": 5
}
