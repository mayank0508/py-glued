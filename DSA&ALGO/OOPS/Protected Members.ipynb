{
 "cells": [
  {
   "cell_type": "code",
   "execution_count": 1,
   "id": "0b6b90c7",
   "metadata": {},
   "outputs": [],
   "source": [
    "## Protected Member 🔒"
   ]
  },
  {
   "cell_type": "code",
   "execution_count": 2,
   "id": "80d7ce88",
   "metadata": {},
   "outputs": [],
   "source": [
    "# we just need to use _ to make a attr a protected attr"
   ]
  },
  {
   "cell_type": "code",
   "execution_count": 34,
   "id": "a80c75e7",
   "metadata": {},
   "outputs": [],
   "source": [
    "# Parent class\n",
    "class Vechile():\n",
    "    \n",
    "    current_year = 2021\n",
    "    base_price = 100000\n",
    "    \n",
    "    def __init__(self, make, model, fuel):\n",
    "        \n",
    "        #public\n",
    "        self.make = make\n",
    "        \n",
    "        #protected\n",
    "        self._model = model\n",
    "        self._fuel = fuel\n",
    "        \n",
    "    def __private_bitch(self):\n",
    "        print(\"Ayo STFU and keep doing your own bussiness 😡\")\n",
    "        \n",
    "    def getValue(self):\n",
    "        age = Vechile.current_year - self._model\n",
    "        print(\"this is default values\")\n",
    "        return Vechile.base_price*(1/age)\n",
    "        "
   ]
  },
  {
   "cell_type": "code",
   "execution_count": 35,
   "id": "4708fbc3",
   "metadata": {},
   "outputs": [],
   "source": [
    "# Child class\n",
    "class Car(Vechile): # this is where we pass the parent class insdie the ()\n",
    "    def __init__(self, make, model, fuel, ac, sunproof):\n",
    "\n",
    "        # SUPER FUNCTIONNNNEEEAAA\n",
    "        \n",
    "        super(Car, self).__init__(make,model,fuel)\n",
    "        \n",
    "        # own attr which are protected\n",
    "        self._ac = ac\n",
    "        self._sunproof = sunproof\n",
    "        \n",
    "    #This is the Overriding method - replaces the default method\n",
    "    def _getValue(self):\n",
    "        Vechile.base_price = 400000\n",
    "        age = Vechile.current_year - self._model\n",
    "        print(\"this is Overridding values\")\n",
    "        return Vechile.base_price*(1/age)"
   ]
  },
  {
   "cell_type": "code",
   "execution_count": 36,
   "id": "9d103d94",
   "metadata": {},
   "outputs": [],
   "source": [
    "Myobj = Car(\"Tesla\", 2010, \"electric\", True, True)"
   ]
  },
  {
   "cell_type": "code",
   "execution_count": 37,
   "id": "d0d6b659",
   "metadata": {},
   "outputs": [
    {
     "data": {
      "text/plain": [
       "True"
      ]
     },
     "execution_count": 37,
     "metadata": {},
     "output_type": "execute_result"
    }
   ],
   "source": [
    "Myobj._ac # here we can access the _ac attr "
   ]
  },
  {
   "cell_type": "code",
   "execution_count": 38,
   "id": "9e8021e7",
   "metadata": {},
   "outputs": [
    {
     "name": "stdout",
     "output_type": "stream",
     "text": [
      "this is Overridding values\n"
     ]
    },
    {
     "data": {
      "text/plain": [
       "36363.63636363637"
      ]
     },
     "execution_count": 38,
     "metadata": {},
     "output_type": "execute_result"
    }
   ],
   "source": [
    "Myobj._getValue()"
   ]
  },
  {
   "cell_type": "markdown",
   "id": "6e4e72c2",
   "metadata": {},
   "source": [
    "# Pyhton 🐍 Philosofpy on why they made such week private and protected methods"
   ]
  },
  {
   "cell_type": "markdown",
   "id": "cda8b34d",
   "metadata": {},
   "source": [
    "#### \"the philosophy is that you should stay out of the living room because you weren't invited,  not because it is defended with a shotgun.\""
   ]
  },
  {
   "cell_type": "code",
   "execution_count": null,
   "id": "abb3a047",
   "metadata": {},
   "outputs": [],
   "source": []
  }
 ],
 "metadata": {
  "kernelspec": {
   "display_name": "Python 3 (ipykernel)",
   "language": "python",
   "name": "python3"
  },
  "language_info": {
   "codemirror_mode": {
    "name": "ipython",
    "version": 3
   },
   "file_extension": ".py",
   "mimetype": "text/x-python",
   "name": "python",
   "nbconvert_exporter": "python",
   "pygments_lexer": "ipython3",
   "version": "3.9.7"
  }
 },
 "nbformat": 4,
 "nbformat_minor": 5
}
