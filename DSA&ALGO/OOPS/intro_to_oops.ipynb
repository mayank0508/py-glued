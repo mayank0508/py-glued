{
 "cells": [
  {
   "cell_type": "markdown",
   "id": "d0efe214",
   "metadata": {},
   "source": [
    "## class is like a blueprint of a objective of your application"
   ]
  },
  {
   "cell_type": "markdown",
   "id": "c822b9ed",
   "metadata": {},
   "source": [
    "### python has a very easy way to get started with classes"
   ]
  },
  {
   "cell_type": "code",
   "execution_count": 4,
   "id": "788cfc25",
   "metadata": {},
   "outputs": [],
   "source": [
    "class ExpenseeTracker:\n",
    "    \"\"\" this is a class to do expense tracking\"\"\"\n",
    "    def __init__(self): # this is where we give the values to the attribute of the certain class\n",
    "        pass"
   ]
  },
  {
   "cell_type": "code",
   "execution_count": 5,
   "id": "0a9a764a",
   "metadata": {},
   "outputs": [],
   "source": [
    "obj1 = ExpenseeTracker() # this is how you call a class"
   ]
  },
  {
   "cell_type": "code",
   "execution_count": null,
   "id": "a6077769",
   "metadata": {},
   "outputs": [],
   "source": []
  }
 ],
 "metadata": {
  "kernelspec": {
   "display_name": "Python 3 (ipykernel)",
   "language": "python",
   "name": "python3"
  },
  "language_info": {
   "codemirror_mode": {
    "name": "ipython",
    "version": 3
   },
   "file_extension": ".py",
   "mimetype": "text/x-python",
   "name": "python",
   "nbconvert_exporter": "python",
   "pygments_lexer": "ipython3",
   "version": "3.9.7"
  }
 },
 "nbformat": 4,
 "nbformat_minor": 5
}
