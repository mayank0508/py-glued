{
 "cells": [
  {
   "cell_type": "markdown",
   "id": "48c84301",
   "metadata": {},
   "source": [
    "## class is like a blueprint of a objective of your application"
   ]
  },
  {
   "cell_type": "markdown",
   "id": "fb9633e2",
   "metadata": {},
   "source": [
    "### python has a very easy way to get started with classes"
   ]
  },
  {
   "cell_type": "code",
   "execution_count": 4,
   "id": "fb996daa",
   "metadata": {},
   "outputs": [],
   "source": [
    "class ExpenseeTracker:\n",
    "    \"\"\" this is a class to do expense tracking\"\"\"\n",
    "    def __init__(self): # this is where we give the values to the attribute of the certain class\n",
    "        pass"
   ]
  },
  {
   "cell_type": "code",
   "execution_count": 5,
   "id": "0a985eaa",
   "metadata": {},
   "outputs": [],
   "source": [
    "obj1 = ExpenseeTracker() # this is how you call a class"
   ]
  },
  {
   "cell_type": "code",
   "execution_count": 6,
   "id": "43a5ed53",
   "metadata": {},
   "outputs": [],
   "source": [
    "class ExpenseeTracker:\n",
    "    \"\"\" this is a class to do expense tracking\"\"\"\n",
    "    def __init__(self, date, descrpition, transaction_type, amount): # this is where we give the values to the attribute of the certain class\n",
    "        self.date = date\n",
    "        self.descrpition = descrpition\n",
    "        self.transaction_type = transaction_type\n",
    "        self.amount = amount"
   ]
  },
  {
   "cell_type": "code",
   "execution_count": 10,
   "id": "9054899a",
   "metadata": {},
   "outputs": [],
   "source": [
    "obj2 = ExpenseeTracker(\"12jan\", \"dinner with hoes\", \"debit\", \"10\")"
   ]
  },
  {
   "cell_type": "code",
   "execution_count": 11,
   "id": "2bc0c030",
   "metadata": {},
   "outputs": [
    {
     "data": {
      "text/plain": [
       "'12jan'"
      ]
     },
     "execution_count": 11,
     "metadata": {},
     "output_type": "execute_result"
    }
   ],
   "source": [
    "obj2.date # you can acces the data using this method"
   ]
  },
  {
   "cell_type": "code",
   "execution_count": 9,
   "id": "3f03b873",
   "metadata": {},
   "outputs": [],
   "source": [
    "obj3 = ExpenseeTracker(\"1 Jan\", \"having fun\", \"credit\", \"100\")"
   ]
  },
  {
   "cell_type": "code",
   "execution_count": 13,
   "id": "735e6e7c",
   "metadata": {},
   "outputs": [
    {
     "data": {
      "text/plain": [
       "'credit'"
      ]
     },
     "execution_count": 13,
     "metadata": {},
     "output_type": "execute_result"
    }
   ],
   "source": [
    "obj3.transaction_type # here you are acces the data using this way "
   ]
  },
  {
   "cell_type": "code",
   "execution_count": null,
   "id": "81405f28",
   "metadata": {},
   "outputs": [],
   "source": []
  }
 ],
 "metadata": {
  "kernelspec": {
   "display_name": "Python 3 (ipykernel)",
   "language": "python",
   "name": "python3"
  },
  "language_info": {
   "codemirror_mode": {
    "name": "ipython",
    "version": 3
   },
   "file_extension": ".py",
   "mimetype": "text/x-python",
   "name": "python",
   "nbconvert_exporter": "python",
   "pygments_lexer": "ipython3",
   "version": "3.9.7"
  }
 },
 "nbformat": 4,
 "nbformat_minor": 5
}
