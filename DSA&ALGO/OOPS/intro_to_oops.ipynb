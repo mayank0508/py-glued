{
 "cells": [
  {
   "cell_type": "markdown",
   "id": "8d8fb36a",
   "metadata": {},
   "source": [
    "## class is like a blueprint of a objective of your application"
   ]
  },
  {
   "cell_type": "markdown",
   "id": "31709dfd",
   "metadata": {},
   "source": [
    "### python has a very easy way to get started with classes"
   ]
  },
  {
   "cell_type": "code",
   "execution_count": 4,
   "id": "ed9ddbf2",
   "metadata": {},
   "outputs": [],
   "source": [
    "class ExpenseeTracker:\n",
    "    \"\"\" this is a class to do expense tracking\"\"\"\n",
    "    def __init__(self): # this is where we give the values to the attribute of the certain class\n",
    "        pass"
   ]
  },
  {
   "cell_type": "code",
   "execution_count": 5,
   "id": "bcf37eb0",
   "metadata": {},
   "outputs": [],
   "source": [
    "obj1 = ExpenseeTracker() # this is how you call a class"
   ]
  },
  {
   "cell_type": "code",
   "execution_count": 6,
   "id": "6db861a8",
   "metadata": {},
   "outputs": [],
   "source": [
    "class ExpenseeTracker:\n",
    "    \"\"\" this is a class to do expense tracking\"\"\"\n",
    "    def __init__(self, date, descrpition, transaction_type, amount): # this is where we give the values to the attribute of the certain class\n",
    "        self.date = date\n",
    "        self.descrpition = descrpition\n",
    "        self.transaction_type = transaction_type\n",
    "        self.amount = amount"
   ]
  },
  {
   "cell_type": "code",
   "execution_count": 10,
   "id": "8aa4dc78",
   "metadata": {},
   "outputs": [],
   "source": [
    "obj2 = ExpenseeTracker(\"12jan\", \"dinner with hoes\", \"debit\", \"10\")"
   ]
  },
  {
   "cell_type": "code",
   "execution_count": 11,
   "id": "9ee31fa7",
   "metadata": {},
   "outputs": [
    {
     "data": {
      "text/plain": [
       "'12jan'"
      ]
     },
     "execution_count": 11,
     "metadata": {},
     "output_type": "execute_result"
    }
   ],
   "source": [
    "obj2.date # you can acces the data using this method"
   ]
  },
  {
   "cell_type": "code",
   "execution_count": 9,
   "id": "83b2fa13",
   "metadata": {},
   "outputs": [],
   "source": [
    "obj3 = ExpenseeTracker(\"1 Jan\", \"having fun\", \"credit\", \"100\")"
   ]
  },
  {
   "cell_type": "code",
   "execution_count": 13,
   "id": "fbaa5724",
   "metadata": {},
   "outputs": [
    {
     "data": {
      "text/plain": [
       "'credit'"
      ]
     },
     "execution_count": 13,
     "metadata": {},
     "output_type": "execute_result"
    }
   ],
   "source": [
    "obj3.transaction_type # here you are acces the data using this way "
   ]
  },
  {
   "cell_type": "markdown",
   "id": "9f896522",
   "metadata": {},
   "source": [
    "### here date, amount, description etc are attributes\n",
    "### Attributes are vars but for classes"
   ]
  },
  {
   "cell_type": "code",
   "execution_count": null,
   "id": "567b0a07",
   "metadata": {},
   "outputs": [],
   "source": []
  }
 ],
 "metadata": {
  "kernelspec": {
   "display_name": "Python 3 (ipykernel)",
   "language": "python",
   "name": "python3"
  },
  "language_info": {
   "codemirror_mode": {
    "name": "ipython",
    "version": 3
   },
   "file_extension": ".py",
   "mimetype": "text/x-python",
   "name": "python",
   "nbconvert_exporter": "python",
   "pygments_lexer": "ipython3",
   "version": "3.9.7"
  }
 },
 "nbformat": 4,
 "nbformat_minor": 5
}
