{
 "cells": [
  {
   "cell_type": "code",
   "execution_count": 8,
   "id": "64c2c2bf",
   "metadata": {},
   "outputs": [],
   "source": [
    "class Car():\n",
    "    def __init__(self, make, model,fuel):\n",
    "        self.make = make\n",
    "        self.fuel = fuel\n",
    "        self.model = model\n",
    "        \n",
    "    def get_car_type(self):\n",
    "        return \" this car is from the\", self.model, \" company and was made in\", self.make, \" from Car class\"\n",
    "\n",
    "class ElectricCar():\n",
    "    def __init__(self, make, model,fuel):\n",
    "        self.make = make\n",
    "        self.fuel = fuel\n",
    "        self.model = model\n",
    "        \n",
    "    def get_car_type(self):\n",
    "        return \" this car is from the\", self.model, \" company and was made in\", self.make, \" from Electric Car class\""
   ]
  },
  {
   "cell_type": "code",
   "execution_count": 9,
   "id": "016fbbaa",
   "metadata": {},
   "outputs": [],
   "source": [
    "class Taxi(Car, ElectricCar):\n",
    "    def __init__(self, make, model,fuel):\n",
    "        super().__init__(make,model, fuel)"
   ]
  },
  {
   "cell_type": "code",
   "execution_count": 10,
   "id": "c39c3ab5",
   "metadata": {},
   "outputs": [],
   "source": [
    "Myobj = Taxi(\"Tesla\", 2020, \"Electric\")"
   ]
  },
  {
   "cell_type": "code",
   "execution_count": 13,
   "id": "a123e8ac",
   "metadata": {},
   "outputs": [
    {
     "data": {
      "text/plain": [
       "(' this car is from the',\n",
       " 2020,\n",
       " ' company and was made in',\n",
       " 'Tesla',\n",
       " ' from Car class')"
      ]
     },
     "execution_count": 13,
     "metadata": {},
     "output_type": "execute_result"
    }
   ],
   "source": [
    "Myobj.get_car_type() # we can see that it is access the car class i.e the first class that we gave in the taxi class"
   ]
  },
  {
   "cell_type": "code",
   "execution_count": 16,
   "id": "86c6c081",
   "metadata": {},
   "outputs": [
    {
     "data": {
      "text/plain": [
       "[__main__.Taxi, __main__.Car, __main__.ElectricCar, object]"
      ]
     },
     "execution_count": 16,
     "metadata": {},
     "output_type": "execute_result"
    }
   ],
   "source": [
    "Taxi.mro() # this tells me that my the car is in the first place and electric car in the 2nd order"
   ]
  },
  {
   "cell_type": "code",
   "execution_count": null,
   "id": "d837af69",
   "metadata": {},
   "outputs": [],
   "source": []
  },
  {
   "cell_type": "code",
   "execution_count": null,
   "id": "939c4b3c",
   "metadata": {},
   "outputs": [],
   "source": []
  }
 ],
 "metadata": {
  "kernelspec": {
   "display_name": "Python 3 (ipykernel)",
   "language": "python",
   "name": "python3"
  },
  "language_info": {
   "codemirror_mode": {
    "name": "ipython",
    "version": 3
   },
   "file_extension": ".py",
   "mimetype": "text/x-python",
   "name": "python",
   "nbconvert_exporter": "python",
   "pygments_lexer": "ipython3",
   "version": "3.9.7"
  }
 },
 "nbformat": 4,
 "nbformat_minor": 5
}
