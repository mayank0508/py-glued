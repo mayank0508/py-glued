{
 "cells": [
  {
   "cell_type": "code",
   "execution_count": 1,
   "id": "310b3c98",
   "metadata": {},
   "outputs": [],
   "source": [
    "class Car():\n",
    "    def __init__(self, make, model,fuel):\n",
    "        self.make = make\n",
    "        self.fuel = fuel\n",
    "        self.model = model\n",
    "        \n",
    "    def get_car_type(self):\n",
    "        return \" this car is from the\" self.model \" company and was made in\" self.make \"from Car class\"\n",
    "\n",
    "class ElectricCar():\n",
    "    def __init__(self, make, model,fuel):\n",
    "        self.make = make\n",
    "        self.fuel = fuel\n",
    "        self.model = model\n",
    "        \n",
    "    def get_car_type(self):\n",
    "        return \" this car is from the\" self.model \" company and was made in\" self.make \"from Electric Car class\""
   ]
  },
  {
   "cell_type": "code",
   "execution_count": null,
   "id": "f02725de",
   "metadata": {},
   "outputs": [],
   "source": []
  }
 ],
 "metadata": {
  "kernelspec": {
   "display_name": "Python 3 (ipykernel)",
   "language": "python",
   "name": "python3"
  },
  "language_info": {
   "codemirror_mode": {
    "name": "ipython",
    "version": 3
   },
   "file_extension": ".py",
   "mimetype": "text/x-python",
   "name": "python",
   "nbconvert_exporter": "python",
   "pygments_lexer": "ipython3",
   "version": "3.9.7"
  }
 },
 "nbformat": 4,
 "nbformat_minor": 5
}
