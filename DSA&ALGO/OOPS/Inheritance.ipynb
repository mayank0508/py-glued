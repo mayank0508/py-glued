{
 "cells": [
  {
   "cell_type": "code",
   "execution_count": 53,
   "id": "53ff7c8c",
   "metadata": {},
   "outputs": [],
   "source": [
    "# its a way of making new classes that is taken from a parent class"
   ]
  },
  {
   "cell_type": "code",
   "execution_count": 101,
   "id": "f1b31da8",
   "metadata": {},
   "outputs": [],
   "source": [
    "# Parent class\n",
    "class Vechile():\n",
    "    def __init__(self, make, model, fuel):\n",
    "        self.make = make\n",
    "        self.model = model\n",
    "        self.fuel = fuel"
   ]
  },
  {
   "cell_type": "code",
   "execution_count": 103,
   "id": "ffec6a11",
   "metadata": {},
   "outputs": [],
   "source": [
    "# Child class\n",
    "class Car(Vechile): # this is where we pass the parent class insdie the ()\n",
    "    def __init__(self, make, model, fuel, ac, sunproof):\n",
    "        \n",
    "        # this how you define the parent attr in a child class\n",
    "        \n",
    "        Vechile.make = make\n",
    "        Vechile.model = model\n",
    "        Vechile.fuel = fuel\n",
    "        \n",
    "        # own attr\n",
    "        self.ac = ac\n",
    "        self.sunproof = sunproof\n",
    "        \n",
    "    def show_parent_attr(self):\n",
    "        print(Vechile.make, \" \", Vechile.fuel, \" \",Vechile.model)"
   ]
  },
  {
   "cell_type": "code",
   "execution_count": 104,
   "id": "37cec364",
   "metadata": {},
   "outputs": [],
   "source": [
    "Myobj = Car(\"Telsa\", 2019, \"Petrol\", True, True)"
   ]
  },
  {
   "cell_type": "code",
   "execution_count": 105,
   "id": "8e28064b",
   "metadata": {},
   "outputs": [
    {
     "data": {
      "text/plain": [
       "{'ac': True, 'sunproof': True}"
      ]
     },
     "execution_count": 105,
     "metadata": {},
     "output_type": "execute_result"
    }
   ],
   "source": [
    "Myobj.__dict__ # but here you cans see that the dict is only giving the ac and sunproof"
   ]
  },
  {
   "cell_type": "code",
   "execution_count": 109,
   "id": "8bc04924",
   "metadata": {},
   "outputs": [],
   "source": [
    "# Child class\n",
    "class Car(Vechile): # this is where we pass the parent class insdie the ()\n",
    "    def __init__(self, make, model, fuel, ac, sunproof):\n",
    "        \n",
    "        # this how you define the parent attr in a child class\n",
    "        \n",
    "        Vechile.make = make\n",
    "        Vechile.model = model\n",
    "        Vechile.fuel = fuel\n",
    "        \n",
    "        # own attr\n",
    "        self.ac = ac\n",
    "        self.sunproof = sunproof\n",
    "        \n",
    "    def show_parent_attr(self):\n",
    "        print(Vechile.make, \" \", Vechile.fuel, \" \",Vechile.model)"
   ]
  },
  {
   "cell_type": "code",
   "execution_count": 110,
   "id": "f5963a96",
   "metadata": {},
   "outputs": [
    {
     "name": "stdout",
     "output_type": "stream",
     "text": [
      "Telsa   Petrol   2019\n"
     ]
    }
   ],
   "source": [
    "Myobj.show_parent_attr() # here you can see that you can acces the Parent attr but in a diffrent w"
   ]
  },
  {
   "cell_type": "code",
   "execution_count": null,
   "id": "3ec77da9",
   "metadata": {},
   "outputs": [],
   "source": []
  },
  {
   "cell_type": "code",
   "execution_count": null,
   "id": "312ff4a6",
   "metadata": {},
   "outputs": [],
   "source": []
  },
  {
   "cell_type": "code",
   "execution_count": null,
   "id": "b1514e6f",
   "metadata": {},
   "outputs": [],
   "source": []
  }
 ],
 "metadata": {
  "kernelspec": {
   "display_name": "Python 3 (ipykernel)",
   "language": "python",
   "name": "python3"
  },
  "language_info": {
   "codemirror_mode": {
    "name": "ipython",
    "version": 3
   },
   "file_extension": ".py",
   "mimetype": "text/x-python",
   "name": "python",
   "nbconvert_exporter": "python",
   "pygments_lexer": "ipython3",
   "version": "3.9.7"
  }
 },
 "nbformat": 4,
 "nbformat_minor": 5
}
