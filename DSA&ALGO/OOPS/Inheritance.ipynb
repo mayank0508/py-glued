{
 "cells": [
  {
   "cell_type": "code",
   "execution_count": 53,
   "id": "862a5bc2",
   "metadata": {},
   "outputs": [],
   "source": [
    "# its a way of making new classes that is taken from a parent class"
   ]
  },
  {
   "cell_type": "code",
   "execution_count": 101,
   "id": "b19b14d9",
   "metadata": {},
   "outputs": [],
   "source": [
    "# Parent class\n",
    "class Vechile():\n",
    "    def __init__(self, make, model, fuel):\n",
    "        self.make = make\n",
    "        self.model = model\n",
    "        self.fuel = fuel"
   ]
  },
  {
   "cell_type": "code",
   "execution_count": 116,
   "id": "eda9f644",
   "metadata": {},
   "outputs": [],
   "source": [
    "# Child class\n",
    "class Car(Vechile): # this is where we pass the parent class insdie the ()\n",
    "    def __init__(self, make, model, fuel, ac, sunproof):\n",
    "        \n",
    "        # this how you define the parent attr in a child class\n",
    "        \n",
    "        Vechile.make = make\n",
    "        Vechile.model = model\n",
    "        Vechile.fuel = fuel\n",
    "        \n",
    "        # own attr\n",
    "        self.ac = ac\n",
    "        self.sunproof = sunproof"
   ]
  },
  {
   "cell_type": "code",
   "execution_count": 121,
   "id": "89c63fea",
   "metadata": {},
   "outputs": [],
   "source": [
    "Myobj = Car(\"Telsa\", 2019, \"Petrol\", True, True)"
   ]
  },
  {
   "cell_type": "code",
   "execution_count": 122,
   "id": "7f442290",
   "metadata": {},
   "outputs": [
    {
     "data": {
      "text/plain": [
       "{'ac': True, 'sunproof': True}"
      ]
     },
     "execution_count": 122,
     "metadata": {},
     "output_type": "execute_result"
    }
   ],
   "source": [
    "Myobj.__dict__ # but here you cans see that the dict is only giving the ac and sunproof"
   ]
  },
  {
   "cell_type": "code",
   "execution_count": 126,
   "id": "450c59d8",
   "metadata": {},
   "outputs": [],
   "source": [
    "# Child class\n",
    "class Car(Vechile): # this is where we pass the parent class insdie the ()\n",
    "    def __init__(self, make, model, fuel, ac, sunproof):\n",
    "        \n",
    "        # this how you define the parent attr in a child class\n",
    "        \n",
    "        Vechile.make = make\n",
    "        Vechile.model = model\n",
    "        Vechile.fuel = fuel\n",
    "        \n",
    "        # own attr\n",
    "        self.ac = ac\n",
    "        self.sunproof = sunproof\n",
    "        \n",
    "    def show_parent_attr(self): # we can acces those partent class function using an instance method\n",
    "        print(Vechile.make, \" \", Vechile.fuel, \" \",Vechile.model)"
   ]
  },
  {
   "cell_type": "code",
   "execution_count": 127,
   "id": "b67dd569",
   "metadata": {},
   "outputs": [
    {
     "name": "stdout",
     "output_type": "stream",
     "text": [
      "Telsa   Petrol   2019\n"
     ]
    }
   ],
   "source": [
    "Myobj.show_parent_attr() # here you can see that you can acces the Parent attr but in a diffrent way"
   ]
  },
  {
   "cell_type": "code",
   "execution_count": 128,
   "id": "1125e93a",
   "metadata": {},
   "outputs": [
    {
     "data": {
      "text/plain": [
       "'Telsa'"
      ]
     },
     "execution_count": 128,
     "metadata": {},
     "output_type": "execute_result"
    }
   ],
   "source": [
    "Myobj.make"
   ]
  },
  {
   "cell_type": "code",
   "execution_count": 1,
   "id": "91511d03",
   "metadata": {},
   "outputs": [],
   "source": [
    "## This is how you acces the attr of a partent class form the child class without, print method"
   ]
  },
  {
   "cell_type": "code",
   "execution_count": 12,
   "id": "2ffd0d00",
   "metadata": {},
   "outputs": [],
   "source": [
    "# Parent class\n",
    "class Vechile():\n",
    "    def __init__(self, make, model, fuel):\n",
    "        self.make = make\n",
    "        self.model = model\n",
    "        self.fuel = fuel\n",
    "    def __private_bitch(self):\n",
    "        print(\"Ayo STFU and keep doing your own bussiness 😡\")"
   ]
  },
  {
   "cell_type": "code",
   "execution_count": 17,
   "id": "f94d152d",
   "metadata": {},
   "outputs": [],
   "source": [
    "# Child class\n",
    "class Car(Vechile): # this is where we pass the parent class insdie the ()\n",
    "    def __init__(self, make, model, fuel, ac, sunproof):\n",
    "        \n",
    "        # this how you define the parent attr in a child class\n",
    "        \n",
    "        Vechile.make = make\n",
    "        Vechile.__model = model\n",
    "        Vechile.__fuel = fuel\n",
    "        \n",
    "        # own attr\n",
    "        self.ac = ac\n",
    "        self.sunproof = sunproof\n",
    "        \n",
    "    def show_parent_attr(self): # we can acces those partent class function using an instance method\n",
    "        print(Vechile.make, \" \", Vechile.__fuel, \" \",Vechile.__model)\n",
    "        \n",
    "    def showprivate_bitch(self):\n",
    "        self._Vechile__private_bitch()"
   ]
  },
  {
   "cell_type": "code",
   "execution_count": 18,
   "id": "a16fd2bf",
   "metadata": {},
   "outputs": [],
   "source": [
    "Myobj = Car(\"Telsa\", 2019, \"Petrol\", True, True)"
   ]
  },
  {
   "cell_type": "code",
   "execution_count": 19,
   "id": "27dbaaf1",
   "metadata": {},
   "outputs": [
    {
     "data": {
      "text/plain": [
       "'Telsa'"
      ]
     },
     "execution_count": 19,
     "metadata": {},
     "output_type": "execute_result"
    }
   ],
   "source": [
    "Myobj.make"
   ]
  },
  {
   "cell_type": "code",
   "execution_count": 20,
   "id": "93a131ec",
   "metadata": {},
   "outputs": [
    {
     "ename": "AttributeError",
     "evalue": "'Car' object has no attribute 'model'",
     "output_type": "error",
     "traceback": [
      "\u001b[1;31m---------------------------------------------------------------------------\u001b[0m",
      "\u001b[1;31mAttributeError\u001b[0m                            Traceback (most recent call last)",
      "\u001b[1;32m~\\AppData\\Local\\Temp/ipykernel_2852/188406721.py\u001b[0m in \u001b[0;36m<module>\u001b[1;34m\u001b[0m\n\u001b[1;32m----> 1\u001b[1;33m \u001b[0mMyobj\u001b[0m\u001b[1;33m.\u001b[0m\u001b[0mmodel\u001b[0m \u001b[1;31m# this will not run because the model attr has been made private\u001b[0m\u001b[1;33m\u001b[0m\u001b[1;33m\u001b[0m\u001b[0m\n\u001b[0m",
      "\u001b[1;31mAttributeError\u001b[0m: 'Car' object has no attribute 'model'"
     ]
    }
   ],
   "source": [
    "Myobj.model # this will not run because the model attr has been made private"
   ]
  },
  {
   "cell_type": "code",
   "execution_count": 21,
   "id": "bbf60dfc",
   "metadata": {},
   "outputs": [
    {
     "name": "stdout",
     "output_type": "stream",
     "text": [
      "Ayo STFU and keep doing your own bussiness 😡\n"
     ]
    }
   ],
   "source": [
    "Myobj.showprivate_bitch()"
   ]
  },
  {
   "cell_type": "markdown",
   "id": "9de6e615",
   "metadata": {},
   "source": [
    "# Super Functionnnnnnnnn 🦸"
   ]
  },
  {
   "cell_type": "code",
   "execution_count": 22,
   "id": "6df269a5",
   "metadata": {},
   "outputs": [],
   "source": [
    "# Parent class\n",
    "class Vechile():\n",
    "    def __init__(self, make, model, fuel):\n",
    "        self.make = make\n",
    "        self.model = model\n",
    "        self.fuel = fuel\n",
    "    def __private_bitch(self):\n",
    "        print(\"Ayo STFU and keep doing your own bussiness 😡\")"
   ]
  },
  {
   "cell_type": "code",
   "execution_count": 25,
   "id": "4efd02fd",
   "metadata": {},
   "outputs": [],
   "source": [
    "# Child class\n",
    "class Car(Vechile): # this is where we pass the parent class insdie the ()\n",
    "    def __init__(self, make, model, fuel, ac, sunproof):\n",
    "\n",
    "        # SUPER FUNCTIONNNNEEEAAA\n",
    "        \n",
    "        super(Car, self).__init__(make,model,fuel)\n",
    "        \n",
    "        # this how you define the parent attr in a child class\n",
    "        \n",
    "        #Vechile.make = make # these attr are now not required\n",
    "        #Vechile.__model = model\n",
    "        #Vechile.__fuel = fuel\n",
    "        \n",
    "        # own attr\n",
    "        self.ac = ac\n",
    "        self.sunproof = sunproof\n",
    "        \n",
    "   # def show_parent_attr(self): # we can acces those partent class function using an instance method\n",
    "        # print(Vechile.make, \" \", Vechile.__fuel, \" \",Vechile.__model)\n",
    "        \n",
    "  #  def showprivate_bitch(self):\n",
    "        self._Vechile__private_bitch()"
   ]
  },
  {
   "cell_type": "code",
   "execution_count": 26,
   "id": "9ee1903c",
   "metadata": {},
   "outputs": [],
   "source": [
    "Myobj = Car(\"Telsa\", 2019, \"Petrol\", True, True)"
   ]
  },
  {
   "cell_type": "code",
   "execution_count": 30,
   "id": "2045fd05",
   "metadata": {},
   "outputs": [
    {
     "data": {
      "text/plain": [
       "{'make': 'Telsa',\n",
       " 'model': 2019,\n",
       " 'fuel': 'Petrol',\n",
       " 'ac': True,\n",
       " 'sunproof': True}"
      ]
     },
     "execution_count": 30,
     "metadata": {},
     "output_type": "execute_result"
    }
   ],
   "source": [
    "Myobj.__dict__ # as now you can see that even the Parent attr are visible in the dict after using superrrrr functioneeaaa 🦸"
   ]
  },
  {
   "cell_type": "code",
   "execution_count": null,
   "id": "837d0642",
   "metadata": {},
   "outputs": [],
   "source": [
    "Myobj."
   ]
  }
 ],
 "metadata": {
  "kernelspec": {
   "display_name": "Python 3 (ipykernel)",
   "language": "python",
   "name": "python3"
  },
  "language_info": {
   "codemirror_mode": {
    "name": "ipython",
    "version": 3
   },
   "file_extension": ".py",
   "mimetype": "text/x-python",
   "name": "python",
   "nbconvert_exporter": "python",
   "pygments_lexer": "ipython3",
   "version": "3.9.7"
  }
 },
 "nbformat": 4,
 "nbformat_minor": 5
}
