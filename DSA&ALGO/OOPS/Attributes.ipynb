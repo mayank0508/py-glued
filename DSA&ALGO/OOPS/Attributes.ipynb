{
 "cells": [
  {
   "cell_type": "markdown",
   "id": "bb6fe079",
   "metadata": {},
   "source": [
    "## Attributes are vars but for classes"
   ]
  },
  {
   "cell_type": "code",
   "execution_count": 1,
   "id": "f976f9f7",
   "metadata": {},
   "outputs": [],
   "source": [
    "## __init__ it is a kind of self called fucntion that is used as a default function when you are making an class"
   ]
  },
  {
   "cell_type": "code",
   "execution_count": 5,
   "id": "5e9ef4fd",
   "metadata": {},
   "outputs": [],
   "source": [
    "class Expensee:\n",
    "    \n",
    "    # class attributes\n",
    "    expensee_tracker = 0.1\n",
    "    def __init__(self, tracker_catergory, opening_balance, budget): # here the self is an instance attribute\n",
    "        self.tracker_catergory = tracker_catergory\n",
    "        self.opening_balance = opening_balance\n",
    "        self.budget = budget"
   ]
  },
  {
   "cell_type": "code",
   "execution_count": 6,
   "id": "00ec2871",
   "metadata": {},
   "outputs": [],
   "source": [
    "house_t = Expensee(\"home\", 10000,2000)"
   ]
  },
  {
   "cell_type": "code",
   "execution_count": 7,
   "id": "d5c3041c",
   "metadata": {},
   "outputs": [
    {
     "data": {
      "text/plain": [
       "2000"
      ]
     },
     "execution_count": 7,
     "metadata": {},
     "output_type": "execute_result"
    }
   ],
   "source": [
    "house_t.budget # this gives "
   ]
  },
  {
   "cell_type": "code",
   "execution_count": 8,
   "id": "7bcceec8",
   "metadata": {},
   "outputs": [],
   "source": [
    "shop_t = Expensee(\"shop\", 100000000, 1000000)"
   ]
  },
  {
   "cell_type": "code",
   "execution_count": 9,
   "id": "273f61b5",
   "metadata": {},
   "outputs": [
    {
     "data": {
      "text/plain": [
       "100000000"
      ]
     },
     "execution_count": 9,
     "metadata": {},
     "output_type": "execute_result"
    }
   ],
   "source": [
    "shop_t.opening_balance"
   ]
  },
  {
   "cell_type": "code",
   "execution_count": 11,
   "id": "e3a4e159",
   "metadata": {},
   "outputs": [
    {
     "data": {
      "text/plain": [
       "{'tracker_catergory': 'home', 'opening_balance': 10000, 'budget': 2000}"
      ]
     },
     "execution_count": 11,
     "metadata": {},
     "output_type": "execute_result"
    }
   ],
   "source": [
    "house_t.__dict__ # this shows all the attributes of a certain object"
   ]
  },
  {
   "cell_type": "code",
   "execution_count": 13,
   "id": "c4f81b1a",
   "metadata": {},
   "outputs": [
    {
     "data": {
      "text/plain": [
       "2000"
      ]
     },
     "execution_count": 13,
     "metadata": {},
     "output_type": "execute_result"
    }
   ],
   "source": [
    "getattr(house_t,'budget') # this is also a way to access the attributes"
   ]
  },
  {
   "cell_type": "code",
   "execution_count": 15,
   "id": "d57b3376",
   "metadata": {},
   "outputs": [
    {
     "ename": "AttributeError",
     "evalue": "'Expensee' object has no attribute 'budgt'",
     "output_type": "error",
     "traceback": [
      "\u001b[1;31m---------------------------------------------------------------------------\u001b[0m",
      "\u001b[1;31mAttributeError\u001b[0m                            Traceback (most recent call last)",
      "\u001b[1;32m~\\AppData\\Local\\Temp/ipykernel_58072/822549288.py\u001b[0m in \u001b[0;36m<module>\u001b[1;34m\u001b[0m\n\u001b[1;32m----> 1\u001b[1;33m \u001b[0mgetattr\u001b[0m\u001b[1;33m(\u001b[0m\u001b[0mhouse_t\u001b[0m\u001b[1;33m,\u001b[0m\u001b[1;34m'budgt'\u001b[0m\u001b[1;33m)\u001b[0m \u001b[1;31m# this will show a eror if there is no attr\u001b[0m\u001b[1;33m\u001b[0m\u001b[1;33m\u001b[0m\u001b[0m\n\u001b[0m",
      "\u001b[1;31mAttributeError\u001b[0m: 'Expensee' object has no attribute 'budgt'"
     ]
    }
   ],
   "source": [
    "getattr(house_t,'budgt') # this will show a eror if there is no attr"
   ]
  },
  {
   "cell_type": "code",
   "execution_count": 18,
   "id": "8fadca80",
   "metadata": {},
   "outputs": [
    {
     "data": {
      "text/plain": [
       "True"
      ]
     },
     "execution_count": 18,
     "metadata": {},
     "output_type": "execute_result"
    }
   ],
   "source": [
    "hasattr(house_t,'budget') # this is used to check if there is a attr or not"
   ]
  },
  {
   "cell_type": "code",
   "execution_count": 17,
   "id": "f155ed74",
   "metadata": {},
   "outputs": [
    {
     "data": {
      "text/plain": [
       "False"
      ]
     },
     "execution_count": 17,
     "metadata": {},
     "output_type": "execute_result"
    }
   ],
   "source": [
    "hasattr(house_t,'budge')"
   ]
  },
  {
   "cell_type": "code",
   "execution_count": null,
   "id": "32c7fc0b",
   "metadata": {},
   "outputs": [],
   "source": []
  }
 ],
 "metadata": {
  "kernelspec": {
   "display_name": "Python 3 (ipykernel)",
   "language": "python",
   "name": "python3"
  },
  "language_info": {
   "codemirror_mode": {
    "name": "ipython",
    "version": 3
   },
   "file_extension": ".py",
   "mimetype": "text/x-python",
   "name": "python",
   "nbconvert_exporter": "python",
   "pygments_lexer": "ipython3",
   "version": "3.9.7"
  }
 },
 "nbformat": 4,
 "nbformat_minor": 5
}
