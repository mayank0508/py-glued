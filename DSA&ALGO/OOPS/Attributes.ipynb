{
 "cells": [
  {
   "cell_type": "markdown",
   "id": "88d3c1be",
   "metadata": {},
   "source": [
    "## Attributes are vars but for classes"
   ]
  },
  {
   "cell_type": "code",
   "execution_count": 1,
   "id": "81fb0ec2",
   "metadata": {},
   "outputs": [],
   "source": [
    "## __init__ it is a kind of self called fucntion that is used as a default function when you are making an class"
   ]
  },
  {
   "cell_type": "code",
   "execution_count": 27,
   "id": "8cb6fc20",
   "metadata": {},
   "outputs": [],
   "source": [
    "class Expensee:\n",
    "    \n",
    "    # class attributes\n",
    "    expensee_tracker = 0.1\n",
    "    def __init__(self, tracker_catergory, opening_balance, budget): # here the self is an instance attribute\n",
    "        self.tracker_catergory = tracker_catergory\n",
    "        self.opening_balance = opening_balance\n",
    "        self.budget = budget"
   ]
  },
  {
   "cell_type": "code",
   "execution_count": 28,
   "id": "0f0fefd9",
   "metadata": {},
   "outputs": [],
   "source": [
    "house_t = Expensee(\"home\", 10000,2000)"
   ]
  },
  {
   "cell_type": "code",
   "execution_count": 29,
   "id": "9dc1c4c6",
   "metadata": {},
   "outputs": [
    {
     "data": {
      "text/plain": [
       "2000"
      ]
     },
     "execution_count": 29,
     "metadata": {},
     "output_type": "execute_result"
    }
   ],
   "source": [
    "house_t.budget # this gives "
   ]
  },
  {
   "cell_type": "code",
   "execution_count": 30,
   "id": "b8985082",
   "metadata": {},
   "outputs": [],
   "source": [
    "shop_t = Expensee(\"shop\", 100000000, 1000000)"
   ]
  },
  {
   "cell_type": "code",
   "execution_count": 31,
   "id": "19fb8e3c",
   "metadata": {},
   "outputs": [
    {
     "data": {
      "text/plain": [
       "100000000"
      ]
     },
     "execution_count": 31,
     "metadata": {},
     "output_type": "execute_result"
    }
   ],
   "source": [
    "shop_t.opening_balance"
   ]
  },
  {
   "cell_type": "code",
   "execution_count": 32,
   "id": "e9786fc4",
   "metadata": {},
   "outputs": [
    {
     "data": {
      "text/plain": [
       "{'tracker_catergory': 'home', 'opening_balance': 10000, 'budget': 2000}"
      ]
     },
     "execution_count": 32,
     "metadata": {},
     "output_type": "execute_result"
    }
   ],
   "source": [
    "house_t.__dict__ # this shows all the attributes of a certain object"
   ]
  },
  {
   "cell_type": "code",
   "execution_count": 33,
   "id": "f7231870",
   "metadata": {},
   "outputs": [
    {
     "data": {
      "text/plain": [
       "2000"
      ]
     },
     "execution_count": 33,
     "metadata": {},
     "output_type": "execute_result"
    }
   ],
   "source": [
    "getattr(house_t,'budget') # this is also a way to access the attributes"
   ]
  },
  {
   "cell_type": "code",
   "execution_count": 35,
   "id": "b88ed139",
   "metadata": {},
   "outputs": [
    {
     "ename": "AttributeError",
     "evalue": "'Expensee' object has no attribute 'budgt'",
     "output_type": "error",
     "traceback": [
      "\u001b[1;31m---------------------------------------------------------------------------\u001b[0m",
      "\u001b[1;31mAttributeError\u001b[0m                            Traceback (most recent call last)",
      "\u001b[1;32m~\\AppData\\Local\\Temp/ipykernel_58072/822549288.py\u001b[0m in \u001b[0;36m<module>\u001b[1;34m\u001b[0m\n\u001b[1;32m----> 1\u001b[1;33m \u001b[0mgetattr\u001b[0m\u001b[1;33m(\u001b[0m\u001b[0mhouse_t\u001b[0m\u001b[1;33m,\u001b[0m\u001b[1;34m'budgt'\u001b[0m\u001b[1;33m)\u001b[0m \u001b[1;31m# this will show a eror if there is no attr\u001b[0m\u001b[1;33m\u001b[0m\u001b[1;33m\u001b[0m\u001b[0m\n\u001b[0m",
      "\u001b[1;31mAttributeError\u001b[0m: 'Expensee' object has no attribute 'budgt'"
     ]
    }
   ],
   "source": [
    "getattr(house_t,'budgt') # this will show a eror if there is no attr"
   ]
  },
  {
   "cell_type": "code",
   "execution_count": 36,
   "id": "5a5dfeb5",
   "metadata": {},
   "outputs": [
    {
     "data": {
      "text/plain": [
       "True"
      ]
     },
     "execution_count": 36,
     "metadata": {},
     "output_type": "execute_result"
    }
   ],
   "source": [
    "hasattr(house_t,'budget') # this is used to check if there is a attr or not"
   ]
  },
  {
   "cell_type": "code",
   "execution_count": 37,
   "id": "53988caf",
   "metadata": {},
   "outputs": [
    {
     "data": {
      "text/plain": [
       "False"
      ]
     },
     "execution_count": 37,
     "metadata": {},
     "output_type": "execute_result"
    }
   ],
   "source": [
    "hasattr(house_t,'budge')"
   ]
  },
  {
   "cell_type": "code",
   "execution_count": 38,
   "id": "f39a6104",
   "metadata": {},
   "outputs": [
    {
     "data": {
      "text/plain": [
       "{'tracker_catergory': 'home', 'opening_balance': 10000, 'budget': 2000}"
      ]
     },
     "execution_count": 38,
     "metadata": {},
     "output_type": "execute_result"
    }
   ],
   "source": [
    "house_t.__dict__ # this shows all the attributes of a certain object"
   ]
  },
  {
   "cell_type": "code",
   "execution_count": 39,
   "id": "b47a8098",
   "metadata": {},
   "outputs": [],
   "source": [
    "delattr(house_t, 'budget') # this attr is used to del the attr"
   ]
  },
  {
   "cell_type": "code",
   "execution_count": 40,
   "id": "2885ffdc",
   "metadata": {},
   "outputs": [
    {
     "data": {
      "text/plain": [
       "{'tracker_catergory': 'home', 'opening_balance': 10000}"
      ]
     },
     "execution_count": 40,
     "metadata": {},
     "output_type": "execute_result"
    }
   ],
   "source": [
    "house_t.__dict__ # here you can see that the budget is gone"
   ]
  },
  {
   "cell_type": "code",
   "execution_count": null,
   "id": "c96a2b6f",
   "metadata": {},
   "outputs": [],
   "source": []
  }
 ],
 "metadata": {
  "kernelspec": {
   "display_name": "Python 3 (ipykernel)",
   "language": "python",
   "name": "python3"
  },
  "language_info": {
   "codemirror_mode": {
    "name": "ipython",
    "version": 3
   },
   "file_extension": ".py",
   "mimetype": "text/x-python",
   "name": "python",
   "nbconvert_exporter": "python",
   "pygments_lexer": "ipython3",
   "version": "3.9.7"
  }
 },
 "nbformat": 4,
 "nbformat_minor": 5
}
