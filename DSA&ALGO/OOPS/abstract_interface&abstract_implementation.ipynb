{
 "cells": [
  {
   "cell_type": "code",
   "execution_count": 1,
   "id": "601da022",
   "metadata": {},
   "outputs": [],
   "source": [
    "from abc import ABC, abstractmethod"
   ]
  },
  {
   "cell_type": "code",
   "execution_count": 22,
   "id": "80347453",
   "metadata": {},
   "outputs": [],
   "source": [
    "class TextReader(ABC):\n",
    "    \n",
    "    def __init__(self, path, filename):\n",
    "        self.path = path\n",
    "        self.filename = filename\n",
    "        \n",
    "    @abstractmethod # this is just and interface/role, this is setting that this method needs to be made\n",
    "    def get_path(self):\n",
    "        pass\n",
    "    \n",
    "    @abstractmethod\n",
    "    def get_filename(self):\n",
    "        pass\n",
    "    "
   ]
  },
  {
   "cell_type": "code",
   "execution_count": 27,
   "id": "673e2165",
   "metadata": {},
   "outputs": [],
   "source": [
    "class Txt(TextReader):\n",
    "    \n",
    "    def get_path(self):\n",
    "        return self.path\n",
    "    \n",
    "    def get_filename(self):\n",
    "        return self.filename"
   ]
  },
  {
   "cell_type": "code",
   "execution_count": 35,
   "id": "7c0fc81c",
   "metadata": {},
   "outputs": [],
   "source": [
    "muu = Txt(\"/desk/pdc/hi.txt\", \"PDC\") # since we are passing both the methods from the abs class that why we have no error"
   ]
  },
  {
   "cell_type": "code",
   "execution_count": 37,
   "id": "98e5af7f",
   "metadata": {},
   "outputs": [
    {
     "ename": "TypeError",
     "evalue": "__init__() missing 2 required positional arguments: 'path' and 'filename'",
     "output_type": "error",
     "traceback": [
      "\u001b[1;31m---------------------------------------------------------------------------\u001b[0m",
      "\u001b[1;31mTypeError\u001b[0m                                 Traceback (most recent call last)",
      "\u001b[1;32m~\\AppData\\Local\\Temp/ipykernel_35368/622704716.py\u001b[0m in \u001b[0;36m<module>\u001b[1;34m\u001b[0m\n\u001b[1;32m----> 1\u001b[1;33m \u001b[0mmoo\u001b[0m \u001b[1;33m=\u001b[0m \u001b[0mTxt\u001b[0m\u001b[1;33m(\u001b[0m\u001b[1;33m)\u001b[0m \u001b[1;31m# here since we are not passing anything here thus we wont be able todo anything as we are not passing the abs class\u001b[0m\u001b[1;33m\u001b[0m\u001b[1;33m\u001b[0m\u001b[0m\n\u001b[0m",
      "\u001b[1;31mTypeError\u001b[0m: __init__() missing 2 required positional arguments: 'path' and 'filename'"
     ]
    }
   ],
   "source": [
    "moo = Txt() # here since we are not passing anything here thus we wont be able todo anything as we are not passing the abs class"
   ]
  },
  {
   "cell_type": "code",
   "execution_count": 38,
   "id": "92da47a9",
   "metadata": {},
   "outputs": [
    {
     "data": {
      "text/plain": [
       "'/desk/pdc/hi.txt'"
      ]
     },
     "execution_count": 38,
     "metadata": {},
     "output_type": "execute_result"
    }
   ],
   "source": [
    "muu.path"
   ]
  },
  {
   "cell_type": "code",
   "execution_count": 39,
   "id": "101d3022",
   "metadata": {},
   "outputs": [
    {
     "data": {
      "text/plain": [
       "'/desk/pdc/hi.txt'"
      ]
     },
     "execution_count": 39,
     "metadata": {},
     "output_type": "execute_result"
    }
   ],
   "source": [
    "muu.get_path()"
   ]
  },
  {
   "cell_type": "code",
   "execution_count": 40,
   "id": "4876e981",
   "metadata": {},
   "outputs": [],
   "source": [
    "class Bank(ABC):\n",
    "    \n",
    "    @abstractmethod\n",
    "    def get_intrest(self):\n",
    "        pass"
   ]
  },
  {
   "cell_type": "code",
   "execution_count": null,
   "id": "72c783e4",
   "metadata": {},
   "outputs": [],
   "source": [
    "class SBI(Bank)L\n",
    "    def "
   ]
  }
 ],
 "metadata": {
  "kernelspec": {
   "display_name": "Python 3 (ipykernel)",
   "language": "python",
   "name": "python3"
  },
  "language_info": {
   "codemirror_mode": {
    "name": "ipython",
    "version": 3
   },
   "file_extension": ".py",
   "mimetype": "text/x-python",
   "name": "python",
   "nbconvert_exporter": "python",
   "pygments_lexer": "ipython3",
   "version": "3.9.7"
  }
 },
 "nbformat": 4,
 "nbformat_minor": 5
}
