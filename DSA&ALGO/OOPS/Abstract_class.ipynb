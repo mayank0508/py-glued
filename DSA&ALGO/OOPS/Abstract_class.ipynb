{
 "cells": [
  {
   "cell_type": "code",
   "execution_count": 16,
   "id": "e31f954e",
   "metadata": {},
   "outputs": [],
   "source": [
    "# Absract Class forces you to follow a certain manner to make a app"
   ]
  },
  {
   "cell_type": "code",
   "execution_count": 2,
   "id": "12e006e4",
   "metadata": {},
   "outputs": [],
   "source": [
    "from abc import ABC, abstractmethod"
   ]
  },
  {
   "cell_type": "code",
   "execution_count": 6,
   "id": "0f54dee6",
   "metadata": {},
   "outputs": [],
   "source": [
    "class Vechile(ABC): # this tells us that the particular class is abstract class\n",
    "    \n",
    "    @abstractmethod\n",
    "    def get_value(self):\n",
    "        pass\n",
    "    \n",
    "class Car(Vechile):\n",
    "    def __init__(self, made, model, fare):\n",
    "        self.made = made\n",
    "        self.model = model\n",
    "        self.fare = fare"
   ]
  },
  {
   "cell_type": "code",
   "execution_count": 7,
   "id": "fb9e5755",
   "metadata": {},
   "outputs": [
    {
     "ename": "TypeError",
     "evalue": "Can't instantiate abstract class Car with abstract method get_value",
     "output_type": "error",
     "traceback": [
      "\u001b[1;31m---------------------------------------------------------------------------\u001b[0m",
      "\u001b[1;31mTypeError\u001b[0m                                 Traceback (most recent call last)",
      "\u001b[1;32m~\\AppData\\Local\\Temp/ipykernel_59476/497184418.py\u001b[0m in \u001b[0;36m<module>\u001b[1;34m\u001b[0m\n\u001b[1;32m----> 1\u001b[1;33m \u001b[0mmyobj\u001b[0m \u001b[1;33m=\u001b[0m \u001b[0mCar\u001b[0m\u001b[1;33m(\u001b[0m\u001b[1;34m\"tesla\"\u001b[0m\u001b[1;33m,\u001b[0m \u001b[1;36m2020\u001b[0m\u001b[1;33m,\u001b[0m \u001b[1;36m122\u001b[0m\u001b[1;33m)\u001b[0m\u001b[1;33m\u001b[0m\u001b[1;33m\u001b[0m\u001b[0m\n\u001b[0m",
      "\u001b[1;31mTypeError\u001b[0m: Can't instantiate abstract class Car with abstract method get_value"
     ]
    }
   ],
   "source": [
    "myobj = Car(\"tesla\", 2020, 122)"
   ]
  },
  {
   "cell_type": "code",
   "execution_count": 8,
   "id": "d2e93bb4",
   "metadata": {},
   "outputs": [],
   "source": [
    "# here above we can see that there is an error when we are not giving the (get_value) in he Car class"
   ]
  },
  {
   "cell_type": "code",
   "execution_count": 13,
   "id": "240ca33b",
   "metadata": {},
   "outputs": [],
   "source": [
    "class Car(Vechile):\n",
    "    def __init__(self, made, model, fare):\n",
    "        self.made = made\n",
    "        self.model = model\n",
    "        self.fare = fare\n",
    "        \n",
    "    def get_value(self):\n",
    "        return(10*self.fare)"
   ]
  },
  {
   "cell_type": "code",
   "execution_count": 14,
   "id": "f215dadc",
   "metadata": {},
   "outputs": [],
   "source": [
    "myobj = Car(\"tesla\", 2020, 122) # and here we dont have any problems"
   ]
  },
  {
   "cell_type": "code",
   "execution_count": 15,
   "id": "5ce22e55",
   "metadata": {},
   "outputs": [
    {
     "data": {
      "text/plain": [
       "1220"
      ]
     },
     "execution_count": 15,
     "metadata": {},
     "output_type": "execute_result"
    }
   ],
   "source": [
    "myobj.get_value()"
   ]
  },
  {
   "cell_type": "code",
   "execution_count": null,
   "id": "6f11efe1",
   "metadata": {},
   "outputs": [],
   "source": []
  }
 ],
 "metadata": {
  "kernelspec": {
   "display_name": "Python 3 (ipykernel)",
   "language": "python",
   "name": "python3"
  },
  "language_info": {
   "codemirror_mode": {
    "name": "ipython",
    "version": 3
   },
   "file_extension": ".py",
   "mimetype": "text/x-python",
   "name": "python",
   "nbconvert_exporter": "python",
   "pygments_lexer": "ipython3",
   "version": "3.9.7"
  }
 },
 "nbformat": 4,
 "nbformat_minor": 5
}
