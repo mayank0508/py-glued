{
 "cells": [
  {
   "cell_type": "code",
   "execution_count": 5,
   "id": "3d82ee3e",
   "metadata": {},
   "outputs": [],
   "source": [
    "class Expenss:\n",
    "    # Class Attributes\n",
    "    expensee_v_y = 0.1\n",
    "    \"\"\"this is a expensee tracker\"\"\"\n",
    "    def __init__(self,t_c,o_b,budget):\n",
    "        #Instance/Object Attributes\n",
    "        self.t_c = t_c # here you need to give the same name that you gave in the __init__ function\n",
    "        self.o_b = o_b\n",
    "        self.budget = budget\n",
    "        \n",
    "    #instance method\n",
    "    def get_orignal_method(self): # self is very imp here because allows us to access the class\n",
    "        return self.o_b"
   ]
  },
  {
   "cell_type": "code",
   "execution_count": 6,
   "id": "b3fe666b",
   "metadata": {},
   "outputs": [],
   "source": [
    "obj = Expenss(\"shop\", 1000, 100)\n",
    "obj2 = Expenss(\"home\", 10000, 100)"
   ]
  },
  {
   "cell_type": "code",
   "execution_count": 7,
   "id": "708bd06b",
   "metadata": {},
   "outputs": [
    {
     "ename": "NameError",
     "evalue": "name 'get_orignal_method' is not defined",
     "output_type": "error",
     "traceback": [
      "\u001b[1;31m---------------------------------------------------------------------------\u001b[0m",
      "\u001b[1;31mNameError\u001b[0m                                 Traceback (most recent call last)",
      "\u001b[1;32m~\\AppData\\Local\\Temp/ipykernel_56568/386892197.py\u001b[0m in \u001b[0;36m<module>\u001b[1;34m\u001b[0m\n\u001b[1;32m----> 1\u001b[1;33m \u001b[0mget_orignal_method\u001b[0m\u001b[1;33m(\u001b[0m\u001b[1;33m)\u001b[0m\u001b[1;33m\u001b[0m\u001b[1;33m\u001b[0m\u001b[0m\n\u001b[0m",
      "\u001b[1;31mNameError\u001b[0m: name 'get_orignal_method' is not defined"
     ]
    }
   ],
   "source": [
    "get_orignal_method() # here we can see that we cant acces the get_orignal_method() direcrtly"
   ]
  },
  {
   "cell_type": "code",
   "execution_count": 8,
   "id": "d32cc272",
   "metadata": {},
   "outputs": [
    {
     "ename": "TypeError",
     "evalue": "get_orignal_method() missing 1 required positional argument: 'self'",
     "output_type": "error",
     "traceback": [
      "\u001b[1;31m---------------------------------------------------------------------------\u001b[0m",
      "\u001b[1;31mTypeError\u001b[0m                                 Traceback (most recent call last)",
      "\u001b[1;32m~\\AppData\\Local\\Temp/ipykernel_56568/2908881566.py\u001b[0m in \u001b[0;36m<module>\u001b[1;34m\u001b[0m\n\u001b[1;32m----> 1\u001b[1;33m \u001b[0mExpenss\u001b[0m\u001b[1;33m.\u001b[0m\u001b[0mget_orignal_method\u001b[0m\u001b[1;33m(\u001b[0m\u001b[1;33m)\u001b[0m\u001b[1;33m\u001b[0m\u001b[1;33m\u001b[0m\u001b[0m\n\u001b[0m",
      "\u001b[1;31mTypeError\u001b[0m: get_orignal_method() missing 1 required positional argument: 'self'"
     ]
    }
   ],
   "source": [
    "Expenss.get_orignal_method() # here we can see that we can even access the get_orignal_method() via expensee toooo"
   ]
  },
  {
   "cell_type": "code",
   "execution_count": 9,
   "id": "e93806c8",
   "metadata": {},
   "outputs": [],
   "source": [
    "### But, we can acces it via diffrent objects"
   ]
  },
  {
   "cell_type": "code",
   "execution_count": 10,
   "id": "3c9933b3",
   "metadata": {},
   "outputs": [
    {
     "data": {
      "text/plain": [
       "1000"
      ]
     },
     "execution_count": 10,
     "metadata": {},
     "output_type": "execute_result"
    }
   ],
   "source": [
    "obj.get_orignal_method() # here you can see that we are able to access the get_orignal_method() via obj"
   ]
  },
  {
   "cell_type": "code",
   "execution_count": 11,
   "id": "895e09a1",
   "metadata": {},
   "outputs": [
    {
     "data": {
      "text/plain": [
       "10000"
      ]
     },
     "execution_count": 11,
     "metadata": {},
     "output_type": "execute_result"
    }
   ],
   "source": [
    "obj2.get_orignal_method()"
   ]
  },
  {
   "cell_type": "code",
   "execution_count": 12,
   "id": "e4f99a47",
   "metadata": {},
   "outputs": [],
   "source": [
    "class Expenss:\n",
    "    # Class Attributes\n",
    "    expensee_v_y = 0.1\n",
    "    \"\"\"this is a expensee tracker\"\"\"\n",
    "    def __init__(self,t_c,o_b,budget):\n",
    "        #Instance/Object Attributes\n",
    "        self.t_c = t_c # here you need to give the same name that you gave in the __init__ function\n",
    "        self.o_b = o_b\n",
    "        self.budget = budget\n",
    "        \n",
    "    #instance method\n",
    "    def get_orignal_method(self): # self is very imp here because allows us to access the class\n",
    "        return self.o_b\n",
    "    \n",
    "    #instace method\n",
    "    def check_limit(self, limit = 10000):\n",
    "        if self.budget >= 10000:\n",
    "            return True\n",
    "        else:\n",
    "            return \"this is one has exceeded the limit\""
   ]
  },
  {
   "cell_type": "code",
   "execution_count": 14,
   "id": "e1caa439",
   "metadata": {},
   "outputs": [],
   "source": [
    "obj = Expenss(\"shop\", 10000, 100)"
   ]
  },
  {
   "cell_type": "code",
   "execution_count": 18,
   "id": "71939dc8",
   "metadata": {},
   "outputs": [
    {
     "data": {
      "text/plain": [
       "'this is one has exceeded the limit'"
      ]
     },
     "execution_count": 18,
     "metadata": {},
     "output_type": "execute_result"
    }
   ],
   "source": [
    "obj.check_limit() # here we can see that how the check_limit method is used to detect the limit of the budget"
   ]
  },
  {
   "cell_type": "code",
   "execution_count": 19,
   "id": "45e385f7",
   "metadata": {},
   "outputs": [],
   "source": [
    "obj2 = Expenss(\"shop\", 10000, 1000000)"
   ]
  },
  {
   "cell_type": "code",
   "execution_count": 20,
   "id": "25208d5d",
   "metadata": {},
   "outputs": [
    {
     "data": {
      "text/plain": [
       "True"
      ]
     },
     "execution_count": 20,
     "metadata": {},
     "output_type": "execute_result"
    }
   ],
   "source": [
    "obj2.check_limit()"
   ]
  },
  {
   "cell_type": "markdown",
   "id": "44fb2d09",
   "metadata": {},
   "source": [
    "## Static Method"
   ]
  },
  {
   "cell_type": "code",
   "execution_count": 22,
   "id": "ac4420b5",
   "metadata": {},
   "outputs": [],
   "source": [
    "# static method are called using the @ symbol, like @staticmethod"
   ]
  },
  {
   "cell_type": "code",
   "execution_count": null,
   "id": "fc3101cf",
   "metadata": {},
   "outputs": [],
   "source": [
    "class Expenss:\n",
    "    # Class Attributes\n",
    "    expensee_v_y = 0.1\n",
    "    \"\"\"this is a expensee tracker\"\"\"\n",
    "    def __init__(self,t_c,o_b,budget):\n",
    "        #Instance/Object Attributes\n",
    "        self.t_c = t_c # here you need to give the same name that you gave in the __init__ function\n",
    "        self.o_b = o_b\n",
    "        self.budget = budget\n",
    "        \n",
    "    #instance method\n",
    "    def get_orignal_method(self): # self is very imp here because allows us to access the class\n",
    "        return self.o_b\n",
    "    \n",
    "    #instace method\n",
    "    def check_limit(self, limit = 10000):\n",
    "        if self.budget >= 10000:\n",
    "            return True\n",
    "        else:\n",
    "            return \"this is one has exceeded the limit\"\n",
    "        \n",
    "    @staticmethod\n",
    "    def convert_amount(amount):\n",
    "        return float(amount)"
   ]
  }
 ],
 "metadata": {
  "kernelspec": {
   "display_name": "Python 3 (ipykernel)",
   "language": "python",
   "name": "python3"
  },
  "language_info": {
   "codemirror_mode": {
    "name": "ipython",
    "version": 3
   },
   "file_extension": ".py",
   "mimetype": "text/x-python",
   "name": "python",
   "nbconvert_exporter": "python",
   "pygments_lexer": "ipython3",
   "version": "3.9.7"
  }
 },
 "nbformat": 4,
 "nbformat_minor": 5
}
