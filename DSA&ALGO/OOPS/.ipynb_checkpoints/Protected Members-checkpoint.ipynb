{
 "cells": [
  {
   "cell_type": "code",
   "execution_count": 1,
   "id": "e96f4be9",
   "metadata": {},
   "outputs": [],
   "source": [
    "## Protected Member 🔒"
   ]
  },
  {
   "cell_type": "code",
   "execution_count": 2,
   "id": "c7598911",
   "metadata": {},
   "outputs": [],
   "source": [
    "# we just need to use _ to make a attr a protected attr"
   ]
  },
  {
   "cell_type": "code",
   "execution_count": 23,
   "id": "b510ca97",
   "metadata": {},
   "outputs": [],
   "source": [
    "# Parent class\n",
    "class Vechile():\n",
    "    \n",
    "    current_year = 2021\n",
    "    base_price = 100000\n",
    "    \n",
    "    def __init__(self, make, model, fuel):\n",
    "        \n",
    "        #public\n",
    "        self.make = make\n",
    "        \n",
    "        #protected\n",
    "        self._model = model\n",
    "        self._fuel = fuel\n",
    "        \n",
    "    def __private_bitch(self):\n",
    "        print(\"Ayo STFU and keep doing your own bussiness 😡\")\n",
    "        \n",
    "    def getValue(self):\n",
    "        age = Vechile.current_year - self._model\n",
    "        print(\"this is default values\")\n",
    "        return Vechile.base_price*(1/age)\n",
    "        "
   ]
  },
  {
   "cell_type": "code",
   "execution_count": 24,
   "id": "65059ef5",
   "metadata": {},
   "outputs": [],
   "source": [
    "# Child class\n",
    "class Car(Vechile): # this is where we pass the parent class insdie the ()\n",
    "    def __init__(self, make, model, fuel, ac, sunproof):\n",
    "\n",
    "        # SUPER FUNCTIONNNNEEEAAA\n",
    "        \n",
    "        super(Car, self).__init__(make,model,fuel)\n",
    "        \n",
    "        # own attr which are protected\n",
    "        self._ac = ac\n",
    "        self._sunproof = sunproof\n",
    "        \n",
    "    #This is the Overriding method - replaces the default method\n",
    "    def _getValue(self):\n",
    "        Vechile.base_price = 400000\n",
    "        age = Vechile.current_year - self._model\n",
    "        print(\"this is Overridding values\")\n",
    "        return Vechile.base_price*(1/age)"
   ]
  },
  {
   "cell_type": "code",
   "execution_count": 31,
   "id": "bfb6f5d0",
   "metadata": {},
   "outputs": [],
   "source": [
    "Myobj = Car(\"Tesla\", 2010, \"electric\", True, True)"
   ]
  },
  {
   "cell_type": "code",
   "execution_count": 32,
   "id": "b1f30081",
   "metadata": {},
   "outputs": [
    {
     "data": {
      "text/plain": [
       "True"
      ]
     },
     "execution_count": 32,
     "metadata": {},
     "output_type": "execute_result"
    }
   ],
   "source": [
    "Myobj._ac # here we can access the _ac attr "
   ]
  },
  {
   "cell_type": "code",
   "execution_count": 33,
   "id": "6f6278f5",
   "metadata": {},
   "outputs": [
    {
     "name": "stdout",
     "output_type": "stream",
     "text": [
      "this is Overridding values\n"
     ]
    },
    {
     "data": {
      "text/plain": [
       "36363.63636363637"
      ]
     },
     "execution_count": 33,
     "metadata": {},
     "output_type": "execute_result"
    }
   ],
   "source": [
    "Myobj._getValue()"
   ]
  },
  {
   "cell_type": "code",
   "execution_count": null,
   "id": "20748e67",
   "metadata": {},
   "outputs": [],
   "source": []
  }
 ],
 "metadata": {
  "kernelspec": {
   "display_name": "Python 3 (ipykernel)",
   "language": "python",
   "name": "python3"
  },
  "language_info": {
   "codemirror_mode": {
    "name": "ipython",
    "version": 3
   },
   "file_extension": ".py",
   "mimetype": "text/x-python",
   "name": "python",
   "nbconvert_exporter": "python",
   "pygments_lexer": "ipython3",
   "version": "3.9.7"
  }
 },
 "nbformat": 4,
 "nbformat_minor": 5
}
