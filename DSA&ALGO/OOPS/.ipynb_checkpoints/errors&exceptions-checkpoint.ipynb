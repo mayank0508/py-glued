{
 "cells": [
  {
   "cell_type": "code",
   "execution_count": 2,
   "id": "0a318f42",
   "metadata": {},
   "outputs": [
    {
     "ename": "SyntaxError",
     "evalue": "unexpected EOF while parsing (Temp/ipykernel_17792/2077722022.py, line 1)",
     "output_type": "error",
     "traceback": [
      "\u001b[1;36m  File \u001b[1;32m\"C:\\Users\\Lenovo\\AppData\\Local\\Temp/ipykernel_17792/2077722022.py\"\u001b[1;36m, line \u001b[1;32m1\u001b[0m\n\u001b[1;33m    a = {8 # this is a syntax error\u001b[0m\n\u001b[1;37m                                   ^\u001b[0m\n\u001b[1;31mSyntaxError\u001b[0m\u001b[1;31m:\u001b[0m unexpected EOF while parsing\n"
     ]
    }
   ],
   "source": [
    "a = {8 # this is a syntax error"
   ]
  },
  {
   "cell_type": "code",
   "execution_count": 4,
   "id": "b410f269",
   "metadata": {},
   "outputs": [],
   "source": [
    "# 16GB\n",
    "# read file (sample.txt) ------> 100GB\n",
    "# this will give memeory error"
   ]
  },
  {
   "cell_type": "code",
   "execution_count": null,
   "id": "95b2aff5",
   "metadata": {},
   "outputs": [],
   "source": [
    "#def do():\n",
    " #   do()\n",
    "    \n",
    "#do()                  # this will give the recurssion error"
   ]
  },
  {
   "cell_type": "code",
   "execution_count": 2,
   "id": "24c1b50a",
   "metadata": {},
   "outputs": [
    {
     "ename": "IndentationError",
     "evalue": "unexpected indent (Temp/ipykernel_3964/973368139.py, line 2)",
     "output_type": "error",
     "traceback": [
      "\u001b[1;36m  File \u001b[1;32m\"C:\\Users\\Lenovo\\AppData\\Local\\Temp/ipykernel_3964/973368139.py\"\u001b[1;36m, line \u001b[1;32m2\u001b[0m\n\u001b[1;33m    b = 1  # indentation errror, since py is  a indentation specific language\u001b[0m\n\u001b[1;37m    ^\u001b[0m\n\u001b[1;31mIndentationError\u001b[0m\u001b[1;31m:\u001b[0m unexpected indent\n"
     ]
    }
   ],
   "source": [
    "a = 1\n",
    "     b = 1  # indentation errror, since py is  a indentation specific language"
   ]
  },
  {
   "cell_type": "code",
   "execution_count": 4,
   "id": "48fbf57e",
   "metadata": {},
   "outputs": [
    {
     "ename": "TypeError",
     "evalue": "unsupported operand type(s) for +: 'int' and 'str'",
     "output_type": "error",
     "traceback": [
      "\u001b[1;31m---------------------------------------------------------------------------\u001b[0m",
      "\u001b[1;31mTypeError\u001b[0m                                 Traceback (most recent call last)",
      "\u001b[1;32m~\\AppData\\Local\\Temp/ipykernel_3964/2922410702.py\u001b[0m in \u001b[0;36m<module>\u001b[1;34m\u001b[0m\n\u001b[1;32m----> 1\u001b[1;33m \u001b[1;36m1\u001b[0m \u001b[1;33m+\u001b[0m \u001b[1;34m\"lavi\"\u001b[0m \u001b[1;31m#typerrro\u001b[0m\u001b[1;33m\u001b[0m\u001b[1;33m\u001b[0m\u001b[0m\n\u001b[0m",
      "\u001b[1;31mTypeError\u001b[0m: unsupported operand type(s) for +: 'int' and 'str'"
     ]
    }
   ],
   "source": [
    "1 + \"lavi\" #typerrro"
   ]
  },
  {
   "cell_type": "code",
   "execution_count": 6,
   "id": "5a88eb46",
   "metadata": {},
   "outputs": [
    {
     "ename": "ZeroDivisionError",
     "evalue": "division by zero",
     "output_type": "error",
     "traceback": [
      "\u001b[1;31m---------------------------------------------------------------------------\u001b[0m",
      "\u001b[1;31mZeroDivisionError\u001b[0m                         Traceback (most recent call last)",
      "\u001b[1;32m~\\AppData\\Local\\Temp/ipykernel_3964/3363538974.py\u001b[0m in \u001b[0;36m<module>\u001b[1;34m\u001b[0m\n\u001b[1;32m----> 1\u001b[1;33m \u001b[1;36m3\u001b[0m\u001b[1;33m/\u001b[0m\u001b[1;36m0\u001b[0m \u001b[1;31m#zero dvision error\u001b[0m\u001b[1;33m\u001b[0m\u001b[1;33m\u001b[0m\u001b[0m\n\u001b[0m",
      "\u001b[1;31mZeroDivisionError\u001b[0m: division by zero"
     ]
    }
   ],
   "source": [
    "3/0 #zero dvision error"
   ]
  },
  {
   "cell_type": "markdown",
   "id": "843a98b3",
   "metadata": {},
   "source": [
    "# Error Handling"
   ]
  },
  {
   "cell_type": "code",
   "execution_count": 83,
   "id": "67d6b35b",
   "metadata": {},
   "outputs": [],
   "source": [
    "try:\n",
    "    a = 1\n",
    "    b = 2\n",
    "    a+b\n",
    "except:\n",
    "    int(a) + int(b)"
   ]
  },
  {
   "cell_type": "code",
   "execution_count": 91,
   "id": "8c9820f7",
   "metadata": {},
   "outputs": [],
   "source": [
    "class Vechile(): \n",
    "    def __init__(self, made, model, fare):\n",
    "        self.made = made\n",
    "        self.model = model\n",
    "        self.fare = fare\n",
    "    \n",
    "    def get(self):\n",
    "        try:\n",
    "            age = 2021 - self.model\n",
    "            return 1000*(1/age)\n",
    "        \n",
    "        except TypeError:\n",
    "            try:\n",
    "                age = 2021 - int(self.model) # here we are forcefully chainging the the str to int\n",
    "                return 1000*(1/age)\n",
    "            except ZeroDivisionError:\n",
    "                age = 2021 - int(self.model) # here we are forcefully chainging the the str to int\n",
    "                return 1000\n",
    "        "
   ]
  },
  {
   "cell_type": "code",
   "execution_count": 92,
   "id": "aaf9f151",
   "metadata": {},
   "outputs": [],
   "source": [
    "y = Vechile(\"test\", '2021', '333')"
   ]
  },
  {
   "cell_type": "code",
   "execution_count": 93,
   "id": "3b2a4b48",
   "metadata": {},
   "outputs": [
    {
     "data": {
      "text/plain": [
       "1000"
      ]
     },
     "execution_count": 93,
     "metadata": {},
     "output_type": "execute_result"
    }
   ],
   "source": [
    "y.get()"
   ]
  },
  {
   "cell_type": "markdown",
   "id": "72341523",
   "metadata": {},
   "source": [
    "## Custom Exception classes"
   ]
  },
  {
   "cell_type": "code",
   "execution_count": 95,
   "id": "a3fdcc63",
   "metadata": {},
   "outputs": [],
   "source": [
    "class negativeCarValue(Exception):\n",
    "    def __init__(self, value, message = \"Car values cant be negative\"):\n",
    "        self.value = value\n",
    "        self.message = message\n",
    "        super().__init__(self.message)\n",
    "        \n",
    "    def __str__(self):\n",
    "        return f'{self.message} --> {self.value}'\n",
    "        \n",
    "    "
   ]
  },
  {
   "cell_type": "code",
   "execution_count": 96,
   "id": "a119ef64",
   "metadata": {},
   "outputs": [
    {
     "ename": "negativeCarValue",
     "evalue": "Car values cant be negative --> -1",
     "output_type": "error",
     "traceback": [
      "\u001b[1;31m---------------------------------------------------------------------------\u001b[0m",
      "\u001b[1;31mnegativeCarValue\u001b[0m                          Traceback (most recent call last)",
      "\u001b[1;32m~\\AppData\\Local\\Temp/ipykernel_3964/1751696861.py\u001b[0m in \u001b[0;36m<module>\u001b[1;34m\u001b[0m\n\u001b[0;32m      1\u001b[0m \u001b[0ma\u001b[0m \u001b[1;33m=\u001b[0m \u001b[1;33m-\u001b[0m\u001b[1;36m1\u001b[0m\u001b[1;33m\u001b[0m\u001b[1;33m\u001b[0m\u001b[0m\n\u001b[0;32m      2\u001b[0m \u001b[1;32mif\u001b[0m \u001b[0ma\u001b[0m \u001b[1;33m<\u001b[0m \u001b[1;36m0\u001b[0m\u001b[1;33m:\u001b[0m\u001b[1;33m\u001b[0m\u001b[1;33m\u001b[0m\u001b[0m\n\u001b[1;32m----> 3\u001b[1;33m     \u001b[1;32mraise\u001b[0m\u001b[1;33m(\u001b[0m\u001b[0mnegativeCarValue\u001b[0m\u001b[1;33m(\u001b[0m\u001b[0ma\u001b[0m\u001b[1;33m)\u001b[0m\u001b[1;33m)\u001b[0m\u001b[1;33m\u001b[0m\u001b[1;33m\u001b[0m\u001b[0m\n\u001b[0m",
      "\u001b[1;31mnegativeCarValue\u001b[0m: Car values cant be negative --> -1"
     ]
    }
   ],
   "source": [
    "a = -1\n",
    "if a < 0:\n",
    "    raise(negativeCarValue(a))"
   ]
  },
  {
   "cell_type": "markdown",
   "id": "47456f5e",
   "metadata": {},
   "source": [
    "# here look at the error carefully this is our own custom made error 😏"
   ]
  },
  {
   "cell_type": "code",
   "execution_count": 99,
   "id": "db80d1f3",
   "metadata": {},
   "outputs": [],
   "source": [
    "class Vechile(): # this is using raise\n",
    "    def __init__(self, make, model, fuel):\n",
    "        self.make = make\n",
    "        self.model = model\n",
    "        self.fuel = fuel\n",
    "        self.current_year = 2022\n",
    "        \n",
    "    def get_value(self):\n",
    "        age = self.current_year - self.model\n",
    "        \n",
    "        if age < 0:\n",
    "            raise negativeCarValue(age)\n",
    "        else:\n",
    "            return 1000*(1/age)"
   ]
  },
  {
   "cell_type": "code",
   "execution_count": 100,
   "id": "594d453a",
   "metadata": {},
   "outputs": [],
   "source": [
    "My = Vechile(\"tesla\", 2019, \"electric\")"
   ]
  },
  {
   "cell_type": "code",
   "execution_count": 102,
   "id": "bf2b1f98",
   "metadata": {},
   "outputs": [
    {
     "data": {
      "text/plain": [
       "333.3333333333333"
      ]
     },
     "execution_count": 102,
     "metadata": {},
     "output_type": "execute_result"
    }
   ],
   "source": [
    "My.get_value()"
   ]
  },
  {
   "cell_type": "code",
   "execution_count": 103,
   "id": "28a60799",
   "metadata": {},
   "outputs": [],
   "source": [
    "My2 = Vechile(\"ford\", 2025, \"petrol\")"
   ]
  },
  {
   "cell_type": "code",
   "execution_count": 107,
   "id": "59084914",
   "metadata": {},
   "outputs": [
    {
     "ename": "negativeCarValue",
     "evalue": "Car values cant be negative --> -3",
     "output_type": "error",
     "traceback": [
      "\u001b[1;31m---------------------------------------------------------------------------\u001b[0m",
      "\u001b[1;31mnegativeCarValue\u001b[0m                          Traceback (most recent call last)",
      "\u001b[1;32m~\\AppData\\Local\\Temp/ipykernel_3964/3089050650.py\u001b[0m in \u001b[0;36m<module>\u001b[1;34m\u001b[0m\n\u001b[1;32m----> 1\u001b[1;33m \u001b[0mMy2\u001b[0m\u001b[1;33m.\u001b[0m\u001b[0mget_value\u001b[0m\u001b[1;33m(\u001b[0m\u001b[1;33m)\u001b[0m \u001b[1;31m# this is a custom exception !! 😏🫂\u001b[0m\u001b[1;33m\u001b[0m\u001b[1;33m\u001b[0m\u001b[0m\n\u001b[0m",
      "\u001b[1;32m~\\AppData\\Local\\Temp/ipykernel_3964/1899063713.py\u001b[0m in \u001b[0;36mget_value\u001b[1;34m(self)\u001b[0m\n\u001b[0;32m     10\u001b[0m \u001b[1;33m\u001b[0m\u001b[0m\n\u001b[0;32m     11\u001b[0m         \u001b[1;32mif\u001b[0m \u001b[0mage\u001b[0m \u001b[1;33m<\u001b[0m \u001b[1;36m0\u001b[0m\u001b[1;33m:\u001b[0m\u001b[1;33m\u001b[0m\u001b[1;33m\u001b[0m\u001b[0m\n\u001b[1;32m---> 12\u001b[1;33m             \u001b[1;32mraise\u001b[0m \u001b[0mnegativeCarValue\u001b[0m\u001b[1;33m(\u001b[0m\u001b[0mage\u001b[0m\u001b[1;33m)\u001b[0m\u001b[1;33m\u001b[0m\u001b[1;33m\u001b[0m\u001b[0m\n\u001b[0m\u001b[0;32m     13\u001b[0m         \u001b[1;32melse\u001b[0m\u001b[1;33m:\u001b[0m\u001b[1;33m\u001b[0m\u001b[1;33m\u001b[0m\u001b[0m\n\u001b[0;32m     14\u001b[0m             \u001b[1;32mreturn\u001b[0m \u001b[1;36m1000\u001b[0m\u001b[1;33m*\u001b[0m\u001b[1;33m(\u001b[0m\u001b[1;36m1\u001b[0m\u001b[1;33m/\u001b[0m\u001b[0mage\u001b[0m\u001b[1;33m)\u001b[0m\u001b[1;33m\u001b[0m\u001b[1;33m\u001b[0m\u001b[0m\n",
      "\u001b[1;31mnegativeCarValue\u001b[0m: Car values cant be negative --> -3"
     ]
    }
   ],
   "source": [
    "My2.get_value() # this is a custom exception !! 😏🫂 "
   ]
  },
  {
   "cell_type": "code",
   "execution_count": 108,
   "id": "de548333",
   "metadata": {},
   "outputs": [],
   "source": [
    "class Vechile():\n",
    "    def __init__(self, make, model, fuel):\n",
    "        self.make = make\n",
    "        self.model = model\n",
    "        self.fuel = fuel\n",
    "        self.current_year = 2022\n",
    "        \n",
    "    def get_value(self):\n",
    "        age = self.current_year - self.model\n",
    "        \n",
    "        try:\n",
    "            if age < 0:\n",
    "                raise negativeCarValue(age)\n",
    "            else:\n",
    "                return 1000*(1/age)\n",
    "        except negativeCarValue as e:\n",
    "            print(\"error ****\")\n",
    "        "
   ]
  },
  {
   "cell_type": "code",
   "execution_count": 112,
   "id": "d270c1f1",
   "metadata": {},
   "outputs": [],
   "source": [
    "My2 = Vechile(\"ford\", 2025, \"petrol\")"
   ]
  },
  {
   "cell_type": "code",
   "execution_count": 114,
   "id": "13dbaa10",
   "metadata": {},
   "outputs": [
    {
     "name": "stdout",
     "output_type": "stream",
     "text": [
      "error ****\n"
     ]
    }
   ],
   "source": [
    "My2.get_value() # this is a custom exception that we made, it preety small to beasue we used try and except !! 😏🫂 "
   ]
  },
  {
   "cell_type": "markdown",
   "id": "d5e803c9",
   "metadata": {},
   "source": [
    "# Else and Finally|"
   ]
  },
  {
   "cell_type": "code",
   "execution_count": 118,
   "id": "9027b383",
   "metadata": {},
   "outputs": [],
   "source": [
    "class negativeCarValue(Exception):\n",
    "    # this will give an exception if the age is negative\n",
    "    def __init__(self, value, message = \"Car values cant be negative\"):\n",
    "        self.value = value\n",
    "        self.message = message\n",
    "        super().__init__(self.message)\n",
    "        \n",
    "    def __str__(self):\n",
    "        return f'{self.message} --> {self.value}'\n",
    "        \n",
    "class carModelYearasString(Exception):\n",
    "    # this will give and exception if the model year is in strings\n",
    "    def __init__(self, value, message = \"Model number is in strings\"):\n",
    "        self.value = value\n",
    "        self.message = message\n",
    "        super().__init__(self.message)\n",
    "        \n",
    "    def __str__(self):\n",
    "        return f'{self.message} --> {self.value}'\n",
    "        \n",
    "        "
   ]
  },
  {
   "cell_type": "code",
   "execution_count": 128,
   "id": "5d1421e4",
   "metadata": {},
   "outputs": [],
   "source": [
    "class Vechile():\n",
    "    def __init__(self, make, model, fuel):\n",
    "        self.make = make\n",
    "        self.model = model\n",
    "        self.fuel = fuel\n",
    "        self.current_year = 2022\n",
    "        self.value = None\n",
    "        \n",
    "    def get_value(self):\n",
    "        \n",
    "        try:\n",
    "            if type(self.model) == str:\n",
    "                status = \"custom\"\n",
    "                raise carModelYearasString(self.model)\n",
    "            elif self.model >= self.current_year:\n",
    "                status = \"custom\"\n",
    "                raise negativeCarValue\n",
    "            else:\n",
    "                self.age = self.current_year - self.model\n",
    "                self.value = 1000*(1/self.age)\n",
    "                status = \"Success\"\n",
    "                \n",
    "        except TypeError:\n",
    "            self.age = self.current_year - self.model\n",
    "            self.value = 1000*(1/self.age)\n",
    "            status = \"inbuilt\"\n",
    "        \n",
    "        else:\n",
    "            print(\" code ran without any error\")\n",
    "            \n",
    "        finally:\n",
    "            if status ==\"custom\":\n",
    "                print(\" code has custom exception\")\n",
    "            elif status == \"inbuilt\":\n",
    "                print(\" code has inbuilt exception\")\n",
    "            else:\n",
    "                print(\" The value without any exceptions - \", self.value)"
   ]
  },
  {
   "cell_type": "code",
   "execution_count": null,
   "id": "ea91b7b4",
   "metadata": {},
   "outputs": [],
   "source": [
    "\n"
   ]
  }
 ],
 "metadata": {
  "kernelspec": {
   "display_name": "Python 3 (ipykernel)",
   "language": "python",
   "name": "python3"
  },
  "language_info": {
   "codemirror_mode": {
    "name": "ipython",
    "version": 3
   },
   "file_extension": ".py",
   "mimetype": "text/x-python",
   "name": "python",
   "nbconvert_exporter": "python",
   "pygments_lexer": "ipython3",
   "version": "3.9.7"
  }
 },
 "nbformat": 4,
 "nbformat_minor": 5
}
