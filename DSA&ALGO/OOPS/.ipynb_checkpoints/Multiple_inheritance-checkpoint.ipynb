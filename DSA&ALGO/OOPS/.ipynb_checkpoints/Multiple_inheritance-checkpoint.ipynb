{
 "cells": [
  {
   "cell_type": "code",
   "execution_count": 1,
   "id": "66e117e0",
   "metadata": {},
   "outputs": [],
   "source": [
    "# Multiple_inheritacne has 2 types:\n",
    "# Multilevel Inheritance ands Multiple Inheritance"
   ]
  },
  {
   "cell_type": "code",
   "execution_count": 10,
   "id": "92bd2a07",
   "metadata": {},
   "outputs": [],
   "source": [
    "# Parent class\n",
    "class Vechile():\n",
    "    \n",
    "    def __init__(self, make, model, fuel):\n",
    "        \n",
    "        self.make = make\n",
    "        self.model = model\n",
    "        self.fuel = fuel\n",
    "        \n",
    "# Child class\n",
    "class Car(Vechile):\n",
    "    def __init__(self, make, model, fuel, ac, sunproof):\n",
    "        \n",
    "        super(Car, self).__init__(make,model,fuel)\n",
    "        \n",
    "        self.ac = ac\n",
    "        self.sunproof = sunproof\n",
    "        \n",
    "#Grandchild class\n",
    "class Electric(Car):\n",
    "    def __init__(self, make, model, fuel, ac, sunproof, distance):\n",
    "        \n",
    "        super(Electric, self).__init__(make, model, fuel, ac, sunproof)\n",
    "        \n",
    "        self.distance = distance"
   ]
  },
  {
   "cell_type": "code",
   "execution_count": 12,
   "id": "d82e933c",
   "metadata": {},
   "outputs": [],
   "source": [
    "Myobj = Electric(\"Tesla\", 2020, \"electric\", True, True, 300)"
   ]
  },
  {
   "cell_type": "code",
   "execution_count": 14,
   "id": "c4810f01",
   "metadata": {},
   "outputs": [
    {
     "data": {
      "text/plain": [
       "{'make': 'Tesla',\n",
       " 'model': 2020,\n",
       " 'fuel': 'electric',\n",
       " 'ac': True,\n",
       " 'sunproof': True,\n",
       " 'distance': 300}"
      ]
     },
     "execution_count": 14,
     "metadata": {},
     "output_type": "execute_result"
    }
   ],
   "source": [
    "Myobj.__dict__ # here we are accessing the data from multiple classes"
   ]
  },
  {
   "cell_type": "code",
   "execution_count": null,
   "id": "bd360d18",
   "metadata": {},
   "outputs": [],
   "source": []
  }
 ],
 "metadata": {
  "kernelspec": {
   "display_name": "Python 3 (ipykernel)",
   "language": "python",
   "name": "python3"
  },
  "language_info": {
   "codemirror_mode": {
    "name": "ipython",
    "version": 3
   },
   "file_extension": ".py",
   "mimetype": "text/x-python",
   "name": "python",
   "nbconvert_exporter": "python",
   "pygments_lexer": "ipython3",
   "version": "3.9.7"
  }
 },
 "nbformat": 4,
 "nbformat_minor": 5
}
