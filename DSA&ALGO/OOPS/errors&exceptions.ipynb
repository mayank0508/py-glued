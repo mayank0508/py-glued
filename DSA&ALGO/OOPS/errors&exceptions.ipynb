{
 "cells": [
  {
   "cell_type": "code",
   "execution_count": 2,
   "id": "5dde6edb",
   "metadata": {},
   "outputs": [
    {
     "ename": "SyntaxError",
     "evalue": "unexpected EOF while parsing (Temp/ipykernel_17792/2077722022.py, line 1)",
     "output_type": "error",
     "traceback": [
      "\u001b[1;36m  File \u001b[1;32m\"C:\\Users\\Lenovo\\AppData\\Local\\Temp/ipykernel_17792/2077722022.py\"\u001b[1;36m, line \u001b[1;32m1\u001b[0m\n\u001b[1;33m    a = {8 # this is a syntax error\u001b[0m\n\u001b[1;37m                                   ^\u001b[0m\n\u001b[1;31mSyntaxError\u001b[0m\u001b[1;31m:\u001b[0m unexpected EOF while parsing\n"
     ]
    }
   ],
   "source": [
    "a = {8 # this is a syntax error"
   ]
  },
  {
   "cell_type": "code",
   "execution_count": 4,
   "id": "8cb10c96",
   "metadata": {},
   "outputs": [],
   "source": [
    "# 16GB\n",
    "# read file (sample.txt) ------> 100GB\n",
    "# this will give memeory error"
   ]
  },
  {
   "cell_type": "code",
   "execution_count": null,
   "id": "2fb848f2",
   "metadata": {},
   "outputs": [],
   "source": [
    "#def do():\n",
    " #   do()\n",
    "    \n",
    "#do()                  # this will give the recurssion error"
   ]
  },
  {
   "cell_type": "code",
   "execution_count": 2,
   "id": "035b271c",
   "metadata": {},
   "outputs": [
    {
     "ename": "IndentationError",
     "evalue": "unexpected indent (Temp/ipykernel_3964/973368139.py, line 2)",
     "output_type": "error",
     "traceback": [
      "\u001b[1;36m  File \u001b[1;32m\"C:\\Users\\Lenovo\\AppData\\Local\\Temp/ipykernel_3964/973368139.py\"\u001b[1;36m, line \u001b[1;32m2\u001b[0m\n\u001b[1;33m    b = 1  # indentation errror, since py is  a indentation specific language\u001b[0m\n\u001b[1;37m    ^\u001b[0m\n\u001b[1;31mIndentationError\u001b[0m\u001b[1;31m:\u001b[0m unexpected indent\n"
     ]
    }
   ],
   "source": [
    "a = 1\n",
    "     b = 1  # indentation errror, since py is  a indentation specific language"
   ]
  },
  {
   "cell_type": "code",
   "execution_count": 4,
   "id": "0421f77e",
   "metadata": {},
   "outputs": [
    {
     "ename": "TypeError",
     "evalue": "unsupported operand type(s) for +: 'int' and 'str'",
     "output_type": "error",
     "traceback": [
      "\u001b[1;31m---------------------------------------------------------------------------\u001b[0m",
      "\u001b[1;31mTypeError\u001b[0m                                 Traceback (most recent call last)",
      "\u001b[1;32m~\\AppData\\Local\\Temp/ipykernel_3964/2922410702.py\u001b[0m in \u001b[0;36m<module>\u001b[1;34m\u001b[0m\n\u001b[1;32m----> 1\u001b[1;33m \u001b[1;36m1\u001b[0m \u001b[1;33m+\u001b[0m \u001b[1;34m\"lavi\"\u001b[0m \u001b[1;31m#typerrro\u001b[0m\u001b[1;33m\u001b[0m\u001b[1;33m\u001b[0m\u001b[0m\n\u001b[0m",
      "\u001b[1;31mTypeError\u001b[0m: unsupported operand type(s) for +: 'int' and 'str'"
     ]
    }
   ],
   "source": [
    "1 + \"lavi\" #typerrro"
   ]
  },
  {
   "cell_type": "code",
   "execution_count": 6,
   "id": "ca5da9bc",
   "metadata": {},
   "outputs": [
    {
     "ename": "ZeroDivisionError",
     "evalue": "division by zero",
     "output_type": "error",
     "traceback": [
      "\u001b[1;31m---------------------------------------------------------------------------\u001b[0m",
      "\u001b[1;31mZeroDivisionError\u001b[0m                         Traceback (most recent call last)",
      "\u001b[1;32m~\\AppData\\Local\\Temp/ipykernel_3964/3363538974.py\u001b[0m in \u001b[0;36m<module>\u001b[1;34m\u001b[0m\n\u001b[1;32m----> 1\u001b[1;33m \u001b[1;36m3\u001b[0m\u001b[1;33m/\u001b[0m\u001b[1;36m0\u001b[0m \u001b[1;31m#zero dvision error\u001b[0m\u001b[1;33m\u001b[0m\u001b[1;33m\u001b[0m\u001b[0m\n\u001b[0m",
      "\u001b[1;31mZeroDivisionError\u001b[0m: division by zero"
     ]
    }
   ],
   "source": [
    "3/0 #zero dvision error"
   ]
  },
  {
   "cell_type": "markdown",
   "id": "3ccc7167",
   "metadata": {},
   "source": [
    "# Error Handling"
   ]
  },
  {
   "cell_type": "code",
   "execution_count": 83,
   "id": "722c5e56",
   "metadata": {},
   "outputs": [],
   "source": [
    "try:\n",
    "    a = 1\n",
    "    b = 2\n",
    "    a+b\n",
    "except:\n",
    "    int(a) + int(b)"
   ]
  },
  {
   "cell_type": "code",
   "execution_count": 91,
   "id": "cd5dd3c2",
   "metadata": {},
   "outputs": [],
   "source": [
    "class Vechile(): \n",
    "    def __init__(self, made, model, fare):\n",
    "        self.made = made\n",
    "        self.model = model\n",
    "        self.fare = fare\n",
    "    \n",
    "    def get(self):\n",
    "        try:\n",
    "            age = 2021 - self.model\n",
    "            return 1000*(1/age)\n",
    "        \n",
    "        except TypeError:\n",
    "            try:\n",
    "                age = 2021 - int(self.model) # here we are forcefully chainging the the str to int\n",
    "                return 1000*(1/age)\n",
    "            except ZeroDivisionError:\n",
    "                age = 2021 - int(self.model) # here we are forcefully chainging the the str to int\n",
    "                return 1000\n",
    "        "
   ]
  },
  {
   "cell_type": "code",
   "execution_count": 92,
   "id": "c1fb4422",
   "metadata": {},
   "outputs": [],
   "source": [
    "y = Vechile(\"test\", '2021', '333')"
   ]
  },
  {
   "cell_type": "code",
   "execution_count": 93,
   "id": "f9806692",
   "metadata": {},
   "outputs": [
    {
     "data": {
      "text/plain": [
       "1000"
      ]
     },
     "execution_count": 93,
     "metadata": {},
     "output_type": "execute_result"
    }
   ],
   "source": [
    "y.get()"
   ]
  },
  {
   "cell_type": "markdown",
   "id": "2a3b7b79",
   "metadata": {},
   "source": [
    "## Custom Exception classes"
   ]
  },
  {
   "cell_type": "code",
   "execution_count": 95,
   "id": "8df8fb57",
   "metadata": {},
   "outputs": [],
   "source": [
    "class negativeCarValue(Exception):\n",
    "    def __init__(self, value, message = \"Car values cant be negative\"):\n",
    "        self.value = value\n",
    "        self.message = message\n",
    "        super().__init__(self.message)\n",
    "        \n",
    "    def __str__(self):\n",
    "        return f'{self.message} --> {self.value}'\n",
    "        \n",
    "    "
   ]
  },
  {
   "cell_type": "code",
   "execution_count": 96,
   "id": "a83e9dd5",
   "metadata": {},
   "outputs": [
    {
     "ename": "negativeCarValue",
     "evalue": "Car values cant be negative --> -1",
     "output_type": "error",
     "traceback": [
      "\u001b[1;31m---------------------------------------------------------------------------\u001b[0m",
      "\u001b[1;31mnegativeCarValue\u001b[0m                          Traceback (most recent call last)",
      "\u001b[1;32m~\\AppData\\Local\\Temp/ipykernel_3964/1751696861.py\u001b[0m in \u001b[0;36m<module>\u001b[1;34m\u001b[0m\n\u001b[0;32m      1\u001b[0m \u001b[0ma\u001b[0m \u001b[1;33m=\u001b[0m \u001b[1;33m-\u001b[0m\u001b[1;36m1\u001b[0m\u001b[1;33m\u001b[0m\u001b[1;33m\u001b[0m\u001b[0m\n\u001b[0;32m      2\u001b[0m \u001b[1;32mif\u001b[0m \u001b[0ma\u001b[0m \u001b[1;33m<\u001b[0m \u001b[1;36m0\u001b[0m\u001b[1;33m:\u001b[0m\u001b[1;33m\u001b[0m\u001b[1;33m\u001b[0m\u001b[0m\n\u001b[1;32m----> 3\u001b[1;33m     \u001b[1;32mraise\u001b[0m\u001b[1;33m(\u001b[0m\u001b[0mnegativeCarValue\u001b[0m\u001b[1;33m(\u001b[0m\u001b[0ma\u001b[0m\u001b[1;33m)\u001b[0m\u001b[1;33m)\u001b[0m\u001b[1;33m\u001b[0m\u001b[1;33m\u001b[0m\u001b[0m\n\u001b[0m",
      "\u001b[1;31mnegativeCarValue\u001b[0m: Car values cant be negative --> -1"
     ]
    }
   ],
   "source": [
    "a = -1\n",
    "if a < 0:\n",
    "    raise(negativeCarValue(a))"
   ]
  },
  {
   "cell_type": "markdown",
   "id": "3e68209d",
   "metadata": {},
   "source": [
    "# here look at the error carefully this is our own custom made error 😏"
   ]
  },
  {
   "cell_type": "code",
   "execution_count": 99,
   "id": "fe876927",
   "metadata": {},
   "outputs": [],
   "source": [
    "class Vechile():\n",
    "    def __init__(self, make, model, fuel):\n",
    "        self.make = make\n",
    "        self.model = model\n",
    "        self.fuel = fuel\n",
    "        self.current_year = 2022\n",
    "        \n",
    "    def get_value(self):\n",
    "        age = self.current_year - self.model\n",
    "        \n",
    "        if age < 0:\n",
    "            raise negativeCarValue(age)\n",
    "        else:\n",
    "            return 1000*(1/age)"
   ]
  },
  {
   "cell_type": "code",
   "execution_count": 100,
   "id": "1b3a5943",
   "metadata": {},
   "outputs": [],
   "source": [
    "My = Vechile(\"tesla\", 2019, \"electric\")"
   ]
  },
  {
   "cell_type": "code",
   "execution_count": 102,
   "id": "f722548d",
   "metadata": {},
   "outputs": [
    {
     "data": {
      "text/plain": [
       "333.3333333333333"
      ]
     },
     "execution_count": 102,
     "metadata": {},
     "output_type": "execute_result"
    }
   ],
   "source": [
    "My.get_value()"
   ]
  },
  {
   "cell_type": "code",
   "execution_count": 103,
   "id": "11e67153",
   "metadata": {},
   "outputs": [],
   "source": [
    "My2 = Vechile(\"ford\", 2025, \"petrol\")"
   ]
  },
  {
   "cell_type": "code",
   "execution_count": null,
   "id": "343f69be",
   "metadata": {},
   "outputs": [],
   "source": [
    "My2"
   ]
  }
 ],
 "metadata": {
  "kernelspec": {
   "display_name": "Python 3 (ipykernel)",
   "language": "python",
   "name": "python3"
  },
  "language_info": {
   "codemirror_mode": {
    "name": "ipython",
    "version": 3
   },
   "file_extension": ".py",
   "mimetype": "text/x-python",
   "name": "python",
   "nbconvert_exporter": "python",
   "pygments_lexer": "ipython3",
   "version": "3.9.7"
  }
 },
 "nbformat": 4,
 "nbformat_minor": 5
}
