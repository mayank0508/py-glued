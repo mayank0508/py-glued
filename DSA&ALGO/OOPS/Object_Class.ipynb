{
 "cells": [
  {
   "cell_type": "code",
   "execution_count": 1,
   "id": "a3bf2dae",
   "metadata": {},
   "outputs": [],
   "source": [
    "# there are a total of 3 methods that the object class gives, i.e \n",
    "# __new__\n",
    "# __dict__\n",
    "# __str__"
   ]
  },
  {
   "cell_type": "code",
   "execution_count": 20,
   "id": "b4cbcd31",
   "metadata": {},
   "outputs": [
    {
     "name": "stdout",
     "output_type": "stream",
     "text": [
      "Ayo wtf man keep the hustel up fan, gotta do something big man, now focus bitch🐚\n"
     ]
    }
   ],
   "source": [
    "class Car(object):\n",
    "    \n",
    "    def __init__(self,model):\n",
    "        self.__model = model\n",
    "        \n",
    "    def __str__(self):\n",
    "        return \"Ayo wtf man keep the hustel up fan, gotta do something big man, now focus bitch🐚\"\n",
    "    \n",
    "c = Car(\"teslu\")\n",
    "print(c)"
   ]
  },
  {
   "cell_type": "code",
   "execution_count": 21,
   "id": "5388f57e",
   "metadata": {},
   "outputs": [],
   "source": [
    "# you can see that the __str__ method is used to send the description of the class"
   ]
  },
  {
   "cell_type": "code",
   "execution_count": null,
   "id": "1a76167a",
   "metadata": {},
   "outputs": [],
   "source": []
  }
 ],
 "metadata": {
  "kernelspec": {
   "display_name": "Python 3 (ipykernel)",
   "language": "python",
   "name": "python3"
  },
  "language_info": {
   "codemirror_mode": {
    "name": "ipython",
    "version": 3
   },
   "file_extension": ".py",
   "mimetype": "text/x-python",
   "name": "python",
   "nbconvert_exporter": "python",
   "pygments_lexer": "ipython3",
   "version": "3.9.7"
  }
 },
 "nbformat": 4,
 "nbformat_minor": 5
}
