{
 "cells": [
  {
   "cell_type": "markdown",
   "id": "8f919331",
   "metadata": {},
   "source": [
    "## Modifiers"
   ]
  },
  {
   "cell_type": "code",
   "execution_count": 26,
   "id": "e436cfb2",
   "metadata": {},
   "outputs": [],
   "source": [
    "class Expenss:\n",
    "    # Class Attributes\n",
    "    expensee_v_y = 0.1\n",
    "    \"\"\"this is a expensee tracker\"\"\"\n",
    "    def __init__(self,t_c,o_b,budget):\n",
    "        #Instance/Object Attributes\n",
    "        \n",
    "        # Public attr\n",
    "        self.t_c = t_c # here you need to give the same name that you gave in the __init__ function\n",
    "        \n",
    "        \n",
    "        # private attr\n",
    "        self.__o_b = o_b\n",
    "        self.__budget = budget\n",
    "        \n",
    "    #instance method && it is a private method\n",
    "    def __get_orignal_method(self): # self is very imp here because allows us to access the class\n",
    "        return self.__o_b\n",
    "    \n",
    "    #instace method\n",
    "    def check_limit(self, limit = 10000):\n",
    "        if self.budget >= 10000:\n",
    "            return True\n",
    "        else:\n",
    "            return \"this is one has exceeded the limit\"\n",
    "        \n",
    "    @staticmethod # it is neccasry !\n",
    "    def convert_amount(amount): #since it does not have any self so it is not able to access any kind of attr\n",
    "        return float(amount)\n",
    "    \n",
    "    \n",
    "    # Factory Method (they are capable of making new instance/obj of classes)\n",
    "    @classmethod\n",
    "    def get_attrfromstr(cls, diary_e:str):\n",
    "        t_c, o_b, budget = diary_e.split(\" \")\n",
    "        \n",
    "        # here is the butification of things\n",
    "        return Expenss(t_c.capitalize(), cls.convert_amount(o_b), cls.convert_amount(budget))\n"
   ]
  },
  {
   "cell_type": "code",
   "execution_count": 27,
   "id": "59b99646",
   "metadata": {},
   "outputs": [],
   "source": [
    "home = Expenss(\"home\", 0, 1000)"
   ]
  },
  {
   "cell_type": "code",
   "execution_count": 28,
   "id": "3e027317",
   "metadata": {},
   "outputs": [
    {
     "data": {
      "text/plain": [
       "'home'"
      ]
     },
     "execution_count": 28,
     "metadata": {},
     "output_type": "execute_result"
    }
   ],
   "source": [
    "home.t_c # so since this is a public attr so it is accessible"
   ]
  },
  {
   "cell_type": "code",
   "execution_count": 29,
   "id": "f90216d2",
   "metadata": {},
   "outputs": [
    {
     "ename": "AttributeError",
     "evalue": "'Expenss' object has no attribute 'o_b'",
     "output_type": "error",
     "traceback": [
      "\u001b[1;31m---------------------------------------------------------------------------\u001b[0m",
      "\u001b[1;31mAttributeError\u001b[0m                            Traceback (most recent call last)",
      "\u001b[1;32m~\\AppData\\Local\\Temp/ipykernel_52888/3039438059.py\u001b[0m in \u001b[0;36m<module>\u001b[1;34m\u001b[0m\n\u001b[1;32m----> 1\u001b[1;33m \u001b[0mhome\u001b[0m\u001b[1;33m.\u001b[0m\u001b[0mo_b\u001b[0m \u001b[1;31m# so since this is a private  attr so it is unaccessible\u001b[0m\u001b[1;33m\u001b[0m\u001b[1;33m\u001b[0m\u001b[0m\n\u001b[0m",
      "\u001b[1;31mAttributeError\u001b[0m: 'Expenss' object has no attribute 'o_b'"
     ]
    }
   ],
   "source": [
    "home.o_b # so since this is a private  attr so it is unaccessible"
   ]
  },
  {
   "cell_type": "code",
   "execution_count": 30,
   "id": "64a975ea",
   "metadata": {},
   "outputs": [
    {
     "ename": "AttributeError",
     "evalue": "'Expenss' object has no attribute 'budget'",
     "output_type": "error",
     "traceback": [
      "\u001b[1;31m---------------------------------------------------------------------------\u001b[0m",
      "\u001b[1;31mAttributeError\u001b[0m                            Traceback (most recent call last)",
      "\u001b[1;32m~\\AppData\\Local\\Temp/ipykernel_52888/2286631631.py\u001b[0m in \u001b[0;36m<module>\u001b[1;34m\u001b[0m\n\u001b[1;32m----> 1\u001b[1;33m \u001b[0mhome\u001b[0m\u001b[1;33m.\u001b[0m\u001b[0mbudget\u001b[0m \u001b[1;31m# so since this is a private  attr so it is unaccessible\u001b[0m\u001b[1;33m\u001b[0m\u001b[1;33m\u001b[0m\u001b[0m\n\u001b[0m",
      "\u001b[1;31mAttributeError\u001b[0m: 'Expenss' object has no attribute 'budget'"
     ]
    }
   ],
   "source": [
    "home.budget # so since this is a private  attr so it is unaccessible"
   ]
  },
  {
   "cell_type": "code",
   "execution_count": 31,
   "id": "774f34ea",
   "metadata": {},
   "outputs": [
    {
     "ename": "AttributeError",
     "evalue": "'Expenss' object has no attribute '__get_orignal_method'",
     "output_type": "error",
     "traceback": [
      "\u001b[1;31m---------------------------------------------------------------------------\u001b[0m",
      "\u001b[1;31mAttributeError\u001b[0m                            Traceback (most recent call last)",
      "\u001b[1;32m~\\AppData\\Local\\Temp/ipykernel_52888/1180914310.py\u001b[0m in \u001b[0;36m<module>\u001b[1;34m\u001b[0m\n\u001b[1;32m----> 1\u001b[1;33m \u001b[0mhome\u001b[0m\u001b[1;33m.\u001b[0m\u001b[0m__get_orignal_method\u001b[0m\u001b[1;33m(\u001b[0m\u001b[1;33m)\u001b[0m \u001b[1;31m# here you can see that even this particular mehtod that is not accesible\u001b[0m\u001b[1;33m\u001b[0m\u001b[1;33m\u001b[0m\u001b[0m\n\u001b[0m",
      "\u001b[1;31mAttributeError\u001b[0m: 'Expenss' object has no attribute '__get_orignal_method'"
     ]
    }
   ],
   "source": [
    "home.__get_orignal_method() # here you can see that even this particular mehtod that is not accesible"
   ]
  },
  {
   "cell_type": "code",
   "execution_count": 32,
   "id": "67061c66",
   "metadata": {},
   "outputs": [
    {
     "data": {
      "text/plain": [
       "{'t_c': 'home', '_Expenss__o_b': 0, '_Expenss__budget': 1000}"
      ]
     },
     "execution_count": 32,
     "metadata": {},
     "output_type": "execute_result"
    }
   ],
   "source": [
    "home.__dict__ # here u can see that o_b and budget and have _Expensee infornt of it which makes it sure that those are private"
   ]
  },
  {
   "cell_type": "code",
   "execution_count": 33,
   "id": "c9d12cbf",
   "metadata": {},
   "outputs": [
    {
     "data": {
      "text/plain": [
       "0"
      ]
     },
     "execution_count": 33,
     "metadata": {},
     "output_type": "execute_result"
    }
   ],
   "source": [
    "home._Expenss__o_b"
   ]
  },
  {
   "cell_type": "code",
   "execution_count": 34,
   "id": "47931c43",
   "metadata": {},
   "outputs": [
    {
     "data": {
      "text/plain": [
       "1000"
      ]
     },
     "execution_count": 34,
     "metadata": {},
     "output_type": "execute_result"
    }
   ],
   "source": [
    "home._Expenss__budget # here we can acces even the private ones using the ._Expense ref"
   ]
  },
  {
   "cell_type": "code",
   "execution_count": 35,
   "id": "e76aeedd",
   "metadata": {},
   "outputs": [
    {
     "data": {
      "text/plain": [
       "0"
      ]
     },
     "execution_count": 35,
     "metadata": {},
     "output_type": "execute_result"
    }
   ],
   "source": [
    "home._Expenss__get_orignal_method()"
   ]
  },
  {
   "cell_type": "code",
   "execution_count": 39,
   "id": "3caa4a2b",
   "metadata": {},
   "outputs": [
    {
     "data": {
      "text/plain": [
       "100.0"
      ]
     },
     "execution_count": 39,
     "metadata": {},
     "output_type": "execute_result"
    }
   ],
   "source": [
    "home.convert_amount(100)"
   ]
  },
  {
   "cell_type": "code",
   "execution_count": null,
   "id": "8075567e",
   "metadata": {},
   "outputs": [],
   "source": []
  }
 ],
 "metadata": {
  "kernelspec": {
   "display_name": "Python 3 (ipykernel)",
   "language": "python",
   "name": "python3"
  },
  "language_info": {
   "codemirror_mode": {
    "name": "ipython",
    "version": 3
   },
   "file_extension": ".py",
   "mimetype": "text/x-python",
   "name": "python",
   "nbconvert_exporter": "python",
   "pygments_lexer": "ipython3",
   "version": "3.9.7"
  }
 },
 "nbformat": 4,
 "nbformat_minor": 5
}
