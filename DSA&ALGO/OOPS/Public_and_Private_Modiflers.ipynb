{
 "cells": [
  {
   "cell_type": "markdown",
   "id": "c729df28",
   "metadata": {},
   "source": [
    "## Modifiers"
   ]
  },
  {
   "cell_type": "code",
   "execution_count": 40,
   "id": "4e085ece",
   "metadata": {},
   "outputs": [],
   "source": [
    "class Expenss:\n",
    "    # Class Attributes\n",
    "    expensee_v_y = 0.1\n",
    "    \"\"\"this is a expensee tracker\"\"\"\n",
    "    def __init__(self,t_c,o_b,budget):\n",
    "        #Instance/Object Attributes\n",
    "        \n",
    "        # Public attr\n",
    "        self.t_c = t_c # here you need to give the same name that you gave in the __init__ function\n",
    "        \n",
    "        \n",
    "        # private attr\n",
    "        self.__o_b = o_b\n",
    "        self.__budget = budget\n",
    "        \n",
    "    #instance method && it is a private method\n",
    "    def __get_orignal_method(self): # self is very imp here because allows us to access the class\n",
    "        return self.__o_b\n",
    "    \n",
    "    #instace method\n",
    "    def check_limit(self, limit = 10000):\n",
    "        if self.budget >= 10000:\n",
    "            return True\n",
    "        else:\n",
    "            return \"this is one has exceeded the limit\"\n",
    "     \n",
    "    \n",
    "    ## Here we have the method changes into private\n",
    "    @staticmethod # it is neccasry !\n",
    "    def __convert_amount(amount): #since it does not have any self so it is not able to access any kind of attr\n",
    "        return float(amount)\n",
    "    \n",
    "    \n",
    "    # Factory Method (they are capable of making new instance/obj of classes)\n",
    "    @classmethod\n",
    "    def get_attrfromstr(cls, diary_e:str):\n",
    "        t_c, o_b, budget = diary_e.split(\" \")\n",
    "        \n",
    "        # here is the butification of things\n",
    "        return Expenss(t_c.capitalize(), cls.convert_amount(o_b), cls.convert_amount(budget))\n"
   ]
  },
  {
   "cell_type": "code",
   "execution_count": 41,
   "id": "fc9910f9",
   "metadata": {},
   "outputs": [],
   "source": [
    "home = Expenss(\"home\", 0, 1000)"
   ]
  },
  {
   "cell_type": "code",
   "execution_count": 42,
   "id": "e0718758",
   "metadata": {},
   "outputs": [
    {
     "data": {
      "text/plain": [
       "'home'"
      ]
     },
     "execution_count": 42,
     "metadata": {},
     "output_type": "execute_result"
    }
   ],
   "source": [
    "home.t_c # so since this is a public attr so it is accessible"
   ]
  },
  {
   "cell_type": "code",
   "execution_count": 43,
   "id": "4a2233a3",
   "metadata": {},
   "outputs": [
    {
     "ename": "AttributeError",
     "evalue": "'Expenss' object has no attribute 'o_b'",
     "output_type": "error",
     "traceback": [
      "\u001b[1;31m---------------------------------------------------------------------------\u001b[0m",
      "\u001b[1;31mAttributeError\u001b[0m                            Traceback (most recent call last)",
      "\u001b[1;32m~\\AppData\\Local\\Temp/ipykernel_52888/3039438059.py\u001b[0m in \u001b[0;36m<module>\u001b[1;34m\u001b[0m\n\u001b[1;32m----> 1\u001b[1;33m \u001b[0mhome\u001b[0m\u001b[1;33m.\u001b[0m\u001b[0mo_b\u001b[0m \u001b[1;31m# so since this is a private  attr so it is unaccessible\u001b[0m\u001b[1;33m\u001b[0m\u001b[1;33m\u001b[0m\u001b[0m\n\u001b[0m",
      "\u001b[1;31mAttributeError\u001b[0m: 'Expenss' object has no attribute 'o_b'"
     ]
    }
   ],
   "source": [
    "home.o_b # so since this is a private  attr so it is unaccessible"
   ]
  },
  {
   "cell_type": "code",
   "execution_count": 44,
   "id": "697cd68f",
   "metadata": {},
   "outputs": [
    {
     "ename": "AttributeError",
     "evalue": "'Expenss' object has no attribute 'budget'",
     "output_type": "error",
     "traceback": [
      "\u001b[1;31m---------------------------------------------------------------------------\u001b[0m",
      "\u001b[1;31mAttributeError\u001b[0m                            Traceback (most recent call last)",
      "\u001b[1;32m~\\AppData\\Local\\Temp/ipykernel_52888/2286631631.py\u001b[0m in \u001b[0;36m<module>\u001b[1;34m\u001b[0m\n\u001b[1;32m----> 1\u001b[1;33m \u001b[0mhome\u001b[0m\u001b[1;33m.\u001b[0m\u001b[0mbudget\u001b[0m \u001b[1;31m# so since this is a private  attr so it is unaccessible\u001b[0m\u001b[1;33m\u001b[0m\u001b[1;33m\u001b[0m\u001b[0m\n\u001b[0m",
      "\u001b[1;31mAttributeError\u001b[0m: 'Expenss' object has no attribute 'budget'"
     ]
    }
   ],
   "source": [
    "home.budget # so since this is a private  attr so it is unaccessible"
   ]
  },
  {
   "cell_type": "code",
   "execution_count": 45,
   "id": "d809cad9",
   "metadata": {},
   "outputs": [
    {
     "ename": "AttributeError",
     "evalue": "'Expenss' object has no attribute '__get_orignal_method'",
     "output_type": "error",
     "traceback": [
      "\u001b[1;31m---------------------------------------------------------------------------\u001b[0m",
      "\u001b[1;31mAttributeError\u001b[0m                            Traceback (most recent call last)",
      "\u001b[1;32m~\\AppData\\Local\\Temp/ipykernel_52888/1180914310.py\u001b[0m in \u001b[0;36m<module>\u001b[1;34m\u001b[0m\n\u001b[1;32m----> 1\u001b[1;33m \u001b[0mhome\u001b[0m\u001b[1;33m.\u001b[0m\u001b[0m__get_orignal_method\u001b[0m\u001b[1;33m(\u001b[0m\u001b[1;33m)\u001b[0m \u001b[1;31m# here you can see that even this particular mehtod that is not accesible\u001b[0m\u001b[1;33m\u001b[0m\u001b[1;33m\u001b[0m\u001b[0m\n\u001b[0m",
      "\u001b[1;31mAttributeError\u001b[0m: 'Expenss' object has no attribute '__get_orignal_method'"
     ]
    }
   ],
   "source": [
    "home.__get_orignal_method() # here you can see that even this particular mehtod that is not accesible"
   ]
  },
  {
   "cell_type": "code",
   "execution_count": 46,
   "id": "6bffc6fe",
   "metadata": {},
   "outputs": [
    {
     "data": {
      "text/plain": [
       "{'t_c': 'home', '_Expenss__o_b': 0, '_Expenss__budget': 1000}"
      ]
     },
     "execution_count": 46,
     "metadata": {},
     "output_type": "execute_result"
    }
   ],
   "source": [
    "home.__dict__ # here u can see that o_b and budget and have _Expensee infornt of it which makes it sure that those are private"
   ]
  },
  {
   "cell_type": "code",
   "execution_count": 47,
   "id": "66a5fe50",
   "metadata": {},
   "outputs": [
    {
     "data": {
      "text/plain": [
       "0"
      ]
     },
     "execution_count": 47,
     "metadata": {},
     "output_type": "execute_result"
    }
   ],
   "source": [
    "home._Expenss__o_b"
   ]
  },
  {
   "cell_type": "code",
   "execution_count": 48,
   "id": "f235da47",
   "metadata": {},
   "outputs": [
    {
     "data": {
      "text/plain": [
       "1000"
      ]
     },
     "execution_count": 48,
     "metadata": {},
     "output_type": "execute_result"
    }
   ],
   "source": [
    "home._Expenss__budget # here we can acces even the private ones using the ._Expense ref"
   ]
  },
  {
   "cell_type": "code",
   "execution_count": 49,
   "id": "ce2e0170",
   "metadata": {},
   "outputs": [
    {
     "data": {
      "text/plain": [
       "0"
      ]
     },
     "execution_count": 49,
     "metadata": {},
     "output_type": "execute_result"
    }
   ],
   "source": [
    "home._Expenss__get_orignal_method()"
   ]
  },
  {
   "cell_type": "code",
   "execution_count": 53,
   "id": "418603fb",
   "metadata": {},
   "outputs": [
    {
     "data": {
      "text/plain": [
       "1000.0"
      ]
     },
     "execution_count": 53,
     "metadata": {},
     "output_type": "execute_result"
    }
   ],
   "source": [
    "home._Expenss__convert_amount(1000) # even here we can acces a method using the _Expensee method"
   ]
  },
  {
   "cell_type": "code",
   "execution_count": null,
   "id": "38d61d71",
   "metadata": {},
   "outputs": [],
   "source": [
    "home."
   ]
  }
 ],
 "metadata": {
  "kernelspec": {
   "display_name": "Python 3 (ipykernel)",
   "language": "python",
   "name": "python3"
  },
  "language_info": {
   "codemirror_mode": {
    "name": "ipython",
    "version": 3
   },
   "file_extension": ".py",
   "mimetype": "text/x-python",
   "name": "python",
   "nbconvert_exporter": "python",
   "pygments_lexer": "ipython3",
   "version": "3.9.7"
  }
 },
 "nbformat": 4,
 "nbformat_minor": 5
}
