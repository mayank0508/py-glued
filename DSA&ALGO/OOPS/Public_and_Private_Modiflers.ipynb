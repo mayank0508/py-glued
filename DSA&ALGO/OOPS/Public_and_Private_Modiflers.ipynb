{
 "cells": [
  {
   "cell_type": "markdown",
   "id": "abde83f4",
   "metadata": {},
   "source": [
    "## Modifiers"
   ]
  },
  {
   "cell_type": "code",
   "execution_count": null,
   "id": "1dff7dff",
   "metadata": {},
   "outputs": [],
   "source": [
    "class Expenss:\n",
    "    # Class Attributes\n",
    "    expensee_v_y = 0.1\n",
    "    \"\"\"this is a expensee tracker\"\"\"\n",
    "    def __init__(self,t_c,o_b,budget):\n",
    "        #Instance/Object Attributes\n",
    "        self.t_c = t_c # here you need to give the same name that you gave in the __init__ function\n",
    "        self.o_b = o_b\n",
    "        self.budget = budget\n",
    "        \n",
    "    #instance method\n",
    "    def get_orignal_method(self): # self is very imp here because allows us to access the class\n",
    "        return self.o_b\n",
    "    \n",
    "    #instace method\n",
    "    def check_limit(self, limit = 10000):\n",
    "        if self.budget >= 10000:\n",
    "            return True\n",
    "        else:\n",
    "            return \"this is one has exceeded the limit\"\n",
    "        \n",
    "    @staticmethod # it is neccasry !\n",
    "    def convert_amount(amount): #since it does not have any self so it is not able to access any kind of attr\n",
    "        return float(amount)\n",
    "    \n",
    "    \n",
    "    # Factory Method (they are capable of making new instance/obj of classes)\n",
    "    @classmethod\n",
    "    def get_attrfromstr(cls, diary_e:str):\n",
    "        t_c, o_b, budget = diary_e.split(\" \")\n",
    "        \n",
    "        # here is the butification of things\n",
    "        return Expenss(t_c.capitalize(), cls.convert_amount(o_b), cls.convert_amount(budget))\n"
   ]
  }
 ],
 "metadata": {
  "kernelspec": {
   "display_name": "Python 3 (ipykernel)",
   "language": "python",
   "name": "python3"
  },
  "language_info": {
   "codemirror_mode": {
    "name": "ipython",
    "version": 3
   },
   "file_extension": ".py",
   "mimetype": "text/x-python",
   "name": "python",
   "nbconvert_exporter": "python",
   "pygments_lexer": "ipython3",
   "version": "3.9.7"
  }
 },
 "nbformat": 4,
 "nbformat_minor": 5
}
