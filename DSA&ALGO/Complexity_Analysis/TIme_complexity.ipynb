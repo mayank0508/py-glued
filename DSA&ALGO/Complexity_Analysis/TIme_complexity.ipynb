{
 "cells": [
  {
   "cell_type": "code",
   "execution_count": 1,
   "id": "25db81b1",
   "metadata": {},
   "outputs": [],
   "source": [
    "# Experimental analysis"
   ]
  },
  {
   "cell_type": "code",
   "execution_count": 2,
   "id": "723359cd",
   "metadata": {},
   "outputs": [],
   "source": [
    "# Merge Sort"
   ]
  },
  {
   "cell_type": "code",
   "execution_count": 39,
   "id": "c193f388",
   "metadata": {},
   "outputs": [],
   "source": [
    "def merge(a1,a2,a):\n",
    "    i = 0\n",
    "    j = 0\n",
    "    k = 0\n",
    "    while i < len(a1) and j < len(a2): # this is an imp limit,becuase the moment we cross the len we cant compare\n",
    "        if a1[i] < a2[j]: # we will be putting the smalled element in the list first\n",
    "            a[k] = a1[i]\n",
    "            k += 1\n",
    "            i += 1\n",
    "        else:\n",
    "            a[k] = a2[j]\n",
    "            k += 1\n",
    "            j += 1\n",
    "            \n",
    "    while i < len(a1):# this is fo the case if either one of the list has completed giving the numbers to k\n",
    "        a[k] = a1[i]\n",
    "        k += 1\n",
    "        i += 1\n",
    "    while i < len(a1):# this is fo the case if either one of the list has completed giving the numbers to k\n",
    "        a[k] = a1[i]\n",
    "        k += 1\n",
    "        i += 1\n",
    "\n",
    "\n",
    "def merge_sort(a):\n",
    "    if len(a) == 0 or len(a) == 1: # base case\n",
    "        return \n",
    "    \n",
    "    mid = len(a)//2\n",
    "    a1 = a[0:mid] # here it will go from 0 to mid-1\n",
    "    a2 = a[mid:] # here it will start form mid to end\n",
    "    \n",
    "    merge_sort(a1)\n",
    "    merge_sort(a2)\n",
    "    \n",
    "    merge(a1,a2,a)"
   ]
  },
  {
   "cell_type": "code",
   "execution_count": 40,
   "id": "ebaf3546",
   "metadata": {},
   "outputs": [],
   "source": [
    "# Selection Sort"
   ]
  },
  {
   "cell_type": "code",
   "execution_count": 41,
   "id": "2bb8113e",
   "metadata": {},
   "outputs": [],
   "source": [
    "def selection_sort(A): # here A is a array !\n",
    "    for i in range(len(A)): # this will take range as the len of any given array !\n",
    "        min_index = i # this assumes that the first index is the min index\n",
    "        for j in range(i+1, len(A)): \n",
    "            if A[j] < A[min_index]: #now this step happens, so we compare the element next to the first element and then \n",
    "                min_index = j # if the stament is true then put min_index = j\n",
    "        # and here you gotta notice the indentaiton we are letting the whole loop run\n",
    "        A[i], A[min_index] = A[min_index], A[i]# and after than we swap the values\n",
    "    return A"
   ]
  },
  {
   "cell_type": "code",
   "execution_count": 42,
   "id": "60488730",
   "metadata": {},
   "outputs": [],
   "source": [
    "def newarr(n): # this is an array that gives reverse array\n",
    "    arr = []\n",
    "    for i in range(n, 0, -1):\n",
    "        arr.append(i)\n",
    "    return arr"
   ]
  },
  {
   "cell_type": "code",
   "execution_count": 43,
   "id": "c82f70fd",
   "metadata": {},
   "outputs": [],
   "source": [
    "n = 10"
   ]
  },
  {
   "cell_type": "code",
   "execution_count": 46,
   "id": "a73b3a1b",
   "metadata": {},
   "outputs": [
    {
     "name": "stdout",
     "output_type": "stream",
     "text": [
      "[10, 9, 8, 7, 6, 5, 4, 3, 2, 1]\n"
     ]
    },
    {
     "data": {
      "text/plain": [
       "[1, 2, 3, 4, 5, 6, 7, 8, 9, 10]"
      ]
     },
     "execution_count": 46,
     "metadata": {},
     "output_type": "execute_result"
    }
   ],
   "source": [
    "k = newarr(n) \n",
    "print(k)\n",
    "merge_sort(k)\n",
    "k"
   ]
  },
  {
   "cell_type": "code",
   "execution_count": null,
   "id": "dc571a4d",
   "metadata": {},
   "outputs": [],
   "source": []
  },
  {
   "cell_type": "code",
   "execution_count": null,
   "id": "924c22ea",
   "metadata": {},
   "outputs": [],
   "source": []
  }
 ],
 "metadata": {
  "kernelspec": {
   "display_name": "Python 3 (ipykernel)",
   "language": "python",
   "name": "python3"
  },
  "language_info": {
   "codemirror_mode": {
    "name": "ipython",
    "version": 3
   },
   "file_extension": ".py",
   "mimetype": "text/x-python",
   "name": "python",
   "nbconvert_exporter": "python",
   "pygments_lexer": "ipython3",
   "version": "3.9.7"
  }
 },
 "nbformat": 4,
 "nbformat_minor": 5
}
