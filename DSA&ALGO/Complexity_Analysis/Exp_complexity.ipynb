{
 "cells": [
  {
   "cell_type": "code",
   "execution_count": 1,
   "id": "42eb3949",
   "metadata": {},
   "outputs": [],
   "source": [
    "# Experimental analysis"
   ]
  },
  {
   "cell_type": "code",
   "execution_count": 2,
   "id": "b0650da8",
   "metadata": {},
   "outputs": [],
   "source": [
    "# Merge Sort"
   ]
  },
  {
   "cell_type": "code",
   "execution_count": 1,
   "id": "25dd4131",
   "metadata": {},
   "outputs": [],
   "source": [
    "def merge(a1,a2,a):\n",
    "    i = 0\n",
    "    j = 0\n",
    "    k = 0\n",
    "    while i < len(a1) and j < len(a2): # this is an imp limit,becuase the moment we cross the len we cant compare\n",
    "        if a1[i] < a2[j]: # we will be putting the smalled element in the list first\n",
    "            a[k] = a1[i]\n",
    "            k += 1\n",
    "            i += 1\n",
    "        else:\n",
    "            a[k] = a2[j]\n",
    "            k += 1\n",
    "            j += 1\n",
    "            \n",
    "    while i < len(a1):# this is fo the case if either one of the list has completed giving the numbers to k\n",
    "        a[k] = a1[i]\n",
    "        k += 1\n",
    "        i += 1\n",
    "    while i < len(a1):# this is fo the case if either one of the list has completed giving the numbers to k\n",
    "        a[k] = a1[i]\n",
    "        k += 1\n",
    "        i += 1\n",
    "\n",
    "\n",
    "def merge_sort(a):\n",
    "    if len(a) == 0 or len(a) == 1: # base case\n",
    "        return \n",
    "    \n",
    "    mid = len(a)//2\n",
    "    a1 = a[0:mid] # here it will go from 0 to mid-1\n",
    "    a2 = a[mid:] # here it will start form mid to end\n",
    "    \n",
    "    merge_sort(a1)\n",
    "    merge_sort(a2)\n",
    "    \n",
    "    merge(a1,a2,a)"
   ]
  },
  {
   "cell_type": "code",
   "execution_count": 2,
   "id": "92624413",
   "metadata": {},
   "outputs": [],
   "source": [
    "# Selection Sort"
   ]
  },
  {
   "cell_type": "code",
   "execution_count": 3,
   "id": "7d9c4cc6",
   "metadata": {},
   "outputs": [],
   "source": [
    "def selection_sort(A): # here A is a array !\n",
    "    for i in range(len(A)): # this will take range as the len of any given array !\n",
    "        min_index = i # this assumes that the first index is the min index\n",
    "        for j in range(i+1, len(A)): \n",
    "            if A[j] < A[min_index]: #now this step happens, so we compare the element next to the first element and then \n",
    "                min_index = j # if the stament is true then put min_index = j\n",
    "        # and here you gotta notice the indentaiton we are letting the whole loop run\n",
    "        A[i], A[min_index] = A[min_index], A[i]# and after than we swap the values\n",
    "    return A"
   ]
  },
  {
   "cell_type": "code",
   "execution_count": 4,
   "id": "a2f9f0da",
   "metadata": {},
   "outputs": [],
   "source": [
    "def newarr(n): # this is an array that gives reverse array\n",
    "    arr = []\n",
    "    for i in range(n, 0, -1):\n",
    "        arr.append(i)\n",
    "    return arr"
   ]
  },
  {
   "cell_type": "code",
   "execution_count": 5,
   "id": "c2d4b12e",
   "metadata": {},
   "outputs": [],
   "source": [
    "n = 5000"
   ]
  },
  {
   "cell_type": "code",
   "execution_count": 6,
   "id": "0b6aab55",
   "metadata": {},
   "outputs": [
    {
     "data": {
      "text/plain": [
       "1646913980.3833375"
      ]
     },
     "execution_count": 6,
     "metadata": {},
     "output_type": "execute_result"
    }
   ],
   "source": [
    "import time # this is a time library that is used to check the time\n",
    "time.time()"
   ]
  },
  {
   "cell_type": "code",
   "execution_count": 7,
   "id": "d6081478",
   "metadata": {},
   "outputs": [
    {
     "data": {
      "text/plain": [
       "0.0349718999999995"
      ]
     },
     "execution_count": 7,
     "metadata": {},
     "output_type": "execute_result"
    }
   ],
   "source": [
    "k = newarr(n) # But how much time did it took for Merge sort\n",
    "start = time.perf_counter()\n",
    "merge_sort(k)\n",
    "end = time.perf_counter()\n",
    "end - start"
   ]
  },
  {
   "cell_type": "code",
   "execution_count": 8,
   "id": "7aacf076",
   "metadata": {},
   "outputs": [
    {
     "name": "stdout",
     "output_type": "stream",
     "text": [
      "1.4003346000000008\n"
     ]
    }
   ],
   "source": [
    "k = newarr(n) # But how much time did it took Selection Sort\n",
    "start = time.perf_counter()\n",
    "selection_sort(k)\n",
    "end = time.perf_counter()\n",
    "print(end - start)"
   ]
  },
  {
   "cell_type": "markdown",
   "id": "4acb895d",
   "metadata": {},
   "source": [
    "## From the following analysis we have come to know that the Merge Sort >>>>> Selection_sort !!! 🤖"
   ]
  },
  {
   "attachments": {
    "MS%20Time%20and%20SS%20Time.png": {
     "image/png": "[encoded data removed]"
    }
   },
   "cell_type": "markdown",
   "id": "6e2a91ff",
   "metadata": {},
   "source": [
    "![MS%20Time%20and%20SS%20Time.png](attachment:MS%20Time%20and%20SS%20Time.png)"
   ]
  },
  {
   "cell_type": "code",
   "execution_count": null,
   "id": "bfd3f813",
   "metadata": {},
   "outputs": [],
   "source": []
  }
 ],
 "metadata": {
  "kernelspec": {
   "display_name": "Python 3 (ipykernel)",
   "language": "python",
   "name": "python3"
  },
  "language_info": {
   "codemirror_mode": {
    "name": "ipython",
    "version": 3
   },
   "file_extension": ".py",
   "mimetype": "text/x-python",
   "name": "python",
   "nbconvert_exporter": "python",
   "pygments_lexer": "ipython3",
   "version": "3.9.7"
  }
 },
 "nbformat": 4,
 "nbformat_minor": 5
}
