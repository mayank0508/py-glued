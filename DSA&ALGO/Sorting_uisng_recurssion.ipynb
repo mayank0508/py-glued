{
 "cells": [
  {
   "cell_type": "markdown",
   "id": "a0f8cb18",
   "metadata": {},
   "source": [
    "### Binary Search"
   ]
  },
  {
   "cell_type": "code",
   "execution_count": 1,
   "id": "c6a2fabb",
   "metadata": {},
   "outputs": [],
   "source": [
    "def binary(n,x,si,ei):\n",
    "    if si > ei: #base case\n",
    "        return -1\n",
    "    \n",
    "    mid = (si + ei)//2 # this is where we calculate the mid\n",
    "    \n",
    "    if n[mid] == x : # these are the most imp cases\n",
    "        return mid\n",
    "    \n",
    "    elif n[mid] > x: \n",
    "        return binary(n,x,si, mid -1)\n",
    "    \n",
    "    else:\n",
    "        return binary(n,x,mid+1,ei)"
   ]
  },
  {
   "cell_type": "code",
   "execution_count": 2,
   "id": "c7d66a74",
   "metadata": {},
   "outputs": [
    {
     "data": {
      "text/plain": [
       "3"
      ]
     },
     "execution_count": 2,
     "metadata": {},
     "output_type": "execute_result"
    }
   ],
   "source": [
    "n = [1,2,3,4,5,6,7,8,9,0]\n",
    "binary(n,4,0,10)"
   ]
  },
  {
   "cell_type": "code",
   "execution_count": null,
   "id": "71589bd3",
   "metadata": {},
   "outputs": [],
   "source": []
  }
 ],
 "metadata": {
  "kernelspec": {
   "display_name": "Python 3 (ipykernel)",
   "language": "python",
   "name": "python3"
  },
  "language_info": {
   "codemirror_mode": {
    "name": "ipython",
    "version": 3
   },
   "file_extension": ".py",
   "mimetype": "text/x-python",
   "name": "python",
   "nbconvert_exporter": "python",
   "pygments_lexer": "ipython3",
   "version": "3.9.7"
  }
 },
 "nbformat": 4,
 "nbformat_minor": 5
}
