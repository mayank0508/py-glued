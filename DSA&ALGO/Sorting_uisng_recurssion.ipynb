{
 "cells": [
  {
   "cell_type": "markdown",
   "id": "1f5f912e",
   "metadata": {},
   "source": [
    "### Binary Search"
   ]
  },
  {
   "cell_type": "code",
   "execution_count": 1,
   "id": "237e79fb",
   "metadata": {},
   "outputs": [],
   "source": [
    "def binary(n,x,si,ei):\n",
    "    if si > ei: #base case\n",
    "        return -1\n",
    "    \n",
    "    mid = (si + ei)//2 # this is where we calculate the mid\n",
    "    \n",
    "    if n[mid] == x : # these are the most imp cases\n",
    "        return mid\n",
    "    \n",
    "    elif n[mid] > x: \n",
    "        return binary(n,x,si, mid -1)\n",
    "    \n",
    "    else:\n",
    "        return binary(n,x,mid+1,ei)"
   ]
  },
  {
   "cell_type": "code",
   "execution_count": 2,
   "id": "42b2628a",
   "metadata": {},
   "outputs": [
    {
     "data": {
      "text/plain": [
       "3"
      ]
     },
     "execution_count": 2,
     "metadata": {},
     "output_type": "execute_result"
    }
   ],
   "source": [
    "n = [1,2,3,4,5,6,7,8,9,0]\n",
    "binary(n,4,0,10)"
   ]
  },
  {
   "cell_type": "markdown",
   "id": "fb2c53ea",
   "metadata": {},
   "source": [
    "### Merge Sort"
   ]
  },
  {
   "cell_type": "code",
   "execution_count": 7,
   "id": "9ae41fef",
   "metadata": {},
   "outputs": [],
   "source": [
    "def merge(a1,a2,a):\n",
    "    i = 0\n",
    "    j = 0\n",
    "    k = 0\n",
    "    while i < len(a1) and j < len(a2): # this is an imp limit,becuase the moment we cross the len we cant compare\n",
    "        if a1[i] < a2[j]: # we will be putting the smalled element in the list first\n",
    "            a[k] = a1[i]\n",
    "            k += 1\n",
    "            i += 1\n",
    "        else:\n",
    "            a[k] = a2[j]\n",
    "            k += 1\n",
    "            j += 1\n",
    "            \n",
    "    while i < len(a1):# this is fo the case if either one of the list has completed giving the numbers to k\n",
    "        a[k] = a1[i]\n",
    "        k += 1\n",
    "        i += 1\n",
    "    while i < len(a1):# this is fo the case if either one of the list has completed giving the numbers to k\n",
    "        a[k] = a1[i]\n",
    "        k += 1\n",
    "        i += 1\n"
   ]
  },
  {
   "cell_type": "code",
   "execution_count": 9,
   "id": "dad848f5",
   "metadata": {},
   "outputs": [],
   "source": [
    "def merge_sort(a):\n",
    "    if len(a) == 0 or len(a) == 1: # base case\n",
    "        return \n",
    "    \n",
    "    mid = len(a)//2\n",
    "    a1 = a[0:mid] # here it will go from 0 to mid-1\n",
    "    a2 = a[mid:] # here it will start form mid to end\n",
    "    \n",
    "    merge_sort(a1)\n",
    "    merge_sort(a2)\n",
    "    \n",
    "    merge(a1,a2,a)"
   ]
  },
  {
   "cell_type": "code",
   "execution_count": 15,
   "id": "2aaeb5e8",
   "metadata": {},
   "outputs": [
    {
     "data": {
      "text/plain": [
       "[3, 4, 8, 35, 57, 67, 8]"
      ]
     },
     "execution_count": 15,
     "metadata": {},
     "output_type": "execute_result"
    }
   ],
   "source": [
    "a = [3,4,35,46,57,67,8]\n",
    "merge_sort(a)\n",
    "a"
   ]
  },
  {
   "cell_type": "markdown",
   "id": "01840756",
   "metadata": {},
   "source": [
    "## Quick Sort"
   ]
  },
  {
   "cell_type": "code",
   "execution_count": 16,
   "id": "8c4ee7c9",
   "metadata": {},
   "outputs": [],
   "source": [
    "def partition(n,s,e): # this code is wrong, check this code via recurssion once again !!\n",
    "    \n",
    "    pivot = n[s]\n",
    "    # find the elements smaller than pivot index\n",
    "    count = 0\n",
    "    for i in range(s,e+1):\n",
    "        if n[i] < pivot :\n",
    "            count += 1\n",
    "    \n",
    "    n[s+count], n[s] = n[s], n[s+count]\n",
    "    pivot_i = s + count\n",
    "    \n",
    "    i = s\n",
    "    j = e\n",
    "    while i < j:\n",
    "        if n[i] < pivot:\n",
    "            i += 1\n",
    "        elif n[j] >= pivot:\n",
    "            j -= 1\n",
    "        else:\n",
    "            n[i], n[j] = n[j], n[i]\n",
    "            i += 1\n",
    "            j -= 1\n",
    "    return pivot_i"
   ]
  },
  {
   "cell_type": "code",
   "execution_count": 17,
   "id": "cf56305d",
   "metadata": {},
   "outputs": [],
   "source": [
    "    def quicksort(n,s,e):\n",
    "        if s >= e: # this is the base case and it means that the start index has crossed the end index, which means there is nothing else left in the array\n",
    "            return\n",
    "        \n",
    "        pivot_i = partition(n, s, e)\n",
    "        quicksort(n, s, pivot_i - 1)\n",
    "        quicksort(n, pivot_i + 1, e)\n",
    "        \n",
    "        "
   ]
  },
  {
   "cell_type": "code",
   "execution_count": 18,
   "id": "503689d8",
   "metadata": {},
   "outputs": [
    {
     "name": "stdout",
     "output_type": "stream",
     "text": [
      "3\n"
     ]
    }
   ],
   "source": [
    "n = [3,5,1,2,8,4,0]\n",
    "print(partition(n, 0, len(n)-1))"
   ]
  },
  {
   "cell_type": "code",
   "execution_count": null,
   "id": "391beef8",
   "metadata": {},
   "outputs": [],
   "source": []
  }
 ],
 "metadata": {
  "kernelspec": {
   "display_name": "Python 3 (ipykernel)",
   "language": "python",
   "name": "python3"
  },
  "language_info": {
   "codemirror_mode": {
    "name": "ipython",
    "version": 3
   },
   "file_extension": ".py",
   "mimetype": "text/x-python",
   "name": "python",
   "nbconvert_exporter": "python",
   "pygments_lexer": "ipython3",
   "version": "3.9.7"
  }
 },
 "nbformat": 4,
 "nbformat_minor": 5
}
