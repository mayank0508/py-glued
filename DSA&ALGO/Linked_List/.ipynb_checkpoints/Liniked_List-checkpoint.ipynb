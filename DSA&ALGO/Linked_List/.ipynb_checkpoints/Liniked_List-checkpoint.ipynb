{
 "cells": [
  {
   "cell_type": "code",
   "execution_count": 3,
   "id": "b2368efd",
   "metadata": {},
   "outputs": [],
   "source": [
    "class Node: # this is not such am optimised soln\n",
    "    def __init__(self,data):\n",
    "        self.data = data;\n",
    "        self.next = next;\n",
    "        \n",
    "def takeInput():\n",
    "    inputList = [int(ele) for ele in input().split()] # here we are making the list into int using the list comprehesion\n",
    "    head = None; # this will be responsible for storing the head value\n",
    "    for currData in inputList:\n",
    "        if currData == -1: # this line here tells us that the list ends here\n",
    "            break\n",
    "        \n",
    "        newNode = Node(currData) # this is used to make a new node for the current data \n",
    "        \n",
    "        if head is None:\n",
    "            head = newNode\n",
    "            \n",
    "        else:   # this else loop is imp beacause it tells us about how to send the head and the nest values to the end node\n",
    "            curr = head\n",
    "            while curr.next is not None:\n",
    "                curr = curr.next\n",
    "            curr.next = newNode\n",
    "            \n",
    "    return head\n",
    "        \n",
    "\n",
    "    head = takeinput()"
   ]
  },
  {
   "cell_type": "markdown",
   "id": "f3b8938b",
   "metadata": {},
   "source": [
    "## Print the Link list"
   ]
  },
  {
   "cell_type": "code",
   "execution_count": 14,
   "id": "e961fc0e",
   "metadata": {},
   "outputs": [
    {
     "name": "stdout",
     "output_type": "stream",
     "text": [
      "1 2 3 4 5 -1\n",
      "1 -> 2 -> 3 -> 4 -> 5 -> None\n"
     ]
    }
   ],
   "source": [
    "class Node: # this is not such am optimised soln\n",
    "    def __init__(self,data):\n",
    "        self.data = data;\n",
    "        self.next = None;\n",
    "    \n",
    "def printLL(head):\n",
    "    while head is not None:\n",
    "        print(str(head.data) + \" ->\",end=\" \")\n",
    "        head = head.next\n",
    "    print(\"None\")\n",
    "    return\n",
    "    \n",
    "def takeInput():\n",
    "    inputList = [int(ele) for ele in input().split()] # here we are making the list into int using the list comprehesion\n",
    "    head = None; # this will be responsible for storing the head value\n",
    "    for currData in inputList:\n",
    "        if currData == -1: # this line here tells us that the list ends here\n",
    "            break\n",
    "        \n",
    "        newNode = Node(currData) # this is used to make a new node for the current data \n",
    "        \n",
    "        if head is None:\n",
    "            head = newNode\n",
    "            \n",
    "        else:   # this else loop is imp beacause it tells us about how to send the head and the nest values to the end node\n",
    "            curr = head\n",
    "            while curr.next is not None:\n",
    "                curr = curr.next\n",
    "            curr.next = newNode\n",
    "            \n",
    "    return head\n",
    "        \n",
    "\n",
    "head = takeInput()\n",
    "printLL(head)"
   ]
  },
  {
   "cell_type": "code",
   "execution_count": null,
   "id": "ed32ff9b",
   "metadata": {},
   "outputs": [],
   "source": []
  }
 ],
 "metadata": {
  "kernelspec": {
   "display_name": "Python 3 (ipykernel)",
   "language": "python",
   "name": "python3"
  },
  "language_info": {
   "codemirror_mode": {
    "name": "ipython",
    "version": 3
   },
   "file_extension": ".py",
   "mimetype": "text/x-python",
   "name": "python",
   "nbconvert_exporter": "python",
   "pygments_lexer": "ipython3",
   "version": "3.9.7"
  }
 },
 "nbformat": 4,
 "nbformat_minor": 5
}
