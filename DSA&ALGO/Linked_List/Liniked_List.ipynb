{
 "cells": [
  {
   "cell_type": "code",
   "execution_count": null,
   "id": "b114d022",
   "metadata": {},
   "outputs": [],
   "source": [
    "class Node:\n",
    "    def __init__(self,data):\n",
    "        self.data = data;\n",
    "        self.next = next;\n",
    "        \n",
    "def takeInput():\n",
    "    inputList = [int(ele) for ele in input().split()] # here we are making the list into diffrent strings using this codeline\n",
    "    for currData in inputList:\n",
    "        if ccurrData == -1;\n",
    "        break\n",
    "        \n",
    "        newNode = Node(currData)\n",
    "\n",
    "        \n",
    "head = takeinput()"
   ]
  }
 ],
 "metadata": {
  "kernelspec": {
   "display_name": "Python 3 (ipykernel)",
   "language": "python",
   "name": "python3"
  },
  "language_info": {
   "codemirror_mode": {
    "name": "ipython",
    "version": 3
   },
   "file_extension": ".py",
   "mimetype": "text/x-python",
   "name": "python",
   "nbconvert_exporter": "python",
   "pygments_lexer": "ipython3",
   "version": "3.9.7"
  }
 },
 "nbformat": 4,
 "nbformat_minor": 5
}
