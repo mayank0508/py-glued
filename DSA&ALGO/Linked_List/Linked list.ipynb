{
 "cells": [
  {
   "cell_type": "markdown",
   "id": "be164305",
   "metadata": {},
   "source": [
    "### Linked list"
   ]
  },
  {
   "cell_type": "code",
   "execution_count": null,
   "id": "bbb837ae",
   "metadata": {},
   "outputs": [],
   "source": [
    "class Node:\n",
    "    def __init__(self,data):\n",
    "        self.data = data\n",
    "        self.next = None\n",
    "        \n",
    "a = Node(13)\n",
    "b = Node(15)\n",
    "a.next = b\n",
    "print(a.data)\n",
    "print(b.data)\n",
    "print(a.next.data)"
   ]
  }
 ],
 "metadata": {
  "kernelspec": {
   "display_name": "Python 3 (ipykernel)",
   "language": "python",
   "name": "python3"
  },
  "language_info": {
   "codemirror_mode": {
    "name": "ipython",
    "version": 3
   },
   "file_extension": ".py",
   "mimetype": "text/x-python",
   "name": "python",
   "nbconvert_exporter": "python",
   "pygments_lexer": "ipython3",
   "version": "3.9.7"
  }
 },
 "nbformat": 4,
 "nbformat_minor": 5
}
