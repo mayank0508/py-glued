{
 "cells": [
  {
   "cell_type": "markdown",
   "id": "084ba5a9",
   "metadata": {},
   "source": [
    "## first occureance of list"
   ]
  },
  {
   "cell_type": "code",
   "execution_count": 30,
   "id": "5c92ae56",
   "metadata": {},
   "outputs": [],
   "source": [
    "def foi(n,x):\n",
    "    l = len(n)\n",
    "    if l == 0:\n",
    "        return -1\n",
    "    \n",
    "    if n[0] == x:\n",
    "        return 0\n",
    "    \n",
    "    smallindex = n[1:]\n",
    "    k = foi(smallindex, x)\n",
    "    \n",
    "    if k == -1:\n",
    "        return -1\n",
    "    else:\n",
    "        return k + 1\n",
    "    "
   ]
  },
  {
   "cell_type": "code",
   "execution_count": 33,
   "id": "2ba77a7a",
   "metadata": {},
   "outputs": [
    {
     "data": {
      "text/plain": [
       "5"
      ]
     },
     "execution_count": 33,
     "metadata": {},
     "output_type": "execute_result"
    }
   ],
   "source": [
    "n = [2,3,5,6,1,4]\n",
    "foi(n,4)"
   ]
  },
  {
   "cell_type": "code",
   "execution_count": null,
   "id": "15ec4083",
   "metadata": {},
   "outputs": [],
   "source": []
  }
 ],
 "metadata": {
  "kernelspec": {
   "display_name": "Python 3 (ipykernel)",
   "language": "python",
   "name": "python3"
  },
  "language_info": {
   "codemirror_mode": {
    "name": "ipython",
    "version": 3
   },
   "file_extension": ".py",
   "mimetype": "text/x-python",
   "name": "python",
   "nbconvert_exporter": "python",
   "pygments_lexer": "ipython3",
   "version": "3.9.7"
  }
 },
 "nbformat": 4,
 "nbformat_minor": 5
}
