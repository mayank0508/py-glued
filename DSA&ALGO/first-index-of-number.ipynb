{
 "cells": [
  {
   "cell_type": "markdown",
   "id": "2b4401ff",
   "metadata": {},
   "source": [
    "## first occureance of list"
   ]
  },
  {
   "cell_type": "markdown",
   "id": "8b986c98",
   "metadata": {},
   "source": [
    "#### Copying style"
   ]
  },
  {
   "cell_type": "code",
   "execution_count": 34,
   "id": "542c821f",
   "metadata": {},
   "outputs": [],
   "source": [
    "def foi(n,x):\n",
    "    l = len(n)\n",
    "    if l == 0:\n",
    "        return -1\n",
    "    \n",
    "    if n[0] == x:\n",
    "        return 0\n",
    "    \n",
    "    smallindex = n[1:]\n",
    "    k = foi(smallindex, x)\n",
    "    \n",
    "    if k == -1:\n",
    "        return -1\n",
    "    else:\n",
    "        return k + 1\n",
    "    "
   ]
  },
  {
   "cell_type": "code",
   "execution_count": 33,
   "id": "727f0188",
   "metadata": {},
   "outputs": [
    {
     "data": {
      "text/plain": [
       "5"
      ]
     },
     "execution_count": 33,
     "metadata": {},
     "output_type": "execute_result"
    }
   ],
   "source": [
    "n = [2,3,5,6,1,4]\n",
    "foi(n,4)"
   ]
  },
  {
   "cell_type": "code",
   "execution_count": 36,
   "id": "469c6962",
   "metadata": {},
   "outputs": [],
   "source": [
    "#### start index method"
   ]
  },
  {
   "cell_type": "code",
   "execution_count": 39,
   "id": "982b9bf6",
   "metadata": {},
   "outputs": [],
   "source": [
    "def foi2(n,x,si):\n",
    "    l = len(n)\n",
    "    if l == si:  # base \n",
    "        reuturn -1\n",
    "        \n",
    "    if n[si] == x: # induction hypo\n",
    "        return si\n",
    "    \n",
    "    smallindex = foi2(n,x,si+1) # induction reduction\n",
    "    if smallindex == -1:\n",
    "        return -1\n",
    "    else:\n",
    "        return smallindex"
   ]
  },
  {
   "cell_type": "code",
   "execution_count": 38,
   "id": "2257621c",
   "metadata": {},
   "outputs": [
    {
     "data": {
      "text/plain": [
       "10"
      ]
     },
     "execution_count": 38,
     "metadata": {},
     "output_type": "execute_result"
    }
   ],
   "source": [
    "n = [1,2,3,4,5,6,6,7,7,8,9]\n",
    "foi2(n,9,0)"
   ]
  },
  {
   "cell_type": "code",
   "execution_count": null,
   "id": "781e8900",
   "metadata": {},
   "outputs": [],
   "source": []
  }
 ],
 "metadata": {
  "kernelspec": {
   "display_name": "Python 3 (ipykernel)",
   "language": "python",
   "name": "python3"
  },
  "language_info": {
   "codemirror_mode": {
    "name": "ipython",
    "version": 3
   },
   "file_extension": ".py",
   "mimetype": "text/x-python",
   "name": "python",
   "nbconvert_exporter": "python",
   "pygments_lexer": "ipython3",
   "version": "3.9.7"
  }
 },
 "nbformat": 4,
 "nbformat_minor": 5
}
