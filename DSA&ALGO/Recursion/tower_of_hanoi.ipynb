{
 "cells": [
  {
   "cell_type": "code",
   "execution_count": 6,
   "id": "500f17c1",
   "metadata": {},
   "outputs": [],
   "source": [
    "def hannoi_tower(n, a,b,c):\n",
    "    if n == 1: # base case\n",
    "        print(\"Move first disk from \", a, \"to \", c)\n",
    "        return\n",
    "    hannoi_tower(n-1,a,c,b) # here the n- 1 disks have moved from a to b(i.e every disk except the biggest one)\n",
    "    print(\"Move \",n, \"disk form\" , a, \"to\", c) # this one is used to move the biggest disk from A to C\n",
    "    hannoi_tower(n-1,b,a,c) # this is for the left discs those were there left in the B"
   ]
  },
  {
   "cell_type": "code",
   "execution_count": 7,
   "id": "7e72184e",
   "metadata": {},
   "outputs": [
    {
     "name": "stdout",
     "output_type": "stream",
     "text": [
      "Move first disk from  Start to  Helper\n",
      "Move  2 disk form Start to Destination\n",
      "Move first disk from  Helper to  Destination\n",
      "Move  3 disk form Start to Helper\n",
      "Move first disk from  Destination to  Start\n",
      "Move  2 disk form Destination to Helper\n",
      "Move first disk from  Start to  Helper\n",
      "Move  4 disk form Start to Destination\n",
      "Move first disk from  Helper to  Destination\n",
      "Move  2 disk form Helper to Start\n",
      "Move first disk from  Destination to  Start\n",
      "Move  3 disk form Helper to Destination\n",
      "Move first disk from  Start to  Helper\n",
      "Move  2 disk form Start to Destination\n",
      "Move first disk from  Helper to  Destination\n"
     ]
    }
   ],
   "source": [
    "hannoi_tower(4,\"Start\", \"Helper\", \"Destination\")"
   ]
  },
  {
   "cell_type": "code",
   "execution_count": null,
   "id": "947704c4",
   "metadata": {},
   "outputs": [],
   "source": []
  }
 ],
 "metadata": {
  "kernelspec": {
   "display_name": "Python 3 (ipykernel)",
   "language": "python",
   "name": "python3"
  },
  "language_info": {
   "codemirror_mode": {
    "name": "ipython",
    "version": 3
   },
   "file_extension": ".py",
   "mimetype": "text/x-python",
   "name": "python",
   "nbconvert_exporter": "python",
   "pygments_lexer": "ipython3",
   "version": "3.9.7"
  }
 },
 "nbformat": 4,
 "nbformat_minor": 5
}
