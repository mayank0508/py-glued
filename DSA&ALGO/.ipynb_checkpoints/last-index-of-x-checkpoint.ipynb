{
 "cells": [
  {
   "cell_type": "markdown",
   "id": "83976900",
   "metadata": {},
   "source": [
    "### Last index of X"
   ]
  },
  {
   "cell_type": "markdown",
   "id": "5c894691",
   "metadata": {},
   "source": [
    "### The start index method"
   ]
  },
  {
   "cell_type": "code",
   "execution_count": 30,
   "id": "45de193d",
   "metadata": {},
   "outputs": [],
   "source": [
    "def loi(n,x,si):\n",
    "    l = len(n)\n",
    "    if l == si:\n",
    "        return -1\n",
    "    \n",
    "    smallindex = loi(n,x,si+1) # induction reduction\n",
    "    \n",
    "    if smallindex != -1:\n",
    "        return smallindex\n",
    "    \n",
    "    else:\n",
    "        if n[si] == x:\n",
    "            return si\n",
    "        else:\n",
    "            return -1"
   ]
  },
  {
   "cell_type": "code",
   "execution_count": 32,
   "id": "1b0852bd",
   "metadata": {},
   "outputs": [
    {
     "data": {
      "text/plain": [
       "7"
      ]
     },
     "execution_count": 32,
     "metadata": {},
     "output_type": "execute_result"
    }
   ],
   "source": [
    "n = [1,2,3,4,5,6,7,5,9,3]\n",
    "loi(n,5,0)"
   ]
  },
  {
   "cell_type": "markdown",
   "id": "2401a5f6",
   "metadata": {},
   "source": [
    "### Copying Index method"
   ]
  },
  {
   "cell_type": "code",
   "execution_count": 25,
   "id": "a56d5a05",
   "metadata": {},
   "outputs": [],
   "source": [
    "def loi2(n,x):\n",
    "    l = len(n)\n",
    "    if l == 0: # base Step\n",
    "        return -1\n",
    "    \n",
    "    k = n[1:] # this will start to iterate from the last\n",
    "    index = loi2(k,x)\n",
    "    if index != -1:\n",
    "        return index + 1 # here we are returning +1 beause its small index and it has one less number\n",
    "    else:\n",
    "        if n[0] == x:\n",
    "            return 0\n",
    "        else:\n",
    "            return -1"
   ]
  },
  {
   "cell_type": "code",
   "execution_count": 27,
   "id": "8bbff64e",
   "metadata": {},
   "outputs": [
    {
     "data": {
      "text/plain": [
       "5"
      ]
     },
     "execution_count": 27,
     "metadata": {},
     "output_type": "execute_result"
    }
   ],
   "source": [
    "n = [1,2,3,4,5,6,7,8,9]\n",
    "loi2(n,6)"
   ]
  },
  {
   "cell_type": "code",
   "execution_count": null,
   "id": "d1c1acde",
   "metadata": {},
   "outputs": [],
   "source": []
  }
 ],
 "metadata": {
  "kernelspec": {
   "display_name": "Python 3 (ipykernel)",
   "language": "python",
   "name": "python3"
  },
  "language_info": {
   "codemirror_mode": {
    "name": "ipython",
    "version": 3
   },
   "file_extension": ".py",
   "mimetype": "text/x-python",
   "name": "python",
   "nbconvert_exporter": "python",
   "pygments_lexer": "ipython3",
   "version": "3.9.7"
  }
 },
 "nbformat": 4,
 "nbformat_minor": 5
}
