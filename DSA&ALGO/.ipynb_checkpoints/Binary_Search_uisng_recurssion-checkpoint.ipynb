{
 "cells": [
  {
   "cell_type": "markdown",
   "id": "b489ef5f",
   "metadata": {},
   "source": [
    "### Binary Search"
   ]
  },
  {
   "cell_type": "code",
   "execution_count": 1,
   "id": "10aa18c0",
   "metadata": {},
   "outputs": [],
   "source": [
    "def binary(n,x,si,ei):\n",
    "    if si > ei:\n",
    "        return -1\n",
    "    \n",
    "    mid = (si + ei)//2\n",
    "    if n[mid] == x:\n",
    "        return mid\n",
    "    elif n[mid] > x:\n",
    "        return binary(n,x,si, mid -1)\n",
    "    else:\n",
    "        return binary(n,x,mid+1,ei)"
   ]
  },
  {
   "cell_type": "code",
   "execution_count": 2,
   "id": "3eb48fff",
   "metadata": {},
   "outputs": [
    {
     "data": {
      "text/plain": [
       "3"
      ]
     },
     "execution_count": 2,
     "metadata": {},
     "output_type": "execute_result"
    }
   ],
   "source": [
    "n = [1,2,3,4,5,6,7,8,9,0]\n",
    "binary(n,4,0,10)"
   ]
  },
  {
   "cell_type": "code",
   "execution_count": null,
   "id": "163d8a88",
   "metadata": {},
   "outputs": [],
   "source": []
  }
 ],
 "metadata": {
  "kernelspec": {
   "display_name": "Python 3 (ipykernel)",
   "language": "python",
   "name": "python3"
  },
  "language_info": {
   "codemirror_mode": {
    "name": "ipython",
    "version": 3
   },
   "file_extension": ".py",
   "mimetype": "text/x-python",
   "name": "python",
   "nbconvert_exporter": "python",
   "pygments_lexer": "ipython3",
   "version": "3.9.7"
  }
 },
 "nbformat": 4,
 "nbformat_minor": 5
}
