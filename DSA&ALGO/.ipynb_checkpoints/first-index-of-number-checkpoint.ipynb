{
 "cells": [
  {
   "cell_type": "markdown",
   "id": "e99a0a4e",
   "metadata": {},
   "source": [
    "## first occureance of list"
   ]
  },
  {
   "cell_type": "markdown",
   "id": "3ecf0ab9",
   "metadata": {},
   "source": [
    "#### Copying style"
   ]
  },
  {
   "cell_type": "code",
   "execution_count": 34,
   "id": "34ba6d15",
   "metadata": {},
   "outputs": [],
   "source": [
    "def foi(n,x):\n",
    "    l = len(n)\n",
    "    if l == 0:\n",
    "        return -1\n",
    "    \n",
    "    if n[0] == x:\n",
    "        return 0\n",
    "    \n",
    "    smallindex = n[1:]\n",
    "    k = foi(smallindex, x)\n",
    "    \n",
    "    if k == -1:\n",
    "        return -1\n",
    "    else:\n",
    "        return k + 1\n",
    "    "
   ]
  },
  {
   "cell_type": "code",
   "execution_count": 33,
   "id": "6e2d79eb",
   "metadata": {},
   "outputs": [
    {
     "data": {
      "text/plain": [
       "5"
      ]
     },
     "execution_count": 33,
     "metadata": {},
     "output_type": "execute_result"
    }
   ],
   "source": [
    "n = [2,3,5,6,1,4]\n",
    "foi(n,4)"
   ]
  },
  {
   "cell_type": "code",
   "execution_count": 36,
   "id": "6bd78ce5",
   "metadata": {},
   "outputs": [],
   "source": [
    "#### start index method"
   ]
  },
  {
   "cell_type": "code",
   "execution_count": 39,
   "id": "01ef5a51",
   "metadata": {},
   "outputs": [],
   "source": [
    "def foi2(n,x,si):\n",
    "    l = len(n)\n",
    "    if l == si:  # base \n",
    "        reuturn -1\n",
    "        \n",
    "    if n[si] == x: # induction hypo\n",
    "        return si\n",
    "    \n",
    "    smallindex = foi2(n,x,si+1) # induction reduction\n",
    "    if smallindex == -1:\n",
    "        return -1\n",
    "    else:\n",
    "        return smallindex"
   ]
  },
  {
   "cell_type": "code",
   "execution_count": 38,
   "id": "fad32063",
   "metadata": {},
   "outputs": [
    {
     "data": {
      "text/plain": [
       "10"
      ]
     },
     "execution_count": 38,
     "metadata": {},
     "output_type": "execute_result"
    }
   ],
   "source": [
    "n = [1,2,3,4,5,6,6,7,7,8,9]\n",
    "foi2(n,9,0)"
   ]
  },
  {
   "cell_type": "code",
   "execution_count": null,
   "id": "b6707107",
   "metadata": {},
   "outputs": [],
   "source": []
  }
 ],
 "metadata": {
  "kernelspec": {
   "display_name": "Python 3 (ipykernel)",
   "language": "python",
   "name": "python3"
  },
  "language_info": {
   "codemirror_mode": {
    "name": "ipython",
    "version": 3
   },
   "file_extension": ".py",
   "mimetype": "text/x-python",
   "name": "python",
   "nbconvert_exporter": "python",
   "pygments_lexer": "ipython3",
   "version": "3.9.7"
  }
 },
 "nbformat": 4,
 "nbformat_minor": 5
}
