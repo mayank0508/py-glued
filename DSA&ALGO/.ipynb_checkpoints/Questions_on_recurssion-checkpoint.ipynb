{
 "cells": [
  {
   "cell_type": "markdown",
   "id": "7621b52e",
   "metadata": {},
   "source": [
    "### Recurssion with strings"
   ]
  },
  {
   "cell_type": "code",
   "execution_count": 7,
   "id": "5974a39b",
   "metadata": {},
   "outputs": [],
   "source": [
    "def replace(s, a, b):\n",
    "    l = len(s)\n",
    "    if l == 0:\n",
    "        return s # base\n",
    "    \n",
    "    k = replace(s[1:], a, b) # hypo\n",
    "    \n",
    "    if s[0] == a: # induction\n",
    "        return b + k\n",
    "    else:\n",
    "        return s[0] + k"
   ]
  },
  {
   "cell_type": "code",
   "execution_count": 8,
   "id": "fb074ae5",
   "metadata": {},
   "outputs": [
    {
     "data": {
      "text/plain": [
       "'afxxtg'"
      ]
     },
     "execution_count": 8,
     "metadata": {},
     "output_type": "execute_result"
    }
   ],
   "source": [
    "replace('afeetg', \"e\", \"x\")"
   ]
  },
  {
   "cell_type": "markdown",
   "id": "2b47766c",
   "metadata": {},
   "source": [
    "### Replace pi with 3.14"
   ]
  },
  {
   "cell_type": "code",
   "execution_count": null,
   "id": "2da3629c",
   "metadata": {},
   "outputs": [],
   "source": []
  }
 ],
 "metadata": {
  "kernelspec": {
   "display_name": "Python 3 (ipykernel)",
   "language": "python",
   "name": "python3"
  },
  "language_info": {
   "codemirror_mode": {
    "name": "ipython",
    "version": 3
   },
   "file_extension": ".py",
   "mimetype": "text/x-python",
   "name": "python",
   "nbconvert_exporter": "python",
   "pygments_lexer": "ipython3",
   "version": "3.9.7"
  }
 },
 "nbformat": 4,
 "nbformat_minor": 5
}
