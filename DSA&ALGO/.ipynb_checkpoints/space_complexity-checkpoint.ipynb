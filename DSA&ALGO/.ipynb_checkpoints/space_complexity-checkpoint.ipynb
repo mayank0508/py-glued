{
 "cells": [
  {
   "cell_type": "code",
   "execution_count": 3,
   "id": "32a8e453",
   "metadata": {},
   "outputs": [],
   "source": [
    "# this is the one for which we can set the space complexity of the a certain program"
   ]
  },
  {
   "cell_type": "code",
   "execution_count": 4,
   "id": "0cf122e6",
   "metadata": {},
   "outputs": [],
   "source": [
    "# Space complexity of Merge Sort = O(n)"
   ]
  },
  {
   "cell_type": "code",
   "execution_count": 6,
   "id": "97f4cad8",
   "metadata": {},
   "outputs": [],
   "source": [
    "# Space complexity of Quick Sort = O(logn)"
   ]
  },
  {
   "cell_type": "code",
   "execution_count": 8,
   "id": "a7a3d791",
   "metadata": {},
   "outputs": [],
   "source": [
    "# Space complexity of Bubble Sort = O(1)"
   ]
  },
  {
   "cell_type": "code",
   "execution_count": 9,
   "id": "a7760acd",
   "metadata": {},
   "outputs": [],
   "source": [
    "# Space complexity of Factorial Itterative = O(1)"
   ]
  },
  {
   "cell_type": "code",
   "execution_count": 10,
   "id": "8e7ce43e",
   "metadata": {},
   "outputs": [],
   "source": [
    "# Space complexity of Factorial Recurrsicve = O(n)"
   ]
  }
 ],
 "metadata": {
  "kernelspec": {
   "display_name": "Python 3 (ipykernel)",
   "language": "python",
   "name": "python3"
  },
  "language_info": {
   "codemirror_mode": {
    "name": "ipython",
    "version": 3
   },
   "file_extension": ".py",
   "mimetype": "text/x-python",
   "name": "python",
   "nbconvert_exporter": "python",
   "pygments_lexer": "ipython3",
   "version": "3.9.7"
  }
 },
 "nbformat": 4,
 "nbformat_minor": 5
}
