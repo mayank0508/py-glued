{
 "cells": [
  {
   "cell_type": "markdown",
   "id": "342f678f",
   "metadata": {},
   "source": [
    "## Recursion"
   ]
  },
  {
   "cell_type": "markdown",
   "id": "4a3c4aa9",
   "metadata": {},
   "source": [
    "##### factorial code"
   ]
  },
  {
   "cell_type": "code",
   "execution_count": 3,
   "id": "f60f0e89",
   "metadata": {},
   "outputs": [],
   "source": [
    "def fact(n):\n",
    "    if n == 0: # this is the base value\n",
    "        return 1\n",
    "    return n * fact(n-1) # and this is the fina statment"
   ]
  },
  {
   "cell_type": "code",
   "execution_count": 4,
   "id": "6ccbda18",
   "metadata": {},
   "outputs": [
    {
     "name": "stdout",
     "output_type": "stream",
     "text": [
      "5\n"
     ]
    },
    {
     "data": {
      "text/plain": [
       "120"
      ]
     },
     "execution_count": 4,
     "metadata": {},
     "output_type": "execute_result"
    }
   ],
   "source": [
    "n = int(input())\n",
    "fact(n)"
   ]
  },
  {
   "cell_type": "markdown",
   "id": "c544b385",
   "metadata": {},
   "source": [
    "# Why does recusrsion work ?\n",
    "### Due to PMI\n",
    "###  "
   ]
  },
  {
   "cell_type": "code",
   "execution_count": null,
   "id": "29f6c338",
   "metadata": {},
   "outputs": [],
   "source": []
  }
 ],
 "metadata": {
  "kernelspec": {
   "display_name": "Python 3 (ipykernel)",
   "language": "python",
   "name": "python3"
  },
  "language_info": {
   "codemirror_mode": {
    "name": "ipython",
    "version": 3
   },
   "file_extension": ".py",
   "mimetype": "text/x-python",
   "name": "python",
   "nbconvert_exporter": "python",
   "pygments_lexer": "ipython3",
   "version": "3.9.7"
  }
 },
 "nbformat": 4,
 "nbformat_minor": 5
}
