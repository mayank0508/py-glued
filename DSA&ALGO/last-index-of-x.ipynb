{
 "cells": [
  {
   "cell_type": "markdown",
   "id": "83976900",
   "metadata": {},
   "source": [
    "### Last index of X"
   ]
  },
  {
   "cell_type": "code",
   "execution_count": 1,
   "id": "f7301d83",
   "metadata": {},
   "outputs": [],
   "source": [
    "#### The start index method"
   ]
  },
  {
   "cell_type": "code",
   "execution_count": null,
   "id": "2d5cbf52",
   "metadata": {},
   "outputs": [],
   "source": [
    "def loi(n,x,si):\n",
    "    l = len(n)\n",
    "    if l == si:\n",
    "        return -1\n",
    "    \n",
    "    if n[si] == x:\n",
    "        return si\n",
    "    \n",
    "    "
   ]
  }
 ],
 "metadata": {
  "kernelspec": {
   "display_name": "Python 3 (ipykernel)",
   "language": "python",
   "name": "python3"
  },
  "language_info": {
   "codemirror_mode": {
    "name": "ipython",
    "version": 3
   },
   "file_extension": ".py",
   "mimetype": "text/x-python",
   "name": "python",
   "nbconvert_exporter": "python",
   "pygments_lexer": "ipython3",
   "version": "3.9.7"
  }
 },
 "nbformat": 4,
 "nbformat_minor": 5
}
