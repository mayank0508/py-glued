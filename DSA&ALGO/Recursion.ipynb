{
 "cells": [
  {
   "cell_type": "markdown",
   "id": "6b5606c7",
   "metadata": {},
   "source": [
    "## Recursion"
   ]
  },
  {
   "cell_type": "code",
   "execution_count": 2,
   "id": "a7305877",
   "metadata": {},
   "outputs": [],
   "source": [
    "# factorial code"
   ]
  },
  {
   "cell_type": "code",
   "execution_count": 3,
   "id": "34b092b6",
   "metadata": {},
   "outputs": [],
   "source": [
    "def fact(n):\n",
    "    if n == 0: # this is the base value\n",
    "        return 1\n",
    "    return n * fact(n-1) # and this is the fina statment"
   ]
  },
  {
   "cell_type": "code",
   "execution_count": 4,
   "id": "975ba4fa",
   "metadata": {},
   "outputs": [
    {
     "name": "stdout",
     "output_type": "stream",
     "text": [
      "5\n"
     ]
    },
    {
     "data": {
      "text/plain": [
       "120"
      ]
     },
     "execution_count": 4,
     "metadata": {},
     "output_type": "execute_result"
    }
   ],
   "source": [
    "n = int(input())\n",
    "fact(n)"
   ]
  },
  {
   "cell_type": "code",
   "execution_count": null,
   "id": "496d71e2",
   "metadata": {},
   "outputs": [],
   "source": []
  }
 ],
 "metadata": {
  "kernelspec": {
   "display_name": "Python 3 (ipykernel)",
   "language": "python",
   "name": "python3"
  },
  "language_info": {
   "codemirror_mode": {
    "name": "ipython",
    "version": 3
   },
   "file_extension": ".py",
   "mimetype": "text/x-python",
   "name": "python",
   "nbconvert_exporter": "python",
   "pygments_lexer": "ipython3",
   "version": "3.9.7"
  }
 },
 "nbformat": 4,
 "nbformat_minor": 5
}
