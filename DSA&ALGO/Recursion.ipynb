{
 "cells": [
  {
   "cell_type": "markdown",
   "id": "342f678f",
   "metadata": {},
   "source": [
    "## Recursion"
   ]
  },
  {
   "cell_type": "markdown",
   "id": "4a3c4aa9",
   "metadata": {},
   "source": [
    "##### factorial code"
   ]
  },
  {
   "cell_type": "code",
   "execution_count": 13,
   "id": "f60f0e89",
   "metadata": {},
   "outputs": [],
   "source": [
    "def facto(n):\n",
    "    if n == 0: # this is the base value\n",
    "        return 1\n",
    "    return n * facto(n-1) # and this is the fina statment"
   ]
  },
  {
   "cell_type": "code",
   "execution_count": 14,
   "id": "6ccbda18",
   "metadata": {},
   "outputs": [
    {
     "name": "stdout",
     "output_type": "stream",
     "text": [
      "5\n"
     ]
    },
    {
     "data": {
      "text/plain": [
       "120"
      ]
     },
     "execution_count": 14,
     "metadata": {},
     "output_type": "execute_result"
    }
   ],
   "source": [
    "n = int(input())\n",
    "facto(n)"
   ]
  },
  {
   "cell_type": "markdown",
   "id": "c544b385",
   "metadata": {},
   "source": [
    "# Why does recusrsion work ?\n",
    "### Due to PMI\n",
    "###  "
   ]
  },
  {
   "cell_type": "markdown",
   "id": "53370251",
   "metadata": {},
   "source": [
    "##### Sum till N"
   ]
  },
  {
   "cell_type": "code",
   "execution_count": 16,
   "id": "d4c6a4b5",
   "metadata": {},
   "outputs": [],
   "source": [
    "def sumn(n):\n",
    "    if n == 0:\n",
    "        return 0\n",
    "    op = sunn(n-1)\n",
    "    fop = op + n\n",
    "    return fop"
   ]
  },
  {
   "cell_type": "code",
   "execution_count": 17,
   "id": "47abfa9f",
   "metadata": {},
   "outputs": [
    {
     "name": "stdout",
     "output_type": "stream",
     "text": [
      "5\n",
      "120\n",
      "15\n"
     ]
    }
   ],
   "source": [
    "n = int(input())\n",
    "print(facto(n))\n",
    "print(sumn(n))"
   ]
  },
  {
   "cell_type": "markdown",
   "id": "7eb1d784",
   "metadata": {},
   "source": [
    "#####  numbers from 1 to n"
   ]
  },
  {
   "cell_type": "code",
   "execution_count": 5,
   "id": "91c93237",
   "metadata": {},
   "outputs": [],
   "source": [
    "def sumtill(n):\n",
    "    if n == 0:\n",
    "        return 0\n",
    "    sumop = sumtill(n-1)\n",
    "    print(n) # this line is used to make the n\n",
    "    return"
   ]
  },
  {
   "cell_type": "code",
   "execution_count": 6,
   "id": "be543a20",
   "metadata": {},
   "outputs": [
    {
     "name": "stdout",
     "output_type": "stream",
     "text": [
      "1\n",
      "2\n",
      "3\n",
      "4\n",
      "5\n",
      "6\n",
      "7\n",
      "8\n",
      "9\n",
      "10\n"
     ]
    }
   ],
   "source": [
    "sumtill(10)"
   ]
  },
  {
   "cell_type": "code",
   "execution_count": null,
   "id": "7af0e3cb",
   "metadata": {},
   "outputs": [],
   "source": []
  }
 ],
 "metadata": {
  "kernelspec": {
   "display_name": "Python 3 (ipykernel)",
   "language": "python",
   "name": "python3"
  },
  "language_info": {
   "codemirror_mode": {
    "name": "ipython",
    "version": 3
   },
   "file_extension": ".py",
   "mimetype": "text/x-python",
   "name": "python",
   "nbconvert_exporter": "python",
   "pygments_lexer": "ipython3",
   "version": "3.9.7"
  }
 },
 "nbformat": 4,
 "nbformat_minor": 5
}
