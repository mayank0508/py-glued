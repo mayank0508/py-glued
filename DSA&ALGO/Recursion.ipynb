{
 "cells": [
  {
   "cell_type": "code",
   "execution_count": null,
   "id": "a41e1d24",
   "metadata": {},
   "outputs": [],
   "source": []
  },
  {
   "cell_type": "markdown",
   "id": "342f678f",
   "metadata": {},
   "source": [
    "## Recursion"
   ]
  },
  {
   "cell_type": "markdown",
   "id": "4a3c4aa9",
   "metadata": {},
   "source": [
    "##### factorial code"
   ]
  },
  {
   "cell_type": "code",
   "execution_count": 4,
   "id": "f60f0e89",
   "metadata": {},
   "outputs": [],
   "source": [
    "def facto(n):\n",
    "    if n == 0: # this is the base value\n",
    "        return 1\n",
    "    return n * facto(n-1) # and this is the fina statment"
   ]
  },
  {
   "cell_type": "code",
   "execution_count": 6,
   "id": "6ccbda18",
   "metadata": {},
   "outputs": [
    {
     "name": "stdout",
     "output_type": "stream",
     "text": [
      "5\n"
     ]
    },
    {
     "data": {
      "text/plain": [
       "120"
      ]
     },
     "execution_count": 6,
     "metadata": {},
     "output_type": "execute_result"
    }
   ],
   "source": [
    "n = int(input())\n",
    "facto(n)"
   ]
  },
  {
   "cell_type": "markdown",
   "id": "c544b385",
   "metadata": {},
   "source": [
    "# Why does recusrsion work ?\n",
    "### Due to PMI\n",
    "###  "
   ]
  },
  {
   "cell_type": "markdown",
   "id": "12869faa",
   "metadata": {},
   "source": [
    "##### Sum till N"
   ]
  },
  {
   "cell_type": "code",
   "execution_count": 16,
   "id": "0b8fd861",
   "metadata": {},
   "outputs": [],
   "source": [
    "def sumn(n):\n",
    "    if n == 0:\n",
    "        return 0\n",
    "    op = sumn(n-1)\n",
    "    fop = op + n\n",
    "    return fop"
   ]
  },
  {
   "cell_type": "code",
   "execution_count": 17,
   "id": "f32dc1a7",
   "metadata": {},
   "outputs": [
    {
     "name": "stdout",
     "output_type": "stream",
     "text": [
      "5\n",
      "120\n",
      "15\n"
     ]
    }
   ],
   "source": [
    "n = int(input())\n",
    "print(facto(n))\n",
    "print(sumn(n))"
   ]
  },
  {
   "cell_type": "markdown",
   "id": "102ff651",
   "metadata": {},
   "source": [
    "##### Print numbers from 1 to n"
   ]
  },
  {
   "cell_type": "code",
   "execution_count": 5,
   "id": "de40eba2",
   "metadata": {},
   "outputs": [],
   "source": [
    "def sumtill(n):\n",
    "    if n == 0:\n",
    "        return 0\n",
    "    sumop = sumtill(n-1)\n",
    "    print(n) # this line is used to make the n\n",
    "    return"
   ]
  },
  {
   "cell_type": "code",
   "execution_count": 6,
   "id": "9d0afe5e",
   "metadata": {},
   "outputs": [
    {
     "name": "stdout",
     "output_type": "stream",
     "text": [
      "1\n",
      "2\n",
      "3\n",
      "4\n",
      "5\n",
      "6\n",
      "7\n",
      "8\n",
      "9\n",
      "10\n"
     ]
    }
   ],
   "source": [
    "sumtill(10)"
   ]
  },
  {
   "cell_type": "markdown",
   "id": "f2e0548b",
   "metadata": {},
   "source": [
    "##### Print from n to 1"
   ]
  },
  {
   "cell_type": "code",
   "execution_count": 8,
   "id": "3e2f04ae",
   "metadata": {},
   "outputs": [],
   "source": [
    "def sumn(n):\n",
    "    if n == 0:\n",
    "        return 0\n",
    "    print(n)\n",
    "    s = sumn(n-1)"
   ]
  },
  {
   "cell_type": "code",
   "execution_count": 9,
   "id": "72df3ab8",
   "metadata": {},
   "outputs": [
    {
     "name": "stdout",
     "output_type": "stream",
     "text": [
      "10\n",
      "9\n",
      "8\n",
      "7\n",
      "6\n",
      "5\n",
      "4\n",
      "3\n",
      "2\n",
      "1\n"
     ]
    }
   ],
   "source": [
    "sumn(10)"
   ]
  },
  {
   "cell_type": "markdown",
   "id": "b345d34e",
   "metadata": {},
   "source": [
    " ### Fibonacci Numbers"
   ]
  },
  {
   "cell_type": "code",
   "execution_count": 11,
   "id": "17469b98",
   "metadata": {},
   "outputs": [],
   "source": [
    "#1,1,2,3,5,8....."
   ]
  },
  {
   "cell_type": "code",
   "execution_count": 2,
   "id": "0dd9fa91",
   "metadata": {},
   "outputs": [],
   "source": [
    "def fib(n):\n",
    "    if n == 1 or n ==2 :\n",
    "        return 1 # this being the base case\n",
    "    fib_1 = fib(n-1)\n",
    "    fib_2 = fib(n-2)\n",
    "    op = fib_1 + fib_2\n",
    "    return op"
   ]
  },
  {
   "cell_type": "code",
   "execution_count": 3,
   "id": "754c0ac2",
   "metadata": {},
   "outputs": [
    {
     "data": {
      "text/plain": [
       "5"
      ]
     },
     "execution_count": 3,
     "metadata": {},
     "output_type": "execute_result"
    }
   ],
   "source": [
    "fib(5)"
   ]
  },
  {
   "cell_type": "code",
   "execution_count": 1,
   "id": "4bc613b5",
   "metadata": {},
   "outputs": [],
   "source": [
    "def fun(n):\n",
    "    if n == 4:\n",
    "        return n\n",
    "    else:\n",
    "        return 2*fun(n+1)"
   ]
  },
  {
   "cell_type": "code",
   "execution_count": 2,
   "id": "68eed1ac",
   "metadata": {},
   "outputs": [
    {
     "name": "stdout",
     "output_type": "stream",
     "text": [
      "16\n"
     ]
    }
   ],
   "source": [
    "print(fun(2))"
   ]
  },
  {
   "cell_type": "code",
   "execution_count": null,
   "id": "ce3769ea",
   "metadata": {},
   "outputs": [],
   "source": [
    "                                                                                                                                             "
   ]
  }
 ],
 "metadata": {
  "kernelspec": {
   "display_name": "Python 3 (ipykernel)",
   "language": "python",
   "name": "python3"
  },
  "language_info": {
   "codemirror_mode": {
    "name": "ipython",
    "version": 3
   },
   "file_extension": ".py",
   "mimetype": "text/x-python",
   "name": "python",
   "nbconvert_exporter": "python",
   "pygments_lexer": "ipython3",
   "version": "3.9.7"
  }
 },
 "nbformat": 4,
 "nbformat_minor": 5
}
