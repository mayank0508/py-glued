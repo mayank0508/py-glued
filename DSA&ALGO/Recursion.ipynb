{
 "cells": [
  {
   "cell_type": "markdown",
   "id": "342f678f",
   "metadata": {},
   "source": [
    "## Recursion"
   ]
  },
  {
   "cell_type": "markdown",
   "id": "4a3c4aa9",
   "metadata": {},
   "source": [
    "##### factorial code"
   ]
  },
  {
   "cell_type": "code",
   "execution_count": 13,
   "id": "f60f0e89",
   "metadata": {},
   "outputs": [],
   "source": [
    "def facto(n):\n",
    "    if n == 0: # this is the base value\n",
    "        return 1\n",
    "    return n * facto(n-1) # and this is the fina statment"
   ]
  },
  {
   "cell_type": "code",
   "execution_count": 14,
   "id": "6ccbda18",
   "metadata": {},
   "outputs": [
    {
     "name": "stdout",
     "output_type": "stream",
     "text": [
      "5\n"
     ]
    },
    {
     "data": {
      "text/plain": [
       "120"
      ]
     },
     "execution_count": 14,
     "metadata": {},
     "output_type": "execute_result"
    }
   ],
   "source": [
    "n = int(input())\n",
    "facto(n)"
   ]
  },
  {
   "cell_type": "markdown",
   "id": "c544b385",
   "metadata": {},
   "source": [
    "# Why does recusrsion work ?\n",
    "### Due to PMI\n",
    "###  "
   ]
  },
  {
   "cell_type": "markdown",
   "id": "dfb939f7",
   "metadata": {},
   "source": [
    "##### Sum till N"
   ]
  },
  {
   "cell_type": "code",
   "execution_count": 16,
   "id": "ae3c2076",
   "metadata": {},
   "outputs": [],
   "source": [
    "def sumn(n):\n",
    "    if n == 0:\n",
    "        return 0\n",
    "    op = sunn(n-1)\n",
    "    fop = op + n\n",
    "    return fop"
   ]
  },
  {
   "cell_type": "code",
   "execution_count": 17,
   "id": "7d98135b",
   "metadata": {},
   "outputs": [
    {
     "name": "stdout",
     "output_type": "stream",
     "text": [
      "5\n",
      "120\n",
      "15\n"
     ]
    }
   ],
   "source": [
    "n = int(input())\n",
    "print(facto(n))\n",
    "print(sumn(n))"
   ]
  },
  {
   "cell_type": "markdown",
   "id": "55fc1aab",
   "metadata": {},
   "source": [
    "##### Print numbers from 1 to n"
   ]
  },
  {
   "cell_type": "code",
   "execution_count": 5,
   "id": "5b19f9e0",
   "metadata": {},
   "outputs": [],
   "source": [
    "def sumtill(n):\n",
    "    if n == 0:\n",
    "        return 0\n",
    "    sumop = sumtill(n-1)\n",
    "    print(n) # this line is used to make the n\n",
    "    return"
   ]
  },
  {
   "cell_type": "code",
   "execution_count": 6,
   "id": "783618d0",
   "metadata": {},
   "outputs": [
    {
     "name": "stdout",
     "output_type": "stream",
     "text": [
      "1\n",
      "2\n",
      "3\n",
      "4\n",
      "5\n",
      "6\n",
      "7\n",
      "8\n",
      "9\n",
      "10\n"
     ]
    }
   ],
   "source": [
    "sumtill(10)"
   ]
  },
  {
   "cell_type": "markdown",
   "id": "20f8cd14",
   "metadata": {},
   "source": [
    "##### Print from n to 1"
   ]
  },
  {
   "cell_type": "code",
   "execution_count": 8,
   "id": "97e37c57",
   "metadata": {},
   "outputs": [],
   "source": [
    "def sumn(n):\n",
    "    if n == 0:\n",
    "        return 0\n",
    "    print(n)\n",
    "    s = sumn(n-1)"
   ]
  },
  {
   "cell_type": "code",
   "execution_count": 9,
   "id": "d95ebf6e",
   "metadata": {},
   "outputs": [
    {
     "name": "stdout",
     "output_type": "stream",
     "text": [
      "10\n",
      "9\n",
      "8\n",
      "7\n",
      "6\n",
      "5\n",
      "4\n",
      "3\n",
      "2\n",
      "1\n"
     ]
    }
   ],
   "source": [
    "sumn(10)"
   ]
  },
  {
   "cell_type": "markdown",
   "id": "e7789c12",
   "metadata": {},
   "source": [
    " ### Fibonacci Numbers"
   ]
  },
  {
   "cell_type": "code",
   "execution_count": 11,
   "id": "92b1a61b",
   "metadata": {},
   "outputs": [],
   "source": [
    "#1,1,2,3,5,8....."
   ]
  },
  {
   "cell_type": "code",
   "execution_count": null,
   "id": "0db2c819",
   "metadata": {},
   "outputs": [],
   "source": []
  }
 ],
 "metadata": {
  "kernelspec": {
   "display_name": "Python 3 (ipykernel)",
   "language": "python",
   "name": "python3"
  },
  "language_info": {
   "codemirror_mode": {
    "name": "ipython",
    "version": 3
   },
   "file_extension": ".py",
   "mimetype": "text/x-python",
   "name": "python",
   "nbconvert_exporter": "python",
   "pygments_lexer": "ipython3",
   "version": "3.9.7"
  }
 },
 "nbformat": 4,
 "nbformat_minor": 5
}
