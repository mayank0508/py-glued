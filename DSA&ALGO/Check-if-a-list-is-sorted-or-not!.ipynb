{
 "cells": [
  {
   "cell_type": "code",
   "execution_count": null,
   "id": "8e122f92",
   "metadata": {},
   "outputs": [],
   "source": [
    "def ifsorted(n):\n",
    "    l = len(n)\n",
    "    if l==0 or l==1:\n",
    "        return True\n",
    "    if n[0] > n[1]:\n",
    "        return False\n",
    "    smalllist = n[1:] # here we are copying the whole n list's from the 2nd element\n",
    "    issmalllistsorted = ifsorted(smalllist)\n",
    "    if issmalllistsorted:\n",
    "        return True\n",
    "    else:\n",
    "        return False"
   ]
  }
 ],
 "metadata": {
  "kernelspec": {
   "display_name": "Python 3 (ipykernel)",
   "language": "python",
   "name": "python3"
  },
  "language_info": {
   "codemirror_mode": {
    "name": "ipython",
    "version": 3
   },
   "file_extension": ".py",
   "mimetype": "text/x-python",
   "name": "python",
   "nbconvert_exporter": "python",
   "pygments_lexer": "ipython3",
   "version": "3.9.7"
  }
 },
 "nbformat": 4,
 "nbformat_minor": 5
}
