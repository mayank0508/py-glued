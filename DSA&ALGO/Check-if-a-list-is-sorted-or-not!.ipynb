{
 "cells": [
  {
   "cell_type": "markdown",
   "id": "b3165dda",
   "metadata": {},
   "source": [
    "## A way of check sorting via recurssion"
   ]
  },
  {
   "cell_type": "code",
   "execution_count": 5,
   "id": "522568a5",
   "metadata": {},
   "outputs": [],
   "source": [
    "def ifsorted(n):\n",
    "    l = len(n)\n",
    "    if l==0 or l==1: # this is the base case\n",
    "        return True\n",
    "    if n[0] > n[1]: # this is the induction hypothesis\n",
    "        return False\n",
    "    smalllist = n[1:] # here we are copying the whole n list's from the 2nd element\n",
    "    issmalllistsorted = ifsorted(smalllist) # this is the induction step\n",
    "    if issmalllistsorted:\n",
    "        return True\n",
    "    else:\n",
    "        return False"
   ]
  },
  {
   "cell_type": "markdown",
   "id": "d3a3cf32",
   "metadata": {},
   "source": [
    "##### but here in the above list there is a problem (i.e we will be copying the whole list in smalllist, which will\n",
    "##### be very hard to achive, beaucse if the list is of the larger size then copying the list will become more \n",
    "###### harder and time takeing"
   ]
  },
  {
   "cell_type": "code",
   "execution_count": 3,
   "id": "2b7bc28f",
   "metadata": {},
   "outputs": [
    {
     "data": {
      "text/plain": [
       "False"
      ]
     },
     "execution_count": 3,
     "metadata": {},
     "output_type": "execute_result"
    }
   ],
   "source": [
    "n = [132,43,5,45,43,6]\n",
    "ifsorted(n) # this works"
   ]
  },
  {
   "cell_type": "markdown",
   "id": "23f377ab",
   "metadata": {},
   "source": [
    "##### A better optimized way of making this kind of list"
   ]
  },
  {
   "cell_type": "code",
   "execution_count": 13,
   "id": "658af9f1",
   "metadata": {},
   "outputs": [],
   "source": [
    "def issorted2(n, si):\n",
    "    l = len(n)\n",
    "    if si == l-1 or si == l: # this is the base case\n",
    "        return True\n",
    "    if n[si] > n[si+1]: # this is the induction hypo\n",
    "        return False\n",
    "    \n",
    "    issmall = issorted2(n, si+1) # here we are passing the the list and the the 2nd element of the si so that it can get smaller\n",
    "                                # and at last hit the base index\n",
    "    return issmall"
   ]
  },
  {
   "cell_type": "code",
   "execution_count": 14,
   "id": "dbd7e6d1",
   "metadata": {},
   "outputs": [
    {
     "data": {
      "text/plain": [
       "False"
      ]
     },
     "execution_count": 14,
     "metadata": {},
     "output_type": "execute_result"
    }
   ],
   "source": [
    "n = [3,4,34,5,46,5,76,658,7,857,4,6,56,4235,12,5,12,43,43,54,6,57,678]\n",
    "issorted2(n,0)"
   ]
  },
  {
   "cell_type": "code",
   "execution_count": null,
   "id": "101aa830",
   "metadata": {},
   "outputs": [],
   "source": []
  }
 ],
 "metadata": {
  "kernelspec": {
   "display_name": "Python 3 (ipykernel)",
   "language": "python",
   "name": "python3"
  },
  "language_info": {
   "codemirror_mode": {
    "name": "ipython",
    "version": 3
   },
   "file_extension": ".py",
   "mimetype": "text/x-python",
   "name": "python",
   "nbconvert_exporter": "python",
   "pygments_lexer": "ipython3",
   "version": "3.9.7"
  }
 },
 "nbformat": 4,
 "nbformat_minor": 5
}
