{
 "cells": [
  {
   "cell_type": "code",
   "execution_count": 1,
   "id": "8c65113f",
   "metadata": {},
   "outputs": [],
   "source": [
    "def ifsorted(n):\n",
    "    l = len(n)\n",
    "    if l==0 or l==1: # this is the base case\n",
    "        return True\n",
    "    if n[0] > n[1]: # this is the induction hypothesis\n",
    "        return False\n",
    "    smalllist = n[1:] # here we are copying the whole n list's from the 2nd element\n",
    "    issmalllistsorted = ifsorted(smalllist) # this is the induction step\n",
    "    if issmalllistsorted:\n",
    "        return True\n",
    "    else:\n",
    "        return False"
   ]
  },
  {
   "cell_type": "markdown",
   "id": "28d1e65f",
   "metadata": {},
   "source": [
    "##### but here in the above list there is a problem (i.e we will be copying the whole list in smalllist, which will\n",
    "##### be very hard to achive, beaucse if the list is of the larger size then copying the list will become more \n",
    "###### harder and time takeing"
   ]
  },
  {
   "cell_type": "code",
   "execution_count": null,
   "id": "ce390f2c",
   "metadata": {},
   "outputs": [],
   "source": []
  }
 ],
 "metadata": {
  "kernelspec": {
   "display_name": "Python 3 (ipykernel)",
   "language": "python",
   "name": "python3"
  },
  "language_info": {
   "codemirror_mode": {
    "name": "ipython",
    "version": 3
   },
   "file_extension": ".py",
   "mimetype": "text/x-python",
   "name": "python",
   "nbconvert_exporter": "python",
   "pygments_lexer": "ipython3",
   "version": "3.9.7"
  }
 },
 "nbformat": 4,
 "nbformat_minor": 5
}
