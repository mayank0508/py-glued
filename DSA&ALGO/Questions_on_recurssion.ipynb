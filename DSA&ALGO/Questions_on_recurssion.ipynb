{
 "cells": [
  {
   "cell_type": "markdown",
   "id": "7621b52e",
   "metadata": {},
   "source": [
    "### Recurssion with strings"
   ]
  },
  {
   "cell_type": "code",
   "execution_count": 9,
   "id": "5974a39b",
   "metadata": {},
   "outputs": [],
   "source": [
    "def replace(s, a, b):\n",
    "    l = len(s)\n",
    "    if l == 0:\n",
    "        return s # base\n",
    "    \n",
    "    k = replace(s[1:], a, b) # hypo\n",
    "    \n",
    "    if s[0] == a: # induction\n",
    "        return b + k\n",
    "    else:\n",
    "        return s[0] + k"
   ]
  },
  {
   "cell_type": "code",
   "execution_count": 10,
   "id": "fb074ae5",
   "metadata": {},
   "outputs": [
    {
     "data": {
      "text/plain": [
       "'afxxtg'"
      ]
     },
     "execution_count": 10,
     "metadata": {},
     "output_type": "execute_result"
    }
   ],
   "source": [
    "replace('afeetg', \"e\", \"x\")"
   ]
  },
  {
   "cell_type": "markdown",
   "id": "74a593a6",
   "metadata": {},
   "source": [
    "### Replace pi with 3.14"
   ]
  },
  {
   "cell_type": "code",
   "execution_count": 18,
   "id": "9c701c2a",
   "metadata": {},
   "outputs": [],
   "source": [
    "def pi(s):\n",
    "    l = len(s)\n",
    "    if l == 0 or l == 1:\n",
    "        return s\n",
    "    \n",
    "    if s[0] == 'p' and s[1] == 'i':\n",
    "        k = pi(s[2:])\n",
    "        return '3.14' + k\n",
    "    else:\n",
    "        m = pi(s[1:])\n",
    "        return s[0] + m"
   ]
  },
  {
   "cell_type": "code",
   "execution_count": 19,
   "id": "d26d165a",
   "metadata": {},
   "outputs": [
    {
     "data": {
      "text/plain": [
       "'p3.14i235453.14'"
      ]
     },
     "execution_count": 19,
     "metadata": {},
     "output_type": "execute_result"
    }
   ],
   "source": [
    "pi('ppii23545pi')"
   ]
  },
  {
   "cell_type": "code",
   "execution_count": null,
   "id": "30f15325",
   "metadata": {},
   "outputs": [],
   "source": []
  }
 ],
 "metadata": {
  "kernelspec": {
   "display_name": "Python 3 (ipykernel)",
   "language": "python",
   "name": "python3"
  },
  "language_info": {
   "codemirror_mode": {
    "name": "ipython",
    "version": 3
   },
   "file_extension": ".py",
   "mimetype": "text/x-python",
   "name": "python",
   "nbconvert_exporter": "python",
   "pygments_lexer": "ipython3",
   "version": "3.9.7"
  }
 },
 "nbformat": 4,
 "nbformat_minor": 5
}
