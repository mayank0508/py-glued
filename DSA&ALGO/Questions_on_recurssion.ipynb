{
 "cells": [
  {
   "cell_type": "markdown",
   "id": "7621b52e",
   "metadata": {},
   "source": [
    "### Recurssion with strings"
   ]
  },
  {
   "cell_type": "code",
   "execution_count": 7,
   "id": "5974a39b",
   "metadata": {},
   "outputs": [],
   "source": [
    "def replace(s, a, b):\n",
    "    l = len(s)\n",
    "    if l == 0:\n",
    "        return s # base\n",
    "    \n",
    "    k = replace(s[1:], a, b) # hypo\n",
    "    \n",
    "    if s[0] == a: # induction\n",
    "        return b + k\n",
    "    else:\n",
    "        return s[0] + k"
   ]
  },
  {
   "cell_type": "code",
   "execution_count": 8,
   "id": "fb074ae5",
   "metadata": {},
   "outputs": [
    {
     "data": {
      "text/plain": [
       "'afxxtg'"
      ]
     },
     "execution_count": 8,
     "metadata": {},
     "output_type": "execute_result"
    }
   ],
   "source": [
    "replace('afeetg', \"e\", \"x\")"
   ]
  },
  {
   "cell_type": "markdown",
   "id": "8b8be237",
   "metadata": {},
   "source": [
    "### Replace pi with 3.14"
   ]
  },
  {
   "cell_type": "code",
   "execution_count": 5,
   "id": "f491d381",
   "metadata": {},
   "outputs": [],
   "source": [
    "def pi(s):\n",
    "    l = len(s)\n",
    "    if l == 0 or l == 1:\n",
    "        return s\n",
    "    \n",
    "    if s[0] == 'p' and s[1] == 'i':\n",
    "        k = pi(s[2:0])\n",
    "        return '3.14' + k\n",
    "    else:\n",
    "        m = replace(s[1:0])\n",
    "        return s[0] + m"
   ]
  },
  {
   "cell_type": "code",
   "execution_count": 7,
   "id": "7848306c",
   "metadata": {},
   "outputs": [
    {
     "data": {
      "text/plain": [
       "'3.14'"
      ]
     },
     "execution_count": 7,
     "metadata": {},
     "output_type": "execute_result"
    }
   ],
   "source": [
    "pi('pipipi23545pi')"
   ]
  },
  {
   "cell_type": "code",
   "execution_count": null,
   "id": "ffa64551",
   "metadata": {},
   "outputs": [],
   "source": []
  }
 ],
 "metadata": {
  "kernelspec": {
   "display_name": "Python 3 (ipykernel)",
   "language": "python",
   "name": "python3"
  },
  "language_info": {
   "codemirror_mode": {
    "name": "ipython",
    "version": 3
   },
   "file_extension": ".py",
   "mimetype": "text/x-python",
   "name": "python",
   "nbconvert_exporter": "python",
   "pygments_lexer": "ipython3",
   "version": "3.9.7"
  }
 },
 "nbformat": 4,
 "nbformat_minor": 5
}
